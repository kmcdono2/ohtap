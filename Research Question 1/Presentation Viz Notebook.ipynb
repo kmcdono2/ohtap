{
 "cells": [
  {
   "cell_type": "code",
   "execution_count": 1,
   "metadata": {},
   "outputs": [],
   "source": [
    "import csv\n",
    "import numpy as np\n",
    "from collections import defaultdict\n",
    "from matplotlib import pyplot\n",
    "import pandas"
   ]
  },
  {
   "cell_type": "code",
   "execution_count": 2,
   "metadata": {},
   "outputs": [],
   "source": [
    "BLANKS=[\"\",\"RBNF1\", \"RBNF2\", \"RBNF\", \"0\", \"RBNF 1\", \"RBNF 2\"]\n",
    "#TOTAL= 5048\n",
    "TOTAL=2734\n",
    "#TOTAL=1351\n",
    "#TOTAL=1201\n",
    "#TOTAL=1168\n",
    "#TOTAL=996\n",
    "#TOTAL=194"
   ]
  },
  {
   "cell_type": "code",
   "execution_count": 3,
   "metadata": {},
   "outputs": [],
   "source": [
    "def loadCsvData(fileName):\n",
    "\tmatrix = []\n",
    "\t# open a file\n",
    "\twith open(fileName) as f:\n",
    "\t\treader = csv.reader(f)\n",
    "\n",
    "\t\t# loop over each row in the file\n",
    "\t\tfor row in reader:\n",
    "\n",
    "\t\t\t# cast each value to a float\n",
    "\t\t\tdoubleRow = []\n",
    "\t\t\tfor value in row:\n",
    "\t\t\t\tdoubleRow.append(str(value).strip())\n",
    "\n",
    "\t\t\t# store the row into our matrix\n",
    "\t\t\tmatrix.append(doubleRow)\n",
    "\treturn matrix"
   ]
  },
  {
   "cell_type": "code",
   "execution_count": 4,
   "metadata": {},
   "outputs": [],
   "source": [
    "def printData(matrix):\n",
    "\tfor row in matrix:\n",
    "\t\tprint (row)"
   ]
  },
  {
   "cell_type": "code",
   "execution_count": 5,
   "metadata": {},
   "outputs": [],
   "source": [
    "data= loadCsvData(\"data/metadata.csv\")"
   ]
  },
  {
   "cell_type": "code",
   "execution_count": 6,
   "metadata": {},
   "outputs": [],
   "source": [
    "data=pandas.DataFrame(data[1:], columns=data[0])"
   ]
  },
  {
   "cell_type": "code",
   "execution_count": 7,
   "metadata": {},
   "outputs": [],
   "source": [
    "#whole corpus processing\n",
    "database=defaultdict(lambda: defaultdict(lambda:0))\n",
    "for i in range(len(data)):\n",
    "    #if not data[\"collection_id\"][i]== \"HM\":\n",
    "    #    continue\n",
    "    #if data[\"sex\"][i] ==\"Male\":\n",
    "    #    continue\n",
    "    for atr in data.columns:\n",
    "        if atr== \"researcher_assumed_birth_decade\":\n",
    "            continue\n",
    "        if atr== \"researcher_assumed_race\":\n",
    "            continue\n",
    "        value= data[atr][i]\n",
    "        if value in BLANKS and atr==\"\\ufeffbirth_decade\":\n",
    "            value= data.loc[i, \"researcher_assumed_birth_decade\"]\n",
    "        if value in BLANKS and atr==\"identified_race\":\n",
    "            value= data.loc[i, \"researcher_assumed_race\"]\n",
    "        database[i][atr]=value\n"
   ]
  },
  {
   "cell_type": "code",
   "execution_count": 8,
   "metadata": {},
   "outputs": [],
   "source": [
    "dataformatted=defaultdict(lambda: defaultdict(lambda:0))\n",
    "for i in database : \n",
    "    if database[i][\"sex\"]==\"Male\":\n",
    "        continue\n",
    "    for atr in database[i]:\n",
    "        value= database[i][atr]\n",
    "        if value not in BLANKS:\n",
    "            dataformatted[atr][value]+=1\n",
    "for cat in dataformatted:\n",
    "    total=0\n",
    "    for x in dataformatted[cat]:\n",
    "        total+= dataformatted[cat][x]\n",
    "    dataformatted[cat][\"No Info\"]= TOTAL-total"
   ]
  },
  {
   "cell_type": "code",
   "execution_count": 9,
   "metadata": {},
   "outputs": [],
   "source": [
    "#HM processing\n",
    "databaseHM=defaultdict(lambda: defaultdict(lambda:0))\n",
    "for i in range(len(data)):\n",
    "    if not data[\"collection_id\"][i]== \"HM\":\n",
    "        continue\n",
    "    #if data[\"sex\"][i] ==\"Male\":\n",
    "    #    continue\n",
    "    for atr in data.columns:\n",
    "        if atr== \"researcher_assumed_birth_decade\":\n",
    "            continue\n",
    "        if atr== \"researcher_assumed_race\":\n",
    "            continue\n",
    "        value= data[atr][i]\n",
    "        if value in BLANKS and atr==\"\\ufeffbirth_decade\":\n",
    "            value= data.loc[i, \"researcher_assumed_birth_decade\"]\n",
    "        if value in BLANKS and atr==\"identified_race\":\n",
    "            value= data.loc[i, \"researcher_assumed_race\"]\n",
    "        databaseHM[i][atr]=value"
   ]
  },
  {
   "cell_type": "code",
   "execution_count": 10,
   "metadata": {},
   "outputs": [],
   "source": [
    "dataformattedHM=defaultdict(lambda: defaultdict(lambda:0))\n",
    "for i in databaseHM: \n",
    "    if databaseHM[i][\"sex\"]==\"Male\":\n",
    "        continue\n",
    "    for atr in databaseHM[i]:\n",
    "        value= databaseHM[i][atr]\n",
    "        if value not in BLANKS:\n",
    "            dataformattedHM[atr][value]+=1\n",
    "for cat in dataformattedHM:\n",
    "    total=0\n",
    "    for x in dataformattedHM[cat]:\n",
    "        total+= dataformattedHM[cat][x]\n",
    "    dataformattedHM[cat][\"No Info\"]= TOTAL-total"
   ]
  },
  {
   "cell_type": "code",
   "execution_count": 11,
   "metadata": {},
   "outputs": [],
   "source": [
    "#Hits processing\n",
    "interviewtxt =loadCsvData(\"data/interview text fille to ids.csv\")"
   ]
  },
  {
   "cell_type": "code",
   "execution_count": 12,
   "metadata": {},
   "outputs": [],
   "source": [
    "interviewtxt=pandas.DataFrame(interviewtxt[1:], columns=interviewtxt[0])"
   ]
  },
  {
   "cell_type": "code",
   "execution_count": 13,
   "metadata": {},
   "outputs": [],
   "source": [
    "text_to_ids={}\n",
    "for i in range(len(interviewtxt)):\n",
    "    name=interviewtxt.at[i, interviewtxt.columns[0]]\n",
    "    name=name[:name.rfind('.')]\n",
    "    name=name.replace('\\'','_')\n",
    "    text_to_ids[name]=interviewtxt[\"interviewee_ids\"][i].split(';')\n"
   ]
  },
  {
   "cell_type": "code",
   "execution_count": 14,
   "metadata": {},
   "outputs": [],
   "source": [
    "ids_to_info=defaultdict(lambda: defaultdict(lambda:0))\n",
    "for i in range(len(database)):\n",
    "    ids=database[i][\"interviewee_id\"]\n",
    "    ids_to_info[ids][\"birth_decade\"]=database[i][\"\\ufeffbirth_decade\"]\n",
    "    if database[i][\"\\ufeffbirth_decade\"] ==0:\n",
    "        print(\"huh\")\n",
    "    ids_to_info[ids][\"education\"]=database[i][\"education\"]\n",
    "    ids_to_info[ids][\"collection\"]=database[i][\"collection_id\"]\n",
    "    ids_to_info[ids][\"sex\"]=database[i][\"sex\"]"
   ]
  },
  {
   "cell_type": "code",
   "execution_count": 15,
   "metadata": {},
   "outputs": [],
   "source": [
    "myfile = open(\"data/everything_but_falsehits_and_needsreview.txt\")\n",
    "txt = myfile.read()\n",
    "myfile.close()\n",
    "\n",
    "files=[]\n",
    "tokens=txt.split()\n",
    "for i in tokens:\n",
    "    num= i.find(\"Files\\\\\\\\\")\n",
    "    if not num==-1:\n",
    "        if not i.find(\"_\")==-1:\n",
    "            files.append(i.strip())\n",
    "names=set()\n",
    "for i in files:\n",
    "    i=i[i.find(\"\\\\\\\\\",8)+2:-1]\n",
    "    names.add(i.strip())"
   ]
  },
  {
   "cell_type": "code",
   "execution_count": 16,
   "metadata": {},
   "outputs": [
    {
     "name": "stdout",
     "output_type": "stream",
     "text": [
      "2\n",
      "['VEE2052', ' VEE2053']\n",
      "1\n",
      "['VEE3036']\n",
      "1\n",
      "['VEE4719']\n",
      "3\n",
      "['VEE876', ' VEE877', ' VEE852']\n",
      "1\n",
      "['VEE4463']\n",
      "defaultdict(<function <lambda> at 0x7fe371909378>, {'1920': defaultdict(<function <lambda>.<locals>.<lambda> at 0x7fe371909400>, {'total': 56, 'HM': 18}), '1950': defaultdict(<function <lambda>.<locals>.<lambda> at 0x7fe371909488>, {'total': 90, 'HM': 51}), '1930': defaultdict(<function <lambda>.<locals>.<lambda> at 0x7fe371909598>, {'total': 65, 'HM': 36}), '1940': defaultdict(<function <lambda>.<locals>.<lambda> at 0x7fe371909620>, {'total': 151, 'HM': 73}), '1960': defaultdict(<function <lambda>.<locals>.<lambda> at 0x7fe3719096a8>, {'total': 38, 'HM': 24}), '1900': defaultdict(<function <lambda>.<locals>.<lambda> at 0x7fe371909730>, {'total': 18, 'HM': 3}), '1910': defaultdict(<function <lambda>.<locals>.<lambda> at 0x7fe3719097b8>, {'total': 24, 'HM': 9}), '': defaultdict(<function <lambda>.<locals>.<lambda> at 0x7fe371909840>, {'total': 2, 'HM': 1}), '1980': defaultdict(<function <lambda>.<locals>.<lambda> at 0x7fe3719098c8>, {'total': 7}), 0: defaultdict(<function <lambda>.<locals>.<lambda> at 0x7fe3719099d8>, {'total': 7}), '1880': defaultdict(<function <lambda>.<locals>.<lambda> at 0x7fe371909a60>, {'total': 2}), '1890': defaultdict(<function <lambda>.<locals>.<lambda> at 0x7fe371909e18>, {'total': 14}), '1970': defaultdict(<function <lambda>.<locals>.<lambda> at 0x7fe371909ea0>, {'total': 13, 'HM': 3})})\n",
      "487\n"
     ]
    }
   ],
   "source": [
    "decadesinformation = defaultdict(lambda: defaultdict(lambda:0))\n",
    "k=0\n",
    "for i in names:\n",
    "    for x in text_to_ids[i]:\n",
    "        k+=1\n",
    "        if ids_to_info[x][\"sex\"]==\"Male\":\n",
    "            print(len(text_to_ids[i]))\n",
    "            print(text_to_ids[i])\n",
    "        decadesinformation[ids_to_info[x][\"birth_decade\"]][\"total\"]+=1\n",
    "        if ids_to_info[x][\"collection\"]==\"HM\":\n",
    "            decadesinformation[ids_to_info[x][\"birth_decade\"]][\"HM\"]+=1\n",
    "print(decadesinformation)\n",
    "print(k)"
   ]
  },
  {
   "cell_type": "code",
   "execution_count": 17,
   "metadata": {},
   "outputs": [],
   "source": [
    "#Charts begin here"
   ]
  },
  {
   "cell_type": "code",
   "execution_count": 21,
   "metadata": {},
   "outputs": [
    {
     "data": {
      "image/png": "[encoded data removed]",
      "text/plain": [
       "<Figure size 432x288 with 1 Axes>"
      ]
     },
     "metadata": {
      "needs_background": "light"
     },
     "output_type": "display_data"
    },
    {
     "name": "stdout",
     "output_type": "stream",
     "text": [
      "217\n"
     ]
    }
   ],
   "source": [
    "N = 10\n",
    "total=[]\n",
    "hits=[]\n",
    "for i in range(1890, 1990, 10):\n",
    "    total.append(dataformattedHM[\"\\ufeffbirth_decade\"][str(i)])\n",
    "    hits.append(decadesinformation[str(i)][\"HM\"])\n",
    "\n",
    "ind = np.arange(N)  # the x locations for the groups\n",
    "width = 0.35       # the width of the bars\n",
    "\n",
    "fig, ax = pyplot.subplots()\n",
    "rects1 = ax.bar(ind, total, width, color='r')\n",
    "rects2 = ax.bar(ind + width, hits, width, color='y')\n",
    "\n",
    "# add some text for labels, title and axes ticks\n",
    "#ax.set_ylabel('Number')\n",
    "ax.set_title('History Makers Total (n=996) by Birth Decades and Percent of Interviews by Birth Decade that Include Rape Terms')\n",
    "ax.set_xticks(ind + width / 2)\n",
    "ax.set_xticklabels(('1890', '1900', '1910', '1920', '1930', '1940', '1950', '1960', '1970', '1980'))\n",
    "\n",
    "ax.legend((rects1[0], rects2[0]), ('Total', 'Hits'))\n",
    "\n",
    "\n",
    "pyplot.show()\n",
    "print(sum(hits))"
   ]
  },
  {
   "cell_type": "code",
   "execution_count": 22,
   "metadata": {},
   "outputs": [
    {
     "data": {
      "image/png": "[encoded data removed]",
      "text/plain": [
       "<Figure size 432x288 with 1 Axes>"
      ]
     },
     "metadata": {
      "needs_background": "light"
     },
     "output_type": "display_data"
    }
   ],
   "source": [
    "N = 4\n",
    "total = (5+76+1, 304+95, 460, 55)\n",
    "\n",
    "ind = np.arange(N)  # the x locations for the groups\n",
    "width = 0.35       # the width of the bars\n",
    "\n",
    "fig, ax = pyplot.subplots()\n",
    "rects1 = ax.bar(ind, total, width, color='r')\n",
    "\n",
    "hits = (1+7+0,65+16,94,11)\n",
    "rects2 = ax.bar(ind + width, hits, width, color='y')\n",
    "\n",
    "# add some text for labels, title and axes ticks\n",
    "#ax.set_ylabel('Number')\n",
    "ax.set_title('History Makers Women Total (n=996) by Highest Achieved Education Level and Percent of Interviews by Education Level that Include Rape Terms')\n",
    "ax.set_xticks(ind + width / 2)\n",
    "ax.set_xticklabels(('Up to 12th Grade', 'Up to College Degree', 'Graduate or professional degree', 'No Info'))\n",
    "\n",
    "ax.legend((rects1[0], rects2[0]), ('Total', 'Hits'))\n",
    "\n",
    "pyplot.setp(ax.get_xticklabels(), rotation=30, horizontalalignment='right')\n",
    "\n",
    "\n",
    "\n",
    "pyplot.show()"
   ]
  },
  {
   "cell_type": "markdown",
   "metadata": {},
   "source": [
    "History Makers Women Total (n=996) by Highest Achieved Education Level and Percent of Interviews by Education Level that Include Rape Terms\n",
    "\n",
    "Left axis: number of interviews\n",
    "X axis: educational level (up to high school graduate, up to college graduate, further schooling, no info)\n",
    "\n",
    "Red: Number within female HM as a whole\n",
    "Yellow: Only the interviews in the rape cluster\n",
    "\n",
    "Percetages: What percentage of female HM in the given birth decade are in the rape cluster"
   ]
  },
  {
   "cell_type": "code",
   "execution_count": 23,
   "metadata": {},
   "outputs": [
    {
     "data": {
      "image/png": "[encoded data removed]",
      "text/plain": [
       "<Figure size 432x288 with 1 Axes>"
      ]
     },
     "metadata": {
      "needs_background": "light"
     },
     "output_type": "display_data"
    }
   ],
   "source": [
    "N = 9\n",
    "\n",
    "ind = np.arange(N) \n",
    "\n",
    "# some example data\n",
    "threshold = 19.5\n",
    "values = np.array([0, 15, 16.1, 13.9, 17.0, 22.9, 19.6, 24.7, 23.1])\n",
    "x = range(len(values))\n",
    "\n",
    "# split it up\n",
    "above_threshold = np.maximum(values - threshold, 0)\n",
    "below_threshold = np.minimum(values, threshold)\n",
    "\n",
    "# and plot it\n",
    "fig, ax = pyplot.subplots()\n",
    "ax.bar(x, below_threshold, 0.35, color=\"g\")\n",
    "ax.bar(x, above_threshold, 0.35, color=\"r\",\n",
    "        bottom=below_threshold)\n",
    "ax.set_xticks(ind)\n",
    "ax.set_xticklabels(('1890', '1900', '1910', '1920', '1930', '1940', '1950', '1960', '1970'))\n",
    "ax.set_title('Percentage of History Makers Women In Each Birth Decade Who Are in the Rape Cluster')\n",
    "ax.set_ylabel('Percentage')\n",
    "\n",
    "\n",
    "# horizontal line indicating the threshold\n",
    "ax.plot([0., 9], [threshold, threshold], \"k--\")\n",
    "\n",
    "\n",
    "\n",
    "fig.savefig(\"look-ma_a-threshold-plot.png\")"
   ]
  },
  {
   "cell_type": "markdown",
   "metadata": {},
   "source": [
    "Percentage of History Makers Women In Each Birth Decade Who Are in the Rape Cluster\n",
    "Left axis: Percent of HM interviews in a given birthdecade who are in the rape cluster (ie, a 20 in 1950 means 20% of female HM born in the 1950s are in the rape cluster)\n",
    "X axis: birth cohorts\n",
    "\n",
    "Horizontal line: % of female HM interviews in the rape cluster as a whole\n",
    "\n",
    "Red: portion above average (mostly for contrast)\n",
    "green: portion up to average"
   ]
  },
  {
   "cell_type": "code",
   "execution_count": 24,
   "metadata": {},
   "outputs": [
    {
     "data": {
      "image/png": "[encoded data removed]",
      "text/plain": [
       "<Figure size 432x288 with 1 Axes>"
      ]
     },
     "metadata": {
      "needs_background": "light"
     },
     "output_type": "display_data"
    }
   ],
   "source": [
    "N = 7\n",
    "\n",
    "ind = np.arange(N) \n",
    "\n",
    "# some example data\n",
    "threshold = 19.5\n",
    "values = np.array([20, 9.2, 0, 21.4, 16.8, 20.4, 20])\n",
    "x = range(len(values))\n",
    "\n",
    "# split it up\n",
    "above_threshold = np.maximum(values - threshold, 0)\n",
    "below_threshold = np.minimum(values, threshold)\n",
    "\n",
    "# and plot it\n",
    "fig, ax = pyplot.subplots()\n",
    "ax.bar(x, below_threshold, 0.35, color=\"g\")\n",
    "ax.bar(x, above_threshold, 0.35, color=\"r\",\n",
    "        bottom=below_threshold)\n",
    "ax.set_xticks(ind)\n",
    "ax.set_xticklabels(('Less than 9th grade', '9th to 12th grade but no diploma', 'High school graduate', 'Some college or Associate\\'s degree', 'Bachelor\\'s degree', 'Graduate or professional degree', 'No Info'))\n",
    "ax.set_title('Percentage of History Makers Women In Each Highest Education Level Who Are in the Rape Cluster')\n",
    "ax.set_ylabel('Percentage')\n",
    "\n",
    "\n",
    "# horizontal line indicating the threshold\n",
    "ax.plot([0., 6], [threshold, threshold], \"k--\")\n",
    "pyplot.setp(ax.get_xticklabels(), rotation=30, horizontalalignment='right')\n",
    "\n",
    "\n",
    "\n",
    "fig.savefig(\"look-ma_a-threshold-plot.png\")"
   ]
  },
  {
   "cell_type": "markdown",
   "metadata": {},
   "source": [
    "Percentage of History Makers Women In Each Educational status Who Are in the Rape Cluster\n",
    "Left axis: Percent of HM interviews in a given education group who are in the rape cluster (ie, a 20 in kless than 9th grade means 20% of female HM born with less than a 9th grade education are in the rape cluster)\n",
    "X axis: educational leve;s\n",
    "\n",
    "Horizontal line: % of female HM interviews in the rape cluster as a whole\n",
    "\n",
    "Red: portion above average (mostly for contrast)\n",
    "green: portion up to average\n",
    "\n",
    "(Not up to date with three category system, but I think this has been ruled a bad presentation format and so is not worth updating)"
   ]
  },
  {
   "cell_type": "code",
   "execution_count": 29,
   "metadata": {},
   "outputs": [
    {
     "data": {
      "text/plain": [
       "<matplotlib.legend.Legend at 0x7fe372e580f0>"
      ]
     },
     "execution_count": 29,
     "metadata": {},
     "output_type": "execute_result"
    },
    {
     "data": {
      "image/png": "[encoded data removed]",
      "text/plain": [
       "<Figure size 432x288 with 1 Axes>"
      ]
     },
     "metadata": {
      "needs_background": "light"
     },
     "output_type": "display_data"
    }
   ],
   "source": [
    "N = 11\n",
    "\n",
    "ind = np.arange(N) \n",
    "\n",
    "values=[]\n",
    "totals=[]\n",
    "\n",
    "# some example data\n",
    "threshold = 19.5\n",
    "for i in range(1890, 1990, 10):\n",
    "    totals.append(dataformatted[\"\\ufeffbirth_decade\"][str(i)])\n",
    "    values.append(dataformattedHM[\"\\ufeffbirth_decade\"][str(i)])\n",
    "x = range(len(values))\n",
    "\n",
    "totals=np.array(totals)\n",
    "values=np.array(values)\n",
    "\n",
    "# split it up\n",
    "above_threshold = totals - values\n",
    "below_threshold = values\n",
    "\n",
    "# and plot it\n",
    "fig, ax = pyplot.subplots()\n",
    "hm=ax.bar(x, below_threshold, 0.35, color=\"b\")\n",
    "other=ax.bar(x, above_threshold, 0.35, color=\"y\",\n",
    "        bottom=below_threshold)\n",
    "ax.set_xticks(ind)\n",
    "ax.set_xticklabels(('1870', '1880', '1890', '1900', '1910', '1920', '1930', '1940', '1950', '1960', '1970'))\n",
    "ax.set_title('Number of Female Interviews per Birth Decade, Total and HistoryMakers')\n",
    "ax.set_ylabel('Number of Interviews')\n",
    "ax.legend((hm, other), ('History Makers', 'Other Interviews'))\n",
    "\n"
   ]
  },
  {
   "cell_type": "markdown",
   "metadata": {},
   "source": [
    "Number of Female Interviews per Birth Decade, Total and HistoryMakers\n",
    "\n",
    "Left axis: number of interviews\n",
    "X axis: birth decade\n",
    "\n",
    "blue: only HM\n",
    "Yellow: all non-HM interviews"
   ]
  },
  {
   "cell_type": "code",
   "execution_count": null,
   "metadata": {},
   "outputs": [],
   "source": [
    "N = 11\n",
    "\n",
    "ind = np.arange(N) \n",
    "values=[]\n",
    "totals=[]\n",
    "\n",
    "# some example data\n",
    "for i in range(1870, 1980, 10):\n",
    "    values.append(decadesinformation[str(i)][\"HM\"])\n",
    "    totals.append(decadesinformation[str(i)][\"total\"])\n",
    "    \n",
    "values = np.array(values)\n",
    "totals= np.array(totals)\n",
    "print(values)\n",
    "print(totals)\n",
    "\n",
    "x = range(len(values))\n",
    "\n",
    "# split it up\n",
    "above_threshold = totals - values\n",
    "below_threshold = values\n",
    "\n",
    "# and plot it\n",
    "fig, ax = pyplot.subplots()\n",
    "hm=ax.bar(x, below_threshold, 0.35, color=\"b\")\n",
    "other=ax.bar(x, above_threshold, 0.35, color=\"y\",\n",
    "        bottom=below_threshold)\n",
    "ax.set_xticks(ind)\n",
    "ax.set_xticklabels(('1870', '1880', '1890', '1900', '1910', '1920', '1930', '1940', '1950', '1960', '1970'))\n",
    "ax.set_title('Number of Female History Maker Interviews as Part of All Interviews with Rape Terms, by Birth Decade.')\n",
    "ax.set_ylabel('Number of Interviews')\n",
    "ax.legend((hm, other), ('History Makers', 'Other Interviews'))\n",
    "\n",
    "\n",
    "# horizontal line indicating the threshold\n",
    "#ax.plot([0., 9], [threshold, threshold], \"k--\")\n",
    "\n",
    "\n",
    "\n",
    "fig.savefig(\"look-ma_a-threshold-plot.png\")"
   ]
  },
  {
   "cell_type": "markdown",
   "metadata": {},
   "source": [
    "Number of Female History Maker Interviews as Part of All Interviews with Rape Terms, by Birth Decade\n",
    "\n",
    "Left axis: number of interviews\n",
    "X axis: birth decade\n",
    "\n",
    "blue: only HM interviews in rape cluster\n",
    "Yellow: all non-HM interviews in rape cluster"
   ]
  },
  {
   "cell_type": "code",
   "execution_count": 32,
   "metadata": {},
   "outputs": [
    {
     "name": "stdout",
     "output_type": "stream",
     "text": [
      "[ 0  0  0  3  9 18 36 73 51 24  3]\n",
      "[  1   2  14  18  24  56  65 151  90  38  13]\n"
     ]
    },
    {
     "data": {
      "text/plain": [
       "Text(0, 0.5, 'Percentage of Interviews in Rape Cluster')"
      ]
     },
     "execution_count": 32,
     "metadata": {},
     "output_type": "execute_result"
    },
    {
     "data": {
      "image/png": "[encoded data removed]",
      "text/plain": [
       "<Figure size 432x288 with 1 Axes>"
      ]
     },
     "metadata": {
      "needs_background": "light"
     },
     "output_type": "display_data"
    }
   ],
   "source": [
    "N = 11\n",
    "\n",
    "ind = np.arange(N) \n",
    "values=[]\n",
    "totals=[]\n",
    "\n",
    "# some example data\n",
    "for i in range(1870, 1980, 10):\n",
    "    values.append(decadesinformation[str(i)][\"HM\"])\n",
    "    totals.append(decadesinformation[str(i)][\"total\"])\n",
    "    \n",
    "    \n",
    "#this is janky but its to avoid a divide by 0 issue- code crime but there are a lot of those in here\n",
    "totals = [1 if x==0 else x for x in totals]\n",
    "values = np.array(values)\n",
    "totals= np.array(totals)\n",
    "\n",
    "\n",
    "print(values)\n",
    "print(totals)\n",
    "\n",
    "x = range(len(values))\n",
    "\n",
    "# split it up\n",
    "below_threshold = values/totals*100\n",
    "\n",
    "\n",
    "# and plot it\n",
    "fig, ax = pyplot.subplots()\n",
    "hm=ax.bar(x, below_threshold, 0.35, color=\"b\")\n",
    "ax.set_xticks(ind)\n",
    "ax.set_xticklabels(('1870', '1880', '1890', '1900', '1910', '1920', '1930', '1940', '1950', '1960', '1970'))\n",
    "ax.set_title('Percentage of Female History Maker Interviews as Part of All Interviews with Rape Terms, by Birth Decade')\n",
    "ax.set_ylabel('Percentage of Interviews in Rape Cluster')"
   ]
  },
  {
   "cell_type": "code",
   "execution_count": null,
   "metadata": {},
   "outputs": [],
   "source": []
  },
  {
   "cell_type": "markdown",
   "metadata": {},
   "source": [
    "Percentage of Female History Maker Interviews as Part of All Interviews with Rape Terms, by Birth Decade\n",
    "Takes all the interviews in HM in rape cluster in a given birthcohort divided by the total number of interviews in the rape cluster in that birth cohort\n"
   ]
  },
  {
   "cell_type": "markdown",
   "metadata": {},
   "source": []
  },
  {
   "cell_type": "code",
   "execution_count": 34,
   "metadata": {},
   "outputs": [
    {
     "data": {
      "image/png": "[encoded data removed]",
      "text/plain": [
       "<Figure size 432x288 with 1 Axes>"
      ]
     },
     "metadata": {
      "needs_background": "light"
     },
     "output_type": "display_data"
    }
   ],
   "source": [
    "N = 12\n",
    "\n",
    "HMhits=[]\n",
    "hits=[]\n",
    "total=[]\n",
    "HMtotal=[]\n",
    "\n",
    "for i in range(1870, 1990, 10):\n",
    "    HMhits.append(decadesinformation[str(i)][\"HM\"])\n",
    "    hits.append(decadesinformation[str(i)][\"total\"])\n",
    "    total.append(dataformatted[\"\\ufeffbirth_decade\"][str(i)])\n",
    "    HMtotal.append(dataformattedHM[\"\\ufeffbirth_decade\"][str(i)])\n",
    "\n",
    "    \n",
    "#total = (2, 13, 64, 108, 288, 450, 453, 594, 387, 176, 64, 39)\n",
    "#1s are 0s\n",
    "#HMtotal= [1,1,3,20,56,115,194,288,214,89,13,1]\n",
    "\n",
    "total = [1 if x==0 else x for x in total]\n",
    "HMtotal = [1 if x==0 else x for x in HMtotal]\n",
    "\n",
    "\n",
    "\n",
    "first1=np.array(hits)\n",
    "first2=np.array(total)\n",
    "\n",
    "second1=np.array(HMhits)\n",
    "second2=np.array(HMtotal)\n",
    "second=second1/second2*100\n",
    "first1=first1-second1\n",
    "first=first1/first2*100\n",
    "\n",
    "\n",
    "ind = np.arange(N)  # the x locations for the groups\n",
    "width = 0.35       # the width of the bars\n",
    "\n",
    "fig, ax = pyplot.subplots()\n",
    "rects1 = ax.bar(ind, first, width, color='y')\n",
    "\n",
    "hits = (0, 3, 9, 16, 33, 66, 42, 22, 3)\n",
    "rects2 = ax.bar(ind + width, second, width, color='b')\n",
    "\n",
    "# add some text for labels, title and axes ticks\n",
    "#ax.set_ylabel('Number')\n",
    "ax.set_title('Percentage of Interviews Including Rape Terms by Birth Decade \\n')\n",
    "ax.set_xticks(ind + width / 2)\n",
    "ax.set_xticklabels(('1870', '1880','1890', '1900', '1910', '1920', '1930', '1940', '1950', '1960', '1970', '1980'))\n",
    "pyplot.setp(ax.get_xticklabels(), rotation=30, horizontalalignment='right')\n",
    "ax.legend((rects1[0], rects2[0]), ('Other Interviews', 'HM'))\n",
    "\n",
    "pyplot.show()"
   ]
  },
  {
   "cell_type": "code",
   "execution_count": null,
   "metadata": {},
   "outputs": [],
   "source": []
  },
  {
   "cell_type": "code",
   "execution_count": null,
   "metadata": {},
   "outputs": [],
   "source": []
  },
  {
   "cell_type": "code",
   "execution_count": null,
   "metadata": {},
   "outputs": [],
   "source": []
  },
  {
   "cell_type": "code",
   "execution_count": null,
   "metadata": {},
   "outputs": [],
   "source": []
  },
  {
   "cell_type": "code",
   "execution_count": null,
   "metadata": {},
   "outputs": [],
   "source": []
  },
  {
   "cell_type": "code",
   "execution_count": null,
   "metadata": {},
   "outputs": [],
   "source": []
  }
 ],
 "metadata": {
  "kernelspec": {
   "display_name": "Python 3",
   "language": "python",
   "name": "python3"
  },
  "language_info": {
   "codemirror_mode": {
    "name": "ipython",
    "version": 3
   },
   "file_extension": ".py",
   "mimetype": "text/x-python",
   "name": "python",
   "nbconvert_exporter": "python",
   "pygments_lexer": "ipython3",
   "version": "3.7.3"
  }
 },
 "nbformat": 4,
 "nbformat_minor": 2
}
