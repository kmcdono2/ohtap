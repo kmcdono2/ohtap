{
 "cells": [
  {
   "cell_type": "code",
   "execution_count": 1,
   "metadata": {},
   "outputs": [],
   "source": [
    "import csv\n",
    "import numpy as np\n",
    "from collections import defaultdict\n",
    "from matplotlib import pyplot\n",
    "import pandas"
   ]
  },
  {
   "cell_type": "code",
   "execution_count": 9,
   "metadata": {},
   "outputs": [],
   "source": [
    "BLANKS=[\"\",\"RBNF1\", \"RBNF2\", \"RBNF\", \"0\", \"RBNF 1\", \"RBNF 2\"]\n",
    "TOTAL=2734"
   ]
  },
  {
   "cell_type": "code",
   "execution_count": 2,
   "metadata": {},
   "outputs": [],
   "source": [
    "def loadCsvData(fileName):\n",
    "\tmatrix = []\n",
    "\t# open a file\n",
    "\twith open(fileName) as f:\n",
    "\t\treader = csv.reader(f)\n",
    "        # loop over each row in the file\n",
    "\t\tfor row in reader:\n",
    "\n",
    "\t\t\t# cast each value to a float\n",
    "\t\t\tdoubleRow = []\n",
    "\t\t\tfor value in row:\n",
    "\t\t\t\tdoubleRow.append(value.strip())\n",
    "\n",
    "\t\t\t# store the row into our matrix\n",
    "\t\t\tmatrix.append(doubleRow)\n",
    "\treturn matrix"
   ]
  },
  {
   "cell_type": "code",
   "execution_count": 3,
   "metadata": {},
   "outputs": [],
   "source": [
    "data= loadCsvData(\"data/metadata.csv\")"
   ]
  },
  {
   "cell_type": "code",
   "execution_count": 4,
   "metadata": {},
   "outputs": [],
   "source": [
    "data=pandas.DataFrame(data[1:], columns=data[0])"
   ]
  },
  {
   "cell_type": "code",
   "execution_count": 5,
   "metadata": {},
   "outputs": [],
   "source": [
    "interviewtxt =loadCsvData(\"data/interview text file to ids.csv\")"
   ]
  },
  {
   "cell_type": "code",
   "execution_count": 6,
   "metadata": {},
   "outputs": [],
   "source": [
    "interviewtxt=pandas.DataFrame(interviewtxt[1:], columns=interviewtxt[0])"
   ]
  },
  {
   "cell_type": "code",
   "execution_count": 7,
   "metadata": {},
   "outputs": [],
   "source": [
    "text_to_ids=defaultdict(lambda: defaultdict(lambda:\"0\"))\n",
    "for i in range(len(interviewtxt)):\n",
    "    if interviewtxt[\"no_transcript\"][i]==\"TRUE\":\n",
    "        continue\n",
    "    name=interviewtxt.at[i, interviewtxt.columns[0]]\n",
    "    name=name[:name.rfind('.')]\n",
    "    name=name.replace('\\'','_')\n",
    "    text_to_ids[name][\"id\"]=interviewtxt[\"interviewee_ids\"][i].split(';')\n",
    "    date=interviewtxt[\"date_of_first_interview\"][i]\n",
    "    text_to_ids[name][\"interview year\"]= date[date.rfind(\"/\")+1:]"
   ]
  },
  {
   "cell_type": "code",
   "execution_count": 11,
   "metadata": {},
   "outputs": [],
   "source": [
    "ids_to_years=defaultdict(lambda: defaultdict(lambda:\"0\"))\n",
    "for i in range(len(interviewtxt)):\n",
    "    date=interviewtxt[\"date_of_first_interview\"][i]\n",
    "    year=date[date.rfind('/')+1:]\n",
    "    ids=interviewtxt[\"interviewee_ids\"][i].split(';')\n",
    "    no_transcript=interviewtxt[\"no_transcript\"][i]\n",
    "    for num in ids:\n",
    "        ids_to_years[num][\"year\"]= str(year)\n",
    "        if no_transcript==\"TRUE\" and ids_to_years[num][\"included\"]==\"0\":\n",
    "            ids_to_years[num][\"included\"]=False\n",
    "        else:\n",
    "            ids_to_years[num][\"included\"]=True"
   ]
  },
  {
   "cell_type": "code",
   "execution_count": 12,
   "metadata": {},
   "outputs": [],
   "source": [
    "database=defaultdict(lambda: defaultdict(lambda:0))\n",
    "for i in range(len(data)):\n",
    "    if ids_to_years[data.loc[i, \"interviewee_id\"]][\"included\"]==False:\n",
    "        continue\n",
    "    for atr in data.columns:\n",
    "        if atr== \"researcher_assumed_birth_decade\":\n",
    "            continue\n",
    "        if atr== \"researcher_assumed_race\":\n",
    "            continue\n",
    "        value= data[atr][i]\n",
    "        if value in BLANKS and atr==\"\\ufeffbirth_decade\":\n",
    "            value= data.loc[i, \"researcher_assumed_birth_decade\"]\n",
    "        if value in BLANKS and atr==\"identified_race\":\n",
    "            value= data.loc[i, \"researcher_assumed_race\"]\n",
    "        if value in BLANKS and atr == \"real_interviewee_birth_year\":\n",
    "            value= data.loc[i, \"approximate_interviewee_birth_year\"]\n",
    "        database[data.loc[i, \"interviewee_id\"]][atr]=value\n",
    "    database[data.loc[i, \"interviewee_id\"]][\"interview_year\"]=ids_to_years[data.loc[i, \"interviewee_id\"]][\"year\"]"
   ]
  },
  {
   "cell_type": "code",
   "execution_count": null,
   "metadata": {},
   "outputs": [],
   "source": []
  }
 ],
 "metadata": {
  "kernelspec": {
   "display_name": "Python 3",
   "language": "python",
   "name": "python3"
  },
  "language_info": {
   "codemirror_mode": {
    "name": "ipython",
    "version": 3
   },
   "file_extension": ".py",
   "mimetype": "text/x-python",
   "name": "python",
   "nbconvert_exporter": "python",
   "pygments_lexer": "ipython3",
   "version": "3.8.5"
  }
 },
 "nbformat": 4,
 "nbformat_minor": 4
}
