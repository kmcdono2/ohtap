{
 "cells": [
  {
   "cell_type": "code",
   "execution_count": 1,
   "metadata": {},
   "outputs": [],
   "source": [
    "#To Do:\n",
    "#Jade it's a mess clean it up make some functions what are you doing\n",
    "#the names file needs to be replaced with filenames\n",
    "#want a dict from file name to info if we don't have one already"
   ]
  },
  {
   "cell_type": "code",
   "execution_count": 2,
   "metadata": {},
   "outputs": [],
   "source": [
    "import csv\n",
    "import numpy as np\n",
    "from collections import defaultdict\n",
    "from matplotlib import pyplot\n",
    "import pandas"
   ]
  },
  {
   "cell_type": "code",
   "execution_count": 3,
   "metadata": {},
   "outputs": [],
   "source": [
    "BLANKS=[\"\",\"RBNF1\", \"RBNF2\", \"RBNF\", \"0\", \"RBNF 1\", \"RBNF 2\"]\n",
    "#TOTAL= 5048\n",
    "TOTAL=2734\n",
    "#TOTAL=1351\n",
    "#TOTAL=1201\n",
    "#TOTAL=1168\n"
   ]
  },
  {
   "cell_type": "code",
   "execution_count": 4,
   "metadata": {},
   "outputs": [],
   "source": [
    "def loadCsvData(fileName):\n",
    "\tmatrix = []\n",
    "\t# open a file\n",
    "\twith open(fileName) as f:\n",
    "\t\treader = csv.reader(f)\n",
    "        # loop over each row in the file\n",
    "\t\tfor row in reader:\n",
    "\n",
    "\t\t\t# cast each value to a float\n",
    "\t\t\tdoubleRow = []\n",
    "\t\t\tfor value in row:\n",
    "\t\t\t\tdoubleRow.append(value.strip())\n",
    "\n",
    "\t\t\t# store the row into our matrix\n",
    "\t\t\tmatrix.append(doubleRow)\n",
    "\treturn matrix"
   ]
  },
  {
   "cell_type": "code",
   "execution_count": 5,
   "metadata": {},
   "outputs": [],
   "source": [
    "def printData(matrix):\n",
    "\tfor row in matrix:\n",
    "\t\tprint (row)"
   ]
  },
  {
   "cell_type": "code",
   "execution_count": 6,
   "metadata": {},
   "outputs": [],
   "source": [
    "data= loadCsvData(\"data/metadata.csv\")"
   ]
  },
  {
   "cell_type": "code",
   "execution_count": 7,
   "metadata": {},
   "outputs": [],
   "source": [
    "data=pandas.DataFrame(data[1:], columns=data[0])"
   ]
  },
  {
   "cell_type": "code",
   "execution_count": null,
   "metadata": {},
   "outputs": [],
   "source": []
  },
  {
   "cell_type": "code",
   "execution_count": 8,
   "metadata": {},
   "outputs": [],
   "source": [
    "interviewtxt =loadCsvData(\"data/interview text fille to ids.csv\")"
   ]
  },
  {
   "cell_type": "code",
   "execution_count": 9,
   "metadata": {},
   "outputs": [],
   "source": [
    "interviewtxt=pandas.DataFrame(interviewtxt[1:], columns=interviewtxt[0])\n"
   ]
  },
  {
   "cell_type": "code",
   "execution_count": 97,
   "metadata": {},
   "outputs": [],
   "source": [
    "text_to_ids=defaultdict(lambda: defaultdict(lambda:\"0\"))\n",
    "for i in range(len(interviewtxt)):\n",
    "    if interviewtxt[\"no_transcript\"][i]==\"TRUE\":\n",
    "        continue\n",
    "    name=interviewtxt.at[i, interviewtxt.columns[0]]\n",
    "    name=name[:name.rfind('.')]\n",
    "    name=name.replace('\\'','_')\n",
    "    text_to_ids[name][\"id\"]=interviewtxt[\"interviewee_ids\"][i].split(';')\n",
    "    date=interviewtxt[\"date_of_first_interview\"][i]\n",
    "    text_to_ids[name][\"interview year\"]= date[date.rfind(\"/\")+1:]\n",
    "    "
   ]
  },
  {
   "cell_type": "code",
   "execution_count": 98,
   "metadata": {},
   "outputs": [],
   "source": [
    "ids_to_years=defaultdict(lambda: defaultdict(lambda:\"0\"))\n",
    "for i in range(len(interviewtxt)):\n",
    "    date=interviewtxt[\"date_of_first_interview\"][i]\n",
    "    year=date[date.rfind('/')+1:]\n",
    "    ids=interviewtxt[\"interviewee_ids\"][i].split(';')\n",
    "    no_transcript=interviewtxt[\"no_transcript\"][i]\n",
    "    for num in ids:\n",
    "        ids_to_years[num][\"year\"]= str(year)\n",
    "        if no_transcript==\"TRUE\" and ids_to_years[num][\"included\"]==\"0\":\n",
    "            ids_to_years[num][\"included\"]=False\n",
    "        else:\n",
    "            ids_to_years[num][\"included\"]=True"
   ]
  },
  {
   "cell_type": "code",
   "execution_count": null,
   "metadata": {},
   "outputs": [],
   "source": []
  },
  {
   "cell_type": "code",
   "execution_count": 99,
   "metadata": {},
   "outputs": [],
   "source": [
    "database=defaultdict(lambda: defaultdict(lambda:0))\n",
    "for i in range(len(data)):\n",
    "    if ids_to_years[data.loc[i, \"interviewee_id\"]][\"included\"]==False:\n",
    "        continue\n",
    "    for atr in data.columns:\n",
    "        if atr== \"researcher_assumed_birth_decade\":\n",
    "            continue\n",
    "        if atr== \"researcher_assumed_race\":\n",
    "            continue\n",
    "        value= data[atr][i]\n",
    "        if value in BLANKS and atr==\"\\ufeffbirth_decade\":\n",
    "            value= data.loc[i, \"researcher_assumed_birth_decade\"]\n",
    "        if value in BLANKS and atr==\"identified_race\":\n",
    "            value= data.loc[i, \"researcher_assumed_race\"]\n",
    "        if value in BLANKS and atr == \"real_interviewee_birth_year\":\n",
    "            value= data.loc[i, \"approximate_interviewee_birth_year\"]\n",
    "        database[data.loc[i, \"interviewee_id\"]][atr]=value\n",
    "    database[data.loc[i, \"interviewee_id\"]][\"interview_year\"]=ids_to_years[data.loc[i, \"interviewee_id\"]][\"year\"]"
   ]
  },
  {
   "cell_type": "code",
   "execution_count": 101,
   "metadata": {},
   "outputs": [
    {
     "name": "stdout",
     "output_type": "stream",
     "text": [
      "2645\n"
     ]
    }
   ],
   "source": [
    "delete_these=set()\n",
    "for i in text_to_ids:\n",
    "    female=False\n",
    "    for x in text_to_ids[i][\"id\"]:\n",
    "        if database[x][\"sex\"]==\"Female\":\n",
    "            female=True\n",
    "    if female==False:\n",
    "        delete_these.add(i)\n",
    "for i in delete_these:\n",
    "    text_to_ids.pop(i)"
   ]
  },
  {
   "cell_type": "code",
   "execution_count": 13,
   "metadata": {},
   "outputs": [],
   "source": [
    "dataformatted=defaultdict(lambda: defaultdict(lambda:0))\n",
    "for i in database : \n",
    "    if database[i][\"sex\"]==\"Male\":\n",
    "        continue\n",
    "    for atr in database[i]:\n",
    "        value= database[i][atr]\n",
    "        if value not in BLANKS:\n",
    "            dataformatted[atr][value]+=1\n",
    "for cat in dataformatted:\n",
    "    total=0\n",
    "    for x in dataformatted[cat]:\n",
    "        total+= dataformatted[cat][x]\n",
    "    dataformatted[cat][\"No Info\"]= TOTAL-total\n",
    "        \n",
    "\n",
    "    \n",
    "        "
   ]
  },
  {
   "cell_type": "code",
   "execution_count": 14,
   "metadata": {},
   "outputs": [],
   "source": [
    "#unknown=[]\n",
    "#for x in database:\n",
    "#    if database[x]['current_or_most_recent_occupation'] in BLANKS and database[x][\"sex\"]!=\"Male\":\n",
    "#        unknown.append(database[x][\"interviewee_name\"])\n"
   ]
  },
  {
   "cell_type": "code",
   "execution_count": 15,
   "metadata": {},
   "outputs": [],
   "source": [
    "#for table in dataformatted:\n",
    "#    for x,y in dataformatted[table].items():\n",
    "#        print(\"{}: {}\".format(x,y))\n",
    "        #print(x)\n",
    "        #print(y)"
   ]
  },
  {
   "cell_type": "code",
   "execution_count": 16,
   "metadata": {},
   "outputs": [],
   "source": [
    "#def checkAProfile(data, race, sex, education, birthdecade, exact):\n",
    "#    total=0\n",
    "#    attr=[(\"identified_race\", race), (\"sex\", sex), (\"education\", education), (\"\\ufeffbirth_decade\", birthdecade)]\n",
    "#    for i in data: \n",
    "#        if exact:\n",
    "#            skip=False\n",
    "#            for a in attr:\n",
    "#                if data[i][a[0]] in BLANKS and a[1] != \"\":\n",
    "#                    skip=True\n",
    "#           if skip:\n",
    "#                continue\n",
    "#        skip=False   \n",
    "#        for a in attr:\n",
    "#            cat= data[i][a[0]]\n",
    "#            if a[1] != \"\" and cat not in BLANKS and cat != a[1]:\n",
    "#                skip=True\n",
    "#        if skip:\n",
    "#            continue\n",
    "#        total+=1\n",
    "#    return total\n",
    "    \n",
    "    "
   ]
  },
  {
   "cell_type": "code",
   "execution_count": null,
   "metadata": {},
   "outputs": [],
   "source": []
  },
  {
   "cell_type": "code",
   "execution_count": 17,
   "metadata": {},
   "outputs": [],
   "source": [
    "ids_to_info=defaultdict(lambda: defaultdict(lambda:0))\n",
    "for ids in database:\n",
    "    ids_to_info[ids][\"birth_decade\"]=database[ids][\"\\ufeffbirth_decade\"]\n",
    "    ids_to_info[ids][\"education\"]=database[ids][\"education\"]\n",
    "    ids_to_info[ids][\"collection\"]=database[ids][\"collection_id\"]\n",
    "    ids_to_info[ids][\"sex\"]=database[ids][\"sex\"]\n",
    "    ids_to_info[ids][\"race\"]=database[ids][\"identified_race\"]\n",
    "    ids_to_info[ids][\"interview_year\"]=database[ids][\"interview_year\"]\n",
    "    ids_to_info[ids][\"birth_year\"]=database[ids][\"real_interviewee_birth_year\"]\n"
   ]
  },
  {
   "cell_type": "code",
   "execution_count": 18,
   "metadata": {},
   "outputs": [],
   "source": [
    "myfile = open(\"data/everything_but_falsehits_and_needsreview.txt\")\n",
    "txt = myfile.read()\n",
    "myfile.close()\n",
    "\n",
    "files=[]\n",
    "tokens=txt.split()\n",
    "for i in tokens:\n",
    "    num= i.find(\"Files\\\\\\\\\")\n",
    "    if not num==-1:\n",
    "        if not i.find(\"_\")==-1:\n",
    "            files.append(i.strip())\n",
    "names=set()\n",
    "for i in files:\n",
    "    i=i[i.find(\"\\\\\\\\\",8)+2:-1]\n",
    "    names.add(i.strip())\n"
   ]
  },
  {
   "cell_type": "code",
   "execution_count": 19,
   "metadata": {},
   "outputs": [
    {
     "name": "stdout",
     "output_type": "stream",
     "text": [
      "2731\n"
     ]
    }
   ],
   "source": [
    "decades=[]\n",
    "for i in range(1870, 2000, 10):\n",
    "    decades.append(str(i))\n",
    "decades.append(\"No Info\")\n",
    "total=[]\n",
    "for i in decades:\n",
    "    total.append(dataformatted[\"\\ufeffbirth_decade\"][i])\n",
    "hits=defaultdict(lambda:0)\n",
    "for x in names:\n",
    "    id_nums=text_to_ids[x][\"id\"]\n",
    "    for num in id_nums:\n",
    "        hits[ids_to_info[num][\"birth_decade\"]]+=1\n",
    "hits_formatted=[]\n",
    "for i in decades:\n",
    "    hits_formatted.append(hits[i])\n",
    "percentage_withNI=[]\n",
    "percentage_noNI=[]\n",
    "totalnum=sum(total)\n",
    "print(totalnum)\n",
    "for i in range(len(decades)):\n",
    "    percentage_withNI.append(int(hits_formatted[i]/total[i]*100))\n",
    "    #if not i==len(decades)-1:\n",
    "    #    percentage_noNI.append(int(hits_formatted[i]/(total[i])*100))\n",
    "#percentage_noNI.append(None)\n"
   ]
  },
  {
   "cell_type": "code",
   "execution_count": 20,
   "metadata": {},
   "outputs": [],
   "source": [
    "df_decades = pandas.DataFrame([total, hits_formatted, percentage_withNI], index=[\"total corpus\", \"in rape cluster\", \"Percentage Within Category\"],columns=decades)"
   ]
  },
  {
   "cell_type": "code",
   "execution_count": 21,
   "metadata": {},
   "outputs": [
    {
     "data": {
      "text/html": [
       "<div>\n",
       "<style scoped>\n",
       "    .dataframe tbody tr th:only-of-type {\n",
       "        vertical-align: middle;\n",
       "    }\n",
       "\n",
       "    .dataframe tbody tr th {\n",
       "        vertical-align: top;\n",
       "    }\n",
       "\n",
       "    .dataframe thead th {\n",
       "        text-align: right;\n",
       "    }\n",
       "</style>\n",
       "<table border=\"1\" class=\"dataframe\">\n",
       "  <thead>\n",
       "    <tr style=\"text-align: right;\">\n",
       "      <th></th>\n",
       "      <th>1870</th>\n",
       "      <th>1880</th>\n",
       "      <th>1890</th>\n",
       "      <th>1900</th>\n",
       "      <th>1910</th>\n",
       "      <th>1920</th>\n",
       "      <th>1930</th>\n",
       "      <th>1940</th>\n",
       "      <th>1950</th>\n",
       "      <th>1960</th>\n",
       "      <th>1970</th>\n",
       "      <th>1980</th>\n",
       "      <th>1990</th>\n",
       "      <th>No Info</th>\n",
       "    </tr>\n",
       "  </thead>\n",
       "  <tbody>\n",
       "    <tr>\n",
       "      <th>total corpus</th>\n",
       "      <td>2</td>\n",
       "      <td>12</td>\n",
       "      <td>64</td>\n",
       "      <td>109</td>\n",
       "      <td>285</td>\n",
       "      <td>454</td>\n",
       "      <td>466</td>\n",
       "      <td>603</td>\n",
       "      <td>394</td>\n",
       "      <td>182</td>\n",
       "      <td>65</td>\n",
       "      <td>40</td>\n",
       "      <td>8</td>\n",
       "      <td>47</td>\n",
       "    </tr>\n",
       "    <tr>\n",
       "      <th>in rape cluster</th>\n",
       "      <td>0</td>\n",
       "      <td>2</td>\n",
       "      <td>14</td>\n",
       "      <td>18</td>\n",
       "      <td>24</td>\n",
       "      <td>56</td>\n",
       "      <td>65</td>\n",
       "      <td>151</td>\n",
       "      <td>90</td>\n",
       "      <td>38</td>\n",
       "      <td>13</td>\n",
       "      <td>7</td>\n",
       "      <td>0</td>\n",
       "      <td>0</td>\n",
       "    </tr>\n",
       "    <tr>\n",
       "      <th>Percentage Within Category</th>\n",
       "      <td>0</td>\n",
       "      <td>16</td>\n",
       "      <td>21</td>\n",
       "      <td>16</td>\n",
       "      <td>8</td>\n",
       "      <td>12</td>\n",
       "      <td>13</td>\n",
       "      <td>25</td>\n",
       "      <td>22</td>\n",
       "      <td>20</td>\n",
       "      <td>20</td>\n",
       "      <td>17</td>\n",
       "      <td>0</td>\n",
       "      <td>0</td>\n",
       "    </tr>\n",
       "  </tbody>\n",
       "</table>\n",
       "</div>"
      ],
      "text/plain": [
       "                            1870  1880  1890  1900  1910  1920  1930  1940  \\\n",
       "total corpus                   2    12    64   109   285   454   466   603   \n",
       "in rape cluster                0     2    14    18    24    56    65   151   \n",
       "Percentage Within Category     0    16    21    16     8    12    13    25   \n",
       "\n",
       "                            1950  1960  1970  1980  1990  No Info  \n",
       "total corpus                 394   182    65    40     8       47  \n",
       "in rape cluster               90    38    13     7     0        0  \n",
       "Percentage Within Category    22    20    20    17     0        0  "
      ]
     },
     "metadata": {},
     "output_type": "display_data"
    }
   ],
   "source": [
    "display(df_decades)"
   ]
  },
  {
   "cell_type": "markdown",
   "metadata": {},
   "source": [
    "Corpus Interviewees by Birth Decades and Percent of Interviewees by Birth Decade whose Interviews Include Rape Terms\n",
    "\n",
    "Table: splits whole corpus by birth decade, displays how many in corpus born in that decade, how many in the rape cluster were born that decade, and what percentage of the people born in that decade are in the rape cluster"
   ]
  },
  {
   "cell_type": "code",
   "execution_count": 22,
   "metadata": {},
   "outputs": [
    {
     "name": "stdout",
     "output_type": "stream",
     "text": [
      "2731\n"
     ]
    }
   ],
   "source": [
    "decades=[]\n",
    "for i in range(1870, 2000, 10):\n",
    "    decades.append(str(i))\n",
    "decades.append(\"No Info\")\n",
    "total=[]\n",
    "for i in decades:\n",
    "    total.append(dataformatted[\"\\ufeffbirth_decade\"][i])\n",
    "total_double=[]\n",
    "for i in range(6):\n",
    "    total_double.append(total[2*i]+total[2*i+1])\n",
    "total_double.append(total[-2])\n",
    "total_double.append(total[-1])\n",
    "hits=defaultdict(lambda:0)\n",
    "for x in names:\n",
    "    id_nums=text_to_ids[x][\"id\"]\n",
    "    for num in id_nums:\n",
    "        hits[ids_to_info[num][\"birth_decade\"]]+=1\n",
    "hits_formatted=[]\n",
    "for i in decades:\n",
    "    hits_formatted.append(hits[i])\n",
    "hits_double=[]\n",
    "for i in range(6):\n",
    "    hits_double.append(hits_formatted[2*i]+hits_formatted[2*i+1])\n",
    "hits_double.append(hits_formatted[-2])\n",
    "hits_double.append(hits_formatted[-1])\n",
    "percentage_withNI=[]\n",
    "for i in range(len(total_double)):\n",
    "    percentage_withNI.append(int(hits_double[i]/total_double[i]*100))\n",
    "    #if not i==len(decades)-1:\n",
    "    #    percentage_noNI.append(int(hits_formatted[i]/(total[i])*100))\n",
    "#percentage_noNI.append(None)\n",
    "print(sum(total_double))"
   ]
  },
  {
   "cell_type": "code",
   "execution_count": 23,
   "metadata": {},
   "outputs": [],
   "source": [
    "df_decades = pandas.DataFrame([total_double, hits_double, percentage_withNI], index=[\"total corpus\", \"in rape cluster\", \"Percentage Within Category\"],columns=[\"1870-1889\", \"1890-1909\", \"1910-1929\", \"1930-1949\", \"1950-1969\", \"1970-1989\", \"1990-1999\", \"No Info\"])"
   ]
  },
  {
   "cell_type": "code",
   "execution_count": 24,
   "metadata": {},
   "outputs": [
    {
     "data": {
      "text/html": [
       "<div>\n",
       "<style scoped>\n",
       "    .dataframe tbody tr th:only-of-type {\n",
       "        vertical-align: middle;\n",
       "    }\n",
       "\n",
       "    .dataframe tbody tr th {\n",
       "        vertical-align: top;\n",
       "    }\n",
       "\n",
       "    .dataframe thead th {\n",
       "        text-align: right;\n",
       "    }\n",
       "</style>\n",
       "<table border=\"1\" class=\"dataframe\">\n",
       "  <thead>\n",
       "    <tr style=\"text-align: right;\">\n",
       "      <th></th>\n",
       "      <th>1870-1889</th>\n",
       "      <th>1890-1909</th>\n",
       "      <th>1910-1929</th>\n",
       "      <th>1930-1949</th>\n",
       "      <th>1950-1969</th>\n",
       "      <th>1970-1989</th>\n",
       "      <th>1990-1999</th>\n",
       "      <th>No Info</th>\n",
       "    </tr>\n",
       "  </thead>\n",
       "  <tbody>\n",
       "    <tr>\n",
       "      <th>total corpus</th>\n",
       "      <td>14</td>\n",
       "      <td>173</td>\n",
       "      <td>739</td>\n",
       "      <td>1069</td>\n",
       "      <td>576</td>\n",
       "      <td>105</td>\n",
       "      <td>8</td>\n",
       "      <td>47</td>\n",
       "    </tr>\n",
       "    <tr>\n",
       "      <th>in rape cluster</th>\n",
       "      <td>2</td>\n",
       "      <td>32</td>\n",
       "      <td>80</td>\n",
       "      <td>216</td>\n",
       "      <td>128</td>\n",
       "      <td>20</td>\n",
       "      <td>0</td>\n",
       "      <td>0</td>\n",
       "    </tr>\n",
       "    <tr>\n",
       "      <th>Percentage Within Category</th>\n",
       "      <td>14</td>\n",
       "      <td>18</td>\n",
       "      <td>10</td>\n",
       "      <td>20</td>\n",
       "      <td>22</td>\n",
       "      <td>19</td>\n",
       "      <td>0</td>\n",
       "      <td>0</td>\n",
       "    </tr>\n",
       "  </tbody>\n",
       "</table>\n",
       "</div>"
      ],
      "text/plain": [
       "                            1870-1889  1890-1909  1910-1929  1930-1949  \\\n",
       "total corpus                       14        173        739       1069   \n",
       "in rape cluster                     2         32         80        216   \n",
       "Percentage Within Category         14         18         10         20   \n",
       "\n",
       "                            1950-1969  1970-1989  1990-1999  No Info  \n",
       "total corpus                      576        105          8       47  \n",
       "in rape cluster                   128         20          0        0  \n",
       "Percentage Within Category         22         19          0        0  "
      ]
     },
     "metadata": {},
     "output_type": "display_data"
    }
   ],
   "source": [
    "display(df_decades)"
   ]
  },
  {
   "cell_type": "markdown",
   "metadata": {},
   "source": [
    "Corpus Interviewees by Birth Scores and Percent of Interviewees by Birth Score whose Interviews Include Rape Terms\n",
    "\n",
    "Table: splits whole corpus by birth score, displays how many in corpus born in that score, how many in the rape cluster were born that score, and what percentage of the people born in that score are in the rape cluster"
   ]
  },
  {
   "cell_type": "code",
   "execution_count": 25,
   "metadata": {},
   "outputs": [],
   "source": [
    "race=[]\n",
    "for i in dataformatted[\"identified_race\"]:\n",
    "    race.append(i)\n",
    "race.remove(\"No Info\")\n",
    "race.sort()\n",
    "race.append(\"No Info\")\n",
    "total=[]\n",
    "for i in race:\n",
    "    total.append(dataformatted[\"identified_race\"][i])\n",
    "hits=defaultdict(lambda:0)\n",
    "for x in names:\n",
    "    id_nums=text_to_ids[x][\"id\"]\n",
    "    for num in id_nums:\n",
    "        hits[ids_to_info[num][\"race\"]]+=1\n",
    "hits_formatted=[]\n",
    "for i in race:\n",
    "    hits_formatted.append(hits[i])\n",
    "percentage_withNI=[]\n",
    "percentage_noNI=[]\n",
    "totalnum=sum(total)\n",
    "for i in range(len(race)):\n",
    "    percentage_withNI.append(int(hits_formatted[i]/total[i]*100))\n",
    "    #if not i==len(race)-1:\n",
    "    #    percentage_noNI.append(int(hits_formatted[i]/(totalnum-total[-1])*100))\n",
    "#percentage_noNI.append(None)"
   ]
  },
  {
   "cell_type": "code",
   "execution_count": 26,
   "metadata": {},
   "outputs": [],
   "source": [
    "df_race = pandas.DataFrame([total, hits_formatted, percentage_withNI],index=[\"total corpus\", \"in rape cluster\", \"Percentage Within Category\"], columns=race)"
   ]
  },
  {
   "cell_type": "code",
   "execution_count": 27,
   "metadata": {},
   "outputs": [
    {
     "data": {
      "text/html": [
       "<div>\n",
       "<style scoped>\n",
       "    .dataframe tbody tr th:only-of-type {\n",
       "        vertical-align: middle;\n",
       "    }\n",
       "\n",
       "    .dataframe tbody tr th {\n",
       "        vertical-align: top;\n",
       "    }\n",
       "\n",
       "    .dataframe thead th {\n",
       "        text-align: right;\n",
       "    }\n",
       "</style>\n",
       "<table border=\"1\" class=\"dataframe\">\n",
       "  <thead>\n",
       "    <tr style=\"text-align: right;\">\n",
       "      <th></th>\n",
       "      <th>Asian</th>\n",
       "      <th>Black or African American</th>\n",
       "      <th>Hispanic/Latinx</th>\n",
       "      <th>Indigenous American or Alaska Native</th>\n",
       "      <th>Other Race</th>\n",
       "      <th>Two or More Races</th>\n",
       "      <th>White</th>\n",
       "      <th>No Info</th>\n",
       "    </tr>\n",
       "  </thead>\n",
       "  <tbody>\n",
       "    <tr>\n",
       "      <th>total corpus</th>\n",
       "      <td>42</td>\n",
       "      <td>1199</td>\n",
       "      <td>29</td>\n",
       "      <td>67</td>\n",
       "      <td>4</td>\n",
       "      <td>27</td>\n",
       "      <td>1335</td>\n",
       "      <td>31</td>\n",
       "    </tr>\n",
       "    <tr>\n",
       "      <th>in rape cluster</th>\n",
       "      <td>14</td>\n",
       "      <td>270</td>\n",
       "      <td>6</td>\n",
       "      <td>5</td>\n",
       "      <td>1</td>\n",
       "      <td>6</td>\n",
       "      <td>177</td>\n",
       "      <td>0</td>\n",
       "    </tr>\n",
       "    <tr>\n",
       "      <th>Percentage Within Category</th>\n",
       "      <td>33</td>\n",
       "      <td>22</td>\n",
       "      <td>20</td>\n",
       "      <td>7</td>\n",
       "      <td>25</td>\n",
       "      <td>22</td>\n",
       "      <td>13</td>\n",
       "      <td>0</td>\n",
       "    </tr>\n",
       "  </tbody>\n",
       "</table>\n",
       "</div>"
      ],
      "text/plain": [
       "                            Asian  Black or African American  Hispanic/Latinx  \\\n",
       "total corpus                   42                       1199               29   \n",
       "in rape cluster                14                        270                6   \n",
       "Percentage Within Category     33                         22               20   \n",
       "\n",
       "                            Indigenous American or Alaska Native  Other Race  \\\n",
       "total corpus                                                  67           4   \n",
       "in rape cluster                                                5           1   \n",
       "Percentage Within Category                                     7          25   \n",
       "\n",
       "                            Two or More Races  White  No Info  \n",
       "total corpus                               27   1335       31  \n",
       "in rape cluster                             6    177        0  \n",
       "Percentage Within Category                 22     13        0  "
      ]
     },
     "metadata": {},
     "output_type": "display_data"
    }
   ],
   "source": [
    "display(df_race)"
   ]
  },
  {
   "cell_type": "markdown",
   "metadata": {},
   "source": [
    "Corpus Interviewees by Race and Percent of Interviewees by Race whose Interviews Include Rape Terms\n",
    "\n",
    "Table: splits whole corpus by race, displays how many in corpus of a given race, how many in the rape cluster were of a given race, and what percentage of the people of said race are in the rape cluster"
   ]
  },
  {
   "cell_type": "code",
   "execution_count": 28,
   "metadata": {},
   "outputs": [],
   "source": [
    "education=[\"Less than 9th grade\", \"9th to 12th grade but no diploma\", \"High school graduate\", \"Some college\", \"Associate's degree\", \"Bachelor's degree\", \"Graduate or professional degree\", \"No Info\"]\n",
    "total=[]\n",
    "for i in education:\n",
    "    total.append(dataformatted[\"education\"][i])\n",
    "hits=defaultdict(lambda:0)\n",
    "for x in names:\n",
    "    id_nums=text_to_ids[x][\"id\"]\n",
    "    for num in id_nums:\n",
    "        hits[ids_to_info[num][\"education\"]]+=1\n",
    "hits_formatted=[]\n",
    "for i in education:\n",
    "    hits_formatted.append(hits[i])\n",
    "total_correct=[sum(total[0:3]), sum(total[3:6]), total[-2], total[-1]]\n",
    "hits_formatted_correct=[sum(hits_formatted[0:3]), sum(hits_formatted[3:6]), hits_formatted[-2], hits_formatted[-1]]\n",
    "percentage_withNI=[]\n",
    "percentage_noNI=[]\n",
    "totalnum=sum(total)\n",
    "for i in range(4):\n",
    "    percentage_withNI.append(int(hits_formatted_correct[i]/total_correct[i]*100))\n",
    "    #if not i==3:\n",
    "    #    percentage_noNI.append((hits_formatted_correct[i]/(totalnum-total[-1])*100))\n",
    "#percentage_noNI.append(None)"
   ]
  },
  {
   "cell_type": "code",
   "execution_count": 29,
   "metadata": {},
   "outputs": [],
   "source": [
    "df_education = pandas.DataFrame([total_correct, hits_formatted_correct, percentage_withNI], index=[\"total corpus\", \"in rape cluster\", \"Percentage Within Category\"], columns=[\"up to 12th grade\", \"up to college degree\", \"graduate or professional degree\", \"no info\"])"
   ]
  },
  {
   "cell_type": "code",
   "execution_count": 30,
   "metadata": {},
   "outputs": [
    {
     "data": {
      "text/html": [
       "<div>\n",
       "<style scoped>\n",
       "    .dataframe tbody tr th:only-of-type {\n",
       "        vertical-align: middle;\n",
       "    }\n",
       "\n",
       "    .dataframe tbody tr th {\n",
       "        vertical-align: top;\n",
       "    }\n",
       "\n",
       "    .dataframe thead th {\n",
       "        text-align: right;\n",
       "    }\n",
       "</style>\n",
       "<table border=\"1\" class=\"dataframe\">\n",
       "  <thead>\n",
       "    <tr style=\"text-align: right;\">\n",
       "      <th></th>\n",
       "      <th>up to 12th grade</th>\n",
       "      <th>up to college degree</th>\n",
       "      <th>graduate or professional degree</th>\n",
       "      <th>no info</th>\n",
       "    </tr>\n",
       "  </thead>\n",
       "  <tbody>\n",
       "    <tr>\n",
       "      <th>total corpus</th>\n",
       "      <td>359</td>\n",
       "      <td>1080</td>\n",
       "      <td>1161</td>\n",
       "      <td>134</td>\n",
       "    </tr>\n",
       "    <tr>\n",
       "      <th>in rape cluster</th>\n",
       "      <td>41</td>\n",
       "      <td>185</td>\n",
       "      <td>241</td>\n",
       "      <td>0</td>\n",
       "    </tr>\n",
       "    <tr>\n",
       "      <th>Percentage Within Category</th>\n",
       "      <td>11</td>\n",
       "      <td>17</td>\n",
       "      <td>20</td>\n",
       "      <td>0</td>\n",
       "    </tr>\n",
       "  </tbody>\n",
       "</table>\n",
       "</div>"
      ],
      "text/plain": [
       "                            up to 12th grade  up to college degree  \\\n",
       "total corpus                             359                  1080   \n",
       "in rape cluster                           41                   185   \n",
       "Percentage Within Category                11                    17   \n",
       "\n",
       "                            graduate or professional degree  no info  \n",
       "total corpus                                           1161      134  \n",
       "in rape cluster                                         241        0  \n",
       "Percentage Within Category                               20        0  "
      ]
     },
     "metadata": {},
     "output_type": "display_data"
    }
   ],
   "source": [
    "display(df_education)"
   ]
  },
  {
   "cell_type": "markdown",
   "metadata": {},
   "source": [
    "Corpus Interviewees by Education and Percent of Interviewees by Education whose Interviews Include Rape Terms\n",
    "\n",
    "Table: splits whole corpus by education, displays how many in corpus have a certain level of education, how many in that education level were born that decade, and what percentage of the people with that education level are in the rape cluster"
   ]
  },
  {
   "cell_type": "code",
   "execution_count": 31,
   "metadata": {},
   "outputs": [
    {
     "name": "stdout",
     "output_type": "stream",
     "text": [
      "2732\n"
     ]
    }
   ],
   "source": [
    "years=[]\n",
    "for i in range(1972, 2019, 1):\n",
    "    years.append(str(i))\n",
    "years.append(\"No Info\")\n",
    "total=[]\n",
    "for i in years:\n",
    "    total.append(dataformatted[\"interview_year\"][i])\n",
    "hits=defaultdict(lambda:0)\n",
    "for x in names:\n",
    "    id_nums=text_to_ids[x][\"id\"]\n",
    "    for num in id_nums:\n",
    "        hits[ids_to_info[num][\"interview_year\"]]+=1\n",
    "hits_formatted=[]\n",
    "for i in years:\n",
    "    hits_formatted.append(hits[i])\n",
    "percentage_withNI=[]\n",
    "percentage_noNI=[]\n",
    "totalnum=sum(total)\n",
    "print(totalnum)\n",
    "for i in range(len(years)):\n",
    "    if total[i]==0:\n",
    "        percentage_withNI.append(0)\n",
    "    else:    \n",
    "        percentage_withNI.append(int(hits_formatted[i]/total[i]*100))\n",
    "#    if not i==len(years)-1:\n",
    "#        percentage_noNI.append((hits_formatted[i]/(totalnum-total[-1])*100))\n",
    "#percentage_noNI.append(None)"
   ]
  },
  {
   "cell_type": "code",
   "execution_count": 32,
   "metadata": {},
   "outputs": [],
   "source": [
    "df_interview_year = pandas.DataFrame([total, hits_formatted, percentage_withNI], index=[\"total corpus\", \"in rape cluster\", \"Percentage of total\"], columns=years)"
   ]
  },
  {
   "cell_type": "code",
   "execution_count": 33,
   "metadata": {},
   "outputs": [],
   "source": [
    "pandas.options.display.max_columns = 10"
   ]
  },
  {
   "cell_type": "code",
   "execution_count": 34,
   "metadata": {},
   "outputs": [
    {
     "data": {
      "text/html": [
       "<div>\n",
       "<style scoped>\n",
       "    .dataframe tbody tr th:only-of-type {\n",
       "        vertical-align: middle;\n",
       "    }\n",
       "\n",
       "    .dataframe tbody tr th {\n",
       "        vertical-align: top;\n",
       "    }\n",
       "\n",
       "    .dataframe thead th {\n",
       "        text-align: right;\n",
       "    }\n",
       "</style>\n",
       "<table border=\"1\" class=\"dataframe\">\n",
       "  <thead>\n",
       "    <tr style=\"text-align: right;\">\n",
       "      <th></th>\n",
       "      <th>1972</th>\n",
       "      <th>1973</th>\n",
       "      <th>1974</th>\n",
       "      <th>1975</th>\n",
       "      <th>1976</th>\n",
       "      <th>...</th>\n",
       "      <th>2015</th>\n",
       "      <th>2016</th>\n",
       "      <th>2017</th>\n",
       "      <th>2018</th>\n",
       "      <th>No Info</th>\n",
       "    </tr>\n",
       "  </thead>\n",
       "  <tbody>\n",
       "    <tr>\n",
       "      <th>total corpus</th>\n",
       "      <td>4</td>\n",
       "      <td>4</td>\n",
       "      <td>18</td>\n",
       "      <td>8</td>\n",
       "      <td>19</td>\n",
       "      <td>...</td>\n",
       "      <td>121</td>\n",
       "      <td>128</td>\n",
       "      <td>57</td>\n",
       "      <td>9</td>\n",
       "      <td>207</td>\n",
       "    </tr>\n",
       "    <tr>\n",
       "      <th>in rape cluster</th>\n",
       "      <td>1</td>\n",
       "      <td>0</td>\n",
       "      <td>4</td>\n",
       "      <td>2</td>\n",
       "      <td>9</td>\n",
       "      <td>...</td>\n",
       "      <td>10</td>\n",
       "      <td>13</td>\n",
       "      <td>12</td>\n",
       "      <td>5</td>\n",
       "      <td>0</td>\n",
       "    </tr>\n",
       "    <tr>\n",
       "      <th>Percentage of total</th>\n",
       "      <td>25</td>\n",
       "      <td>0</td>\n",
       "      <td>22</td>\n",
       "      <td>25</td>\n",
       "      <td>47</td>\n",
       "      <td>...</td>\n",
       "      <td>8</td>\n",
       "      <td>10</td>\n",
       "      <td>21</td>\n",
       "      <td>55</td>\n",
       "      <td>0</td>\n",
       "    </tr>\n",
       "  </tbody>\n",
       "</table>\n",
       "<p>3 rows × 48 columns</p>\n",
       "</div>"
      ],
      "text/plain": [
       "                     1972  1973  1974  1975  1976  ...  2015  2016  2017  \\\n",
       "total corpus            4     4    18     8    19  ...   121   128    57   \n",
       "in rape cluster         1     0     4     2     9  ...    10    13    12   \n",
       "Percentage of total    25     0    22    25    47  ...     8    10    21   \n",
       "\n",
       "                     2018  No Info  \n",
       "total corpus            9      207  \n",
       "in rape cluster         5        0  \n",
       "Percentage of total    55        0  \n",
       "\n",
       "[3 rows x 48 columns]"
      ]
     },
     "metadata": {},
     "output_type": "display_data"
    }
   ],
   "source": [
    "display(df_interview_year)"
   ]
  },
  {
   "cell_type": "code",
   "execution_count": 35,
   "metadata": {},
   "outputs": [
    {
     "data": {
      "text/plain": [
       "[None,\n",
       " None,\n",
       " None,\n",
       " None,\n",
       " None,\n",
       " None,\n",
       " None,\n",
       " None,\n",
       " None,\n",
       " None,\n",
       " None,\n",
       " None,\n",
       " None,\n",
       " None,\n",
       " None,\n",
       " None,\n",
       " None,\n",
       " None,\n",
       " None,\n",
       " None,\n",
       " None,\n",
       " None,\n",
       " None,\n",
       " None,\n",
       " None,\n",
       " None,\n",
       " None,\n",
       " None,\n",
       " None,\n",
       " None,\n",
       " None,\n",
       " None,\n",
       " None,\n",
       " None,\n",
       " None,\n",
       " None,\n",
       " None,\n",
       " None,\n",
       " None,\n",
       " None,\n",
       " None,\n",
       " None,\n",
       " None,\n",
       " None,\n",
       " None,\n",
       " None,\n",
       " None,\n",
       " None,\n",
       " None,\n",
       " None,\n",
       " None,\n",
       " None,\n",
       " None,\n",
       " None,\n",
       " None,\n",
       " None,\n",
       " None,\n",
       " None,\n",
       " None,\n",
       " None,\n",
       " None,\n",
       " None,\n",
       " None,\n",
       " None,\n",
       " None,\n",
       " None,\n",
       " None,\n",
       " None,\n",
       " None,\n",
       " None,\n",
       " None,\n",
       " None,\n",
       " None,\n",
       " None,\n",
       " None,\n",
       " None,\n",
       " None,\n",
       " None,\n",
       " None,\n",
       " None,\n",
       " None,\n",
       " None,\n",
       " None,\n",
       " None,\n",
       " None,\n",
       " None,\n",
       " None,\n",
       " None,\n",
       " None,\n",
       " None,\n",
       " None,\n",
       " None,\n",
       " None,\n",
       " None,\n",
       " None,\n",
       " None]"
      ]
     },
     "execution_count": 35,
     "metadata": {},
     "output_type": "execute_result"
    },
    {
     "data": {
      "image/png": "[encoded data removed]",
      "text/plain": [
       "<Figure size 432x288 with 1 Axes>"
      ]
     },
     "metadata": {
      "needs_background": "light"
     },
     "output_type": "display_data"
    }
   ],
   "source": [
    "N = 48\n",
    "\n",
    "ind = np.arange(N) \n",
    "values=[]\n",
    "totals=[]\n",
    "\n",
    "# some example data\n",
    "\n",
    "values=hits_formatted\n",
    "    \n",
    "    \n",
    "values = np.array(values)\n",
    "total=np.array(total)\n",
    "\n",
    "\n",
    "x = range(len(values))\n",
    "\n",
    "\n",
    "# and plot it\n",
    "fig, ax = pyplot.subplots()\n",
    "hm=ax.bar(ind, values, 0.35, color=\"b\")\n",
    "total=ax.bar(ind+.35, total, .35, color=\"y\")\n",
    "ax.set_xticks(ind)\n",
    "ax.set_xticklabels((1972,\"\",\"\",\"\",\"\",\"\",\"\",\"\",1980,\"\",\"\",\"\",\"\",\"\",\"\",\"\",\"\",\"\",1990,\"\",\"\",\"\",\"\",\"\",\"\",\"\",\"\",\"\",2000,\"\",\"\",\"\",\"\",\"\",\"\",\"\",\"\",\"\",2010,\"\",\"\",\"\",\"\",\"\",\"\",\"\",\"\",2019))\n",
    "ax.set_title('Total Corpus and Interviews Including Rape Terms by Interview Year')\n",
    "ax.set_ylabel('Number')\n",
    "pyplot.setp(ax.get_xticklabels(), rotation=30, horizontalalignment='right')\n",
    "\n"
   ]
  },
  {
   "cell_type": "code",
   "execution_count": 36,
   "metadata": {},
   "outputs": [
    {
     "name": "stdout",
     "output_type": "stream",
     "text": [
      "2733\n"
     ]
    }
   ],
   "source": [
    "years=[]\n",
    "for i in range(1871, 1998):\n",
    "    years.append(str(i))\n",
    "years.append(\"No Info\")\n",
    "total=[]\n",
    "for i in years:\n",
    "    total.append(dataformatted[\"real_interviewee_birth_year\"][i])\n",
    "hits=defaultdict(lambda:0)\n",
    "print(sum(total))\n",
    "for x in names:\n",
    "    id_nums=text_to_ids[x][\"id\"]\n",
    "    for num in id_nums:\n",
    "        hits[ids_to_info[num][\"birth_year\"]]+=1\n",
    "hits_formatted=[]\n",
    "for i in years:\n",
    "    hits_formatted.append(hits[i])\n",
    "percentage_withNI=[]\n",
    "for i in range(len(years)):\n",
    "    if total[i]==0:\n",
    "        percentage_withNI.append(0)\n",
    "    else:    \n",
    "        percentage_withNI.append(int(hits_formatted[i]/total[i]*100))"
   ]
  },
  {
   "cell_type": "code",
   "execution_count": 37,
   "metadata": {},
   "outputs": [],
   "source": [
    "df_interview_year = pandas.DataFrame([total, hits_formatted, percentage_withNI], index=[\"total corpus\", \"in rape cluster\", \"Percentage of total\"], columns=years)"
   ]
  },
  {
   "cell_type": "code",
   "execution_count": 38,
   "metadata": {},
   "outputs": [
    {
     "data": {
      "text/html": [
       "<div>\n",
       "<style scoped>\n",
       "    .dataframe tbody tr th:only-of-type {\n",
       "        vertical-align: middle;\n",
       "    }\n",
       "\n",
       "    .dataframe tbody tr th {\n",
       "        vertical-align: top;\n",
       "    }\n",
       "\n",
       "    .dataframe thead th {\n",
       "        text-align: right;\n",
       "    }\n",
       "</style>\n",
       "<table border=\"1\" class=\"dataframe\">\n",
       "  <thead>\n",
       "    <tr style=\"text-align: right;\">\n",
       "      <th></th>\n",
       "      <th>1871</th>\n",
       "      <th>1872</th>\n",
       "      <th>1873</th>\n",
       "      <th>1874</th>\n",
       "      <th>1875</th>\n",
       "      <th>...</th>\n",
       "      <th>1994</th>\n",
       "      <th>1995</th>\n",
       "      <th>1996</th>\n",
       "      <th>1997</th>\n",
       "      <th>No Info</th>\n",
       "    </tr>\n",
       "  </thead>\n",
       "  <tbody>\n",
       "    <tr>\n",
       "      <th>total corpus</th>\n",
       "      <td>1</td>\n",
       "      <td>0</td>\n",
       "      <td>0</td>\n",
       "      <td>1</td>\n",
       "      <td>0</td>\n",
       "      <td>...</td>\n",
       "      <td>1</td>\n",
       "      <td>1</td>\n",
       "      <td>1</td>\n",
       "      <td>1</td>\n",
       "      <td>51</td>\n",
       "    </tr>\n",
       "    <tr>\n",
       "      <th>in rape cluster</th>\n",
       "      <td>0</td>\n",
       "      <td>0</td>\n",
       "      <td>0</td>\n",
       "      <td>0</td>\n",
       "      <td>0</td>\n",
       "      <td>...</td>\n",
       "      <td>0</td>\n",
       "      <td>0</td>\n",
       "      <td>0</td>\n",
       "      <td>0</td>\n",
       "      <td>0</td>\n",
       "    </tr>\n",
       "    <tr>\n",
       "      <th>Percentage of total</th>\n",
       "      <td>0</td>\n",
       "      <td>0</td>\n",
       "      <td>0</td>\n",
       "      <td>0</td>\n",
       "      <td>0</td>\n",
       "      <td>...</td>\n",
       "      <td>0</td>\n",
       "      <td>0</td>\n",
       "      <td>0</td>\n",
       "      <td>0</td>\n",
       "      <td>0</td>\n",
       "    </tr>\n",
       "  </tbody>\n",
       "</table>\n",
       "<p>3 rows × 128 columns</p>\n",
       "</div>"
      ],
      "text/plain": [
       "                     1871  1872  1873  1874  1875  ...  1994  1995  1996  \\\n",
       "total corpus            1     0     0     1     0  ...     1     1     1   \n",
       "in rape cluster         0     0     0     0     0  ...     0     0     0   \n",
       "Percentage of total     0     0     0     0     0  ...     0     0     0   \n",
       "\n",
       "                     1997  No Info  \n",
       "total corpus            1       51  \n",
       "in rape cluster         0        0  \n",
       "Percentage of total     0        0  \n",
       "\n",
       "[3 rows x 128 columns]"
      ]
     },
     "metadata": {},
     "output_type": "display_data"
    }
   ],
   "source": [
    "display(df_interview_year)"
   ]
  },
  {
   "cell_type": "code",
   "execution_count": null,
   "metadata": {},
   "outputs": [],
   "source": []
  },
  {
   "cell_type": "code",
   "execution_count": 39,
   "metadata": {},
   "outputs": [
    {
     "data": {
      "text/plain": [
       "[None,\n",
       " None,\n",
       " None,\n",
       " None,\n",
       " None,\n",
       " None,\n",
       " None,\n",
       " None,\n",
       " None,\n",
       " None,\n",
       " None,\n",
       " None,\n",
       " None,\n",
       " None,\n",
       " None,\n",
       " None,\n",
       " None,\n",
       " None,\n",
       " None,\n",
       " None,\n",
       " None,\n",
       " None,\n",
       " None,\n",
       " None,\n",
       " None,\n",
       " None,\n",
       " None,\n",
       " None,\n",
       " None,\n",
       " None,\n",
       " None,\n",
       " None,\n",
       " None,\n",
       " None,\n",
       " None,\n",
       " None,\n",
       " None,\n",
       " None,\n",
       " None,\n",
       " None,\n",
       " None,\n",
       " None,\n",
       " None,\n",
       " None,\n",
       " None,\n",
       " None,\n",
       " None,\n",
       " None,\n",
       " None,\n",
       " None,\n",
       " None,\n",
       " None,\n",
       " None,\n",
       " None,\n",
       " None,\n",
       " None,\n",
       " None,\n",
       " None,\n",
       " None,\n",
       " None,\n",
       " None,\n",
       " None,\n",
       " None,\n",
       " None,\n",
       " None,\n",
       " None,\n",
       " None,\n",
       " None,\n",
       " None,\n",
       " None,\n",
       " None,\n",
       " None,\n",
       " None,\n",
       " None,\n",
       " None,\n",
       " None,\n",
       " None,\n",
       " None,\n",
       " None,\n",
       " None,\n",
       " None,\n",
       " None,\n",
       " None,\n",
       " None,\n",
       " None,\n",
       " None,\n",
       " None,\n",
       " None,\n",
       " None,\n",
       " None,\n",
       " None,\n",
       " None,\n",
       " None,\n",
       " None,\n",
       " None,\n",
       " None,\n",
       " None,\n",
       " None,\n",
       " None,\n",
       " None,\n",
       " None,\n",
       " None,\n",
       " None,\n",
       " None,\n",
       " None,\n",
       " None,\n",
       " None,\n",
       " None,\n",
       " None,\n",
       " None,\n",
       " None,\n",
       " None,\n",
       " None,\n",
       " None,\n",
       " None,\n",
       " None,\n",
       " None,\n",
       " None,\n",
       " None,\n",
       " None,\n",
       " None,\n",
       " None,\n",
       " None,\n",
       " None,\n",
       " None,\n",
       " None,\n",
       " None,\n",
       " None,\n",
       " None,\n",
       " None,\n",
       " None,\n",
       " None,\n",
       " None,\n",
       " None,\n",
       " None,\n",
       " None,\n",
       " None,\n",
       " None,\n",
       " None,\n",
       " None,\n",
       " None,\n",
       " None,\n",
       " None,\n",
       " None,\n",
       " None,\n",
       " None,\n",
       " None,\n",
       " None,\n",
       " None,\n",
       " None,\n",
       " None,\n",
       " None,\n",
       " None,\n",
       " None,\n",
       " None,\n",
       " None,\n",
       " None,\n",
       " None,\n",
       " None,\n",
       " None,\n",
       " None,\n",
       " None,\n",
       " None,\n",
       " None,\n",
       " None,\n",
       " None,\n",
       " None,\n",
       " None,\n",
       " None,\n",
       " None,\n",
       " None,\n",
       " None,\n",
       " None,\n",
       " None,\n",
       " None,\n",
       " None,\n",
       " None,\n",
       " None,\n",
       " None,\n",
       " None,\n",
       " None,\n",
       " None,\n",
       " None,\n",
       " None,\n",
       " None,\n",
       " None,\n",
       " None,\n",
       " None,\n",
       " None,\n",
       " None,\n",
       " None,\n",
       " None,\n",
       " None,\n",
       " None,\n",
       " None,\n",
       " None,\n",
       " None,\n",
       " None,\n",
       " None,\n",
       " None,\n",
       " None,\n",
       " None,\n",
       " None,\n",
       " None,\n",
       " None,\n",
       " None,\n",
       " None,\n",
       " None,\n",
       " None,\n",
       " None,\n",
       " None,\n",
       " None,\n",
       " None,\n",
       " None,\n",
       " None,\n",
       " None,\n",
       " None,\n",
       " None,\n",
       " None,\n",
       " None,\n",
       " None,\n",
       " None,\n",
       " None,\n",
       " None,\n",
       " None,\n",
       " None,\n",
       " None,\n",
       " None,\n",
       " None,\n",
       " None,\n",
       " None,\n",
       " None,\n",
       " None,\n",
       " None,\n",
       " None,\n",
       " None,\n",
       " None,\n",
       " None,\n",
       " None,\n",
       " None,\n",
       " None,\n",
       " None,\n",
       " None,\n",
       " None,\n",
       " None,\n",
       " None,\n",
       " None,\n",
       " None,\n",
       " None,\n",
       " None,\n",
       " None,\n",
       " None,\n",
       " None,\n",
       " None,\n",
       " None,\n",
       " None]"
      ]
     },
     "execution_count": 39,
     "metadata": {},
     "output_type": "execute_result"
    },
    {
     "data": {
      "image/png": "[encoded data removed]",
      "text/plain": [
       "<Figure size 432x288 with 1 Axes>"
      ]
     },
     "metadata": {
      "needs_background": "light"
     },
     "output_type": "display_data"
    }
   ],
   "source": [
    "N = 128\n",
    "\n",
    "ind = np.arange(N) \n",
    "values=[]\n",
    "totals=[]\n",
    "\n",
    "# some example data\n",
    "\n",
    "values=hits_formatted\n",
    "    \n",
    "    \n",
    "values = np.array(values)\n",
    "total=np.array(total)\n",
    "\n",
    "\n",
    "x = range(len(values))\n",
    "\n",
    "\n",
    "# and plot it\n",
    "space=[\"\",\"\",\"\",\"\",\"\",\"\",\"\",\"\",\"\"]\n",
    "fig, ax = pyplot.subplots()\n",
    "hm=ax.bar(ind, values, 0.35, color=\"b\")\n",
    "total=ax.bar(ind+.35, total, .35, color=\"y\")\n",
    "ax.set_xticks(ind)\n",
    "ax.set_xticklabels([1871,\"\",\"\",\"\",\"\",\"\",\"\",\"\",\"\",1880]+space+[1890]+space+[1900]+space+[1910]+space+[1920]+space+[1930]+space+[1940]+space+[1950]+space+[1960]+space+[1970]+space+[1980]+space+[1990, \"\",\"\",\"\",\"\",\"\",\"\",1997, \"No Info\"])\n",
    "ax.set_title('Total Interviewees and Interviewees in Rape Cluster by Birth Year')\n",
    "ax.set_ylabel('Number of Interviewees')\n",
    "pyplot.setp(ax.get_xticklabels(), rotation=30, horizontalalignment='right')"
   ]
  },
  {
   "cell_type": "markdown",
   "metadata": {},
   "source": [
    "By collection breakdowns"
   ]
  },
  {
   "cell_type": "code",
   "execution_count": null,
   "metadata": {},
   "outputs": [],
   "source": []
  },
  {
   "cell_type": "code",
   "execution_count": null,
   "metadata": {},
   "outputs": [],
   "source": []
  },
  {
   "cell_type": "code",
   "execution_count": null,
   "metadata": {},
   "outputs": [],
   "source": []
  },
  {
   "cell_type": "code",
   "execution_count": 40,
   "metadata": {},
   "outputs": [
    {
     "name": "stdout",
     "output_type": "stream",
     "text": [
      "defaultdict(<function <lambda> at 0x7f8338c77670>, {'BWOH': 70, 'BWSP': 162, 'ROHA': 86, 'SCAP': 192, 'SHSA': 30, 'SHSF': 49, 'SNAI': 9, 'RTRB': 137, 'UNCSW': 76, 'UNCGAS': 25, 'UNCTWMS': 150, 'SCAARJ': 14, 'SCAL': 15, 'SCVF': 51, 'OCFF': 48, 'ONA': 51, 'OOHYLC': 67, 'OSS': 166, 'OWDB': 45, 'OWHF': 37, 'SOOH': 182, 'WOL': 46, 'HM': 991})\n"
     ]
    }
   ],
   "source": [
    "collection_database=defaultdict(lambda:0)\n",
    "for i in range(len(interviewtxt)):\n",
    "    if interviewtxt[\"no_transcript\"][i]!=\"TRUE\":\n",
    "        file_name=interviewtxt[\"project_file_name\"][i]\n",
    "        women=False\n",
    "        for x in text_to_ids[file_name[:file_name.rfind(\".\")]][\"id\"]:\n",
    "            x=x.strip()\n",
    "            if database[x][\"sex\"]==\"Female\":\n",
    "                women=True\n",
    "        if women:\n",
    "            collection_name=file_name[:file_name.find(\"_\")]\n",
    "            collection_database[collection_name]+=1\n",
    "print(collection_database)"
   ]
  },
  {
   "cell_type": "code",
   "execution_count": 41,
   "metadata": {},
   "outputs": [],
   "source": [
    "collections=list(collection_database)\n",
    "collections.sort()"
   ]
  },
  {
   "cell_type": "code",
   "execution_count": 42,
   "metadata": {},
   "outputs": [],
   "source": [
    "total=[]\n",
    "for i in collections:\n",
    "    total.append(collection_database[i])"
   ]
  },
  {
   "cell_type": "code",
   "execution_count": 43,
   "metadata": {},
   "outputs": [],
   "source": [
    "pandas.options.display.max_columns = 25"
   ]
  },
  {
   "cell_type": "code",
   "execution_count": 44,
   "metadata": {},
   "outputs": [],
   "source": [
    "df_collections = pandas.DataFrame([total],columns=collections)"
   ]
  },
  {
   "cell_type": "code",
   "execution_count": 45,
   "metadata": {},
   "outputs": [
    {
     "data": {
      "text/html": [
       "<div>\n",
       "<style scoped>\n",
       "    .dataframe tbody tr th:only-of-type {\n",
       "        vertical-align: middle;\n",
       "    }\n",
       "\n",
       "    .dataframe tbody tr th {\n",
       "        vertical-align: top;\n",
       "    }\n",
       "\n",
       "    .dataframe thead th {\n",
       "        text-align: right;\n",
       "    }\n",
       "</style>\n",
       "<table border=\"1\" class=\"dataframe\">\n",
       "  <thead>\n",
       "    <tr style=\"text-align: right;\">\n",
       "      <th></th>\n",
       "      <th>BWOH</th>\n",
       "      <th>BWSP</th>\n",
       "      <th>HM</th>\n",
       "      <th>OCFF</th>\n",
       "      <th>ONA</th>\n",
       "      <th>OOHYLC</th>\n",
       "      <th>OSS</th>\n",
       "      <th>OWDB</th>\n",
       "      <th>OWHF</th>\n",
       "      <th>ROHA</th>\n",
       "      <th>RTRB</th>\n",
       "      <th>SCAARJ</th>\n",
       "      <th>SCAL</th>\n",
       "      <th>SCAP</th>\n",
       "      <th>SCVF</th>\n",
       "      <th>SHSA</th>\n",
       "      <th>SHSF</th>\n",
       "      <th>SNAI</th>\n",
       "      <th>SOOH</th>\n",
       "      <th>UNCGAS</th>\n",
       "      <th>UNCSW</th>\n",
       "      <th>UNCTWMS</th>\n",
       "      <th>WOL</th>\n",
       "    </tr>\n",
       "  </thead>\n",
       "  <tbody>\n",
       "    <tr>\n",
       "      <th>0</th>\n",
       "      <td>70</td>\n",
       "      <td>162</td>\n",
       "      <td>991</td>\n",
       "      <td>48</td>\n",
       "      <td>51</td>\n",
       "      <td>67</td>\n",
       "      <td>166</td>\n",
       "      <td>45</td>\n",
       "      <td>37</td>\n",
       "      <td>86</td>\n",
       "      <td>137</td>\n",
       "      <td>14</td>\n",
       "      <td>15</td>\n",
       "      <td>192</td>\n",
       "      <td>51</td>\n",
       "      <td>30</td>\n",
       "      <td>49</td>\n",
       "      <td>9</td>\n",
       "      <td>182</td>\n",
       "      <td>25</td>\n",
       "      <td>76</td>\n",
       "      <td>150</td>\n",
       "      <td>46</td>\n",
       "    </tr>\n",
       "  </tbody>\n",
       "</table>\n",
       "</div>"
      ],
      "text/plain": [
       "   BWOH  BWSP   HM  OCFF  ONA  OOHYLC  OSS  OWDB  OWHF  ROHA  RTRB  SCAARJ  \\\n",
       "0    70   162  991    48   51      67  166    45    37    86   137      14   \n",
       "\n",
       "   SCAL  SCAP  SCVF  SHSA  SHSF  SNAI  SOOH  UNCGAS  UNCSW  UNCTWMS  WOL  \n",
       "0    15   192    51    30    49     9   182      25     76      150   46  "
      ]
     },
     "metadata": {},
     "output_type": "display_data"
    }
   ],
   "source": [
    "display(df_collections)"
   ]
  },
  {
   "cell_type": "code",
   "execution_count": 46,
   "metadata": {},
   "outputs": [],
   "source": [
    "myfile = open(\"data/everything_but_falsehits_and_needsreview.txt\")\n",
    "txt = myfile.read()\n",
    "myfile.close()\n",
    "\n",
    "files=[]\n",
    "tokens=txt.split()\n",
    "for i in tokens:\n",
    "    num= i.find(\"Files\\\\\\\\\")\n",
    "    if not num==-1:\n",
    "        if not i.find(\"_\")==-1:\n",
    "            files.append(i.strip())"
   ]
  },
  {
   "cell_type": "code",
   "execution_count": null,
   "metadata": {},
   "outputs": [],
   "source": []
  },
  {
   "cell_type": "code",
   "execution_count": null,
   "metadata": {},
   "outputs": [],
   "source": []
  },
  {
   "cell_type": "code",
   "execution_count": 47,
   "metadata": {},
   "outputs": [],
   "source": [
    "in_rape_cluster=defaultdict(lambda:0)\n",
    "found=set()"
   ]
  },
  {
   "cell_type": "code",
   "execution_count": 48,
   "metadata": {},
   "outputs": [],
   "source": [
    "for i in files:\n",
    "    if i in found:\n",
    "        continue\n",
    "    found.add(i)\n",
    "    in_rape_cluster[i[7:i.rfind(\"\\\\\\\\\")]]+=1"
   ]
  },
  {
   "cell_type": "code",
   "execution_count": 107,
   "metadata": {},
   "outputs": [],
   "source": [
    "totals=[]\n",
    "for i in collections:\n",
    "    totals.append(int(collection_database[i]))\n",
    "hits=[]\n",
    "for i in collections:\n",
    "    hits.append(in_rape_cluster[i])\n",
    "percentages_in_cluster=[]\n",
    "percentages_of_total=[]\n",
    "whole=sum(totals)\n",
    "percentage_of_hits=[]\n",
    "number_of_hits=sum(hits)\n",
    "for i in collections:\n",
    "    percentages_in_cluster.append(int(100*int(in_rape_cluster[i])/int(collection_database[i])))\n",
    "    percentages_of_total.append(int(collection_database[i])*100//whole)\n",
    "    percentage_of_hits.append(int(100*int(in_rape_cluster[i])/number_of_hits))"
   ]
  },
  {
   "cell_type": "code",
   "execution_count": 108,
   "metadata": {},
   "outputs": [],
   "source": [
    "df_collections = pandas.DataFrame([totals, percentages_of_total, hits, percentages_in_cluster, percentage_of_hits],columns=collections, index=[\"Number of Interviews\", \"Percentage of whole corpus\",  \"Number of Interviews containing rape terms\",\"Percentage of this collection with rape cluster terms\",\"Percent of Interviews including rape terms this collection represents\"])"
   ]
  },
  {
   "cell_type": "code",
   "execution_count": 109,
   "metadata": {},
   "outputs": [
    {
     "data": {
      "text/html": [
       "<div>\n",
       "<style scoped>\n",
       "    .dataframe tbody tr th:only-of-type {\n",
       "        vertical-align: middle;\n",
       "    }\n",
       "\n",
       "    .dataframe tbody tr th {\n",
       "        vertical-align: top;\n",
       "    }\n",
       "\n",
       "    .dataframe thead th {\n",
       "        text-align: right;\n",
       "    }\n",
       "</style>\n",
       "<table border=\"1\" class=\"dataframe\">\n",
       "  <thead>\n",
       "    <tr style=\"text-align: right;\">\n",
       "      <th></th>\n",
       "      <th>BWOH</th>\n",
       "      <th>BWSP</th>\n",
       "      <th>HM</th>\n",
       "      <th>OCFF</th>\n",
       "      <th>ONA</th>\n",
       "      <th>OOHYLC</th>\n",
       "      <th>OSS</th>\n",
       "      <th>OWDB</th>\n",
       "      <th>OWHF</th>\n",
       "      <th>ROHA</th>\n",
       "      <th>RTRB</th>\n",
       "      <th>SCAARJ</th>\n",
       "      <th>SCAL</th>\n",
       "      <th>SCAP</th>\n",
       "      <th>SCVF</th>\n",
       "      <th>SHSA</th>\n",
       "      <th>SHSF</th>\n",
       "      <th>SNAI</th>\n",
       "      <th>SOOH</th>\n",
       "      <th>UNCGAS</th>\n",
       "      <th>UNCSW</th>\n",
       "      <th>UNCTWMS</th>\n",
       "      <th>WOL</th>\n",
       "    </tr>\n",
       "  </thead>\n",
       "  <tbody>\n",
       "    <tr>\n",
       "      <th>Number of Interviews</th>\n",
       "      <td>70</td>\n",
       "      <td>162</td>\n",
       "      <td>991</td>\n",
       "      <td>48</td>\n",
       "      <td>51</td>\n",
       "      <td>67</td>\n",
       "      <td>166</td>\n",
       "      <td>45</td>\n",
       "      <td>37</td>\n",
       "      <td>86</td>\n",
       "      <td>137</td>\n",
       "      <td>14</td>\n",
       "      <td>15</td>\n",
       "      <td>192</td>\n",
       "      <td>51</td>\n",
       "      <td>30</td>\n",
       "      <td>49</td>\n",
       "      <td>9</td>\n",
       "      <td>182</td>\n",
       "      <td>25</td>\n",
       "      <td>76</td>\n",
       "      <td>150</td>\n",
       "      <td>46</td>\n",
       "    </tr>\n",
       "    <tr>\n",
       "      <th>Percentage of whole corpus</th>\n",
       "      <td>2</td>\n",
       "      <td>6</td>\n",
       "      <td>36</td>\n",
       "      <td>1</td>\n",
       "      <td>1</td>\n",
       "      <td>2</td>\n",
       "      <td>6</td>\n",
       "      <td>1</td>\n",
       "      <td>1</td>\n",
       "      <td>3</td>\n",
       "      <td>5</td>\n",
       "      <td>0</td>\n",
       "      <td>0</td>\n",
       "      <td>7</td>\n",
       "      <td>1</td>\n",
       "      <td>1</td>\n",
       "      <td>1</td>\n",
       "      <td>0</td>\n",
       "      <td>6</td>\n",
       "      <td>0</td>\n",
       "      <td>2</td>\n",
       "      <td>5</td>\n",
       "      <td>1</td>\n",
       "    </tr>\n",
       "    <tr>\n",
       "      <th>Number of Interviews containing rape terms</th>\n",
       "      <td>23</td>\n",
       "      <td>23</td>\n",
       "      <td>218</td>\n",
       "      <td>0</td>\n",
       "      <td>0</td>\n",
       "      <td>1</td>\n",
       "      <td>2</td>\n",
       "      <td>0</td>\n",
       "      <td>4</td>\n",
       "      <td>12</td>\n",
       "      <td>24</td>\n",
       "      <td>6</td>\n",
       "      <td>7</td>\n",
       "      <td>10</td>\n",
       "      <td>36</td>\n",
       "      <td>3</td>\n",
       "      <td>11</td>\n",
       "      <td>0</td>\n",
       "      <td>3</td>\n",
       "      <td>7</td>\n",
       "      <td>15</td>\n",
       "      <td>64</td>\n",
       "      <td>11</td>\n",
       "    </tr>\n",
       "    <tr>\n",
       "      <th>Percentage of this collection with rape cluster terms</th>\n",
       "      <td>32</td>\n",
       "      <td>14</td>\n",
       "      <td>21</td>\n",
       "      <td>0</td>\n",
       "      <td>0</td>\n",
       "      <td>1</td>\n",
       "      <td>1</td>\n",
       "      <td>0</td>\n",
       "      <td>10</td>\n",
       "      <td>13</td>\n",
       "      <td>17</td>\n",
       "      <td>42</td>\n",
       "      <td>46</td>\n",
       "      <td>5</td>\n",
       "      <td>70</td>\n",
       "      <td>10</td>\n",
       "      <td>22</td>\n",
       "      <td>0</td>\n",
       "      <td>1</td>\n",
       "      <td>28</td>\n",
       "      <td>19</td>\n",
       "      <td>42</td>\n",
       "      <td>23</td>\n",
       "    </tr>\n",
       "    <tr>\n",
       "      <th>Percent of Interviews including rape terms this collection represents</th>\n",
       "      <td>4</td>\n",
       "      <td>4</td>\n",
       "      <td>45</td>\n",
       "      <td>0</td>\n",
       "      <td>0</td>\n",
       "      <td>0</td>\n",
       "      <td>0</td>\n",
       "      <td>0</td>\n",
       "      <td>0</td>\n",
       "      <td>2</td>\n",
       "      <td>5</td>\n",
       "      <td>1</td>\n",
       "      <td>1</td>\n",
       "      <td>2</td>\n",
       "      <td>7</td>\n",
       "      <td>0</td>\n",
       "      <td>2</td>\n",
       "      <td>0</td>\n",
       "      <td>0</td>\n",
       "      <td>1</td>\n",
       "      <td>3</td>\n",
       "      <td>13</td>\n",
       "      <td>2</td>\n",
       "    </tr>\n",
       "  </tbody>\n",
       "</table>\n",
       "</div>"
      ],
      "text/plain": [
       "                                                    BWOH  BWSP   HM  OCFF  \\\n",
       "Number of Interviews                                  70   162  991    48   \n",
       "Percentage of whole corpus                             2     6   36     1   \n",
       "Number of Interviews containing rape terms            23    23  218     0   \n",
       "Percentage of this collection with rape cluster...    32    14   21     0   \n",
       "Percent of Interviews including rape terms this...     4     4   45     0   \n",
       "\n",
       "                                                    ONA  OOHYLC  OSS  OWDB  \\\n",
       "Number of Interviews                                 51      67  166    45   \n",
       "Percentage of whole corpus                            1       2    6     1   \n",
       "Number of Interviews containing rape terms            0       1    2     0   \n",
       "Percentage of this collection with rape cluster...    0       1    1     0   \n",
       "Percent of Interviews including rape terms this...    0       0    0     0   \n",
       "\n",
       "                                                    OWHF  ROHA  RTRB  SCAARJ  \\\n",
       "Number of Interviews                                  37    86   137      14   \n",
       "Percentage of whole corpus                             1     3     5       0   \n",
       "Number of Interviews containing rape terms             4    12    24       6   \n",
       "Percentage of this collection with rape cluster...    10    13    17      42   \n",
       "Percent of Interviews including rape terms this...     0     2     5       1   \n",
       "\n",
       "                                                    SCAL  SCAP  SCVF  SHSA  \\\n",
       "Number of Interviews                                  15   192    51    30   \n",
       "Percentage of whole corpus                             0     7     1     1   \n",
       "Number of Interviews containing rape terms             7    10    36     3   \n",
       "Percentage of this collection with rape cluster...    46     5    70    10   \n",
       "Percent of Interviews including rape terms this...     1     2     7     0   \n",
       "\n",
       "                                                    SHSF  SNAI  SOOH  UNCGAS  \\\n",
       "Number of Interviews                                  49     9   182      25   \n",
       "Percentage of whole corpus                             1     0     6       0   \n",
       "Number of Interviews containing rape terms            11     0     3       7   \n",
       "Percentage of this collection with rape cluster...    22     0     1      28   \n",
       "Percent of Interviews including rape terms this...     2     0     0       1   \n",
       "\n",
       "                                                    UNCSW  UNCTWMS  WOL  \n",
       "Number of Interviews                                   76      150   46  \n",
       "Percentage of whole corpus                              2        5    1  \n",
       "Number of Interviews containing rape terms             15       64   11  \n",
       "Percentage of this collection with rape cluster...     19       42   23  \n",
       "Percent of Interviews including rape terms this...      3       13    2  "
      ]
     },
     "metadata": {},
     "output_type": "display_data"
    }
   ],
   "source": [
    "display(df_collections)"
   ]
  },
  {
   "cell_type": "code",
   "execution_count": 110,
   "metadata": {},
   "outputs": [
    {
     "name": "stdout",
     "output_type": "stream",
     "text": [
      "23\n"
     ]
    }
   ],
   "source": [
    "print(len(collections))"
   ]
  },
  {
   "cell_type": "code",
   "execution_count": 111,
   "metadata": {},
   "outputs": [
    {
     "data": {
      "text/plain": [
       "[None,\n",
       " None,\n",
       " None,\n",
       " None,\n",
       " None,\n",
       " None,\n",
       " None,\n",
       " None,\n",
       " None,\n",
       " None,\n",
       " None,\n",
       " None,\n",
       " None,\n",
       " None,\n",
       " None,\n",
       " None,\n",
       " None,\n",
       " None,\n",
       " None,\n",
       " None,\n",
       " None,\n",
       " None,\n",
       " None,\n",
       " None,\n",
       " None,\n",
       " None,\n",
       " None,\n",
       " None,\n",
       " None,\n",
       " None,\n",
       " None,\n",
       " None,\n",
       " None,\n",
       " None,\n",
       " None,\n",
       " None,\n",
       " None,\n",
       " None,\n",
       " None,\n",
       " None,\n",
       " None,\n",
       " None,\n",
       " None,\n",
       " None,\n",
       " None,\n",
       " None]"
      ]
     },
     "execution_count": 111,
     "metadata": {},
     "output_type": "execute_result"
    },
    {
     "data": {
      "image/png": "[encoded data removed]",
      "text/plain": [
       "<Figure size 640x480 with 1 Axes>"
      ]
     },
     "metadata": {},
     "output_type": "display_data"
    }
   ],
   "source": [
    "N = 23\n",
    "\n",
    "ind = np.arange(N) \n",
    "\n",
    "# some example data\n",
    "    \n",
    "    \n",
    "values = np.array(hits)\n",
    "totals=np.array(totals)\n",
    "\n",
    "\n",
    "x = range(len(values))\n",
    "\n",
    "\n",
    "# and plot it\n",
    "fig, ax = pyplot.subplots()\n",
    "hm=ax.bar(ind, totals, 0.35, color=\"y\")\n",
    "total=ax.bar(ind+.35, values, .35, color=\"b\")\n",
    "ax.set_xticks(ind)\n",
    "ax.set_xticklabels(collections)\n",
    "ax.set_title('Total Interviews and Interviews in Rape Cluster by Collection')\n",
    "ax.set_ylabel('Number of Interviews')\n",
    "pyplot.setp(ax.get_xticklabels(), rotation=60, horizontalalignment='right')"
   ]
  },
  {
   "cell_type": "code",
   "execution_count": 112,
   "metadata": {},
   "outputs": [
    {
     "data": {
      "image/png": "[encoded data removed]",
      "text/plain": [
       "<Figure size 640x480 with 1 Axes>"
      ]
     },
     "metadata": {},
     "output_type": "display_data"
    }
   ],
   "source": [
    "paired=[[collections[i],totals[i]] for i in range(len(collections))]\n",
    "paired.sort(key=lambda x: x[1])\n",
    "resorted_coll=[x[0] for x in paired]\n",
    "resorted_totals=[x[1] for x in paired]\n",
    "\n",
    "pyplot.rcdefaults()\n",
    "fig, ax = pyplot.subplots()\n",
    "\n",
    "# Example data\n",
    "y_pos = np.arange(len(collections))\n",
    "\n",
    "ax.barh(y_pos, resorted_totals, align='center')\n",
    "ax.set_yticks(y_pos)\n",
    "ax.set_yticklabels(resorted_coll)\n",
    "ax.invert_yaxis()  # labels read top-to-bottom\n",
    "ax.set_xlabel('Number of Interviews')\n",
    "ax.set_title('Size of Collections')\n",
    "\n",
    "pyplot.show()"
   ]
  },
  {
   "cell_type": "code",
   "execution_count": 115,
   "metadata": {},
   "outputs": [
    {
     "data": {
      "image/png": "[encoded data removed]",
      "text/plain": [
       "<Figure size 640x480 with 1 Axes>"
      ]
     },
     "metadata": {},
     "output_type": "display_data"
    }
   ],
   "source": [
    "paired=[[collections[i],hits[i]] for i in range(len(collections))]\n",
    "paired.sort(key=lambda x: x[1])\n",
    "resorted_coll=[x[0] for x in paired]\n",
    "resorted_totals=[x[1] for x in paired]\n",
    "\n",
    "pyplot.rcdefaults()\n",
    "fig, ax = pyplot.subplots()\n",
    "\n",
    "# Example data\n",
    "y_pos = np.arange(len(collections))\n",
    "\n",
    "ax.barh(y_pos, resorted_totals, align='center')\n",
    "ax.set_yticks(y_pos)\n",
    "ax.set_yticklabels(resorted_coll)\n",
    "ax.invert_yaxis()  # labels read top-to-bottom\n",
    "ax.set_xlabel('Number of Interviews')\n",
    "ax.set_title('Number of Interviews containing Rape Terms in Each Collection')\n",
    "\n",
    "pyplot.show()"
   ]
  },
  {
   "cell_type": "code",
   "execution_count": 114,
   "metadata": {},
   "outputs": [
    {
     "data": {
      "image/png": "[encoded data removed]",
      "text/plain": [
       "<Figure size 640x480 with 1 Axes>"
      ]
     },
     "metadata": {},
     "output_type": "display_data"
    }
   ],
   "source": [
    "\n",
    "# Pie chart, where the slices will be ordered and plotted counter-clockwise:\n",
    "labels = collections\n",
    "sizes = totals\n",
    "fig1, ax1 = pyplot.subplots()\n",
    "ax1.pie(sizes, labels=labels, startangle=90)\n",
    "ax1.axis('equal')  # Equal aspect ratio ensures that pie is drawn as a circle.\n",
    "\n",
    "pyplot.show()"
   ]
  },
  {
   "cell_type": "code",
   "execution_count": 56,
   "metadata": {},
   "outputs": [
    {
     "data": {
      "image/png": "[encoded data removed]",
      "text/plain": [
       "<Figure size 640x480 with 1 Axes>"
      ]
     },
     "metadata": {},
     "output_type": "display_data"
    }
   ],
   "source": [
    "labels = collections\n",
    "sizes = hits\n",
    "fig1, ax1 = pyplot.subplots()\n",
    "ax1.pie(sizes, labels=labels, startangle=90)\n",
    "ax1.axis('equal')  # Equal aspect ratio ensures that pie is drawn as a circle.\n",
    "\n",
    "pyplot.show()"
   ]
  },
  {
   "cell_type": "code",
   "execution_count": null,
   "metadata": {},
   "outputs": [],
   "source": []
  },
  {
   "cell_type": "code",
   "execution_count": 57,
   "metadata": {},
   "outputs": [],
   "source": [
    "new_collections_grouping=defaultdict(lambda:[])\n",
    "new_collections_grouping[\"Stanford\"]=[\"SHSA\",\"SHSF\",\"SNAI\"]\n",
    "new_collections_grouping[\"BWOH\"]=[\"BWOH\"]\n",
    "new_collections_grouping[\"BWSP\"]=[\"BWSP\"]\n",
    "new_collections_grouping[\"HM\"]=[\"HM\"]\n",
    "new_collections_grouping[\"Rutgers\"]=[\"ROHA\"]\n",
    "new_collections_grouping[\"Smith\"]=[\"SCAP\",\"SCAARJ\",\"SCAL\", \"SCVF\"]\n",
    "new_collections_grouping[\"Rosie\"]=[\"RTRB\"]\n",
    "new_collections_grouping[\"UNC\"]=[\"UNCSW\",\"UNCGAS\",\"UNCTWMS\"]\n",
    "new_collections_grouping[\"OK\"]=[\"OCFF\",\"OOHYLC\",\"OWHF\",\"WOL\",\"OWDB\",\"SOOH\",\"OSS\",\"ONA\"]\n",
    "groupings_list=[\"Stanford\", \"BWOH\",\"Rutgers\",\"Smith\",\"Rosie\",\"UNC\",\"OK\",\"BWSP\",\"HM\"]\n",
    "groupings_list.sort()"
   ]
  },
  {
   "cell_type": "code",
   "execution_count": 58,
   "metadata": {},
   "outputs": [],
   "source": [
    "totals=[]\n",
    "for i in groupings_list:\n",
    "    total_num=0\n",
    "    for j in new_collections_grouping[i]:\n",
    "        total_num+=collection_database[j]\n",
    "    totals.append(total_num)\n",
    "hits=[]\n",
    "for i in groupings_list:\n",
    "    total_num=0\n",
    "    for j in new_collections_grouping[i]:\n",
    "        total_num+=in_rape_cluster[j]\n",
    "    hits.append(total_num)\n",
    "percentages_in_cluster_grouped=[]\n",
    "percentages_of_total_grouped=[]\n",
    "whole=sum(totals)\n",
    "percentage_of_hits_grouped=[]\n",
    "\n",
    "for i in range(len(groupings_list)):\n",
    "    percentages_in_cluster_grouped.append(int(100*int(hits[i])/int(totals[i])))\n",
    "    percentages_of_total_grouped.append(int(totals[i])*100//whole)\n",
    "    percentage_of_hits_grouped.append(int(100*int(hits[i])/number_of_hits))"
   ]
  },
  {
   "cell_type": "code",
   "execution_count": 59,
   "metadata": {},
   "outputs": [
    {
     "name": "stdout",
     "output_type": "stream",
     "text": [
      "['BWOH', 'BWSP', 'HM', 'OK', 'Rosie', 'Rutgers', 'Smith', 'Stanford', 'UNC']\n",
      "[70, 162, 991, 642, 137, 86, 272, 88, 251]\n",
      "[23, 23, 218, 21, 24, 12, 59, 14, 86]\n",
      "[32, 14, 21, 3, 17, 13, 21, 15, 34]\n",
      "[2, 6, 36, 23, 5, 3, 10, 3, 9]\n",
      "[4, 4, 45, 4, 5, 2, 12, 2, 17]\n"
     ]
    }
   ],
   "source": [
    "print(groupings_list)\n",
    "print(totals)\n",
    "print(hits)\n",
    "print(percentages_in_cluster_grouped)\n",
    "print(percentages_of_total_grouped)\n",
    "print(percentage_of_hits_grouped)"
   ]
  },
  {
   "cell_type": "code",
   "execution_count": 60,
   "metadata": {},
   "outputs": [],
   "source": [
    "df_collections = pandas.DataFrame([totals, percentages_of_total_grouped, hits, percentages_in_cluster_grouped, percentage_of_hits_grouped],columns=groupings_list, index=[\"Number of Interviews\", \"Percentage of whole corpus\", \"Number of Interviews containing rape terms\", \"Percentage of this collection containing rape terms\",\"Percent of Interviews including rape terms this collection represents\"])"
   ]
  },
  {
   "cell_type": "code",
   "execution_count": 61,
   "metadata": {},
   "outputs": [
    {
     "data": {
      "text/html": [
       "<div>\n",
       "<style scoped>\n",
       "    .dataframe tbody tr th:only-of-type {\n",
       "        vertical-align: middle;\n",
       "    }\n",
       "\n",
       "    .dataframe tbody tr th {\n",
       "        vertical-align: top;\n",
       "    }\n",
       "\n",
       "    .dataframe thead th {\n",
       "        text-align: right;\n",
       "    }\n",
       "</style>\n",
       "<table border=\"1\" class=\"dataframe\">\n",
       "  <thead>\n",
       "    <tr style=\"text-align: right;\">\n",
       "      <th></th>\n",
       "      <th>BWOH</th>\n",
       "      <th>BWSP</th>\n",
       "      <th>HM</th>\n",
       "      <th>OK</th>\n",
       "      <th>Rosie</th>\n",
       "      <th>Rutgers</th>\n",
       "      <th>Smith</th>\n",
       "      <th>Stanford</th>\n",
       "      <th>UNC</th>\n",
       "    </tr>\n",
       "  </thead>\n",
       "  <tbody>\n",
       "    <tr>\n",
       "      <th>Number of Interviews</th>\n",
       "      <td>70</td>\n",
       "      <td>162</td>\n",
       "      <td>991</td>\n",
       "      <td>642</td>\n",
       "      <td>137</td>\n",
       "      <td>86</td>\n",
       "      <td>272</td>\n",
       "      <td>88</td>\n",
       "      <td>251</td>\n",
       "    </tr>\n",
       "    <tr>\n",
       "      <th>Percentage of whole corpus</th>\n",
       "      <td>2</td>\n",
       "      <td>6</td>\n",
       "      <td>36</td>\n",
       "      <td>23</td>\n",
       "      <td>5</td>\n",
       "      <td>3</td>\n",
       "      <td>10</td>\n",
       "      <td>3</td>\n",
       "      <td>9</td>\n",
       "    </tr>\n",
       "    <tr>\n",
       "      <th>Number of Interviews containing rape terms</th>\n",
       "      <td>23</td>\n",
       "      <td>23</td>\n",
       "      <td>218</td>\n",
       "      <td>21</td>\n",
       "      <td>24</td>\n",
       "      <td>12</td>\n",
       "      <td>59</td>\n",
       "      <td>14</td>\n",
       "      <td>86</td>\n",
       "    </tr>\n",
       "    <tr>\n",
       "      <th>Percentage of this collection containing rape terms</th>\n",
       "      <td>32</td>\n",
       "      <td>14</td>\n",
       "      <td>21</td>\n",
       "      <td>3</td>\n",
       "      <td>17</td>\n",
       "      <td>13</td>\n",
       "      <td>21</td>\n",
       "      <td>15</td>\n",
       "      <td>34</td>\n",
       "    </tr>\n",
       "    <tr>\n",
       "      <th>Percent of Interviews including rape terms this collection represents</th>\n",
       "      <td>4</td>\n",
       "      <td>4</td>\n",
       "      <td>45</td>\n",
       "      <td>4</td>\n",
       "      <td>5</td>\n",
       "      <td>2</td>\n",
       "      <td>12</td>\n",
       "      <td>2</td>\n",
       "      <td>17</td>\n",
       "    </tr>\n",
       "  </tbody>\n",
       "</table>\n",
       "</div>"
      ],
      "text/plain": [
       "                                                    BWOH  BWSP   HM   OK  \\\n",
       "Number of Interviews                                  70   162  991  642   \n",
       "Percentage of whole corpus                             2     6   36   23   \n",
       "Number of Interviews containing rape terms            23    23  218   21   \n",
       "Percentage of this collection containing rape t...    32    14   21    3   \n",
       "Percent of Interviews including rape terms this...     4     4   45    4   \n",
       "\n",
       "                                                    Rosie  Rutgers  Smith  \\\n",
       "Number of Interviews                                  137       86    272   \n",
       "Percentage of whole corpus                              5        3     10   \n",
       "Number of Interviews containing rape terms             24       12     59   \n",
       "Percentage of this collection containing rape t...     17       13     21   \n",
       "Percent of Interviews including rape terms this...      5        2     12   \n",
       "\n",
       "                                                    Stanford  UNC  \n",
       "Number of Interviews                                      88  251  \n",
       "Percentage of whole corpus                                 3    9  \n",
       "Number of Interviews containing rape terms                14   86  \n",
       "Percentage of this collection containing rape t...        15   34  \n",
       "Percent of Interviews including rape terms this...         2   17  "
      ]
     },
     "metadata": {},
     "output_type": "display_data"
    }
   ],
   "source": [
    "display(df_collections)"
   ]
  },
  {
   "cell_type": "code",
   "execution_count": 62,
   "metadata": {},
   "outputs": [
    {
     "data": {
      "text/plain": [
       "[None,\n",
       " None,\n",
       " None,\n",
       " None,\n",
       " None,\n",
       " None,\n",
       " None,\n",
       " None,\n",
       " None,\n",
       " None,\n",
       " None,\n",
       " None,\n",
       " None,\n",
       " None,\n",
       " None,\n",
       " None,\n",
       " None,\n",
       " None]"
      ]
     },
     "execution_count": 62,
     "metadata": {},
     "output_type": "execute_result"
    },
    {
     "data": {
      "image/png": "[encoded data removed]",
      "text/plain": [
       "<Figure size 640x480 with 1 Axes>"
      ]
     },
     "metadata": {},
     "output_type": "display_data"
    }
   ],
   "source": [
    "N = 9\n",
    "\n",
    "ind = np.arange(N) \n",
    "\n",
    "# some example data\n",
    "    \n",
    "    \n",
    "values = np.array(hits)\n",
    "totals=np.array(totals)\n",
    "\n",
    "\n",
    "x = range(len(values))\n",
    "\n",
    "\n",
    "# and plot it\n",
    "fig, ax = pyplot.subplots()\n",
    "hm=ax.bar(ind, totals, 0.35, color=\"y\")\n",
    "total=ax.bar(ind+.35, values, .35, color=\"b\")\n",
    "ax.set_xticks(ind)\n",
    "ax.set_xticklabels(groupings_list)\n",
    "ax.set_title('Total Interviews and Interviews in Rape Cluster by Collection Category')\n",
    "ax.set_ylabel('Number of Interviews')\n",
    "pyplot.setp(ax.get_xticklabels(), rotation=60, horizontalalignment='right')"
   ]
  },
  {
   "cell_type": "code",
   "execution_count": 105,
   "metadata": {},
   "outputs": [
    {
     "data": {
      "image/png": "[encoded data removed]",
      "text/plain": [
       "<Figure size 640x480 with 1 Axes>"
      ]
     },
     "metadata": {},
     "output_type": "display_data"
    }
   ],
   "source": [
    "paired=[[groupings_list[i],totals[i]] for i in range(len(groupings_list))]\n",
    "paired.sort(key=lambda x: x[1])\n",
    "resorted_coll=[x[0] for x in paired]\n",
    "resorted_totals=[x[1] for x in paired]\n",
    "\n",
    "pyplot.rcdefaults()\n",
    "fig, ax = pyplot.subplots()\n",
    "\n",
    "# Example data\n",
    "y_pos = np.arange(len(groupings_list))\n",
    "\n",
    "ax.barh(y_pos, resorted_totals, align='center')\n",
    "ax.set_yticks(y_pos)\n",
    "ax.set_yticklabels(resorted_coll)\n",
    "ax.invert_yaxis()  # labels read top-to-bottom\n",
    "ax.set_xlabel('Number of Interviews')\n",
    "ax.set_title('Number of Interviews containing Rape Terms in a Collections')\n",
    "\n",
    "pyplot.show()"
   ]
  },
  {
   "cell_type": "code",
   "execution_count": 104,
   "metadata": {},
   "outputs": [
    {
     "data": {
      "image/png": "[encoded data removed]",
      "text/plain": [
       "<Figure size 640x480 with 1 Axes>"
      ]
     },
     "metadata": {},
     "output_type": "display_data"
    }
   ],
   "source": [
    "paired=[[groupings_list[i],hits[i]] for i in range(len(groupings_list))]\n",
    "paired.sort(key=lambda x: x[1])\n",
    "resorted_coll=[x[0] for x in paired]\n",
    "resorted_totals=[x[1] for x in paired]\n",
    "\n",
    "pyplot.rcdefaults()\n",
    "fig, ax = pyplot.subplots()\n",
    "\n",
    "# Example data\n",
    "y_pos = np.arange(len(groupings_list))\n",
    "\n",
    "ax.barh(y_pos, resorted_totals, align='center')\n",
    "ax.set_yticks(y_pos)\n",
    "ax.set_yticklabels(resorted_coll)\n",
    "ax.invert_yaxis()  # labels read top-to-bottom\n",
    "ax.set_xlabel('Number of Interviews')\n",
    "ax.set_title('Size of Collections')\n",
    "\n",
    "pyplot.show()"
   ]
  },
  {
   "cell_type": "code",
   "execution_count": 64,
   "metadata": {},
   "outputs": [
    {
     "data": {
      "image/png": "[encoded data removed]",
      "text/plain": [
       "<Figure size 640x480 with 1 Axes>"
      ]
     },
     "metadata": {},
     "output_type": "display_data"
    }
   ],
   "source": [
    "\n",
    "# Pie chart, where the slices will be ordered and plotted counter-clockwise:\n",
    "labels = groupings_list\n",
    "sizes = totals\n",
    "fig1, ax1 = pyplot.subplots()\n",
    "ax1.pie(sizes, labels=labels, startangle=90)\n",
    "ax1.axis('equal')  # Equal aspect ratio ensures that pie is drawn as a circle.\n",
    "\n",
    "pyplot.show()"
   ]
  },
  {
   "cell_type": "markdown",
   "metadata": {},
   "source": [
    "Total Interviews by Collection Category"
   ]
  },
  {
   "cell_type": "code",
   "execution_count": 65,
   "metadata": {},
   "outputs": [
    {
     "data": {
      "image/png": "[encoded data removed]",
      "text/plain": [
       "<Figure size 640x480 with 1 Axes>"
      ]
     },
     "metadata": {},
     "output_type": "display_data"
    }
   ],
   "source": [
    "labels = groupings_list\n",
    "sizes = hits\n",
    "fig1, ax1 = pyplot.subplots()\n",
    "ax1.pie(sizes, labels=labels, startangle=90)\n",
    "ax1.axis('equal')  # Equal aspect ratio ensures that pie is drawn as a circle.\n",
    "\n",
    "pyplot.show()"
   ]
  },
  {
   "cell_type": "markdown",
   "metadata": {},
   "source": [
    "Interviews in Rape Cluster by Collection Category"
   ]
  },
  {
   "cell_type": "code",
   "execution_count": 102,
   "metadata": {},
   "outputs": [
    {
     "name": "stdout",
     "output_type": "stream",
     "text": [
      "480\n",
      "2645\n",
      "done with first half\n",
      "made the ordered lists\n",
      "2635\n"
     ]
    }
   ],
   "source": [
    "files_formatted=set()\n",
    "#print(text_to_ids)\n",
    "for i in files:\n",
    "    files_formatted.add(i[i.rfind(\"\\\\\\\\\")+2:])\n",
    "print(len(files_formatted))\n",
    "year_to_number_of_interviews=defaultdict(lambda:0)\n",
    "year_to_number_of_interviews_CRT=defaultdict(lambda:0)\n",
    "print(len(text_to_ids))\n",
    "for i in text_to_ids:\n",
    "    year_to_number_of_interviews[text_to_ids[i][\"interview year\"]]+=1\n",
    "for i in files_formatted:\n",
    "    year_to_number_of_interviews_CRT[text_to_ids[i[:i.rfind(\".\")]][\"interview year\"]]+=1\n",
    "#print (year_to_number_of_interviews)\n",
    "#print(year_to_number_of_interviews_CRT)\n",
    "\n",
    "print(\"done with first half\")\n",
    "\n",
    "years=[]\n",
    "for i in range(1972, 2019, 1):\n",
    "    years.append(str(i))\n",
    "total=[]\n",
    "hits_formatted=[]\n",
    "for i in years:\n",
    "    total.append(year_to_number_of_interviews[i])\n",
    "    hits_formatted.append(year_to_number_of_interviews_CRT[i])\n",
    "print(\"made the ordered lists\")\n",
    "percentage_withNI=[]\n",
    "totalnum=sum(total)\n",
    "print(totalnum)\n",
    "for i in range(len(years)):\n",
    "    if total[i]==0:\n",
    "        percentage_withNI.append(0)\n",
    "    else:    \n",
    "        percentage_withNI.append(int(hits_formatted[i]/total[i]*100))\n"
   ]
  },
  {
   "cell_type": "code",
   "execution_count": 103,
   "metadata": {},
   "outputs": [
    {
     "data": {
      "image/png": "[encoded data removed]",
      "text/plain": [
       "<Figure size 640x480 with 1 Axes>"
      ]
     },
     "metadata": {},
     "output_type": "display_data"
    }
   ],
   "source": [
    "Year = range(47)\n",
    "percentages = percentage_withNI\n",
    "if len(percentages)>=48: #number of categories (yes it's janky but it doesn't come up anywhere else right now so I'm leaving it)\n",
    "    percentages.pop()\n",
    "pyplot.plot(Year, percentages)\n",
    "pyplot.title('Percentage of Interviews in Interview Year containing Rape Terms')\n",
    "pyplot.xlabel('Year')\n",
    "pyplot.ylabel('Percentage')\n",
    "pyplot.xticks(rotation = 45)\n",
    "positions = (0, 9, 19, 29, 39, 47)\n",
    "labels = (1972, 1980, 1990, 2000, 2010, 2019)\n",
    "pyplot.xticks(positions, labels)\n",
    "pyplot.show()"
   ]
  },
  {
   "cell_type": "code",
   "execution_count": null,
   "metadata": {},
   "outputs": [],
   "source": []
  },
  {
   "cell_type": "code",
   "execution_count": null,
   "metadata": {},
   "outputs": [],
   "source": []
  }
 ],
 "metadata": {
  "kernelspec": {
   "display_name": "Python 3",
   "language": "python",
   "name": "python3"
  },
  "language_info": {
   "codemirror_mode": {
    "name": "ipython",
    "version": 3
   },
   "file_extension": ".py",
   "mimetype": "text/x-python",
   "name": "python",
   "nbconvert_exporter": "python",
   "pygments_lexer": "ipython3",
   "version": "3.8.5"
  }
 },
 "nbformat": 4,
 "nbformat_minor": 2
}
