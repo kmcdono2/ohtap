{
 "cells": [
  {
   "cell_type": "code",
   "execution_count": 1,
   "metadata": {},
   "outputs": [],
   "source": [
    "import csv\n",
    "import numpy as np\n",
    "from collections import defaultdict\n",
    "from matplotlib import pyplot\n",
    "import pandas\n",
    "import matplotlib"
   ]
  },
  {
   "cell_type": "code",
   "execution_count": 2,
   "metadata": {},
   "outputs": [],
   "source": [
    "BLANKS=[\"\",\"RBNF1\", \"RBNF2\", \"RBNF\", \"0\", \"RBNF 1\", \"RBNF 2\"]\n",
    "TOTAL=2734\n",
    "TOTAL_INTER= 2645"
   ]
  },
  {
   "cell_type": "code",
   "execution_count": 3,
   "metadata": {},
   "outputs": [],
   "source": [
    "def loadCsvData(fileName):\n",
    "\tmatrix = []\n",
    "\t# open a file\n",
    "\twith open(fileName) as f:\n",
    "\t\treader = csv.reader(f)\n",
    "        # loop over each row in the file\n",
    "\t\tfor row in reader:\n",
    "\n",
    "\t\t\t# cast each value to a float\n",
    "\t\t\tdoubleRow = []\n",
    "\t\t\tfor value in row:\n",
    "\t\t\t\tdoubleRow.append(value.strip())\n",
    "\n",
    "\t\t\t# store the row into our matrix\n",
    "\t\t\tmatrix.append(doubleRow)\n",
    "\treturn matrix"
   ]
  },
  {
   "cell_type": "code",
   "execution_count": 4,
   "metadata": {},
   "outputs": [],
   "source": [
    "data= loadCsvData(\"data/metadata.csv\")"
   ]
  },
  {
   "cell_type": "code",
   "execution_count": 5,
   "metadata": {},
   "outputs": [],
   "source": [
    "data=pandas.DataFrame(data[1:], columns=data[0])"
   ]
  },
  {
   "cell_type": "code",
   "execution_count": 6,
   "metadata": {},
   "outputs": [],
   "source": [
    "interviewtxt =loadCsvData(\"data/interview text file to ids.csv\")"
   ]
  },
  {
   "cell_type": "code",
   "execution_count": 7,
   "metadata": {},
   "outputs": [],
   "source": [
    "interviewtxt=pandas.DataFrame(interviewtxt[1:], columns=interviewtxt[0])"
   ]
  },
  {
   "cell_type": "code",
   "execution_count": 8,
   "metadata": {},
   "outputs": [],
   "source": [
    "ids_to_years=defaultdict(lambda: defaultdict(lambda:\"0\"))\n",
    "for i in range(len(interviewtxt)):\n",
    "    date=interviewtxt[\"date_of_first_interview\"][i]\n",
    "    year=date[date.rfind('/')+1:]\n",
    "    ids=interviewtxt[\"interviewee_ids\"][i].split(';')\n",
    "    no_transcript=interviewtxt[\"no_transcript\"][i]\n",
    "    for num in ids:\n",
    "        ids_to_years[num][\"year\"]= str(year)\n",
    "        if no_transcript==\"TRUE\" and ids_to_years[num][\"included\"]==\"0\":\n",
    "            ids_to_years[num][\"included\"]=False\n",
    "        else:\n",
    "            ids_to_years[num][\"included\"]=True"
   ]
  },
  {
   "cell_type": "code",
   "execution_count": 9,
   "metadata": {},
   "outputs": [],
   "source": [
    "database=defaultdict(lambda: defaultdict(lambda:0))\n",
    "for i in range(len(data)):\n",
    "    if ids_to_years[data.loc[i, \"interviewee_id\"]][\"included\"]==False:\n",
    "        continue\n",
    "    for atr in data.columns:\n",
    "        if atr== \"researcher_assumed_birth_decade\":\n",
    "            continue\n",
    "        if atr== \"researcher_assumed_race\":\n",
    "            continue\n",
    "        value= data[atr][i]\n",
    "        if value in BLANKS and atr==\"\\ufeffbirth_decade\":\n",
    "            value= data.loc[i, \"researcher_assumed_birth_decade\"]\n",
    "        if value in BLANKS and atr==\"identified_race\":\n",
    "            value= data.loc[i, \"researcher_assumed_race\"]\n",
    "        if value in BLANKS and atr == \"real_interviewee_birth_year\":\n",
    "            value= data.loc[i, \"approximate_interviewee_birth_year\"]\n",
    "        database[data.loc[i, \"interviewee_id\"]][atr]=value\n",
    "    database[data.loc[i, \"interviewee_id\"]][\"interview_year\"]=ids_to_years[data.loc[i, \"interviewee_id\"]][\"year\"]"
   ]
  },
  {
   "cell_type": "code",
   "execution_count": 10,
   "metadata": {},
   "outputs": [],
   "source": [
    "text_to_ids=defaultdict(lambda: defaultdict(lambda:\"0\"))\n",
    "for i in range(len(interviewtxt)):\n",
    "    if interviewtxt[\"no_transcript\"][i]==\"TRUE\":\n",
    "        continue\n",
    "    name=interviewtxt.at[i, interviewtxt.columns[0]]\n",
    "    name=name[:name.rfind('.')]\n",
    "    name=name.replace('\\'','_')\n",
    "    people=interviewtxt[\"interviewee_ids\"][i].split(';')\n",
    "    women=False\n",
    "    for j in people:\n",
    "        if database[j][\"sex\"]==\"Female\":\n",
    "            women=True\n",
    "            break\n",
    "    if not women:\n",
    "        continue\n",
    "    text_to_ids[name][\"id\"]=people\n",
    "    date=interviewtxt[\"date_of_first_interview\"][i]\n",
    "    text_to_ids[name][\"interview year\"]= date[date.rfind(\"/\")+1:]"
   ]
  },
  {
   "cell_type": "code",
   "execution_count": 11,
   "metadata": {},
   "outputs": [],
   "source": [
    "dataformatted=defaultdict(lambda: defaultdict(lambda:0))\n",
    "for i in database : \n",
    "    if database[i][\"sex\"]==\"Male\":\n",
    "        continue\n",
    "    for atr in database[i]:\n",
    "        value= database[i][atr]\n",
    "        if value not in BLANKS:\n",
    "            dataformatted[atr][value]+=1\n",
    "for cat in dataformatted:\n",
    "    total=0\n",
    "    for x in dataformatted[cat]:\n",
    "        total+= dataformatted[cat][x]\n",
    "    dataformatted[cat][\"No Info\"]= TOTAL-total"
   ]
  },
  {
   "cell_type": "code",
   "execution_count": 12,
   "metadata": {},
   "outputs": [],
   "source": [
    "ids_to_info=defaultdict(lambda: defaultdict(lambda:0))\n",
    "for ids in database:\n",
    "    ids_to_info[ids][\"birth_decade\"]=database[ids][\"\\ufeffbirth_decade\"]\n",
    "    ids_to_info[ids][\"education\"]=database[ids][\"education\"]\n",
    "    ids_to_info[ids][\"collection\"]=database[ids][\"collection_id\"]\n",
    "    ids_to_info[ids][\"sex\"]=database[ids][\"sex\"]\n",
    "    ids_to_info[ids][\"race\"]=database[ids][\"identified_race\"]\n",
    "    ids_to_info[ids][\"interview_year\"]=database[ids][\"interview_year\"]\n",
    "    ids_to_info[ids][\"birth_year\"]=database[ids][\"real_interviewee_birth_year\"]"
   ]
  },
  {
   "cell_type": "code",
   "execution_count": 13,
   "metadata": {},
   "outputs": [],
   "source": [
    "myfile = open(\"data/all_sexual_harassment.txt\", encoding=\"latin1\")\n",
    "txt = myfile.read()\n",
    "myfile.close()\n",
    "\n",
    "files=[]\n",
    "tokens=txt.split()\n",
    "for i in tokens:\n",
    "    num= i.find(\"Files\\\\\\\\\")\n",
    "    if not num==-1:\n",
    "        if not i.find(\"_\")==-1:\n",
    "            files.append(i.strip())\n",
    "names=set()\n",
    "for i in files:\n",
    "    i=i[i.find(\"\\\\\\\\\",8)+2:-1]\n",
    "    names.add(i.strip())\n"
   ]
  },
  {
   "cell_type": "code",
   "execution_count": 14,
   "metadata": {},
   "outputs": [],
   "source": [
    "df_total_corpus = pandas.DataFrame([[TOTAL_INTER, len(names), int(len(names)/TOTAL_INTER*100)]],columns=[\"Total Corpus Interviews\", \"Number of Interviews Containing Sexual Harassment Speech Events\", \"Percentage Of Interviews Containing Sexual Harassment Speech Events\"], index=[\"\"])"
   ]
  },
  {
   "cell_type": "code",
   "execution_count": 15,
   "metadata": {},
   "outputs": [
    {
     "data": {
      "text/html": [
       "<div>\n",
       "<style scoped>\n",
       "    .dataframe tbody tr th:only-of-type {\n",
       "        vertical-align: middle;\n",
       "    }\n",
       "\n",
       "    .dataframe tbody tr th {\n",
       "        vertical-align: top;\n",
       "    }\n",
       "\n",
       "    .dataframe thead th {\n",
       "        text-align: right;\n",
       "    }\n",
       "</style>\n",
       "<table border=\"1\" class=\"dataframe\">\n",
       "  <thead>\n",
       "    <tr style=\"text-align: right;\">\n",
       "      <th></th>\n",
       "      <th>Total Corpus Interviews</th>\n",
       "      <th>Number of Interviews Containing Sexual Harassment Speech Events</th>\n",
       "      <th>Percentage Of Interviews Containing Sexual Harassment Speech Events</th>\n",
       "    </tr>\n",
       "  </thead>\n",
       "  <tbody>\n",
       "    <tr>\n",
       "      <th></th>\n",
       "      <td>2645</td>\n",
       "      <td>156</td>\n",
       "      <td>5</td>\n",
       "    </tr>\n",
       "  </tbody>\n",
       "</table>\n",
       "</div>"
      ],
      "text/plain": [
       "  Total Corpus Interviews  \\\n",
       "                     2645   \n",
       "\n",
       "  Number of Interviews Containing Sexual Harassment Speech Events  \\\n",
       "                                                156                 \n",
       "\n",
       "  Percentage Of Interviews Containing Sexual Harassment Speech Events  \n",
       "                                                  5                    "
      ]
     },
     "metadata": {},
     "output_type": "display_data"
    }
   ],
   "source": [
    "display(df_total_corpus)"
   ]
  },
  {
   "cell_type": "markdown",
   "metadata": {},
   "source": [
    "Speech Events"
   ]
  },
  {
   "cell_type": "code",
   "execution_count": 16,
   "metadata": {},
   "outputs": [
    {
     "name": "stdout",
     "output_type": "stream",
     "text": [
      "219\n"
     ]
    }
   ],
   "source": [
    "myfile = open(\"data/all_sexual_harassment.txt\", encoding=\"latin1\")\n",
    "txt = myfile.read()\n",
    "myfile.close()\n",
    "\n",
    "num_speech_events_SH=0\n",
    "\n",
    "txt=txt.split(\"\\n\")\n",
    "for i in txt:\n",
    "    num= i.find(\">\")\n",
    "    if not num==-1:\n",
    "        tokens=i.split()\n",
    "        num_speech_events_SH+=int(tokens[3])\n",
    "print(num_speech_events_SH)"
   ]
  },
  {
   "cell_type": "code",
   "execution_count": 17,
   "metadata": {},
   "outputs": [
    {
     "name": "stdout",
     "output_type": "stream",
     "text": [
      "881\n"
     ]
    }
   ],
   "source": [
    "myfile = open(\"data/all_events.txt\", encoding=\"latin1\")\n",
    "txt = myfile.read()\n",
    "myfile.close()\n",
    "\n",
    "num_speech_events=0\n",
    "\n",
    "txt=txt.split(\"\\n\")\n",
    "for i in txt:\n",
    "    num= i.find(\">\")\n",
    "    if not num==-1:\n",
    "        tokens=i.split()\n",
    "        num_speech_events+=int(tokens[3])\n",
    "print(num_speech_events)"
   ]
  },
  {
   "cell_type": "code",
   "execution_count": 18,
   "metadata": {},
   "outputs": [],
   "source": [
    "df_total_corpus = pandas.DataFrame([[num_speech_events, num_speech_events_SH, int(100*num_speech_events_SH/num_speech_events)]],columns=[\"Total Speech Events\", \"Number of Speech Events Regarding Sexual Harassment\", \"Percentage Of Speech Events Containing Sexual Harassment\"], index=[\"\"])"
   ]
  },
  {
   "cell_type": "code",
   "execution_count": 19,
   "metadata": {},
   "outputs": [
    {
     "data": {
      "text/html": [
       "<div>\n",
       "<style scoped>\n",
       "    .dataframe tbody tr th:only-of-type {\n",
       "        vertical-align: middle;\n",
       "    }\n",
       "\n",
       "    .dataframe tbody tr th {\n",
       "        vertical-align: top;\n",
       "    }\n",
       "\n",
       "    .dataframe thead th {\n",
       "        text-align: right;\n",
       "    }\n",
       "</style>\n",
       "<table border=\"1\" class=\"dataframe\">\n",
       "  <thead>\n",
       "    <tr style=\"text-align: right;\">\n",
       "      <th></th>\n",
       "      <th>Total Speech Events</th>\n",
       "      <th>Number of Speech Events Regarding Sexual Harassment</th>\n",
       "      <th>Percentage Of Speech Events Containing Sexual Harassment</th>\n",
       "    </tr>\n",
       "  </thead>\n",
       "  <tbody>\n",
       "    <tr>\n",
       "      <th></th>\n",
       "      <td>881</td>\n",
       "      <td>219</td>\n",
       "      <td>24</td>\n",
       "    </tr>\n",
       "  </tbody>\n",
       "</table>\n",
       "</div>"
      ],
      "text/plain": [
       "  Total Speech Events  Number of Speech Events Regarding Sexual Harassment  \\\n",
       "                  881                                                219     \n",
       "\n",
       "  Percentage Of Speech Events Containing Sexual Harassment  \n",
       "                                                 24         "
      ]
     },
     "metadata": {},
     "output_type": "display_data"
    }
   ],
   "source": [
    "display(df_total_corpus)"
   ]
  },
  {
   "cell_type": "code",
   "execution_count": 20,
   "metadata": {},
   "outputs": [],
   "source": [
    "years=[]\n",
    "for i in range(1870, 2000, 10):\n",
    "    years.append(str(i))"
   ]
  },
  {
   "cell_type": "code",
   "execution_count": null,
   "metadata": {},
   "outputs": [],
   "source": []
  },
  {
   "cell_type": "code",
   "execution_count": 21,
   "metadata": {},
   "outputs": [
    {
     "name": "stdout",
     "output_type": "stream",
     "text": [
      "[1, 9, 36, 66, 150, 268, 207, 253, 122, 57, 31, 25, 3] [0, 0, 0, 2, 6, 18, 13, 33, 9, 3, 0, 0, 0]\n",
      "0\n",
      "2\n",
      "4\n",
      "6\n",
      "8\n",
      "10\n",
      "12\n",
      "[0, 3, 4, 4, 6, 4, 0]\n"
     ]
    }
   ],
   "source": [
    "DECADE_INCREMENTS=2\n",
    "birthyear_to_number_of_interviews_white=defaultdict(lambda:0)\n",
    "birthyear_to_number_of_interviews_CSH_white=defaultdict(lambda:0)\n",
    "birthyear_to_number_of_interviews_black=defaultdict(lambda:0)\n",
    "birthyear_to_number_of_interviews_CSH_black=defaultdict(lambda:0)\n",
    "for i in text_to_ids:\n",
    "    for j in text_to_ids[i][\"id\"]:\n",
    "        if  database[j][\"identified_race\"]==\"Black or African American\":\n",
    "            birthyear_to_number_of_interviews_black[database[j][\"\\ufeffbirth_decade\"]]+=1\n",
    "        elif database[j][\"identified_race\"]==\"White\":\n",
    "            birthyear_to_number_of_interviews_white[database[j][\"\\ufeffbirth_decade\"]]+=1\n",
    "for i in names:\n",
    "    for j in text_to_ids[i][\"id\"]:\n",
    "        if database[j][\"identified_race\"]==\"White\":\n",
    "            birthyear_to_number_of_interviews_CSH_white[database[j][\"\\ufeffbirth_decade\"]]+=1\n",
    "        elif database[j][\"identified_race\"]==\"Black or African American\":\n",
    "            birthyear_to_number_of_interviews_CSH_black[database[j][\"\\ufeffbirth_decade\"]]+=1\n",
    "\n",
    "total_white=[]\n",
    "hits_formatted_white=[]\n",
    "total_black=[]\n",
    "hits_formatted_black=[]\n",
    "for i in years:\n",
    "    total_white.append(birthyear_to_number_of_interviews_white[str(i)])\n",
    "    hits_formatted_white.append(birthyear_to_number_of_interviews_CSH_white[str(i)])\n",
    "    total_black.append(birthyear_to_number_of_interviews_black[str(i)])\n",
    "    hits_formatted_black.append(birthyear_to_number_of_interviews_CSH_black[str(i)])\n",
    "print(total_white, hits_formatted_white)\n",
    "percentage_withNI_white=[]\n",
    "percentage_withNI_black=[]\n",
    "total_white_blocks=[]\n",
    "hits_formatted_white_blocks=[]\n",
    "total_black_blocks=[]\n",
    "hits_formatted_black_blocks=[]\n",
    "for i in range(0,len(years),DECADE_INCREMENTS):\n",
    "    white_total=0\n",
    "    white_hits=0\n",
    "    black_total=0\n",
    "    black_hits=0\n",
    "    print(i)\n",
    "    for j in range(i, min(i+DECADE_INCREMENTS, len(years))):\n",
    "        white_total+= total_white[j]\n",
    "        white_hits+= hits_formatted_white[j]\n",
    "        black_total+= total_black[j]\n",
    "        black_hits+= hits_formatted_black[j]\n",
    "    if white_total==0:\n",
    "        percentage_withNI_white.append(0)\n",
    "    else:    \n",
    "        percentage_withNI_white.append(int(white_hits/white_total*100))\n",
    "    if black_total==0:\n",
    "        percentage_withNI_black.append(0)\n",
    "    else:\n",
    "        percentage_withNI_black.append(int(black_hits/black_total*100))\n",
    "    total_white_blocks.append(white_total)\n",
    "    hits_formatted_white_blocks.append(white_hits)\n",
    "    total_black_blocks.append(black_total)\n",
    "    hits_formatted_black_blocks.append(black_hits)\n",
    "print(percentage_withNI_black)\n"
   ]
  },
  {
   "cell_type": "code",
   "execution_count": 22,
   "metadata": {},
   "outputs": [
    {
     "name": "stdout",
     "output_type": "stream",
     "text": [
      "[0 1 2 3 4 5 6]\n"
     ]
    },
    {
     "data": {
      "text/plain": [
       "<matplotlib.legend.Legend at 0x7fd58f2ff0d0>"
      ]
     },
     "execution_count": 22,
     "metadata": {},
     "output_type": "execute_result"
    },
    {
     "data": {
      "image/png": "[encoded data removed]",
      "text/plain": [
       "<Figure size 432x288 with 1 Axes>"
      ]
     },
     "metadata": {
      "needs_background": "light"
     },
     "output_type": "display_data"
    }
   ],
   "source": [
    "N = 7\n",
    "\n",
    "ind = np.arange(N) \n",
    "print(ind)\n",
    "\n",
    "# some example data\n",
    "    \n",
    "    \n",
    "black = np.array(percentage_withNI_black)\n",
    "white=np.array(percentage_withNI_white)\n",
    "\n",
    "\n",
    "x = range(N)\n",
    "\n",
    "\n",
    "# and plot it\n",
    "fig, ax = pyplot.subplots()\n",
    "hm=ax.bar(ind-.35/2, black, .35, label=\"Black\")\n",
    "total=ax.bar(ind+.35/2, white, .35, label=\"White\")\n",
    "ax.set_xticks(np.array([x for x in range(7)]))\n",
    "ax.tick_params(axis='both', which='major', labelsize=8)\n",
    "ax.tick_params(axis='both', which='minor', labelsize=4)\n",
    "dx = .25\n",
    "dy=0\n",
    "offset = matplotlib.transforms.ScaledTranslation(dx, dy, fig.dpi_scale_trans)\n",
    "for label in ax.xaxis.get_majorticklabels():\n",
    "    label.set_transform(label.get_transform() + offset)\n",
    "ax.set_xticklabels(['1870-1889', '1890-1909', '1910-1929', '1930-1949', '1950-1969', '1970-1989', '1990-1999'])\n",
    "ax.set_title(\"Percent of Black and White Women's Interviews \\n Containing Sexual Harassment Speech Events, by Birth Cohorts\")\n",
    "ax.set_ylabel('Percent of Interviews with Speech Events')\n",
    "ax.set_xlabel('Interviewee Birth Cohort')\n",
    "pyplot.setp(ax.get_xticklabels(), horizontalalignment='right')\n",
    "pyplot.legend()"
   ]
  },
  {
   "cell_type": "code",
   "execution_count": 23,
   "metadata": {},
   "outputs": [],
   "source": [
    "df_percentage_in_birth_cohort_by_race = pandas.DataFrame([total_black_blocks, hits_formatted_black_blocks, percentage_withNI_black, total_white_blocks, hits_formatted_white_blocks, percentage_withNI_white], columns=['1870-1889', '1890-1909', '1910-1929', '1930-1949', '1950-1969', '1970-1989', '1990-1999'], index=[\"Number of Interviews with Black Women\", \"Number of Interviews with Black Women Containing Sexual Harassment Speech Events\", \"Percentage of Black Women in Birth Cohort whose Interviews Containing Sexual Harassment Speech Events\", \"Number of Interviews with White Women\", \"Number of Interviews with White Women Containing Sexual Harassment Speech Events\", \"Percentage of White Women in Birth Cohort whose Interviews Containing Sexual Harassment Speech Events\"])"
   ]
  },
  {
   "cell_type": "code",
   "execution_count": 24,
   "metadata": {},
   "outputs": [
    {
     "data": {
      "text/html": [
       "<div>\n",
       "<style scoped>\n",
       "    .dataframe tbody tr th:only-of-type {\n",
       "        vertical-align: middle;\n",
       "    }\n",
       "\n",
       "    .dataframe tbody tr th {\n",
       "        vertical-align: top;\n",
       "    }\n",
       "\n",
       "    .dataframe thead th {\n",
       "        text-align: right;\n",
       "    }\n",
       "</style>\n",
       "<table border=\"1\" class=\"dataframe\">\n",
       "  <thead>\n",
       "    <tr style=\"text-align: right;\">\n",
       "      <th></th>\n",
       "      <th>1870-1889</th>\n",
       "      <th>1890-1909</th>\n",
       "      <th>1910-1929</th>\n",
       "      <th>1930-1949</th>\n",
       "      <th>1950-1969</th>\n",
       "      <th>1970-1989</th>\n",
       "      <th>1990-1999</th>\n",
       "    </tr>\n",
       "  </thead>\n",
       "  <tbody>\n",
       "    <tr>\n",
       "      <th>Number of Interviews with Black Women</th>\n",
       "      <td>7</td>\n",
       "      <td>82</td>\n",
       "      <td>210</td>\n",
       "      <td>533</td>\n",
       "      <td>341</td>\n",
       "      <td>25</td>\n",
       "      <td>2</td>\n",
       "    </tr>\n",
       "    <tr>\n",
       "      <th>Number of Interviews with Black Women Containing Sexual Harassment Speech Events</th>\n",
       "      <td>0</td>\n",
       "      <td>3</td>\n",
       "      <td>9</td>\n",
       "      <td>24</td>\n",
       "      <td>22</td>\n",
       "      <td>1</td>\n",
       "      <td>0</td>\n",
       "    </tr>\n",
       "    <tr>\n",
       "      <th>Percentage of Black Women in Birth Cohort whose Interviews Containing Sexual Harassment Speech Events</th>\n",
       "      <td>0</td>\n",
       "      <td>3</td>\n",
       "      <td>4</td>\n",
       "      <td>4</td>\n",
       "      <td>6</td>\n",
       "      <td>4</td>\n",
       "      <td>0</td>\n",
       "    </tr>\n",
       "    <tr>\n",
       "      <th>Number of Interviews with White Women</th>\n",
       "      <td>10</td>\n",
       "      <td>102</td>\n",
       "      <td>418</td>\n",
       "      <td>460</td>\n",
       "      <td>179</td>\n",
       "      <td>56</td>\n",
       "      <td>3</td>\n",
       "    </tr>\n",
       "    <tr>\n",
       "      <th>Number of Interviews with White Women Containing Sexual Harassment Speech Events</th>\n",
       "      <td>0</td>\n",
       "      <td>2</td>\n",
       "      <td>24</td>\n",
       "      <td>46</td>\n",
       "      <td>12</td>\n",
       "      <td>0</td>\n",
       "      <td>0</td>\n",
       "    </tr>\n",
       "    <tr>\n",
       "      <th>Percentage of White Women in Birth Cohort whose Interviews Containing Sexual Harassment Speech Events</th>\n",
       "      <td>0</td>\n",
       "      <td>1</td>\n",
       "      <td>5</td>\n",
       "      <td>10</td>\n",
       "      <td>6</td>\n",
       "      <td>0</td>\n",
       "      <td>0</td>\n",
       "    </tr>\n",
       "  </tbody>\n",
       "</table>\n",
       "</div>"
      ],
      "text/plain": [
       "                                                    1870-1889  1890-1909  \\\n",
       "Number of Interviews with Black Women                       7         82   \n",
       "Number of Interviews with Black Women Containin...          0          3   \n",
       "Percentage of Black Women in Birth Cohort whose...          0          3   \n",
       "Number of Interviews with White Women                      10        102   \n",
       "Number of Interviews with White Women Containin...          0          2   \n",
       "Percentage of White Women in Birth Cohort whose...          0          1   \n",
       "\n",
       "                                                    1910-1929  1930-1949  \\\n",
       "Number of Interviews with Black Women                     210        533   \n",
       "Number of Interviews with Black Women Containin...          9         24   \n",
       "Percentage of Black Women in Birth Cohort whose...          4          4   \n",
       "Number of Interviews with White Women                     418        460   \n",
       "Number of Interviews with White Women Containin...         24         46   \n",
       "Percentage of White Women in Birth Cohort whose...          5         10   \n",
       "\n",
       "                                                    1950-1969  1970-1989  \\\n",
       "Number of Interviews with Black Women                     341         25   \n",
       "Number of Interviews with Black Women Containin...         22          1   \n",
       "Percentage of Black Women in Birth Cohort whose...          6          4   \n",
       "Number of Interviews with White Women                     179         56   \n",
       "Number of Interviews with White Women Containin...         12          0   \n",
       "Percentage of White Women in Birth Cohort whose...          6          0   \n",
       "\n",
       "                                                    1990-1999  \n",
       "Number of Interviews with Black Women                       2  \n",
       "Number of Interviews with Black Women Containin...          0  \n",
       "Percentage of Black Women in Birth Cohort whose...          0  \n",
       "Number of Interviews with White Women                       3  \n",
       "Number of Interviews with White Women Containin...          0  \n",
       "Percentage of White Women in Birth Cohort whose...          0  "
      ]
     },
     "metadata": {},
     "output_type": "display_data"
    }
   ],
   "source": [
    "display(df_percentage_in_birth_cohort_by_race)"
   ]
  },
  {
   "cell_type": "code",
   "execution_count": 25,
   "metadata": {},
   "outputs": [
    {
     "data": {
      "text/plain": [
       "<matplotlib.legend.Legend at 0x7fd58f464100>"
      ]
     },
     "execution_count": 25,
     "metadata": {},
     "output_type": "execute_result"
    },
    {
     "data": {
      "image/png": "[encoded data removed]",
      "text/plain": [
       "<Figure size 432x288 with 1 Axes>"
      ]
     },
     "metadata": {
      "needs_background": "light"
     },
     "output_type": "display_data"
    }
   ],
   "source": [
    "N = 5\n",
    "\n",
    "ind = np.arange(N) \n",
    "\n",
    "# some example data\n",
    "    \n",
    "    \n",
    "black = np.array(percentage_withNI_black[1:6])\n",
    "white=np.array(percentage_withNI_white[1:6])\n",
    "\n",
    "\n",
    "x = range(N)\n",
    "\n",
    "\n",
    "# and plot it\n",
    "fig, ax = pyplot.subplots()\n",
    "hm=ax.bar(ind-.35/2, black, .35, label=\"Black\")\n",
    "total=ax.bar(ind+.35/2, white, .35, label=\"White\")\n",
    "ax.set_xticks(ind)\n",
    "ax.tick_params(axis='both', which='major', labelsize=10)\n",
    "ax.tick_params(axis='both', which='minor', labelsize=4)\n",
    "dx = .4\n",
    "offset = matplotlib.transforms.ScaledTranslation(dx, dy, fig.dpi_scale_trans)\n",
    "for label in ax.xaxis.get_majorticklabels():\n",
    "    label.set_transform(label.get_transform() + offset)\n",
    "ax.set_xticklabels(['1890-1909', '1910-1929', '1930-1949', '1950-1969', '1970-1989'])\n",
    "ax.set_title(\"Percent of Black and White Women's Interviews \\n Containing Sexual Harassment Speech Events, by Birth Cohorts\")\n",
    "ax.set_ylabel('Percent of Interviews with Speech Events')\n",
    "ax.set_xlabel('Interviewee Birth Cohort')\n",
    "pyplot.setp(ax.get_xticklabels(), horizontalalignment='right')\n",
    "pyplot.legend()"
   ]
  },
  {
   "cell_type": "code",
   "execution_count": 26,
   "metadata": {},
   "outputs": [
    {
     "name": "stdout",
     "output_type": "stream",
     "text": [
      "defaultdict(<function <lambda>.<locals>.<lambda> at 0x7fd58ed43790>, {'High school graduate': 228, \"Bachelor's degree\": 756, 'Graduate or professional degree': 1336, \"Associate's degree\": 47, 'Some college': 144, '9th to 12th grade but no diploma': 124, 'Less than 9th grade': 53, 'No Info': 46})\n"
     ]
    }
   ],
   "source": [
    "print(dataformatted[\"education\"])"
   ]
  },
  {
   "cell_type": "code",
   "execution_count": 27,
   "metadata": {},
   "outputs": [
    {
     "name": "stdout",
     "output_type": "stream",
     "text": [
      "0\n",
      "[0, 2, 4, 3, 5, 9, 0]\n"
     ]
    }
   ],
   "source": [
    "DECADE_INCREMENTS=2\n",
    "EDUCATION_BREAKDOWN=[[\"High school graduate\", '9th to 12th grade but no diploma', 'Less than 9th grade'], [\"Bachelor's degree\",\"Associate's degree\",'Some college'], ['Graduate or professional degree']]\n",
    "birthyear_to_number_of_interviews_up_to_12=defaultdict(lambda:0)\n",
    "birthyear_to_number_of_interviews_up_to_college=defaultdict(lambda:0)\n",
    "birthyear_to_number_of_interviews_grad=defaultdict(lambda:0)\n",
    "birthyear_to_number_of_interviews_up_to_12_SH=defaultdict(lambda:0)\n",
    "birthyear_to_number_of_interviews_up_to_college_SH=defaultdict(lambda:0)\n",
    "birthyear_to_number_of_interviews_grad_SH=defaultdict(lambda:0)\n",
    "for i in text_to_ids:\n",
    "    for j in text_to_ids[i][\"id\"]:\n",
    "        if  database[j][\"education\"] in EDUCATION_BREAKDOWN[0]:\n",
    "            birthyear_to_number_of_interviews_up_to_12[database[j][\"\\ufeffbirth_decade\"]]+=1\n",
    "        elif database[j][\"education\"]  in EDUCATION_BREAKDOWN[1]:\n",
    "            birthyear_to_number_of_interviews_up_to_college[database[j][\"\\ufeffbirth_decade\"]]+=1\n",
    "        elif database[j][\"education\"]  in EDUCATION_BREAKDOWN[2]:\n",
    "            birthyear_to_number_of_interviews_grad[database[j][\"\\ufeffbirth_decade\"]]+=1\n",
    "for i in names:\n",
    "    for j in text_to_ids[i][\"id\"]:\n",
    "        if  database[j][\"education\"]  in EDUCATION_BREAKDOWN[0]:\n",
    "            birthyear_to_number_of_interviews_up_to_12_SH[database[j][\"\\ufeffbirth_decade\"]]+=1\n",
    "        elif database[j][\"education\"]  in EDUCATION_BREAKDOWN[1]:\n",
    "            birthyear_to_number_of_interviews_up_to_college_SH[database[j][\"\\ufeffbirth_decade\"]]+=1\n",
    "        elif database[j][\"education\"]  in EDUCATION_BREAKDOWN[2]:\n",
    "            birthyear_to_number_of_interviews_grad_SH[database[j][\"\\ufeffbirth_decade\"]]+=1\n",
    "        else:\n",
    "            print(database[j][\"education\"])\n",
    "\n",
    "total_up_to_12=[]\n",
    "total_up_to_college=[]\n",
    "total_grad=[]\n",
    "hits_up_to_12=[]\n",
    "hits_up_to_college=[]\n",
    "hits_grad=[]\n",
    "for i in years:\n",
    "    total_up_to_12.append(birthyear_to_number_of_interviews_up_to_12[str(i)])\n",
    "    total_up_to_college.append(birthyear_to_number_of_interviews_up_to_college[str(i)])\n",
    "    total_grad.append(birthyear_to_number_of_interviews_grad[str(i)])\n",
    "    hits_up_to_12.append(birthyear_to_number_of_interviews_up_to_12_SH[str(i)])\n",
    "    hits_up_to_college.append(birthyear_to_number_of_interviews_up_to_college_SH[str(i)])\n",
    "    hits_grad.append(birthyear_to_number_of_interviews_grad_SH[str(i)])\n",
    "percentage_up_to_12=[]\n",
    "percentage_up_to_college=[]\n",
    "percentage_grad=[]\n",
    "total_up_to_12_blocks=[]\n",
    "total_up_to_college_blocks=[]\n",
    "total_grad_blocks=[]\n",
    "hits_up_to_12_blocks=[]\n",
    "hits_up_to_college_blocks=[]\n",
    "hits_grad_blocks=[]\n",
    "for i in range(0,len(years),DECADE_INCREMENTS):\n",
    "    up_to_12_total=0\n",
    "    up_to_college_total=0\n",
    "    grad_total=0\n",
    "    up_to_12_hits=0\n",
    "    up_to_college_hits=0\n",
    "    grad_hits=0\n",
    "    for j in range(i, min(i+DECADE_INCREMENTS, len(years))):\n",
    "        up_to_12_total+= total_up_to_12[j]\n",
    "        up_to_college_total+= total_up_to_college[j]\n",
    "        grad_total+= total_grad[j]\n",
    "        up_to_12_hits+= hits_up_to_12[j]\n",
    "        up_to_college_hits+= hits_up_to_college[j]\n",
    "        grad_hits+= hits_grad[j]\n",
    "    if up_to_12_total==0:\n",
    "        percentage_up_to_12.append(0)\n",
    "    else:    \n",
    "        percentage_up_to_12.append(int(up_to_12_hits/up_to_12_total*100))\n",
    "    if up_to_college_total==0:\n",
    "        percentage_up_to_college.append(0)\n",
    "    else:    \n",
    "        percentage_up_to_college.append(int(up_to_college_hits/up_to_college_total*100))\n",
    "    if grad_total==0:\n",
    "        percentage_grad.append(0)\n",
    "    else:    \n",
    "        percentage_grad.append(int(grad_hits/grad_total*100))\n",
    "    total_up_to_12_blocks.append(up_to_12_total)\n",
    "    total_up_to_college_blocks.append(up_to_college_total)\n",
    "    total_grad_blocks.append(grad_total)\n",
    "    hits_up_to_12_blocks.append(up_to_12_hits)\n",
    "    hits_up_to_college_blocks.append(up_to_college_hits)\n",
    "    hits_grad_blocks.append(grad_hits)\n",
    "print(percentage_up_to_college)\n"
   ]
  },
  {
   "cell_type": "code",
   "execution_count": 28,
   "metadata": {},
   "outputs": [
    {
     "name": "stdout",
     "output_type": "stream",
     "text": [
      "[0 1 2 3 4 5 6]\n"
     ]
    },
    {
     "data": {
      "text/plain": [
       "<matplotlib.legend.Legend at 0x7fd58f220730>"
      ]
     },
     "execution_count": 28,
     "metadata": {},
     "output_type": "execute_result"
    },
    {
     "data": {
      "image/png": "[encoded data removed]",
      "text/plain": [
       "<Figure size 432x288 with 1 Axes>"
      ]
     },
     "metadata": {
      "needs_background": "light"
     },
     "output_type": "display_data"
    }
   ],
   "source": [
    "N = 7\n",
    "\n",
    "ind = np.arange(N) \n",
    "print(ind)\n",
    "\n",
    "# some example data\n",
    "    \n",
    "    \n",
    "up_to_12 = np.array(percentage_up_to_12)\n",
    "up_to_college=np.array(percentage_up_to_college)\n",
    "grad=np.array(percentage_grad)\n",
    "\n",
    "\n",
    "x = range(N)\n",
    "\n",
    "\n",
    "# and plot it\n",
    "fig, ax = pyplot.subplots()\n",
    "hm=ax.bar(ind-.25, up_to_12, .25, label=\"Up to 12th Grade\")\n",
    "total=ax.bar(ind, up_to_college, .25, label=\"Up to College Degree\")\n",
    "total=ax.bar(ind+.25, grad, .25, label=\"Graduate or Professional Degree\")\n",
    "ax.set_xticks(np.array([x for x in range(7)]))\n",
    "ax.tick_params(axis='both', which='major', labelsize=8)\n",
    "ax.tick_params(axis='both', which='minor', labelsize=4)\n",
    "dx = .25\n",
    "dy=0\n",
    "offset = matplotlib.transforms.ScaledTranslation(dx, dy, fig.dpi_scale_trans)\n",
    "for label in ax.xaxis.get_majorticklabels():\n",
    "    label.set_transform(label.get_transform() + offset)\n",
    "ax.set_xticklabels(['1870-1889', '1890-1909', '1910-1929', '1930-1949', '1950-1969', '1970-1989', '1990-1999'])\n",
    "ax.set_title(\"Percent by Education Level of Women's Interviews \\n Containing Sexual Harassment Speech Events, by Birth Cohorts\")\n",
    "ax.set_ylabel('Percent of Interviews with Speech Events')\n",
    "ax.set_xlabel('Interviewee Birth Cohort')\n",
    "pyplot.setp(ax.get_xticklabels(), horizontalalignment='right')\n",
    "pyplot.legend()"
   ]
  },
  {
   "cell_type": "code",
   "execution_count": 29,
   "metadata": {},
   "outputs": [],
   "source": [
    "df_percentage_in_birth_cohort_by_education = pandas.DataFrame([total_up_to_12_blocks, hits_up_to_12_blocks, percentage_up_to_12, total_up_to_college_blocks, hits_up_to_college_blocks, percentage_up_to_college, total_grad_blocks, hits_grad_blocks, percentage_grad], columns=['1870-1889', '1890-1909', '1910-1929', '1930-1949', '1950-1969', '1970-1989', '1990-1999'], index=[\"Number of Interviews in Education Level Up to 12th Grade\", \"Number of Interviews in Education Level Up to 12th Grade Containing Sexual Harassment Speech Events\", \"Percentage of Interviews in Education Level Up to 12th Grade Containing Sexual Harassment Speech Events\", \"Number of Interviews in Education Level Up to College Degree\", \"Number of Interviews in Education Level Up to College Degree Containing Sexual Harassment Speech Events\", \"Percentage of Interviews in Education Level Up to College Degree Containing Sexual Harassment Speech Events\", \"Number of Interviews in Education Level Graduate or Professional Degree\", \"Number of Interviews in Education Level Graduate or Professional Degree Containing Sexual Harassment Speech Events\", \"Percentage of Interviews in Education Level Graduate or Professional Degree Containing Sexual Harassment Speech Events\"])"
   ]
  },
  {
   "cell_type": "code",
   "execution_count": 30,
   "metadata": {},
   "outputs": [
    {
     "data": {
      "text/html": [
       "<div>\n",
       "<style scoped>\n",
       "    .dataframe tbody tr th:only-of-type {\n",
       "        vertical-align: middle;\n",
       "    }\n",
       "\n",
       "    .dataframe tbody tr th {\n",
       "        vertical-align: top;\n",
       "    }\n",
       "\n",
       "    .dataframe thead th {\n",
       "        text-align: right;\n",
       "    }\n",
       "</style>\n",
       "<table border=\"1\" class=\"dataframe\">\n",
       "  <thead>\n",
       "    <tr style=\"text-align: right;\">\n",
       "      <th></th>\n",
       "      <th>1870-1889</th>\n",
       "      <th>1890-1909</th>\n",
       "      <th>1910-1929</th>\n",
       "      <th>1930-1949</th>\n",
       "      <th>1950-1969</th>\n",
       "      <th>1970-1989</th>\n",
       "      <th>1990-1999</th>\n",
       "    </tr>\n",
       "  </thead>\n",
       "  <tbody>\n",
       "    <tr>\n",
       "      <th>Number of Interviews in Education Level Up to 12th Grade</th>\n",
       "      <td>3</td>\n",
       "      <td>24</td>\n",
       "      <td>192</td>\n",
       "      <td>90</td>\n",
       "      <td>37</td>\n",
       "      <td>2</td>\n",
       "      <td>0</td>\n",
       "    </tr>\n",
       "    <tr>\n",
       "      <th>Number of Interviews in Education Level Up to 12th Grade Containing Sexual Harassment Speech Events</th>\n",
       "      <td>0</td>\n",
       "      <td>1</td>\n",
       "      <td>13</td>\n",
       "      <td>3</td>\n",
       "      <td>4</td>\n",
       "      <td>0</td>\n",
       "      <td>0</td>\n",
       "    </tr>\n",
       "    <tr>\n",
       "      <th>Percentage of Interviews in Education Level Up to 12th Grade Containing Sexual Harassment Speech Events</th>\n",
       "      <td>0</td>\n",
       "      <td>4</td>\n",
       "      <td>6</td>\n",
       "      <td>3</td>\n",
       "      <td>10</td>\n",
       "      <td>0</td>\n",
       "      <td>0</td>\n",
       "    </tr>\n",
       "    <tr>\n",
       "      <th>Number of Interviews in Education Level Up to College Degree</th>\n",
       "      <td>11</td>\n",
       "      <td>68</td>\n",
       "      <td>242</td>\n",
       "      <td>348</td>\n",
       "      <td>213</td>\n",
       "      <td>33</td>\n",
       "      <td>5</td>\n",
       "    </tr>\n",
       "    <tr>\n",
       "      <th>Number of Interviews in Education Level Up to College Degree Containing Sexual Harassment Speech Events</th>\n",
       "      <td>0</td>\n",
       "      <td>2</td>\n",
       "      <td>12</td>\n",
       "      <td>13</td>\n",
       "      <td>12</td>\n",
       "      <td>3</td>\n",
       "      <td>0</td>\n",
       "    </tr>\n",
       "    <tr>\n",
       "      <th>Percentage of Interviews in Education Level Up to College Degree Containing Sexual Harassment Speech Events</th>\n",
       "      <td>0</td>\n",
       "      <td>2</td>\n",
       "      <td>4</td>\n",
       "      <td>3</td>\n",
       "      <td>5</td>\n",
       "      <td>9</td>\n",
       "      <td>0</td>\n",
       "    </tr>\n",
       "    <tr>\n",
       "      <th>Number of Interviews in Education Level Graduate or Professional Degree</th>\n",
       "      <td>2</td>\n",
       "      <td>90</td>\n",
       "      <td>226</td>\n",
       "      <td>619</td>\n",
       "      <td>354</td>\n",
       "      <td>69</td>\n",
       "      <td>2</td>\n",
       "    </tr>\n",
       "    <tr>\n",
       "      <th>Number of Interviews in Education Level Graduate or Professional Degree Containing Sexual Harassment Speech Events</th>\n",
       "      <td>0</td>\n",
       "      <td>2</td>\n",
       "      <td>10</td>\n",
       "      <td>55</td>\n",
       "      <td>22</td>\n",
       "      <td>3</td>\n",
       "      <td>0</td>\n",
       "    </tr>\n",
       "    <tr>\n",
       "      <th>Percentage of Interviews in Education Level Graduate or Professional Degree Containing Sexual Harassment Speech Events</th>\n",
       "      <td>0</td>\n",
       "      <td>2</td>\n",
       "      <td>4</td>\n",
       "      <td>8</td>\n",
       "      <td>6</td>\n",
       "      <td>4</td>\n",
       "      <td>0</td>\n",
       "    </tr>\n",
       "  </tbody>\n",
       "</table>\n",
       "</div>"
      ],
      "text/plain": [
       "                                                    1870-1889  1890-1909  \\\n",
       "Number of Interviews in Education Level Up to 1...          3         24   \n",
       "Number of Interviews in Education Level Up to 1...          0          1   \n",
       "Percentage of Interviews in Education Level Up ...          0          4   \n",
       "Number of Interviews in Education Level Up to C...         11         68   \n",
       "Number of Interviews in Education Level Up to C...          0          2   \n",
       "Percentage of Interviews in Education Level Up ...          0          2   \n",
       "Number of Interviews in Education Level Graduat...          2         90   \n",
       "Number of Interviews in Education Level Graduat...          0          2   \n",
       "Percentage of Interviews in Education Level Gra...          0          2   \n",
       "\n",
       "                                                    1910-1929  1930-1949  \\\n",
       "Number of Interviews in Education Level Up to 1...        192         90   \n",
       "Number of Interviews in Education Level Up to 1...         13          3   \n",
       "Percentage of Interviews in Education Level Up ...          6          3   \n",
       "Number of Interviews in Education Level Up to C...        242        348   \n",
       "Number of Interviews in Education Level Up to C...         12         13   \n",
       "Percentage of Interviews in Education Level Up ...          4          3   \n",
       "Number of Interviews in Education Level Graduat...        226        619   \n",
       "Number of Interviews in Education Level Graduat...         10         55   \n",
       "Percentage of Interviews in Education Level Gra...          4          8   \n",
       "\n",
       "                                                    1950-1969  1970-1989  \\\n",
       "Number of Interviews in Education Level Up to 1...         37          2   \n",
       "Number of Interviews in Education Level Up to 1...          4          0   \n",
       "Percentage of Interviews in Education Level Up ...         10          0   \n",
       "Number of Interviews in Education Level Up to C...        213         33   \n",
       "Number of Interviews in Education Level Up to C...         12          3   \n",
       "Percentage of Interviews in Education Level Up ...          5          9   \n",
       "Number of Interviews in Education Level Graduat...        354         69   \n",
       "Number of Interviews in Education Level Graduat...         22          3   \n",
       "Percentage of Interviews in Education Level Gra...          6          4   \n",
       "\n",
       "                                                    1990-1999  \n",
       "Number of Interviews in Education Level Up to 1...          0  \n",
       "Number of Interviews in Education Level Up to 1...          0  \n",
       "Percentage of Interviews in Education Level Up ...          0  \n",
       "Number of Interviews in Education Level Up to C...          5  \n",
       "Number of Interviews in Education Level Up to C...          0  \n",
       "Percentage of Interviews in Education Level Up ...          0  \n",
       "Number of Interviews in Education Level Graduat...          2  \n",
       "Number of Interviews in Education Level Graduat...          0  \n",
       "Percentage of Interviews in Education Level Gra...          0  "
      ]
     },
     "metadata": {},
     "output_type": "display_data"
    }
   ],
   "source": [
    "display(df_percentage_in_birth_cohort_by_education)"
   ]
  },
  {
   "cell_type": "code",
   "execution_count": 31,
   "metadata": {},
   "outputs": [
    {
     "name": "stdout",
     "output_type": "stream",
     "text": [
      "[0 1 2 3 4]\n"
     ]
    },
    {
     "data": {
      "text/plain": [
       "<matplotlib.legend.Legend at 0x7fd58f11efd0>"
      ]
     },
     "execution_count": 31,
     "metadata": {},
     "output_type": "execute_result"
    },
    {
     "data": {
      "image/png": "[encoded data removed]",
      "text/plain": [
       "<Figure size 432x288 with 1 Axes>"
      ]
     },
     "metadata": {
      "needs_background": "light"
     },
     "output_type": "display_data"
    }
   ],
   "source": [
    "N = 5\n",
    "\n",
    "ind = np.arange(N) \n",
    "print(ind)\n",
    "\n",
    "# some example data\n",
    "    \n",
    "    \n",
    "up_to_12 = np.array(percentage_up_to_12[1:6])\n",
    "up_to_college=np.array(percentage_up_to_college[1:6])\n",
    "grad=np.array(percentage_grad[1:6])\n",
    "\n",
    "\n",
    "x = range(N)\n",
    "\n",
    "\n",
    "# and plot it\n",
    "fig, ax = pyplot.subplots()\n",
    "hm=ax.bar(ind-.25, up_to_12, .25, label=\"Up to 12th Grade\")\n",
    "total=ax.bar(ind, up_to_college, .25, label=\"Up to College Degree\")\n",
    "total=ax.bar(ind+.25, grad, .25, label=\"Graduate or Professional Degree\")\n",
    "ax.set_xticks(ind)\n",
    "ax.tick_params(axis='both', which='major', labelsize=8)\n",
    "ax.tick_params(axis='both', which='minor', labelsize=4)\n",
    "dx = .25\n",
    "dy=0\n",
    "offset = matplotlib.transforms.ScaledTranslation(dx, dy, fig.dpi_scale_trans)\n",
    "for label in ax.xaxis.get_majorticklabels():\n",
    "    label.set_transform(label.get_transform() + offset)\n",
    "ax.set_xticklabels(['1890-1909', '1910-1929', '1930-1949', '1950-1969', '1970-1989'])\n",
    "ax.set_title(\"Percent by Education Level of Women's Interviews \\n Containing Sexual Harassment Speech Events, by Birth Cohorts\")\n",
    "ax.set_ylabel('Percent of Interviews with Speech Events')\n",
    "ax.set_xlabel('Interviewee Birth Cohort')\n",
    "pyplot.setp(ax.get_xticklabels(), horizontalalignment='right')\n",
    "pyplot.legend()"
   ]
  },
  {
   "cell_type": "code",
   "execution_count": 45,
   "metadata": {},
   "outputs": [
    {
     "name": "stdout",
     "output_type": "stream",
     "text": [
      "2635\n"
     ]
    }
   ],
   "source": [
    "year_to_number_of_interviews=defaultdict(lambda:0)\n",
    "year_to_number_of_interviews_SH=defaultdict(lambda:0)\n",
    "for i in text_to_ids:\n",
    "    year_to_number_of_interviews[text_to_ids[i][\"interview year\"]]+=1\n",
    "for i in names:\n",
    "    year_to_number_of_interviews_SH[text_to_ids[i][\"interview year\"]]+=1\n",
    "\n",
    "years=[]\n",
    "for i in range(1972, 2019, 1):\n",
    "    years.append(str(i))\n",
    "total=[]\n",
    "hits_formatted=[]\n",
    "for i in years:\n",
    "    total.append(year_to_number_of_interviews[i])\n",
    "    hits_formatted.append(year_to_number_of_interviews_SH[i])\n",
    "percentage_int_year=[]\n",
    "totalnum=sum(total)\n",
    "print(totalnum)\n",
    "for i in range(len(years)):\n",
    "    if total[i]==0:\n",
    "        percentage_int_year.append(0)\n",
    "    else:    \n",
    "        percentage_int_year.append(int(hits_formatted[i]/total[i]*100))\n",
    "\n"
   ]
  },
  {
   "cell_type": "code",
   "execution_count": 46,
   "metadata": {},
   "outputs": [],
   "source": [
    "total_by_int_year_for_table=[]\n",
    "hits_by_int_year_for_table=[]\n",
    "percentage_by_int_year_for_table=[]\n",
    "for i in range(int(years[0])//10*10, int(years[-1])//10*10+1, 10):\n",
    "    total=0\n",
    "    hits=0\n",
    "    for i in range(i, i+10, 1):\n",
    "        total+= year_to_number_of_interviews[str(i)]\n",
    "        hits+= year_to_number_of_interviews_SH[str(i)]\n",
    "    total_by_int_year_for_table.append(total)\n",
    "    hits_by_int_year_for_table.append(hits)\n",
    "    percentage_by_int_year_for_table.append(int(hits/total*100))"
   ]
  },
  {
   "cell_type": "code",
   "execution_count": 47,
   "metadata": {},
   "outputs": [],
   "source": [
    "df_percentage_in_int_year = pandas.DataFrame([total_by_int_year_for_table, hits_by_int_year_for_table, percentage_by_int_year_for_table], columns=['1970-1979', '1980-1989', '1990-1999', '2000-2009', '2010-2019'], index=[\"Number of Interviews Conducted in Decade\", \"Number of Interviews Conducted in Decade Containing Sexual Harassment Speech Events\", \"Percentage of Interviews Conducted in Decade Containing Sexual Harassment Speech Events\"])"
   ]
  },
  {
   "cell_type": "code",
   "execution_count": 48,
   "metadata": {},
   "outputs": [
    {
     "data": {
      "text/html": [
       "<div>\n",
       "<style scoped>\n",
       "    .dataframe tbody tr th:only-of-type {\n",
       "        vertical-align: middle;\n",
       "    }\n",
       "\n",
       "    .dataframe tbody tr th {\n",
       "        vertical-align: top;\n",
       "    }\n",
       "\n",
       "    .dataframe thead th {\n",
       "        text-align: right;\n",
       "    }\n",
       "</style>\n",
       "<table border=\"1\" class=\"dataframe\">\n",
       "  <thead>\n",
       "    <tr style=\"text-align: right;\">\n",
       "      <th></th>\n",
       "      <th>1970-1979</th>\n",
       "      <th>1980-1989</th>\n",
       "      <th>1990-1999</th>\n",
       "      <th>2000-2009</th>\n",
       "      <th>2010-2019</th>\n",
       "    </tr>\n",
       "  </thead>\n",
       "  <tbody>\n",
       "    <tr>\n",
       "      <th>Number of Interviews Conducted in Decade</th>\n",
       "      <td>139</td>\n",
       "      <td>118</td>\n",
       "      <td>50</td>\n",
       "      <td>1088</td>\n",
       "      <td>1240</td>\n",
       "    </tr>\n",
       "    <tr>\n",
       "      <th>Number of Interviews Conducted in Decade Containing Sexual Harassment Speech Events</th>\n",
       "      <td>4</td>\n",
       "      <td>5</td>\n",
       "      <td>6</td>\n",
       "      <td>65</td>\n",
       "      <td>75</td>\n",
       "    </tr>\n",
       "    <tr>\n",
       "      <th>Percentage of Interviews Conducted in Decade Containing Sexual Harassment Speech Events</th>\n",
       "      <td>2</td>\n",
       "      <td>4</td>\n",
       "      <td>12</td>\n",
       "      <td>5</td>\n",
       "      <td>6</td>\n",
       "    </tr>\n",
       "  </tbody>\n",
       "</table>\n",
       "</div>"
      ],
      "text/plain": [
       "                                                    1970-1979  1980-1989  \\\n",
       "Number of Interviews Conducted in Decade                  139        118   \n",
       "Number of Interviews Conducted in Decade Contai...          4          5   \n",
       "Percentage of Interviews Conducted in Decade Co...          2          4   \n",
       "\n",
       "                                                    1990-1999  2000-2009  \\\n",
       "Number of Interviews Conducted in Decade                   50       1088   \n",
       "Number of Interviews Conducted in Decade Contai...          6         65   \n",
       "Percentage of Interviews Conducted in Decade Co...         12          5   \n",
       "\n",
       "                                                    2010-2019  \n",
       "Number of Interviews Conducted in Decade                 1240  \n",
       "Number of Interviews Conducted in Decade Contai...         75  \n",
       "Percentage of Interviews Conducted in Decade Co...          6  "
      ]
     },
     "metadata": {},
     "output_type": "display_data"
    }
   ],
   "source": [
    "display(df_percentage_in_int_year)"
   ]
  },
  {
   "cell_type": "code",
   "execution_count": 49,
   "metadata": {},
   "outputs": [],
   "source": [
    "total_by_int_year_for_table=[]\n",
    "hits_by_int_year_for_table=[]\n",
    "percentage_by_int_year_for_table=[]\n",
    "for i in range(int(years[0])//5*5, int(years[-1])//5*5+1, 5):\n",
    "    total=0\n",
    "    hits=0\n",
    "    for i in range(i, i+5, 1):\n",
    "        total+= year_to_number_of_interviews[str(i)]\n",
    "        hits+= year_to_number_of_interviews_SH[str(i)]\n",
    "    total_by_int_year_for_table.append(total)\n",
    "    hits_by_int_year_for_table.append(hits)\n",
    "    percentage_by_int_year_for_table.append(int(hits/total*100))"
   ]
  },
  {
   "cell_type": "code",
   "execution_count": 50,
   "metadata": {},
   "outputs": [],
   "source": [
    "df_percentage_in_int_year = pandas.DataFrame([total_by_int_year_for_table, hits_by_int_year_for_table, percentage_by_int_year_for_table], columns=['1970-1974', '1975-1979', '1980-1984', '1985-1989', '1990-1994', '1995-1999', '2000-2004', '2005-2009', '2010-2014', '2015-2019'], index=[\"Number of Interviews Conducted in Decade\", \"Number of Interviews Conducted in Decade Containing Sexual Harassment Speech Events\", \"Percentage of Interviews Conducted in Decade Containing Sexual Harassment Speech Events\"])"
   ]
  },
  {
   "cell_type": "code",
   "execution_count": 51,
   "metadata": {},
   "outputs": [
    {
     "data": {
      "text/html": [
       "<div>\n",
       "<style scoped>\n",
       "    .dataframe tbody tr th:only-of-type {\n",
       "        vertical-align: middle;\n",
       "    }\n",
       "\n",
       "    .dataframe tbody tr th {\n",
       "        vertical-align: top;\n",
       "    }\n",
       "\n",
       "    .dataframe thead th {\n",
       "        text-align: right;\n",
       "    }\n",
       "</style>\n",
       "<table border=\"1\" class=\"dataframe\">\n",
       "  <thead>\n",
       "    <tr style=\"text-align: right;\">\n",
       "      <th></th>\n",
       "      <th>1970-1974</th>\n",
       "      <th>1975-1979</th>\n",
       "      <th>1980-1984</th>\n",
       "      <th>1985-1989</th>\n",
       "      <th>1990-1994</th>\n",
       "      <th>1995-1999</th>\n",
       "      <th>2000-2004</th>\n",
       "      <th>2005-2009</th>\n",
       "      <th>2010-2014</th>\n",
       "      <th>2015-2019</th>\n",
       "    </tr>\n",
       "  </thead>\n",
       "  <tbody>\n",
       "    <tr>\n",
       "      <th>Number of Interviews Conducted in Decade</th>\n",
       "      <td>32</td>\n",
       "      <td>107</td>\n",
       "      <td>28</td>\n",
       "      <td>90</td>\n",
       "      <td>16</td>\n",
       "      <td>34</td>\n",
       "      <td>417</td>\n",
       "      <td>671</td>\n",
       "      <td>911</td>\n",
       "      <td>329</td>\n",
       "    </tr>\n",
       "    <tr>\n",
       "      <th>Number of Interviews Conducted in Decade Containing Sexual Harassment Speech Events</th>\n",
       "      <td>1</td>\n",
       "      <td>3</td>\n",
       "      <td>2</td>\n",
       "      <td>3</td>\n",
       "      <td>2</td>\n",
       "      <td>4</td>\n",
       "      <td>25</td>\n",
       "      <td>40</td>\n",
       "      <td>59</td>\n",
       "      <td>16</td>\n",
       "    </tr>\n",
       "    <tr>\n",
       "      <th>Percentage of Interviews Conducted in Decade Containing Sexual Harassment Speech Events</th>\n",
       "      <td>3</td>\n",
       "      <td>2</td>\n",
       "      <td>7</td>\n",
       "      <td>3</td>\n",
       "      <td>12</td>\n",
       "      <td>11</td>\n",
       "      <td>5</td>\n",
       "      <td>5</td>\n",
       "      <td>6</td>\n",
       "      <td>4</td>\n",
       "    </tr>\n",
       "  </tbody>\n",
       "</table>\n",
       "</div>"
      ],
      "text/plain": [
       "                                                    1970-1974  1975-1979  \\\n",
       "Number of Interviews Conducted in Decade                   32        107   \n",
       "Number of Interviews Conducted in Decade Contai...          1          3   \n",
       "Percentage of Interviews Conducted in Decade Co...          3          2   \n",
       "\n",
       "                                                    1980-1984  1985-1989  \\\n",
       "Number of Interviews Conducted in Decade                   28         90   \n",
       "Number of Interviews Conducted in Decade Contai...          2          3   \n",
       "Percentage of Interviews Conducted in Decade Co...          7          3   \n",
       "\n",
       "                                                    1990-1994  1995-1999  \\\n",
       "Number of Interviews Conducted in Decade                   16         34   \n",
       "Number of Interviews Conducted in Decade Contai...          2          4   \n",
       "Percentage of Interviews Conducted in Decade Co...         12         11   \n",
       "\n",
       "                                                    2000-2004  2005-2009  \\\n",
       "Number of Interviews Conducted in Decade                  417        671   \n",
       "Number of Interviews Conducted in Decade Contai...         25         40   \n",
       "Percentage of Interviews Conducted in Decade Co...          5          5   \n",
       "\n",
       "                                                    2010-2014  2015-2019  \n",
       "Number of Interviews Conducted in Decade                  911        329  \n",
       "Number of Interviews Conducted in Decade Contai...         59         16  \n",
       "Percentage of Interviews Conducted in Decade Co...          6          4  "
      ]
     },
     "metadata": {},
     "output_type": "display_data"
    }
   ],
   "source": [
    "display(df_percentage_in_int_year)"
   ]
  },
  {
   "cell_type": "code",
   "execution_count": 58,
   "metadata": {},
   "outputs": [
    {
     "name": "stdout",
     "output_type": "stream",
     "text": [
      "13095\n",
      "[9, 32, 49, 73, 102, 120, 107, 94, 73, 59, 38, 28, 33, 44, 36, 85, 90, 86, 72, 64, 17, 16, 14, 21, 26, 30, 34, 55, 108, 196, 310, 417, 530, 584, 710, 717, 671, 715, 781, 752, 805, 911, 861, 813, 676, 504, 329, 198]\n",
      "[0, 1, 1, 1, 1, 3, 3, 3, 3, 5, 3, 2, 3, 3, 1, 3, 3, 3, 3, 4, 2, 2, 2, 2, 2, 3, 4, 3, 4, 9, 18, 25, 34, 37, 48, 44, 40, 37, 54, 46, 51, 59, 58, 41, 38, 28, 16, 11]\n"
     ]
    }
   ],
   "source": [
    "INCREMENTS=5\n",
    "years=[]\n",
    "for i in range(1971, 2019):\n",
    "    years.append(i)\n",
    "total=[]\n",
    "hits_formatted=[]\n",
    "for i in years:\n",
    "    total_num=0\n",
    "    hits_num=0\n",
    "    for j in range(max(1971, i-2), min(2019, i+3)):\n",
    "        total_num+=year_to_number_of_interviews[str(j)]\n",
    "        hits_num+= year_to_number_of_interviews_SH[str(j)]\n",
    "    total.append(total_num)\n",
    "    hits_formatted.append(hits_num)\n",
    "percentage_int_year=[]\n",
    "totalnum=sum(total)\n",
    "print(totalnum)\n",
    "for i in range(len(years)):\n",
    "    if total[i]==0:\n",
    "        percentage_int_year.append(0)\n",
    "    else:    \n",
    "        percentage_int_year.append(int(hits_formatted[i]/total[i]*100))\n",
    "print(total)\n",
    "print(hits_formatted)"
   ]
  },
  {
   "cell_type": "code",
   "execution_count": 59,
   "metadata": {},
   "outputs": [
    {
     "data": {
      "image/png": "[encoded data removed]",
      "text/plain": [
       "<Figure size 432x288 with 1 Axes>"
      ]
     },
     "metadata": {
      "needs_background": "light"
     },
     "output_type": "display_data"
    }
   ],
   "source": [
    "Year = range(len(percentage_int_year))\n",
    "percentages = percentage_int_year\n",
    "pyplot.plot(Year, percentages)\n",
    "pyplot.plot(Year, [int(100*sum(hits_formatted)/totalnum) for i in range(len(percentage_int_year)) ], linestyle=\"dashed\")\n",
    "pyplot.title('Percentage of Interviews in Interview Year \\n Containing Sexual Harassment Speech Events in \\n'+str(INCREMENTS)+ \" Year Windows Centered Around Each Year\")\n",
    "pyplot.xlabel('Year')\n",
    "pyplot.ylabel('Percentage')\n",
    "pyplot.xticks(rotation = 45)\n",
    "positions = [len(percentage_int_year)*i//5 for i in range(6)]\n",
    "labels = (1971, 1980, 1990, 2000, 2010, 2020)\n",
    "pyplot.xticks(positions, labels)\n",
    "pyplot.show()"
   ]
  },
  {
   "cell_type": "code",
   "execution_count": null,
   "metadata": {},
   "outputs": [],
   "source": []
  }
 ],
 "metadata": {
  "kernelspec": {
   "display_name": "Python 3",
   "language": "python",
   "name": "python3"
  },
  "language_info": {
   "codemirror_mode": {
    "name": "ipython",
    "version": 3
   },
   "file_extension": ".py",
   "mimetype": "text/x-python",
   "name": "python",
   "nbconvert_exporter": "python",
   "pygments_lexer": "ipython3",
   "version": "3.8.5"
  }
 },
 "nbformat": 4,
 "nbformat_minor": 4
}
