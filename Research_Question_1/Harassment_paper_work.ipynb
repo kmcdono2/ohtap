{
 "cells": [
  {
   "cell_type": "code",
   "execution_count": 84,
   "metadata": {},
   "outputs": [],
   "source": [
    "import csv\n",
    "import numpy as np\n",
    "from collections import defaultdict\n",
    "from matplotlib import pyplot\n",
    "import pandas\n",
    "import matplotlib"
   ]
  },
  {
   "cell_type": "code",
   "execution_count": 24,
   "metadata": {},
   "outputs": [],
   "source": [
    "BLANKS=[\"\",\"RBNF1\", \"RBNF2\", \"RBNF\", \"0\", \"RBNF 1\", \"RBNF 2\"]\n",
    "TOTAL=2734\n",
    "TOTAL_INTER= 2645"
   ]
  },
  {
   "cell_type": "code",
   "execution_count": 3,
   "metadata": {},
   "outputs": [],
   "source": [
    "def loadCsvData(fileName):\n",
    "\tmatrix = []\n",
    "\t# open a file\n",
    "\twith open(fileName) as f:\n",
    "\t\treader = csv.reader(f)\n",
    "        # loop over each row in the file\n",
    "\t\tfor row in reader:\n",
    "\n",
    "\t\t\t# cast each value to a float\n",
    "\t\t\tdoubleRow = []\n",
    "\t\t\tfor value in row:\n",
    "\t\t\t\tdoubleRow.append(value.strip())\n",
    "\n",
    "\t\t\t# store the row into our matrix\n",
    "\t\t\tmatrix.append(doubleRow)\n",
    "\treturn matrix"
   ]
  },
  {
   "cell_type": "code",
   "execution_count": 4,
   "metadata": {},
   "outputs": [],
   "source": [
    "data= loadCsvData(\"data/metadata.csv\")"
   ]
  },
  {
   "cell_type": "code",
   "execution_count": 5,
   "metadata": {},
   "outputs": [],
   "source": [
    "data=pandas.DataFrame(data[1:], columns=data[0])"
   ]
  },
  {
   "cell_type": "code",
   "execution_count": 6,
   "metadata": {},
   "outputs": [],
   "source": [
    "interviewtxt =loadCsvData(\"data/interview text file to ids.csv\")"
   ]
  },
  {
   "cell_type": "code",
   "execution_count": 7,
   "metadata": {},
   "outputs": [],
   "source": [
    "interviewtxt=pandas.DataFrame(interviewtxt[1:], columns=interviewtxt[0])"
   ]
  },
  {
   "cell_type": "code",
   "execution_count": 21,
   "metadata": {},
   "outputs": [],
   "source": [
    "text_to_ids=defaultdict(lambda: defaultdict(lambda:\"0\"))\n",
    "for i in range(len(interviewtxt)):\n",
    "    if interviewtxt[\"no_transcript\"][i]==\"TRUE\":\n",
    "        continue\n",
    "    name=interviewtxt.at[i, interviewtxt.columns[0]]\n",
    "    name=name[:name.rfind('.')]\n",
    "    name=name.replace('\\'','_')\n",
    "    people=interviewtxt[\"interviewee_ids\"][i].split(';')\n",
    "    women=False\n",
    "    for j in people:\n",
    "        if database[j][\"sex\"]==\"Female\":\n",
    "            women=True\n",
    "            break\n",
    "    if not women:\n",
    "        continue\n",
    "    text_to_ids[name][\"id\"]=people\n",
    "    date=interviewtxt[\"date_of_first_interview\"][i]\n",
    "    text_to_ids[name][\"interview year\"]= date[date.rfind(\"/\")+1:]"
   ]
  },
  {
   "cell_type": "code",
   "execution_count": 9,
   "metadata": {},
   "outputs": [],
   "source": [
    "ids_to_years=defaultdict(lambda: defaultdict(lambda:\"0\"))\n",
    "for i in range(len(interviewtxt)):\n",
    "    date=interviewtxt[\"date_of_first_interview\"][i]\n",
    "    year=date[date.rfind('/')+1:]\n",
    "    ids=interviewtxt[\"interviewee_ids\"][i].split(';')\n",
    "    no_transcript=interviewtxt[\"no_transcript\"][i]\n",
    "    for num in ids:\n",
    "        ids_to_years[num][\"year\"]= str(year)\n",
    "        if no_transcript==\"TRUE\" and ids_to_years[num][\"included\"]==\"0\":\n",
    "            ids_to_years[num][\"included\"]=False\n",
    "        else:\n",
    "            ids_to_years[num][\"included\"]=True"
   ]
  },
  {
   "cell_type": "code",
   "execution_count": 19,
   "metadata": {},
   "outputs": [],
   "source": [
    "database=defaultdict(lambda: defaultdict(lambda:0))\n",
    "for i in range(len(data)):\n",
    "    if ids_to_years[data.loc[i, \"interviewee_id\"]][\"included\"]==False:\n",
    "        continue\n",
    "    for atr in data.columns:\n",
    "        if atr== \"researcher_assumed_birth_decade\":\n",
    "            continue\n",
    "        if atr== \"researcher_assumed_race\":\n",
    "            continue\n",
    "        value= data[atr][i]\n",
    "        if value in BLANKS and atr==\"\\ufeffbirth_decade\":\n",
    "            value= data.loc[i, \"researcher_assumed_birth_decade\"]\n",
    "        if value in BLANKS and atr==\"identified_race\":\n",
    "            value= data.loc[i, \"researcher_assumed_race\"]\n",
    "        if value in BLANKS and atr == \"real_interviewee_birth_year\":\n",
    "            value= data.loc[i, \"approximate_interviewee_birth_year\"]\n",
    "        database[data.loc[i, \"interviewee_id\"]][atr]=value\n",
    "    database[data.loc[i, \"interviewee_id\"]][\"interview_year\"]=ids_to_years[data.loc[i, \"interviewee_id\"]][\"year\"]"
   ]
  },
  {
   "cell_type": "code",
   "execution_count": 11,
   "metadata": {},
   "outputs": [],
   "source": [
    "dataformatted=defaultdict(lambda: defaultdict(lambda:0))\n",
    "for i in database : \n",
    "    if database[i][\"sex\"]==\"Male\":\n",
    "        continue\n",
    "    for atr in database[i]:\n",
    "        value= database[i][atr]\n",
    "        if value not in BLANKS:\n",
    "            dataformatted[atr][value]+=1\n",
    "for cat in dataformatted:\n",
    "    total=0\n",
    "    for x in dataformatted[cat]:\n",
    "        total+= dataformatted[cat][x]\n",
    "    dataformatted[cat][\"No Info\"]= TOTAL-total"
   ]
  },
  {
   "cell_type": "code",
   "execution_count": 12,
   "metadata": {},
   "outputs": [],
   "source": [
    "ids_to_info=defaultdict(lambda: defaultdict(lambda:0))\n",
    "for ids in database:\n",
    "    ids_to_info[ids][\"birth_decade\"]=database[ids][\"\\ufeffbirth_decade\"]\n",
    "    ids_to_info[ids][\"education\"]=database[ids][\"education\"]\n",
    "    ids_to_info[ids][\"collection\"]=database[ids][\"collection_id\"]\n",
    "    ids_to_info[ids][\"sex\"]=database[ids][\"sex\"]\n",
    "    ids_to_info[ids][\"race\"]=database[ids][\"identified_race\"]\n",
    "    ids_to_info[ids][\"interview_year\"]=database[ids][\"interview_year\"]\n",
    "    ids_to_info[ids][\"birth_year\"]=database[ids][\"real_interviewee_birth_year\"]"
   ]
  },
  {
   "cell_type": "code",
   "execution_count": 15,
   "metadata": {},
   "outputs": [],
   "source": [
    "myfile = open(\"data/all_sexual_harassment.txt\", encoding=\"latin1\")\n",
    "txt = myfile.read()\n",
    "myfile.close()\n",
    "\n",
    "files=[]\n",
    "tokens=txt.split()\n",
    "for i in tokens:\n",
    "    num= i.find(\"Files\\\\\\\\\")\n",
    "    if not num==-1:\n",
    "        if not i.find(\"_\")==-1:\n",
    "            files.append(i.strip())\n",
    "names=set()\n",
    "for i in files:\n",
    "    i=i[i.find(\"\\\\\\\\\",8)+2:-1]\n",
    "    names.add(i.strip())\n"
   ]
  },
  {
   "cell_type": "code",
   "execution_count": 32,
   "metadata": {},
   "outputs": [],
   "source": [
    "df_total_corpus = pandas.DataFrame([[TOTAL_INTER, len(names), int(len(names)/TOTAL_INTER*100)]],columns=[\"Total Corpus Interviews\", \"Number of Interviews Containing Sexual Harassment Speech Events\", \"Percentage Of Interviews Containing Sexual Harassment Speech Events\"], index=[\"\"])"
   ]
  },
  {
   "cell_type": "code",
   "execution_count": 33,
   "metadata": {},
   "outputs": [
    {
     "data": {
      "text/html": [
       "<div>\n",
       "<style scoped>\n",
       "    .dataframe tbody tr th:only-of-type {\n",
       "        vertical-align: middle;\n",
       "    }\n",
       "\n",
       "    .dataframe tbody tr th {\n",
       "        vertical-align: top;\n",
       "    }\n",
       "\n",
       "    .dataframe thead th {\n",
       "        text-align: right;\n",
       "    }\n",
       "</style>\n",
       "<table border=\"1\" class=\"dataframe\">\n",
       "  <thead>\n",
       "    <tr style=\"text-align: right;\">\n",
       "      <th></th>\n",
       "      <th>Total Corpus Interviews</th>\n",
       "      <th>Number of Interviews Containing Sexual Harassment Speech Events</th>\n",
       "      <th>Percentage Of Interviews Containing Sexual Harassment Speech Events</th>\n",
       "    </tr>\n",
       "  </thead>\n",
       "  <tbody>\n",
       "    <tr>\n",
       "      <th></th>\n",
       "      <td>2645</td>\n",
       "      <td>156</td>\n",
       "      <td>5</td>\n",
       "    </tr>\n",
       "  </tbody>\n",
       "</table>\n",
       "</div>"
      ],
      "text/plain": [
       "  Total Corpus Interviews  \\\n",
       "                     2645   \n",
       "\n",
       "  Number of Interviews Containing Sexual Harassment Speech Events  \\\n",
       "                                                156                 \n",
       "\n",
       "  Percentage Of Interviews Containing Sexual Harassment Speech Events  \n",
       "                                                  5                    "
      ]
     },
     "metadata": {},
     "output_type": "display_data"
    }
   ],
   "source": [
    "display(df_total_corpus)"
   ]
  },
  {
   "cell_type": "markdown",
   "metadata": {},
   "source": [
    "Speech Events"
   ]
  },
  {
   "cell_type": "code",
   "execution_count": 44,
   "metadata": {},
   "outputs": [
    {
     "name": "stdout",
     "output_type": "stream",
     "text": [
      "219\n"
     ]
    }
   ],
   "source": [
    "myfile = open(\"data/all_sexual_harassment.txt\", encoding=\"latin1\")\n",
    "txt = myfile.read()\n",
    "myfile.close()\n",
    "\n",
    "num_speech_events_SH=0\n",
    "\n",
    "txt=txt.split(\"\\n\")\n",
    "for i in txt:\n",
    "    num= i.find(\">\")\n",
    "    if not num==-1:\n",
    "        tokens=i.split()\n",
    "        num_speech_events_SH+=int(tokens[3])\n",
    "print(num_speech_events_SH)"
   ]
  },
  {
   "cell_type": "code",
   "execution_count": 45,
   "metadata": {},
   "outputs": [
    {
     "name": "stdout",
     "output_type": "stream",
     "text": [
      "881\n"
     ]
    }
   ],
   "source": [
    "myfile = open(\"data/all_events.txt\", encoding=\"latin1\")\n",
    "txt = myfile.read()\n",
    "myfile.close()\n",
    "\n",
    "num_speech_events=0\n",
    "\n",
    "txt=txt.split(\"\\n\")\n",
    "for i in txt:\n",
    "    num= i.find(\">\")\n",
    "    if not num==-1:\n",
    "        tokens=i.split()\n",
    "        num_speech_events+=int(tokens[3])\n",
    "print(num_speech_events)"
   ]
  },
  {
   "cell_type": "code",
   "execution_count": 48,
   "metadata": {},
   "outputs": [],
   "source": [
    "df_total_corpus = pandas.DataFrame([[num_speech_events, num_speech_events_SH, int(100*num_speech_events_SH/num_speech_events)]],columns=[\"Total Speech Events\", \"Number of Speech Events Regarding Sexual Harassment\", \"Percentage Of Speech Events Containing Sexual Harassment\"], index=[\"\"])"
   ]
  },
  {
   "cell_type": "code",
   "execution_count": 49,
   "metadata": {},
   "outputs": [
    {
     "data": {
      "text/html": [
       "<div>\n",
       "<style scoped>\n",
       "    .dataframe tbody tr th:only-of-type {\n",
       "        vertical-align: middle;\n",
       "    }\n",
       "\n",
       "    .dataframe tbody tr th {\n",
       "        vertical-align: top;\n",
       "    }\n",
       "\n",
       "    .dataframe thead th {\n",
       "        text-align: right;\n",
       "    }\n",
       "</style>\n",
       "<table border=\"1\" class=\"dataframe\">\n",
       "  <thead>\n",
       "    <tr style=\"text-align: right;\">\n",
       "      <th></th>\n",
       "      <th>Total Speech Events</th>\n",
       "      <th>Number of Speech Events Regarding Sexual Harassment</th>\n",
       "      <th>Percentage Of Speech Events Containing Sexual Harassment</th>\n",
       "    </tr>\n",
       "  </thead>\n",
       "  <tbody>\n",
       "    <tr>\n",
       "      <th></th>\n",
       "      <td>881</td>\n",
       "      <td>219</td>\n",
       "      <td>24</td>\n",
       "    </tr>\n",
       "  </tbody>\n",
       "</table>\n",
       "</div>"
      ],
      "text/plain": [
       "  Total Speech Events  Number of Speech Events Regarding Sexual Harassment  \\\n",
       "                  881                                                219     \n",
       "\n",
       "  Percentage Of Speech Events Containing Sexual Harassment  \n",
       "                                                 24         "
      ]
     },
     "metadata": {},
     "output_type": "display_data"
    }
   ],
   "source": [
    "display(df_total_corpus)"
   ]
  },
  {
   "cell_type": "code",
   "execution_count": 52,
   "metadata": {},
   "outputs": [],
   "source": [
    "years=[]\n",
    "for i in range(1870, 2000, 10):\n",
    "    years.append(str(i))"
   ]
  },
  {
   "cell_type": "code",
   "execution_count": null,
   "metadata": {},
   "outputs": [],
   "source": []
  },
  {
   "cell_type": "code",
   "execution_count": 95,
   "metadata": {},
   "outputs": [
    {
     "name": "stdout",
     "output_type": "stream",
     "text": [
      "[1, 9, 36, 66, 150, 268, 207, 253, 122, 57, 31, 25, 3] [0, 0, 0, 2, 6, 18, 13, 33, 9, 3, 0, 0, 0]\n",
      "0\n",
      "2\n",
      "4\n",
      "6\n",
      "8\n",
      "10\n",
      "12\n",
      "[0, 3, 4, 4, 6, 4, 0]\n"
     ]
    }
   ],
   "source": [
    "DECADE_INCREMENTS=2\n",
    "birthyear_to_number_of_interviews_white=defaultdict(lambda:0)\n",
    "birthyear_to_number_of_interviews_CSH_white=defaultdict(lambda:0)\n",
    "birthyear_to_number_of_interviews_black=defaultdict(lambda:0)\n",
    "birthyear_to_number_of_interviews_CSH_black=defaultdict(lambda:0)\n",
    "for i in text_to_ids:\n",
    "    for j in text_to_ids[i][\"id\"]:\n",
    "        if  database[j][\"identified_race\"]==\"Black or African American\":\n",
    "            birthyear_to_number_of_interviews_black[database[j][\"\\ufeffbirth_decade\"]]+=1\n",
    "        elif database[j][\"identified_race\"]==\"White\":\n",
    "            birthyear_to_number_of_interviews_white[database[j][\"\\ufeffbirth_decade\"]]+=1\n",
    "for i in names:\n",
    "    for j in text_to_ids[i][\"id\"]:\n",
    "        if database[j][\"identified_race\"]==\"White\":\n",
    "            birthyear_to_number_of_interviews_CSH_white[database[j][\"\\ufeffbirth_decade\"]]+=1\n",
    "        elif database[j][\"identified_race\"]==\"Black or African American\":\n",
    "            birthyear_to_number_of_interviews_CSH_black[database[j][\"\\ufeffbirth_decade\"]]+=1\n",
    "\n",
    "total_white=[]\n",
    "hits_formatted_white=[]\n",
    "total_black=[]\n",
    "hits_formatted_black=[]\n",
    "for i in years:\n",
    "    total_white.append(birthyear_to_number_of_interviews_white[str(i)])\n",
    "    hits_formatted_white.append(birthyear_to_number_of_interviews_CSH_white[str(i)])\n",
    "    total_black.append(birthyear_to_number_of_interviews_black[str(i)])\n",
    "    hits_formatted_black.append(birthyear_to_number_of_interviews_CSH_black[str(i)])\n",
    "print(total_white, hits_formatted_white)\n",
    "percentage_withNI_white=[]\n",
    "percentage_withNI_black=[]\n",
    "total_white_blocks=[]\n",
    "hits_formatted_white_blocks=[]\n",
    "total_black_blocks=[]\n",
    "hits_formatted_black_blocks=[]\n",
    "for i in range(0,len(years),DECADE_INCREMENTS):\n",
    "    white_total=0\n",
    "    white_hits=0\n",
    "    black_total=0\n",
    "    black_hits=0\n",
    "    print(i)\n",
    "    for j in range(i, min(i+DECADE_INCREMENTS, len(years))):\n",
    "        white_total+= total_white[j]\n",
    "        white_hits+= hits_formatted_white[j]\n",
    "        black_total+= total_black[j]\n",
    "        black_hits+= hits_formatted_black[j]\n",
    "    if white_total==0:\n",
    "        percentage_withNI_white.append(0)\n",
    "    else:    \n",
    "        percentage_withNI_white.append(int(white_hits/white_total*100))\n",
    "    if black_total==0:\n",
    "        percentage_withNI_black.append(0)\n",
    "    else:\n",
    "        percentage_withNI_black.append(int(black_hits/black_total*100))\n",
    "    total_white_blocks.append(white_total)\n",
    "    hits_formatted_white_blocks.append(white_hits)\n",
    "    total_black_blocks.append(black_total)\n",
    "    hits_formatted_black_blocks.append(black_hits)\n",
    "print(percentage_withNI_black)\n"
   ]
  },
  {
   "cell_type": "code",
   "execution_count": 97,
   "metadata": {},
   "outputs": [
    {
     "name": "stdout",
     "output_type": "stream",
     "text": [
      "[0 1 2 3 4 5 6]\n"
     ]
    },
    {
     "data": {
      "text/plain": [
       "<matplotlib.legend.Legend at 0x7ff83716ca30>"
      ]
     },
     "execution_count": 97,
     "metadata": {},
     "output_type": "execute_result"
    },
    {
     "data": {
      "image/png": "[encoded data removed]",
      "text/plain": [
       "<Figure size 432x288 with 1 Axes>"
      ]
     },
     "metadata": {
      "needs_background": "light"
     },
     "output_type": "display_data"
    }
   ],
   "source": [
    "N = 7\n",
    "\n",
    "ind = np.arange(N) \n",
    "print(ind)\n",
    "\n",
    "# some example data\n",
    "    \n",
    "    \n",
    "black = np.array(percentage_withNI_black)\n",
    "white=np.array(percentage_withNI_white)\n",
    "\n",
    "\n",
    "x = range(N)\n",
    "\n",
    "\n",
    "# and plot it\n",
    "fig, ax = pyplot.subplots()\n",
    "hm=ax.bar(ind-.35/2, black, .35, label=\"Black\")\n",
    "total=ax.bar(ind+.35/2, white, .35, label=\"White\")\n",
    "ax.set_xticks(np.array([x for x in range(7)]))\n",
    "ax.tick_params(axis='both', which='major', labelsize=8)\n",
    "ax.tick_params(axis='both', which='minor', labelsize=4)\n",
    "dx = .25\n",
    "offset = matplotlib.transforms.ScaledTranslation(dx, dy, fig.dpi_scale_trans)\n",
    "for label in ax.xaxis.get_majorticklabels():\n",
    "    label.set_transform(label.get_transform() + offset)\n",
    "ax.set_xticklabels(['1870-1889', '1890-1909', '1910-1929', '1930-1949', '1950-1969', '1970-1989', '1990-1999'])\n",
    "ax.set_title(\"Percent of Black and White Women's Interviews Containing Sexual Harassment Speech Events, by Birth Cohorts\")\n",
    "ax.set_ylabel('Percent of Interviews with Speech Events')\n",
    "ax.set_xlabel('Interviewee Years of Birth')\n",
    "pyplot.setp(ax.get_xticklabels(), horizontalalignment='right')\n",
    "pyplot.legend()"
   ]
  },
  {
   "cell_type": "code",
   "execution_count": 92,
   "metadata": {},
   "outputs": [],
   "source": [
    "df_percentage_in_birth_cohort_by_race = pandas.DataFrame([total_black_blocks, hits_formatted_black_blocks, percentage_withNI_black, total_white_blocks, hits_formatted_white_blocks, percentage_withNI_white], columns=['1870-1889', '1890-1909', '1910-1929', '1930-1949', '1950-1969', '1970-1989', '1990-1999'], index=[\"Number of Interviews with Black Women\", \"Number of Interviews with Black Women Containing Sexual Harassment Speech Events\", \"Percentage of Black Women in Birth Cohort whose Interviews Containing Sexual Harassment Speech Events\", \"Number of Interviews with White Women\", \"Number of Interviews with White Women Containing Sexual Harassment Speech Events\", \"Percentage of White Women in Birth Cohort whose Interviews Containing Sexual Harassment Speech Events\"])"
   ]
  },
  {
   "cell_type": "code",
   "execution_count": 93,
   "metadata": {},
   "outputs": [
    {
     "data": {
      "text/html": [
       "<div>\n",
       "<style scoped>\n",
       "    .dataframe tbody tr th:only-of-type {\n",
       "        vertical-align: middle;\n",
       "    }\n",
       "\n",
       "    .dataframe tbody tr th {\n",
       "        vertical-align: top;\n",
       "    }\n",
       "\n",
       "    .dataframe thead th {\n",
       "        text-align: right;\n",
       "    }\n",
       "</style>\n",
       "<table border=\"1\" class=\"dataframe\">\n",
       "  <thead>\n",
       "    <tr style=\"text-align: right;\">\n",
       "      <th></th>\n",
       "      <th>1870-1889</th>\n",
       "      <th>1890-1909</th>\n",
       "      <th>1910-1929</th>\n",
       "      <th>1930-1949</th>\n",
       "      <th>1950-1969</th>\n",
       "      <th>1970-1989</th>\n",
       "      <th>1990-1999</th>\n",
       "    </tr>\n",
       "  </thead>\n",
       "  <tbody>\n",
       "    <tr>\n",
       "      <th>Number of Interviews with Black Women</th>\n",
       "      <td>7</td>\n",
       "      <td>82</td>\n",
       "      <td>210</td>\n",
       "      <td>533</td>\n",
       "      <td>341</td>\n",
       "      <td>25</td>\n",
       "      <td>2</td>\n",
       "    </tr>\n",
       "    <tr>\n",
       "      <th>Number of Interviews with Black Women Containing Sexual Harassment Speech Events</th>\n",
       "      <td>0</td>\n",
       "      <td>3</td>\n",
       "      <td>9</td>\n",
       "      <td>24</td>\n",
       "      <td>22</td>\n",
       "      <td>1</td>\n",
       "      <td>0</td>\n",
       "    </tr>\n",
       "    <tr>\n",
       "      <th>Percentage of Black Women in Birth Cohort whose Interviews Containing Sexual Harassment Speech Events</th>\n",
       "      <td>0</td>\n",
       "      <td>3</td>\n",
       "      <td>4</td>\n",
       "      <td>4</td>\n",
       "      <td>6</td>\n",
       "      <td>4</td>\n",
       "      <td>0</td>\n",
       "    </tr>\n",
       "    <tr>\n",
       "      <th>Number of Interviews with White Women</th>\n",
       "      <td>10</td>\n",
       "      <td>102</td>\n",
       "      <td>418</td>\n",
       "      <td>460</td>\n",
       "      <td>179</td>\n",
       "      <td>56</td>\n",
       "      <td>3</td>\n",
       "    </tr>\n",
       "    <tr>\n",
       "      <th>Number of Interviews with White Women Containing Sexual Harassment Speech Events</th>\n",
       "      <td>0</td>\n",
       "      <td>2</td>\n",
       "      <td>24</td>\n",
       "      <td>46</td>\n",
       "      <td>12</td>\n",
       "      <td>0</td>\n",
       "      <td>0</td>\n",
       "    </tr>\n",
       "    <tr>\n",
       "      <th>Percentage of White Women in Birth Cohort whose Interviews Containing Sexual Harassment Speech Events</th>\n",
       "      <td>0</td>\n",
       "      <td>1</td>\n",
       "      <td>5</td>\n",
       "      <td>10</td>\n",
       "      <td>6</td>\n",
       "      <td>0</td>\n",
       "      <td>0</td>\n",
       "    </tr>\n",
       "  </tbody>\n",
       "</table>\n",
       "</div>"
      ],
      "text/plain": [
       "                                                    1870-1889  1890-1909  \\\n",
       "Number of Interviews with Black Women                       7         82   \n",
       "Number of Interviews with Black Women Containin...          0          3   \n",
       "Percentage of Black Women in Birth Cohort whose...          0          3   \n",
       "Number of Interviews with White Women                      10        102   \n",
       "Number of Interviews with White Women Containin...          0          2   \n",
       "Percentage of White Women in Birth Cohort whose...          0          1   \n",
       "\n",
       "                                                    1910-1929  1930-1949  \\\n",
       "Number of Interviews with Black Women                     210        533   \n",
       "Number of Interviews with Black Women Containin...          9         24   \n",
       "Percentage of Black Women in Birth Cohort whose...          4          4   \n",
       "Number of Interviews with White Women                     418        460   \n",
       "Number of Interviews with White Women Containin...         24         46   \n",
       "Percentage of White Women in Birth Cohort whose...          5         10   \n",
       "\n",
       "                                                    1950-1969  1970-1989  \\\n",
       "Number of Interviews with Black Women                     341         25   \n",
       "Number of Interviews with Black Women Containin...         22          1   \n",
       "Percentage of Black Women in Birth Cohort whose...          6          4   \n",
       "Number of Interviews with White Women                     179         56   \n",
       "Number of Interviews with White Women Containin...         12          0   \n",
       "Percentage of White Women in Birth Cohort whose...          6          0   \n",
       "\n",
       "                                                    1990-1999  \n",
       "Number of Interviews with Black Women                       2  \n",
       "Number of Interviews with Black Women Containin...          0  \n",
       "Percentage of Black Women in Birth Cohort whose...          0  \n",
       "Number of Interviews with White Women                       3  \n",
       "Number of Interviews with White Women Containin...          0  \n",
       "Percentage of White Women in Birth Cohort whose...          0  "
      ]
     },
     "metadata": {},
     "output_type": "display_data"
    }
   ],
   "source": [
    "display(df_percentage_in_birth_cohort_by_race)"
   ]
  },
  {
   "cell_type": "code",
   "execution_count": 102,
   "metadata": {},
   "outputs": [
    {
     "data": {
      "text/plain": [
       "<matplotlib.legend.Legend at 0x7ff83864a100>"
      ]
     },
     "execution_count": 102,
     "metadata": {},
     "output_type": "execute_result"
    },
    {
     "data": {
      "image/png": "[encoded data removed]",
      "text/plain": [
       "<Figure size 432x288 with 1 Axes>"
      ]
     },
     "metadata": {
      "needs_background": "light"
     },
     "output_type": "display_data"
    }
   ],
   "source": [
    "N = 5\n",
    "\n",
    "ind = np.arange(N) \n",
    "\n",
    "# some example data\n",
    "    \n",
    "    \n",
    "black = np.array(percentage_withNI_black[1:6])\n",
    "white=np.array(percentage_withNI_white[1:6])\n",
    "\n",
    "\n",
    "x = range(N)\n",
    "\n",
    "\n",
    "# and plot it\n",
    "fig, ax = pyplot.subplots()\n",
    "hm=ax.bar(ind-.35/2, black, .35, label=\"Black\")\n",
    "total=ax.bar(ind+.35/2, white, .35, label=\"White\")\n",
    "ax.set_xticks(ind)\n",
    "ax.tick_params(axis='both', which='major', labelsize=10)\n",
    "ax.tick_params(axis='both', which='minor', labelsize=4)\n",
    "dx = .4\n",
    "offset = matplotlib.transforms.ScaledTranslation(dx, dy, fig.dpi_scale_trans)\n",
    "for label in ax.xaxis.get_majorticklabels():\n",
    "    label.set_transform(label.get_transform() + offset)\n",
    "ax.set_xticklabels(['1890-1909', '1910-1929', '1930-1949', '1950-1969', '1970-1989'])\n",
    "ax.set_title(\"Percent of Black and White Women's Interviews Containing Sexual Harassment Speech Events, by Birth Cohorts\")\n",
    "ax.set_ylabel('Percent of Interviews with Speech Events')\n",
    "ax.set_xlabel('Interviewee Years of Birth')\n",
    "pyplot.setp(ax.get_xticklabels(), horizontalalignment='right')\n",
    "pyplot.legend()"
   ]
  },
  {
   "cell_type": "code",
   "execution_count": null,
   "metadata": {},
   "outputs": [],
   "source": []
  }
 ],
 "metadata": {
  "kernelspec": {
   "display_name": "Python 3",
   "language": "python",
   "name": "python3"
  },
  "language_info": {
   "codemirror_mode": {
    "name": "ipython",
    "version": 3
   },
   "file_extension": ".py",
   "mimetype": "text/x-python",
   "name": "python",
   "nbconvert_exporter": "python",
   "pygments_lexer": "ipython3",
   "version": "3.8.5"
  }
 },
 "nbformat": 4,
 "nbformat_minor": 4
}
