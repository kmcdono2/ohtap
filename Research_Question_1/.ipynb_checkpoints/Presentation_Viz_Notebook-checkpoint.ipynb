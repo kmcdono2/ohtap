{
 "cells": [
  {
   "cell_type": "code",
   "execution_count": 1,
   "metadata": {},
   "outputs": [],
   "source": [
    "import csv\n",
    "import numpy as np\n",
    "from collections import defaultdict\n",
    "from matplotlib import pyplot\n",
    "import pandas"
   ]
  },
  {
   "cell_type": "code",
   "execution_count": 2,
   "metadata": {},
   "outputs": [],
   "source": [
    "BLANKS=[\"\",\"RBNF1\", \"RBNF2\", \"RBNF\", \"0\", \"RBNF 1\", \"RBNF 2\"]\n",
    "#TOTAL= 5048\n",
    "TOTAL=2734\n",
    "#TOTAL=1351\n",
    "#TOTAL=1201\n",
    "#TOTAL=1168\n",
    "#TOTAL=996\n",
    "#TOTAL=194"
   ]
  },
  {
   "cell_type": "code",
   "execution_count": 3,
   "metadata": {},
   "outputs": [],
   "source": [
    "def loadCsvData(fileName):\n",
    "\tmatrix = []\n",
    "\t# open a file\n",
    "\twith open(fileName) as f:\n",
    "\t\treader = csv.reader(f)\n",
    "\n",
    "\t\t# loop over each row in the file\n",
    "\t\tfor row in reader:\n",
    "\n",
    "\t\t\t# cast each value to a float\n",
    "\t\t\tdoubleRow = []\n",
    "\t\t\tfor value in row:\n",
    "\t\t\t\tdoubleRow.append(str(value).strip())\n",
    "\n",
    "\t\t\t# store the row into our matrix\n",
    "\t\t\tmatrix.append(doubleRow)\n",
    "\treturn matrix"
   ]
  },
  {
   "cell_type": "code",
   "execution_count": 4,
   "metadata": {},
   "outputs": [],
   "source": [
    "def printData(matrix):\n",
    "\tfor row in matrix:\n",
    "\t\tprint (row)"
   ]
  },
  {
   "cell_type": "code",
   "execution_count": 5,
   "metadata": {},
   "outputs": [],
   "source": [
    "data= loadCsvData(\"data/metadata.csv\")"
   ]
  },
  {
   "cell_type": "code",
   "execution_count": 6,
   "metadata": {},
   "outputs": [],
   "source": [
    "data=pandas.DataFrame(data[1:], columns=data[0])"
   ]
  },
  {
   "cell_type": "code",
   "execution_count": 7,
   "metadata": {},
   "outputs": [],
   "source": [
    "#whole corpus processing\n",
    "database=defaultdict(lambda: defaultdict(lambda:0))\n",
    "for i in range(len(data)):\n",
    "    #if not data[\"collection_id\"][i]== \"HM\":\n",
    "    #    continue\n",
    "    #if data[\"sex\"][i] ==\"Male\":\n",
    "    #    continue\n",
    "    for atr in data.columns:\n",
    "        if atr== \"researcher_assumed_birth_decade\":\n",
    "            continue\n",
    "        if atr== \"researcher_assumed_race\":\n",
    "            continue\n",
    "        value= data[atr][i]\n",
    "        if value in BLANKS and atr==\"\\ufeffbirth_decade\":\n",
    "            value= data.loc[i, \"researcher_assumed_birth_decade\"]\n",
    "        if value in BLANKS and atr==\"identified_race\":\n",
    "            value= data.loc[i, \"researcher_assumed_race\"]\n",
    "        database[i][atr]=value\n"
   ]
  },
  {
   "cell_type": "code",
   "execution_count": 8,
   "metadata": {},
   "outputs": [],
   "source": [
    "dataformatted=defaultdict(lambda: defaultdict(lambda:0))\n",
    "for i in database : \n",
    "    if database[i][\"sex\"]==\"Male\":\n",
    "        continue\n",
    "    for atr in database[i]:\n",
    "        value= database[i][atr]\n",
    "        if value not in BLANKS:\n",
    "            dataformatted[atr][value]+=1\n",
    "for cat in dataformatted:\n",
    "    total=0\n",
    "    for x in dataformatted[cat]:\n",
    "        total+= dataformatted[cat][x]\n",
    "    dataformatted[cat][\"No Info\"]= TOTAL-total"
   ]
  },
  {
   "cell_type": "code",
   "execution_count": 9,
   "metadata": {},
   "outputs": [],
   "source": [
    "#HM processing\n",
    "databaseHM=defaultdict(lambda: defaultdict(lambda:0))\n",
    "for i in range(len(data)):\n",
    "    if not data[\"collection_id\"][i]== \"HM\":\n",
    "        continue\n",
    "    #if data[\"sex\"][i] ==\"Male\":\n",
    "    #    continue\n",
    "    for atr in data.columns:\n",
    "        if atr== \"researcher_assumed_birth_decade\":\n",
    "            continue\n",
    "        if atr== \"researcher_assumed_race\":\n",
    "            continue\n",
    "        value= data[atr][i]\n",
    "        if value in BLANKS and atr==\"\\ufeffbirth_decade\":\n",
    "            value= data.loc[i, \"researcher_assumed_birth_decade\"]\n",
    "        if value in BLANKS and atr==\"identified_race\":\n",
    "            value= data.loc[i, \"researcher_assumed_race\"]\n",
    "        databaseHM[i][atr]=value"
   ]
  },
  {
   "cell_type": "code",
   "execution_count": 10,
   "metadata": {},
   "outputs": [],
   "source": [
    "dataformattedHM=defaultdict(lambda: defaultdict(lambda:0))\n",
    "for i in databaseHM: \n",
    "    if databaseHM[i][\"sex\"]==\"Male\":\n",
    "        continue\n",
    "    for atr in databaseHM[i]:\n",
    "        value= databaseHM[i][atr]\n",
    "        if value not in BLANKS:\n",
    "            dataformattedHM[atr][value]+=1\n",
    "for cat in dataformattedHM:\n",
    "    total=0\n",
    "    for x in dataformattedHM[cat]:\n",
    "        total+= dataformattedHM[cat][x]\n",
    "    dataformattedHM[cat][\"No Info\"]= TOTAL-total"
   ]
  },
  {
   "cell_type": "code",
   "execution_count": 11,
   "metadata": {},
   "outputs": [],
   "source": [
    "#Hits processing\n",
    "interviewtxt =loadCsvData(\"data/interview text fille to ids.csv\")"
   ]
  },
  {
   "cell_type": "code",
   "execution_count": 12,
   "metadata": {},
   "outputs": [],
   "source": [
    "interviewtxt=pandas.DataFrame(interviewtxt[1:], columns=interviewtxt[0])"
   ]
  },
  {
   "cell_type": "code",
   "execution_count": 13,
   "metadata": {},
   "outputs": [],
   "source": [
    "text_to_ids={}\n",
    "for i in range(len(interviewtxt)):\n",
    "    name=interviewtxt.at[i, interviewtxt.columns[0]]\n",
    "    name=name[:name.rfind('.')]\n",
    "    name=name.replace('\\'','_')\n",
    "    text_to_ids[name]=interviewtxt[\"interviewee_ids\"][i].split(';')\n"
   ]
  },
  {
   "cell_type": "code",
   "execution_count": 14,
   "metadata": {},
   "outputs": [],
   "source": [
    "ids_to_info=defaultdict(lambda: defaultdict(lambda:0))\n",
    "for i in range(len(database)):\n",
    "    ids=database[i][\"interviewee_id\"]\n",
    "    ids_to_info[ids][\"birth_decade\"]=database[i][\"\\ufeffbirth_decade\"]\n",
    "    if database[i][\"\\ufeffbirth_decade\"] ==0:\n",
    "        print(\"huh\")\n",
    "    ids_to_info[ids][\"education\"]=database[i][\"education\"]\n",
    "    ids_to_info[ids][\"collection\"]=database[i][\"collection_id\"]\n",
    "    ids_to_info[ids][\"sex\"]=database[i][\"sex\"]"
   ]
  },
  {
   "cell_type": "code",
   "execution_count": 37,
   "metadata": {},
   "outputs": [
    {
     "name": "stdout",
     "output_type": "stream",
     "text": [
      "{'HM_Shipp_E.', 'BWOH_Thomas_Constance', 'BWSP_Leonard_Margery', 'HM_Adams_Carol', 'UNCTWMS_Ray_Sylvia', 'HM_Ebert_Chaz', 'HM_McElroy_Marion', 'SCAL_Ahrens_Lois', 'SCAP_Callahan_Kara', 'HM_Pool-Eckert_Marquita', 'HM_Sci_LaVerne', 'HM_Farmer_Sharon', 'BWOH_Adams_Kathleen', 'HM_Spann-Cooper_Melody', 'SHSF_Tversky_Barbara', 'SHSF_Gelpi_Barbara', 'HM_Lowery_Evelyn', 'HM_Billingsley_Amy', 'WOL_Weedn_Trish', 'HM_Mitchell_Mary', 'RTRB_Branan_Bettye', 'RTRB_Buls_Patricia', 'SCVF_Frantz_Marge', 'UNCTWMS_Brown_Donna_Uma_Aisha_HaQQ_Amira_Inas', 'SHSF_Martin_Joanne', 'UNCTWMS_Begalla_Martha', 'WOL_Williams_Penny', 'SCAL_Newman_Leslea', 'WOL_Floyd_Billie_Jean', 'HM_Chenzira_Ayoka', 'UNCTWMS_Garcia_Serena', 'HM_Slade_Karen', 'RTRB_Gee_Maggie_3', 'SHSF_Kennedy_Jeanne', 'ROHA_Spetgang_Tilly_2', 'HM_Hampshire-Cowan_Artis', 'UNCTWMS_Henderson_Margaret', 'BWOH_Smith_Julia', 'BWOH_Kittrell_Flemmie', 'UNCGAS_Knudsen_Betty_McAllister_Beth', 'RTRB_Miles_Irene', 'HM_Nottage_Lynn', 'HM_Benson_Olive', 'SCAL_Pollet_Tiik', 'HM_Clark_Augusta', 'SCVF_Henry_Fran', 'RTRB_Gould_Phyllis', 'HM_Miller-Perry_Rosetta', 'BWSP_Miller_Kristie', 'RTRB_Jackson_Rosella', 'HM_Lundy_Carmen', 'WOL_Collins_Jan', 'HM_Johnson_Malvyn', 'HM_Hines_Bea', 'SCVF_Nelson_Marjory', 'BWSP_Morse_Charlotte', 'HM_Bath_Patricia', 'RTRB_DeCory_Emily', 'SCVF_Diallo_Dazon_Dixon', 'HM_Dyson_Marcia', 'UNCTWMS_Renz_Constance_Anne', 'BWSP_Landman_Margot', 'HM_James-Brown_Christine', 'UNCTWMS_Short_Joan_Boyd', 'UNCTWMS_Davis_Catherine', 'HM_Fales-Hill_Susan', 'SCAL_Shelton_Christine', 'HM_Berger-Sweeney_Joanne', 'HM_Zollar_Jawole', 'BWSP_Rodriguez_Hannelore', 'HM_Dee_Ruby', 'UNCTWMS_Rostan_June', 'RTRB_Tidmore_Roberta', 'HM_Dawson_Lula', 'HM_Pratt_Sharon', 'HM_Williams_Jamye', 'SCVF_Steinem_Gloria', 'HM_Sturdivant_Marcia', 'BWSP_Moss_Beverly', 'RTRB_Pursley_Marilyn', 'SCAP_Kessler_Elizabeth', 'HM_Davis_Michaela', 'HM_Robinson_Amelia', 'BWSP_Ross_Hilary', 'UNCTWMS_Prior_Karen_Swallow', 'HM_Cole_Brenda', 'HM_Clarke_Caroline', 'HM_Martin_Sylvia', 'HM_Gillespie_Marcia', 'BWOH_Barnett_Etta', 'SCAL_Berkman_Joyce', 'SCAP_LaBarbera_Jen', 'HM_Outerbridge_Leslie', 'WOL_Askins_Jari', 'UNCTWMS_Basham_Janelle', 'WOL_McDaniel_Jeannie', 'UNCTWMS_Wolf_Paula', 'HM_Newby-Alexander_Cassandra', 'ROHA_Hunter_Nan', 'HM_Stevens_Rochelle', 'BWSP_Sweet_Mary', 'HM_Nelson_Jill', 'HM_Thompson_Francesca', 'UNCSW_Page_Myra', 'HM_Taylor_Susan', 'SCAL_Pogrebin_LettyCottin', 'SOOH_Hall_Heinz_Hall_Marliese', 'BWOH_Adair_Christia', 'UNCTWMS_Parsons_Darlene', 'HM_Smith_Bev', 'HM_McCabe_Jewell', 'SCVF_Fried_Marlene_Gerber', 'SHSF_Kraemer_Helena', 'SCVF_Vazquez_Carmen', 'BWOH_Edwards_Lena', 'HM_Ray_Adine', 'WOL_Hamilton_Rebecca', 'HM_Wright-Pryor_Barbara', 'UNCTWMS_Wilson_Gen', 'UNCGAS_Sved_Margery', 'UNCTWMS_Pevia_Kim_Adrienne', 'HM_Lythcott_Marcia', 'HM_Waters_Maxine', 'HM_Brooks_Queen', 'HM_Roberts_Allene', 'UNCTWMS_Levy_Dianne', 'HM_Cross_Dolores', 'HM_Middlebrooks_Felicia', 'UNCTWMS_Hutchison_Carolyn', 'HM_Hall_Evangeline', 'HM_Fields_Dorothy', 'RTRB_Barquist_Rose', 'OWHF_Rhea_Jeanine', 'HM_Braun_Carol', 'UNCTWMS_Barrett_Margaret_Bowers', 'HM_Rolark-Barnes_Denise', 'UNCTWMS_Gruelle_Kit', 'OOHYLC_Messenger_Dorothy', 'SCVF_Shelley_Martha', 'HM_Bridgewater_Dee', 'RTRB_Coates_Betty', 'UNCSW_MacDougall_Margaret_McDow', 'HM_Ferguson_Roger', 'HM_Amaki_Amalia', 'RTRB_Overton_Bonnie', 'SCVF_Pratt_Minnie_Bruce', 'WOL_Peterson_Pam', 'HM_O_Neal-McCray_Hellen', 'UNCTWMS_Leeper_Connie', 'HM_Fry_Rita', 'ROHA_Harris_Wilma', 'HM_Roberts_Dorothy', 'SOOH_Cash_June', 'HM_Trotter_Eunice', 'HM_Palmer_Jorja', 'HM_Gray_Edith', 'HM_Cantarella_Marcia', 'HM_Wattleton_Alyce', 'OWHF_Martin_Kay', 'RTRB_Cook_Peggy', 'SHSA_Gartrell_Nanette', 'UNCSW_Stone_Olive_M_(Olive_Matthews)_8', 'HM_Roddy-Hart_Marion', 'HM_Wesley_Valerie', 'RTRB_Gee_Maggie_2', 'HM_Rogers_Desiree', 'UNCTWMS_Kurth_Suzanne_B_(Suzanne_Beth)', 'HM_Ciara_Barbara', 'HM_Frazier_Frances', 'HM_Lawson_Jennifer', 'BWOH_Snowden_Muriel', 'UNCGAS_Floyd_Wanda_2', 'HM_Daniel_Elnora', 'HM_Wilson_Mary', 'HM_Williams_Terrie', 'UNCTWMS_Groover_Marian', 'HM_Tate_Alysia', 'HM_Rookard_Gloria', 'HM_Hunter_Karen', 'HM_Butts_June', 'HM_Malveaux_Suzanne', 'HM_Tillman_Dorothy', 'HM_Billingsley_ReShonda', 'HM_Pierre_Zina', 'HM_Jackson_Valerie', 'SHSA_Gianturco_Paola', 'HM_Cross_June', 'UNCGAS_Parker_Karen_2', 'HM_Windom_Alice', 'UNCGAS_Barney_Elaine_3', 'HM_Cooper_Maudine', 'BWSP_Fairchild_Joyce', 'HM_Huntley_Lynn', 'HM_Aiyetoro_Adjoa', 'HM_Simmons_Debra', 'HM_Ray_Fay', 'HM_Ross_Sonya', 'HM_Chew_Vivian', 'HM_Roxborough_Mildred', 'HM_Baiocchi_Regina', 'HM_Jefferson_Margo', 'HM_Flake_Elaine', 'UNCTWMS_McNabb_Bernadette', 'UNCTWMS_Barrett_Lida_Kittrell', 'BWSP_Phillips_Elizabeth', 'BWSP_Kay_Sarah', 'HM_Robinson_Cleo', 'OSS_McConnell_Wendy', 'SCAARJ_Choi_Cynthia', 'SHSF_Shapiro_Lucy', 'HM_Whipper_Lucille', 'SCVF_Roma_Catherine', 'UNCTWMS_Rovetti_Corinne_McNabb_Richard_McNabb_Bernadette', 'HM_Biggins_J.', 'UNCTWMS_Nickle_Carol', 'ROHA_Kramer_Barbara', 'HM_Elam_Deborah', 'ROHA_Mandel_Adrienne_2', 'SCVF_Saika_Peggy', 'SCAARJ_Mingus_Mia', 'BWSP_Mahdesian_Linda', 'UNCSW_Simkins_Modjeska_Monteith_1', 'HM_Lewis_Tina', 'HM_Montes_Peggy', 'HM_Ward_Val', 'HM_Stewart_Rowena', 'HM_Guy_Jasmine', 'HM_Stewart_Imagene', 'BWSP_Black_Lois', 'SCAARJ_Luke_Mary', 'SCVF_Avery_Byllye', 'SCVF_Kramer_Marian', 'SCVF_Pharr_Suzanne', 'BWOH_Harrison_Pleasant', 'UNCTWMS_Cravey_Altha', 'HM_Amoore_Renee', 'BWOH_Temple_Ruth', 'OWHF_Ross_Cindy', 'BWSP_Palmer_Alison', 'BWSP_Desai_Tejal', 'UNCTWMS_Marshall_Senseney', 'UNCTWMS_Robinson_Gail', 'HM_Sanchez_Sonia', 'UNCTWMS_Mashburn_Lillian_Tauxe', 'HM_Tucker_Joyce', 'HM_Dickerson_Amina', 'HM_Hutchinson_Janice', 'HM_Nicholas_Denise', 'HM_Catoe_Bette', 'UNCTWMS_Grant_Patricia', 'BWSP_Morgan_Anna', 'BWOH_Kelly_Hattie', 'UNCSW_Bates_Daisy', 'HM_White_Elyse', 'RTRB_Keck_Marjorie', 'UNCTWMS_Evans_Gaye', 'HM_DeCosta-Willis_Miriam', 'HM_Toote_Gloria', 'BWSP_Baumgarten_Sylvia', 'HM_Wilson_Robin', 'HM_Cost_Monica', 'SCVF_Payne_Ladoris', 'UNCTWMS_Elmore_Bessie', 'WOL_Leftwich_Debbe', 'HM_Brown_Jamie', 'BWOH_Hedgeman_Arnold', 'HM_Reynolds_Barbara', 'HM_Hare_Julia', 'SHSA_Tracy_Else', 'UNCSW_Seeman_Elizabeth', 'SCAARJ_Chum_Sophya', 'BWOH_Jackson_Ellen', 'HM_Whigham_Carolyn', 'BWSP_Chapman_Clarice', 'SCAP_Wang_Kit', 'SCVF_Hollibaugh_Amber', 'UNCTWMS_Morrow_Sarah_Taylor', 'HM_Hutcherson_Bernice', 'BWOH_Lancaster_Abna', 'HM_Burton_Cheryl', 'HM_Love_Ruth', 'SCVF_Toure_Nkenge', 'HM_Massey_Shirley', 'HM_Britt_Donna', 'UNCTWMS_Ivins_Melody_1', 'HM_Allen_Billie', 'HM_Runner_Dorothy', 'HM_Brock-Leftridge_Martha', 'HM_John_Bonnie', 'SCAP_Rothblum_Esther', 'HM_Copeland_Margot', 'HM_Cunningham_Evelyn', 'HM_Shorter_Vera', 'HM_Ransby_Barbara', 'HM_Dellums_Leola', 'HM_Grevious_Audrey', 'OWHF_Coats-Ashley_Nancy', 'SCAP_King_Brandy', 'BWOH_Thompson_Era', 'BWOH_Duster_Alfreda', 'BWOH_Kemp_Maida', 'UNCTWMS_Hatcher_Paris', 'HM_Shange_Ntozake', 'UNCTWMS_Byrd_Erin_Dale', 'BWSP_Richardson_Joyce', 'HM_Wilson_Margaret', 'HM_Jones_Jennifer', 'BWOH_Moore_Audley', 'HM_Omilami_Elisabeth', 'SCVF_Winslow_Barbara', 'UNCTWMS_Stokes_Jeanette', 'WOL_Gray_Twyla_Mason', 'UNCTWMS_Chase_Harry_G_Chase_Patricia', 'HM_Hammonds_Evelynn', 'HM_Giovanni_Nikki', 'HM_Hughley_Stephanie', 'HM_Okpodu_Camellia', 'HM_Wilson_Cleo', 'SCAP_Jimenez_Ileana', 'SCVF_Acey_Katherine', 'HM_Carwell_Hattie', 'HM_Pearson_Monica', 'HM_Rice_Constance_1', 'SCAP_McNulty_Molly', 'HM_Cox_Marcella', 'SHSF_Litt_Iris', 'RTRB_August_Helen', 'HM_Pindell_Howardena', 'HM_Swarns_Rachel', 'HM_Sears_Leah', 'SCVF_Ports_Suki', 'SCVF_Gould_Sara', 'ROHA_Drelich_Pearl', 'SHSF_Jacobs_Charlotte', 'RTRB_Wikelund_Jospehine', 'HM_Simpson_Carole', 'HM_Williams_Elynor', 'HM_Lee_Barbara', 'HM_Angelou_Maya', 'RTRB_Esser_Edythe', 'SCVF_Moraga_Cherrie', 'HM_Brown_Yvette', 'HM_Grant_Jacquelyn', 'HM_Grimshaw_Jacquelyne', 'ROHA_Treash_Eileen', 'UNCTWMS_Lewis_Helen_Matthews', 'SOOH_Henderson_Mary_Horsechief', 'SCAP_Hazeltine_Glenna', 'HM_Smith_Beverly', 'UNCTWMS_Ray_Gloria', 'BWSP_Weed_Elizabeth', 'SCVF_Alexander_Dolores', 'HM_Miles_Steen', 'UNCTWMS_Reisman_Judith', 'HM_Billops_Camille', 'UNCTWMS_Benedict_Salli', 'UNCTWMS_Herr_Mary', 'UNCSW_Ames_Jessie_Daniel', 'HM_Haizlip_Shirlee', 'HM_McQueen_Armelia', 'HM_Alexander_Ethel', 'HM_Edwards_Audrey', 'RTRB_Miramontes_Nancy', 'UNCSW_Ransdall_Hollace', 'HM_Perry_June', 'UNCSW_Dabbs_Edith', 'SCVF_Miller_Geraldine', 'HM_Ferguson_Renee', 'HM_Jones_Elaine', 'UNCGAS_Allen_Jan', 'ROHA_Archibald_Alice', 'HM_Randall_Marlene', 'SCVF_Allison_Dorothy_Vazquez_Carmen', 'WOL_Coleman_Carolyn', 'UNCSW_Queen_Anne_1', 'SHSF_Chu_Jean', 'UNCTWMS_Pharr_Suzanne', 'HM_Stewart_Stacey', 'BWOH_Mitchell_Lucy', 'HM_Sales_Ruby', 'UNCTWMS_Stulberg_Dorothy', 'HM_Lewis_Elma', 'HM_Moore_Geraldine', 'HM_Wilson_Lucy', 'HM_Hobson_Mellody', 'HM_Payne_Scherrie', 'UNCTWMS_Sassman_Susan', 'HM_Bacon_Gloria', 'UNCTWMS_Rollins_Sheryl_Clark', 'UNCTWMS_Lester_Lorayne', 'SCVF_Apuzzo_Virginia', 'HM_Newkirk_Pamela', 'BWOH_Stokes_Olivia', 'HM_Glenn_Carolyn', 'HM_Topsy-Elvord_Doris', 'UNCTWMS_Fuchs_Laurie', 'UNCSW_Murray_Pauli', 'HM_Bundles_A_Lelia', 'HM_Robinson_Robin', 'RTRB_Henssler_Margaret', 'RTRB_Madsen_Lucille', 'SCVF_Asetoyer_Charon', 'RTRB_Samson_Betty', 'SCAP_Yahm_Elinor', 'RTRB_McCain_Beth', 'HM_Watson_Diane', 'UNCSW_Simkins_Modjeska_Monteith_2', 'HM_Davis_Belva', 'UNCTWMS_JohnsonHostler_Monika', 'HM_Langford_Anna', 'UNCTWMS_Scott_Nan', 'SCVF_Nussbaum_Karen', 'HM_Young_Carolyn', 'SHSF_Keohane_Nannerl_2', 'HM_Scott_Gloria', 'UNCTWMS_Sobieski_Wanda_2', 'ROHA_Morrison_Barbara', 'HM_Wilson_Dori', 'UNCGAS_FisherBorne_Marcie', 'BWSP_Gardner_Martha', 'HM_Hunter-Gault_Charlayne', 'HM_Harris-Perry_Melissa', 'SHSF_Donaldson_Sarah', 'SCVF_Smith_Barbara', 'HM_Ewing_Sylvia', 'SCAARJ_Zia_Helen', 'SCVF_Thom_Mary', 'UNCTWMS_Evans_Sara_M_(Sara_Margaret)', 'HM_Lillie_Charisse', 'SCVF_Ward_Wynona', 'SCVF_Allison_Dorothy', 'SCVF_Beal_Frances', 'SCVF_Morales_Rosario', 'UNCTWMS_DeSelm_Bee', 'UNCTWMS_Turner_Katherine', 'UNCSW_Wright_Alice_Norwood_Spearman_2', 'HM_Estes_Sidmel', 'HM_Johnson_Bev', 'BWSP_Mikuriya_Mary', 'HM_Michel_Harriet', 'HM_Webb_Wilma', 'HM_Shaw_Sarah-Ann', 'RTRB_Torres_Mary', 'HM_Madison_Paula', 'UNCTWMS_Zalph_Ruth_Colish', 'UNCSW_Stevens_Thelma', 'BWSP_Lamphere_Louise', 'SCVF_Biren_Joan', 'BWOH_Scott_Esther', 'BWOH_Height_Dorothy', 'HM_Pennick_Aurie', 'UNCTWMS_Radcliff_Melissa', 'HM_Sanford_Adelaide', 'ROHA_Thompson_Pearl', 'HM_Key_Alice', 'SCAARJ_Masaki_Beckie', 'HM_Neisser_Winifred', 'OSS_Vivar_Romero_Angela', 'UNCTWMS_Ross_Loretta', 'UNCTWMS_Waldvogel_Merikay', 'HM_Stewart_Monica', 'UNCTWMS_Brown_Laura_Clark', 'UNCTWMS_Bell_Brenda', 'BWOH_Parks_Rosa', 'SCVF_Berek_Judy', 'HM_Sizemore_Barbara', 'HM_Apilado_Ruth', 'HM_Abrams_Roz', 'ROHA_Godfrey_Nancy', 'UNCTWMS_Judy_Rebecca_Ann', 'HM_Jackson_Teri', 'HM_Peeples_Audrey', 'HM_Wilcher_Shirley', 'UNCSW_McGill_Eula_3', 'HM_Fairhurst_Norma', 'UNCTWMS_Giardina_Carol', 'HM_Guidry_Carolyn', 'HM_Robinson_Tamara', 'SCAL_Pincus_Jane', 'ROHA_Taylor_Kathleen'}\n"
     ]
    }
   ],
   "source": [
    "myfile = open(\"data/everything_but_falsehits_and_needsreview.txt\")\n",
    "txt = myfile.read()\n",
    "myfile.close()\n",
    "\n",
    "files=[]\n",
    "tokens=txt.split()\n",
    "for i in tokens:\n",
    "    num= i.find(\"Files\\\\\\\\\")\n",
    "    if not num==-1:\n",
    "        if not i.find(\"_\")==-1:\n",
    "            files.append(i.strip())\n",
    "names=set()\n",
    "for i in files:\n",
    "    i=i[i.find(\"\\\\\\\\\",8)+2:-1]\n",
    "    names.add(i.strip())\n",
    "print(names)"
   ]
  },
  {
   "cell_type": "code",
   "execution_count": 40,
   "metadata": {},
   "outputs": [
    {
     "name": "stdout",
     "output_type": "stream",
     "text": [
      "218\n"
     ]
    }
   ],
   "source": [
    "k=0\n",
    "for i in names:\n",
    "    if not i.find(\"HM\") == -1:\n",
    "        k+=1\n",
    "print(k)"
   ]
  },
  {
   "cell_type": "code",
   "execution_count": 27,
   "metadata": {},
   "outputs": [
    {
     "name": "stdout",
     "output_type": "stream",
     "text": [
      "defaultdict(<function <lambda> at 0x7fe1ab9460d0>, {'1950': defaultdict(<function <lambda>.<locals>.<lambda> at 0x7fe1a4e436a8>, {'total': 90, 'HM': 51}), '1910': defaultdict(<function <lambda>.<locals>.<lambda> at 0x7fe1ab44b268>, {'total': 24, 'HM': 9}), '1900': defaultdict(<function <lambda>.<locals>.<lambda> at 0x7fe1a51bec80>, {'total': 18, 'HM': 3}), '1940': defaultdict(<function <lambda>.<locals>.<lambda> at 0x7fe1a51beb70>, {'total': 151, 'HM': 73}), '1920': defaultdict(<function <lambda>.<locals>.<lambda> at 0x7fe1a51beae8>, {'total': 56, 'HM': 18}), '1960': defaultdict(<function <lambda>.<locals>.<lambda> at 0x7fe1a51be9d8>, {'total': 38, 'HM': 24}), '1890': defaultdict(<function <lambda>.<locals>.<lambda> at 0x7fe1a51be950>, {'total': 14}), '1930': defaultdict(<function <lambda>.<locals>.<lambda> at 0x7fe1a51be8c8>, {'total': 65, 'HM': 36}), '1970': defaultdict(<function <lambda>.<locals>.<lambda> at 0x7fe1a51be840>, {'total': 13, 'HM': 3}), 0: defaultdict(<function <lambda>.<locals>.<lambda> at 0x7fe1a51be7b8>, {'total': 7}), '1880': defaultdict(<function <lambda>.<locals>.<lambda> at 0x7fe1a51be730>, {'total': 2}), '1980': defaultdict(<function <lambda>.<locals>.<lambda> at 0x7fe1a51be6a8>, {'total': 7}), '': defaultdict(<function <lambda>.<locals>.<lambda> at 0x7fe1a51be620>, {'total': 2, 'HM': 1})})\n",
      "218\n"
     ]
    }
   ],
   "source": [
    "decadesinformation = defaultdict(lambda: defaultdict(lambda:0))\n",
    "k=0\n",
    "for i in names:\n",
    "    for x in text_to_ids[i]:\n",
    "        #if ids_to_info[x][\"sex\"]==\"Male\":\n",
    "            #print(len(text_to_ids[i]))\n",
    "            #print(text_to_ids[i])\n",
    "        decadesinformation[ids_to_info[x][\"birth_decade\"]][\"total\"]+=1\n",
    "        if ids_to_info[x][\"collection\"]==\"HM\":\n",
    "            k+=1\n",
    "            decadesinformation[ids_to_info[x][\"birth_decade\"]][\"HM\"]+=1\n",
    "print(decadesinformation)\n",
    "print(k)"
   ]
  },
  {
   "cell_type": "code",
   "execution_count": null,
   "metadata": {},
   "outputs": [],
   "source": []
  },
  {
   "cell_type": "code",
   "execution_count": null,
   "metadata": {},
   "outputs": [],
   "source": []
  },
  {
   "cell_type": "code",
   "execution_count": 28,
   "metadata": {},
   "outputs": [],
   "source": [
    "#Charts begin here"
   ]
  },
  {
   "cell_type": "code",
   "execution_count": 29,
   "metadata": {},
   "outputs": [
    {
     "data": {
      "image/png": "[encoded data removed]",
      "text/plain": [
       "<Figure size 432x288 with 1 Axes>"
      ]
     },
     "metadata": {
      "needs_background": "light"
     },
     "output_type": "display_data"
    },
    {
     "name": "stdout",
     "output_type": "stream",
     "text": [
      "217\n"
     ]
    }
   ],
   "source": [
    "N = 10\n",
    "total=[]\n",
    "hits=[]\n",
    "for i in range(1890, 1990, 10):\n",
    "    total.append(dataformattedHM[\"\\ufeffbirth_decade\"][str(i)])\n",
    "    hits.append(decadesinformation[str(i)][\"HM\"])\n",
    "\n",
    "ind = np.arange(N)  # the x locations for the groups\n",
    "width = 0.35       # the width of the bars\n",
    "\n",
    "fig, ax = pyplot.subplots()\n",
    "rects1 = ax.bar(ind, total, width, color='r')\n",
    "rects2 = ax.bar(ind + width, hits, width, color='y')\n",
    "\n",
    "# add some text for labels, title and axes ticks\n",
    "#ax.set_ylabel('Number')\n",
    "ax.set_title('History Makers Total (n=996) by Birth Decades and Percent of Interviews by Birth Decade that Include Rape Terms')\n",
    "ax.set_xticks(ind + width / 2)\n",
    "ax.set_xticklabels(('1890', '1900', '1910', '1920', '1930', '1940', '1950', '1960', '1970', '1980'))\n",
    "\n",
    "ax.legend((rects1[0], rects2[0]), ('Total', 'Hits'))\n",
    "\n",
    "\n",
    "pyplot.show()\n",
    "print(sum(hits))"
   ]
  },
  {
   "cell_type": "code",
   "execution_count": 30,
   "metadata": {},
   "outputs": [
    {
     "data": {
      "image/png": "[encoded data removed]",
      "text/plain": [
       "<Figure size 432x288 with 1 Axes>"
      ]
     },
     "metadata": {
      "needs_background": "light"
     },
     "output_type": "display_data"
    }
   ],
   "source": [
    "N = 4\n",
    "total = (5+76+1, 304+95, 460, 55)\n",
    "\n",
    "ind = np.arange(N)  # the x locations for the groups\n",
    "width = 0.35       # the width of the bars\n",
    "\n",
    "fig, ax = pyplot.subplots()\n",
    "rects1 = ax.bar(ind, total, width, color='b')\n",
    "\n",
    "hits = (1+7+0,65+16,94,11)\n",
    "#rects2 = ax.bar(ind + width, hits, width, color='y')\n",
    "\n",
    "# add some text for labels, title and axes ticks\n",
    "#ax.set_ylabel('Number')\n",
    "ax.set_title('All HistoryMakers Women Highest Educational Level')\n",
    "ax.set_xticks(ind + width / 2)\n",
    "ax.set_xticklabels(('Up to 12th Grade', 'Up to College Degree', 'Graduate or professional degree', 'No Info'))\n",
    "\n",
    "#ax.legend((rects1[0], rects2[0]), ('Total', 'Hits'))\n",
    "\n",
    "pyplot.setp(ax.get_xticklabels(), rotation=30, horizontalalignment='right')\n",
    "\n",
    "\n",
    "\n",
    "pyplot.show()"
   ]
  },
  {
   "cell_type": "markdown",
   "metadata": {},
   "source": [
    "History Makers Women Total (n=996) by Highest Achieved Education Level and Percent of Interviews by Education Level that Include Rape Terms\n",
    "\n",
    "Left axis: number of interviews\n",
    "X axis: educational level (up to high school graduate, up to college graduate, further schooling, no info)\n",
    "\n",
    "Red: Number within female HM as a whole\n",
    "Yellow: Only the interviews in the rape cluster\n",
    "\n",
    "Percetages: What percentage of female HM in the given birth decade are in the rape cluster"
   ]
  },
  {
   "cell_type": "code",
   "execution_count": 31,
   "metadata": {},
   "outputs": [
    {
     "data": {
      "image/png": "[encoded data removed]",
      "text/plain": [
       "<Figure size 432x288 with 1 Axes>"
      ]
     },
     "metadata": {
      "needs_background": "light"
     },
     "output_type": "display_data"
    }
   ],
   "source": [
    "N = 9\n",
    "\n",
    "ind = np.arange(N) \n",
    "\n",
    "# some example data\n",
    "threshold = 19.5\n",
    "values = np.array([0, 15, 16.1, 13.9, 17.0, 22.9, 19.6, 24.7, 23.1])\n",
    "x = range(len(values))\n",
    "\n",
    "# split it up\n",
    "above_threshold = np.maximum(values - threshold, 0)\n",
    "below_threshold = np.minimum(values, threshold)\n",
    "\n",
    "# and plot it\n",
    "fig, ax = pyplot.subplots()\n",
    "ax.bar(x, below_threshold, 0.35, color=\"g\")\n",
    "ax.bar(x, above_threshold, 0.35, color=\"r\",\n",
    "        bottom=below_threshold)\n",
    "ax.set_xticks(ind)\n",
    "ax.set_xticklabels(('1890', '1900', '1910', '1920', '1930', '1940', '1950', '1960', '1970'))\n",
    "ax.set_title('Percentage of History Makers Women In Each Birth Decade Who Are in the Rape Cluster')\n",
    "ax.set_ylabel('Percentage')\n",
    "\n",
    "\n",
    "# horizontal line indicating the threshold\n",
    "ax.plot([0., 9], [threshold, threshold], \"k--\")\n",
    "\n",
    "\n",
    "\n",
    "fig.savefig(\"look-ma_a-threshold-plot.png\")"
   ]
  },
  {
   "cell_type": "markdown",
   "metadata": {},
   "source": [
    "Percentage of History Makers Women In Each Birth Decade Who Are in the Rape Cluster\n",
    "Left axis: Percent of HM interviews in a given birthdecade who are in the rape cluster (ie, a 20 in 1950 means 20% of female HM born in the 1950s are in the rape cluster)\n",
    "X axis: birth cohorts\n",
    "\n",
    "Horizontal line: % of female HM interviews in the rape cluster as a whole\n",
    "\n",
    "Red: portion above average (mostly for contrast)\n",
    "green: portion up to average"
   ]
  },
  {
   "cell_type": "code",
   "execution_count": 32,
   "metadata": {},
   "outputs": [
    {
     "data": {
      "image/png": "[encoded data removed]",
      "text/plain": [
       "<Figure size 432x288 with 1 Axes>"
      ]
     },
     "metadata": {
      "needs_background": "light"
     },
     "output_type": "display_data"
    }
   ],
   "source": [
    "N = 7\n",
    "\n",
    "ind = np.arange(N) \n",
    "\n",
    "# some example data\n",
    "threshold = 19.5\n",
    "values = np.array([20, 9.2, 0, 21.4, 16.8, 20.4, 20])\n",
    "x = range(len(values))\n",
    "\n",
    "# split it up\n",
    "above_threshold = np.maximum(values - threshold, 0)\n",
    "below_threshold = np.minimum(values, threshold)\n",
    "\n",
    "# and plot it\n",
    "fig, ax = pyplot.subplots()\n",
    "ax.bar(x, below_threshold, 0.35, color=\"g\")\n",
    "ax.bar(x, above_threshold, 0.35, color=\"r\",\n",
    "        bottom=below_threshold)\n",
    "ax.set_xticks(ind)\n",
    "ax.set_xticklabels(('Less than 9th grade', '9th to 12th grade but no diploma', 'High school graduate', 'Some college or Associate\\'s degree', 'Bachelor\\'s degree', 'Graduate or professional degree', 'No Info'))\n",
    "ax.set_title('Percentage of History Makers Women In Each Highest Education Level Who Are in the Rape Cluster')\n",
    "ax.set_ylabel('Percentage')\n",
    "\n",
    "\n",
    "# horizontal line indicating the threshold\n",
    "ax.plot([0., 6], [threshold, threshold], \"k--\")\n",
    "pyplot.setp(ax.get_xticklabels(), rotation=30, horizontalalignment='right')\n",
    "\n",
    "\n",
    "\n",
    "fig.savefig(\"look-ma_a-threshold-plot.png\")"
   ]
  },
  {
   "cell_type": "markdown",
   "metadata": {},
   "source": [
    "Percentage of History Makers Women In Each Educational status Who Are in the Rape Cluster\n",
    "Left axis: Percent of HM interviews in a given education group who are in the rape cluster (ie, a 20 in kless than 9th grade means 20% of female HM born with less than a 9th grade education are in the rape cluster)\n",
    "X axis: educational leve;s\n",
    "\n",
    "Horizontal line: % of female HM interviews in the rape cluster as a whole\n",
    "\n",
    "Red: portion above average (mostly for contrast)\n",
    "green: portion up to average\n",
    "\n",
    "(Not up to date with three category system, but I think this has been ruled a bad presentation format and so is not worth updating)"
   ]
  },
  {
   "cell_type": "code",
   "execution_count": 33,
   "metadata": {},
   "outputs": [
    {
     "data": {
      "text/plain": [
       "<matplotlib.legend.Legend at 0x7fe1ab687b00>"
      ]
     },
     "execution_count": 33,
     "metadata": {},
     "output_type": "execute_result"
    },
    {
     "data": {
      "image/png": "[encoded data removed]",
      "text/plain": [
       "<Figure size 432x288 with 1 Axes>"
      ]
     },
     "metadata": {
      "needs_background": "light"
     },
     "output_type": "display_data"
    }
   ],
   "source": [
    "N = 11\n",
    "\n",
    "ind = np.arange(N) \n",
    "\n",
    "values=[]\n",
    "totals=[]\n",
    "\n",
    "# some example data\n",
    "threshold = 19.5\n",
    "for i in range(1890, 1990, 10):\n",
    "    totals.append(dataformatted[\"\\ufeffbirth_decade\"][str(i)])\n",
    "    values.append(dataformattedHM[\"\\ufeffbirth_decade\"][str(i)])\n",
    "x = range(len(values))\n",
    "\n",
    "totals=np.array(totals)\n",
    "values=np.array(values)\n",
    "\n",
    "# split it up\n",
    "above_threshold = totals - values\n",
    "below_threshold = values\n",
    "\n",
    "# and plot it\n",
    "fig, ax = pyplot.subplots()\n",
    "hm=ax.bar(x, below_threshold, 0.35, color=\"b\")\n",
    "other=ax.bar(x, above_threshold, 0.35, color=\"y\",\n",
    "        bottom=below_threshold)\n",
    "ax.set_xticks(ind)\n",
    "ax.set_xticklabels(('1870', '1880', '1890', '1900', '1910', '1920', '1930', '1940', '1950', '1960', '1970'))\n",
    "ax.set_title('Number of Female Interviews per Birth Decade, Total and HistoryMakers')\n",
    "ax.set_ylabel('Number of Interviews')\n",
    "ax.legend((hm, other), ('History Makers', 'Other Interviews'))\n",
    "\n"
   ]
  },
  {
   "cell_type": "markdown",
   "metadata": {},
   "source": [
    "Number of Female Interviews per Birth Decade, Total and HistoryMakers\n",
    "\n",
    "Left axis: number of interviews\n",
    "X axis: birth decade\n",
    "\n",
    "blue: only HM\n",
    "Yellow: all non-HM interviews"
   ]
  },
  {
   "cell_type": "code",
   "execution_count": 34,
   "metadata": {},
   "outputs": [
    {
     "name": "stdout",
     "output_type": "stream",
     "text": [
      "[ 0  0  0  3  9 18 36 73 51 24  3]\n",
      "[  0   2  14  18  24  56  65 151  90  38  13]\n"
     ]
    },
    {
     "data": {
      "image/png": "[encoded data removed]",
      "text/plain": [
       "<Figure size 432x288 with 1 Axes>"
      ]
     },
     "metadata": {
      "needs_background": "light"
     },
     "output_type": "display_data"
    }
   ],
   "source": [
    "N = 11\n",
    "\n",
    "ind = np.arange(N) \n",
    "values=[]\n",
    "totals=[]\n",
    "\n",
    "# some example data\n",
    "for i in range(1870, 1980, 10):\n",
    "    values.append(decadesinformation[str(i)][\"HM\"])\n",
    "    totals.append(decadesinformation[str(i)][\"total\"])\n",
    "    \n",
    "values = np.array(values)\n",
    "totals= np.array(totals)\n",
    "print(values)\n",
    "print(totals)\n",
    "\n",
    "x = range(len(values))\n",
    "\n",
    "# split it up\n",
    "above_threshold = totals - values\n",
    "below_threshold = values\n",
    "\n",
    "# and plot it\n",
    "fig, ax = pyplot.subplots()\n",
    "hm=ax.bar(x, below_threshold, 0.35, color=\"b\")\n",
    "other=ax.bar(x, above_threshold, 0.35, color=\"y\",\n",
    "        bottom=below_threshold)\n",
    "ax.set_xticks(ind)\n",
    "ax.set_xticklabels(('1870', '1880', '1890', '1900', '1910', '1920', '1930', '1940', '1950', '1960', '1970'))\n",
    "ax.set_title('Number of Female History Maker Interviews as Part of All Interviews with Rape Terms, by Birth Decade.')\n",
    "ax.set_ylabel('Number of Interviews')\n",
    "ax.legend((hm, other), ('History Makers', 'Other Interviews'))\n",
    "\n",
    "\n",
    "# horizontal line indicating the threshold\n",
    "#ax.plot([0., 9], [threshold, threshold], \"k--\")\n",
    "\n",
    "\n",
    "\n",
    "fig.savefig(\"look-ma_a-threshold-plot.png\")"
   ]
  },
  {
   "cell_type": "markdown",
   "metadata": {},
   "source": [
    "Number of Female History Maker Interviews as Part of All Interviews with Rape Terms, by Birth Decade\n",
    "\n",
    "Left axis: number of interviews\n",
    "X axis: birth decade\n",
    "\n",
    "blue: only HM interviews in rape cluster\n",
    "Yellow: all non-HM interviews in rape cluster"
   ]
  },
  {
   "cell_type": "code",
   "execution_count": 35,
   "metadata": {},
   "outputs": [
    {
     "name": "stdout",
     "output_type": "stream",
     "text": [
      "[ 0  0  0  3  9 18 36 73 51 24  3]\n",
      "[  1   2  14  18  24  56  65 151  90  38  13]\n"
     ]
    },
    {
     "data": {
      "text/plain": [
       "Text(0, 0.5, 'Percentage of Interviews in Rape Cluster')"
      ]
     },
     "execution_count": 35,
     "metadata": {},
     "output_type": "execute_result"
    },
    {
     "data": {
      "image/png": "[encoded data removed]",
      "text/plain": [
       "<Figure size 432x288 with 1 Axes>"
      ]
     },
     "metadata": {
      "needs_background": "light"
     },
     "output_type": "display_data"
    }
   ],
   "source": [
    "N = 11\n",
    "\n",
    "ind = np.arange(N) \n",
    "values=[]\n",
    "totals=[]\n",
    "\n",
    "# some example data\n",
    "for i in range(1870, 1980, 10):\n",
    "    values.append(decadesinformation[str(i)][\"HM\"])\n",
    "    totals.append(decadesinformation[str(i)][\"total\"])\n",
    "    \n",
    "    \n",
    "#this is janky but its to avoid a divide by 0 issue- code crime but there are a lot of those in here\n",
    "totals = [1 if x==0 else x for x in totals]\n",
    "values = np.array(values)\n",
    "totals= np.array(totals)\n",
    "\n",
    "\n",
    "print(values)\n",
    "print(totals)\n",
    "\n",
    "x = range(len(values))\n",
    "\n",
    "# split it up\n",
    "below_threshold = values/totals*100\n",
    "\n",
    "\n",
    "# and plot it\n",
    "fig, ax = pyplot.subplots()\n",
    "hm=ax.bar(x, below_threshold, 0.35, color=\"b\")\n",
    "ax.set_xticks(ind)\n",
    "ax.set_xticklabels(('1870', '1880', '1890', '1900', '1910', '1920', '1930', '1940', '1950', '1960', '1970'))\n",
    "ax.set_title('Percentage of Female History Maker Interviews as Part of All Interviews with Rape Terms, by Birth Decade')\n",
    "ax.set_ylabel('Percentage of Interviews in Rape Cluster')"
   ]
  },
  {
   "cell_type": "code",
   "execution_count": null,
   "metadata": {},
   "outputs": [],
   "source": []
  },
  {
   "cell_type": "markdown",
   "metadata": {},
   "source": [
    "Percentage of Female History Maker Interviews as Part of All Interviews with Rape Terms, by Birth Decade\n",
    "Takes all the interviews in HM in rape cluster in a given birthcohort divided by the total number of interviews in the rape cluster in that birth cohort\n"
   ]
  },
  {
   "cell_type": "markdown",
   "metadata": {},
   "source": []
  },
  {
   "cell_type": "code",
   "execution_count": 36,
   "metadata": {},
   "outputs": [
    {
     "data": {
      "image/png": "[encoded data removed]",
      "text/plain": [
       "<Figure size 432x288 with 1 Axes>"
      ]
     },
     "metadata": {
      "needs_background": "light"
     },
     "output_type": "display_data"
    }
   ],
   "source": [
    "N = 12\n",
    "\n",
    "HMhits=[]\n",
    "hits=[]\n",
    "total=[]\n",
    "HMtotal=[]\n",
    "\n",
    "for i in range(1870, 1990, 10):\n",
    "    HMhits.append(decadesinformation[str(i)][\"HM\"])\n",
    "    hits.append(decadesinformation[str(i)][\"total\"])\n",
    "    total.append(dataformatted[\"\\ufeffbirth_decade\"][str(i)])\n",
    "    HMtotal.append(dataformattedHM[\"\\ufeffbirth_decade\"][str(i)])\n",
    "\n",
    "    \n",
    "#total = (2, 13, 64, 108, 288, 450, 453, 594, 387, 176, 64, 39)\n",
    "#1s are 0s\n",
    "#HMtotal= [1,1,3,20,56,115,194,288,214,89,13,1]\n",
    "\n",
    "total = [1 if x==0 else x for x in total]\n",
    "HMtotal = [1 if x==0 else x for x in HMtotal]\n",
    "\n",
    "\n",
    "\n",
    "first1=np.array(hits)\n",
    "first2=np.array(total)\n",
    "\n",
    "second1=np.array(HMhits)\n",
    "second2=np.array(HMtotal)\n",
    "second=second1/second2*100\n",
    "first1=first1-second1\n",
    "first2=first2-second2\n",
    "first=first1/first2*100\n",
    "\n",
    "\n",
    "ind = np.arange(N)  # the x locations for the groups\n",
    "width = 0.35       # the width of the bars\n",
    "\n",
    "fig, ax = pyplot.subplots()\n",
    "rects1 = ax.bar(ind, first, width, color='y')\n",
    "\n",
    "hits = (0, 3, 9, 16, 33, 66, 42, 22, 3)\n",
    "rects2 = ax.bar(ind + width, second, width, color='b')\n",
    "\n",
    "# add some text for labels, title and axes ticks\n",
    "#ax.set_ylabel('Number')\n",
    "ax.set_title('Percentage of Interviews Including Rape Terms by Birth Decade \\n')\n",
    "ax.set_xticks(ind + width / 2)\n",
    "ax.set_xticklabels(('1870', '1880','1890', '1900', '1910', '1920', '1930', '1940', '1950', '1960', '1970', '1980'))\n",
    "pyplot.setp(ax.get_xticklabels(), rotation=30, horizontalalignment='right')\n",
    "ax.legend((rects1[0], rects2[0]), ('Other Interviews', 'HM'))\n",
    "\n",
    "pyplot.show()"
   ]
  },
  {
   "cell_type": "code",
   "execution_count": null,
   "metadata": {},
   "outputs": [],
   "source": []
  },
  {
   "cell_type": "code",
   "execution_count": null,
   "metadata": {},
   "outputs": [],
   "source": []
  },
  {
   "cell_type": "code",
   "execution_count": null,
   "metadata": {},
   "outputs": [],
   "source": []
  },
  {
   "cell_type": "code",
   "execution_count": null,
   "metadata": {},
   "outputs": [],
   "source": []
  },
  {
   "cell_type": "code",
   "execution_count": null,
   "metadata": {},
   "outputs": [],
   "source": []
  },
  {
   "cell_type": "code",
   "execution_count": null,
   "metadata": {},
   "outputs": [],
   "source": []
  },
  {
   "cell_type": "code",
   "execution_count": null,
   "metadata": {},
   "outputs": [],
   "source": []
  },
  {
   "cell_type": "code",
   "execution_count": null,
   "metadata": {},
   "outputs": [],
   "source": []
  },
  {
   "cell_type": "code",
   "execution_count": null,
   "metadata": {},
   "outputs": [],
   "source": []
  },
  {
   "cell_type": "code",
   "execution_count": null,
   "metadata": {},
   "outputs": [],
   "source": []
  }
 ],
 "metadata": {
  "kernelspec": {
   "display_name": "Python 3",
   "language": "python",
   "name": "python3"
  },
  "language_info": {
   "codemirror_mode": {
    "name": "ipython",
    "version": 3
   },
   "file_extension": ".py",
   "mimetype": "text/x-python",
   "name": "python",
   "nbconvert_exporter": "python",
   "pygments_lexer": "ipython3",
   "version": "3.7.3"
  }
 },
 "nbformat": 4,
 "nbformat_minor": 2
}
