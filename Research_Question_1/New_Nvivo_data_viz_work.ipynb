{
 "cells": [
  {
   "cell_type": "code",
   "execution_count": 1,
   "metadata": {},
   "outputs": [],
   "source": [
    "import csv\n",
    "import numpy as np\n",
    "from collections import defaultdict\n",
    "from matplotlib import pyplot\n",
    "import pandas\n",
    "import matplotlib"
   ]
  },
  {
   "cell_type": "code",
   "execution_count": 2,
   "metadata": {},
   "outputs": [],
   "source": [
    "BLANKS=[\"\",\"RBNF1\", \"RBNF2\", \"RBNF\", \"0\", \"RBNF 1\", \"RBNF 2\"]\n",
    "TOTAL=2734\n",
    "TOTAL_INTER= 2645"
   ]
  },
  {
   "cell_type": "code",
   "execution_count": 3,
   "metadata": {},
   "outputs": [],
   "source": [
    "def loadCsvData(fileName):\n",
    "\tmatrix = []\n",
    "\t# open a file\n",
    "\twith open(fileName) as f:\n",
    "\t\treader = csv.reader(f)\n",
    "        # loop over each row in the file\n",
    "\t\tfor row in reader:\n",
    "\n",
    "\t\t\t# cast each value to a float\n",
    "\t\t\tdoubleRow = []\n",
    "\t\t\tfor value in row:\n",
    "\t\t\t\tdoubleRow.append(value.strip())\n",
    "\n",
    "\t\t\t# store the row into our matrix\n",
    "\t\t\tmatrix.append(doubleRow)\n",
    "\treturn matrix"
   ]
  },
  {
   "cell_type": "code",
   "execution_count": 4,
   "metadata": {},
   "outputs": [],
   "source": [
    "data= loadCsvData(\"data/metadata.csv\")"
   ]
  },
  {
   "cell_type": "code",
   "execution_count": 5,
   "metadata": {},
   "outputs": [],
   "source": [
    "data=pandas.DataFrame(data[1:], columns=data[0])"
   ]
  },
  {
   "cell_type": "code",
   "execution_count": 6,
   "metadata": {},
   "outputs": [],
   "source": [
    "interviewtxt =loadCsvData(\"data/interview text file to ids.csv\")"
   ]
  },
  {
   "cell_type": "code",
   "execution_count": 7,
   "metadata": {},
   "outputs": [],
   "source": [
    "#interviewtxt2= loadCsvData(\"data/OHTAP_metadata - Interviews.csv\")"
   ]
  },
  {
   "cell_type": "code",
   "execution_count": 8,
   "metadata": {},
   "outputs": [],
   "source": [
    "interviewtxt=pandas.DataFrame(interviewtxt[1:], columns=interviewtxt[0])"
   ]
  },
  {
   "cell_type": "code",
   "execution_count": 9,
   "metadata": {},
   "outputs": [],
   "source": [
    "#interviewtxt2=pandas.DataFrame(interviewtxt2[1:], columns=interviewtxt2[0])"
   ]
  },
  {
   "cell_type": "code",
   "execution_count": 10,
   "metadata": {},
   "outputs": [],
   "source": [
    "ids_to_years=defaultdict(lambda: defaultdict(lambda:\"0\"))\n",
    "for i in range(len(interviewtxt)):\n",
    "    date=interviewtxt[\"date_of_first_interview\"][i]\n",
    "    year=date[date.rfind('/')+1:]\n",
    "    ids=interviewtxt[\"interviewee_ids\"][i].split(';')\n",
    "    no_transcript=interviewtxt[\"no_transcript\"][i]\n",
    "    for num in ids:\n",
    "        ids_to_years[num][\"year\"]= str(year)\n",
    "        if no_transcript==\"TRUE\" and ids_to_years[num][\"included\"]==\"0\":\n",
    "            ids_to_years[num][\"included\"]=False\n",
    "        else:\n",
    "            ids_to_years[num][\"included\"]=True"
   ]
  },
  {
   "cell_type": "code",
   "execution_count": 11,
   "metadata": {},
   "outputs": [],
   "source": [
    "database=defaultdict(lambda: defaultdict(lambda:0))\n",
    "for i in range(len(data)):\n",
    "    if ids_to_years[data.loc[i, \"interviewee_id\"]][\"included\"]==False:\n",
    "        continue\n",
    "    for atr in data.columns:\n",
    "        if atr== \"researcher_assumed_birth_decade\":\n",
    "            continue\n",
    "        if atr== \"researcher_assumed_race\":\n",
    "            continue\n",
    "        value= data[atr][i]\n",
    "        if value in BLANKS and atr==\"\\ufeffbirth_decade\":\n",
    "            value= data.loc[i, \"researcher_assumed_birth_decade\"]\n",
    "        if value in BLANKS and atr==\"identified_race\":\n",
    "            value= data.loc[i, \"researcher_assumed_race\"]\n",
    "        if value in BLANKS and atr == \"real_interviewee_birth_year\":\n",
    "            value= data.loc[i, \"approximate_interviewee_birth_year\"]\n",
    "        database[data.loc[i, \"interviewee_id\"]][atr]=value\n",
    "    database[data.loc[i, \"interviewee_id\"]][\"interview_year\"]=ids_to_years[data.loc[i, \"interviewee_id\"]][\"year\"]"
   ]
  },
  {
   "cell_type": "code",
   "execution_count": 12,
   "metadata": {},
   "outputs": [
    {
     "name": "stdout",
     "output_type": "stream",
     "text": [
      "2645\n"
     ]
    }
   ],
   "source": [
    "text_to_ids=defaultdict(lambda: defaultdict(lambda:\"0\"))\n",
    "for i in range(len(interviewtxt)):\n",
    "    if interviewtxt[\"no_transcript\"][i]==\"TRUE\":\n",
    "        continue\n",
    "    name=interviewtxt.at[i, interviewtxt.columns[0]]\n",
    "    name=name[:name.rfind('.')]\n",
    "    name=name.replace('\\'','_')\n",
    "    people=interviewtxt[\"interviewee_ids\"][i].split(';')\n",
    "    women=False\n",
    "    for j in people:\n",
    "        if database[j][\"sex\"]==\"Female\":\n",
    "            women=True\n",
    "            break\n",
    "    if not women:\n",
    "        continue\n",
    "    text_to_ids[name][\"id\"]=people\n",
    "    date=interviewtxt[\"date_of_first_interview\"][i]\n",
    "    text_to_ids[name][\"interview year\"]= date[date.rfind(\"/\")+1:]\n",
    "print(len(text_to_ids))"
   ]
  },
  {
   "cell_type": "code",
   "execution_count": null,
   "metadata": {},
   "outputs": [],
   "source": []
  },
  {
   "cell_type": "code",
   "execution_count": 13,
   "metadata": {},
   "outputs": [],
   "source": [
    "dataformatted=defaultdict(lambda: defaultdict(lambda:0))\n",
    "for i in database : \n",
    "    if database[i][\"sex\"]==\"Male\":\n",
    "        continue\n",
    "    for atr in database[i]:\n",
    "        value= database[i][atr]\n",
    "        if value not in BLANKS:\n",
    "            dataformatted[atr][value]+=1\n",
    "for cat in dataformatted:\n",
    "    total=0\n",
    "    for x in dataformatted[cat]:\n",
    "        total+= dataformatted[cat][x]\n",
    "    dataformatted[cat][\"No Info\"]= TOTAL-total"
   ]
  },
  {
   "cell_type": "code",
   "execution_count": 14,
   "metadata": {},
   "outputs": [],
   "source": [
    "ids_to_info=defaultdict(lambda: defaultdict(lambda:0))\n",
    "for ids in database:\n",
    "    ids_to_info[ids][\"birth_decade\"]=database[ids][\"\\ufeffbirth_decade\"]\n",
    "    ids_to_info[ids][\"education\"]=database[ids][\"education\"]\n",
    "    ids_to_info[ids][\"collection\"]=database[ids][\"collection_id\"]\n",
    "    ids_to_info[ids][\"sex\"]=database[ids][\"sex\"]\n",
    "    ids_to_info[ids][\"race\"]=database[ids][\"identified_race\"]\n",
    "    ids_to_info[ids][\"interview_year\"]=database[ids][\"interview_year\"]\n",
    "    ids_to_info[ids][\"birth_year\"]=database[ids][\"real_interviewee_birth_year\"]"
   ]
  },
  {
   "cell_type": "code",
   "execution_count": 15,
   "metadata": {},
   "outputs": [
    {
     "name": "stdout",
     "output_type": "stream",
     "text": [
      "{'HM_Amoore_Renee', 'SCAL_Newman_Leslea', 'UNCTWMS_Chase_Harry_G_Chase_Patricia', 'HM_Rice_Constance_1', 'BWSP_Mikuriya_Mary', 'BWSP_Baumgarten_Sylvia', 'UNCTWMS_Prior_Karen_Swallow', 'SCVF_Payne_Ladoris', 'SCAP_Jimenez_Ileana', 'SCVF_Avery_Byllye', 'HM_Angelou_Maya', 'SCAL_Pogrebin_LettyCottin', 'SCVF_Asetoyer_Charon', 'WOL_Coleman_Carolyn', 'HM_Lewis_Tina', 'WOL_Gray_Twyla_Mason', 'HM_Giovanni_Nikki', 'BWOH_Thomas_Constance', 'SCAARJ_Mingus_Mia', 'SCAP_Callahan_Kara', 'HM_Rogers_Desiree', 'HM_Scott_Gloria', 'UNCSW_Murray_Pauli', 'HM_Cunningham_Evelyn', 'HM_Bath_Patricia', 'UNCTWMS_Herr_Mary', 'HM_Cooper_Maudine', 'UNCTWMS_Short_Joan_Boyd', 'BWOH_Harrison_Pleasant', 'HM_DeCosta-Willis_Miriam', 'SHSF_Jacobs_Charlotte', 'UNCTWMS_Fuchs_Laurie', 'UNCTWMS_Rostan_June', 'SCVF_Smith_Barbara', 'SCVF_Vazquez_Carmen', 'UNCTWMS_Stulberg_Dorothy', 'HM_Dawson_Lula', 'SCVF_Frantz_Marge', 'UNCTWMS_Cravey_Altha', 'HM_Fairhurst_Norma', 'UNCTWMS_Nickle_Carol', 'SCVF_Moraga_Cherrie', 'HM_Edwards_Audrey', 'HM_Brooks_Queen', 'BWSP_Lamphere_Louise', 'HM_Lythcott_Marcia', 'HM_Williams_Terrie', 'RTRB_Keck_Marjorie', 'UNCSW_Simkins_Modjeska_Monteith_1', 'HM_Hunter-Gault_Charlayne', 'HM_McCabe_Jewell', 'BWSP_Weed_Elizabeth', 'HM_Peeples_Audrey', 'HM_Ward_Val', 'OWHF_Martin_Kay', 'SCVF_Henry_Fran', 'SCVF_Nussbaum_Karen', 'HM_Waters_Maxine', 'WOL_Askins_Jari', 'HM_Cole_Brenda', 'HM_Fields_Dorothy', 'SCAARJ_Chum_Sophya', 'WOL_Weedn_Trish', 'UNCTWMS_Weeks_Jane', 'SCVF_Pharr_Suzanne', 'BWOH_Edmonds_Florence', 'HM_Burton_Cheryl', 'HM_Tucker_Joyce', 'SCVF_Ward_Wynona', 'UNCTWMS_Bell_Brenda', 'RTRB_Jackson_Rosella', 'HM_Cross_June', 'HM_Middlebrooks_Felicia', 'HM_Shange_Ntozake', 'SCVF_Pratt_Minnie_Bruce', 'HM_Reynolds_Barbara', 'HM_Ewing_Sylvia', 'UNCTWMS_Ivins_Melody_1', 'SCVF_Nelson_Marjory', 'HM_Dickerson_Amina', 'HM_Hare_Julia', 'UNCTWMS_Wolf_Paula', 'HM_Brown_Jamie', 'UNCSW_MacDougall_Margaret_McDow', 'SCVF_Acey_Katherine', 'HM_Aiyetoro_Adjoa', 'HM_Miles_Steen', 'BWSP_Leonard_Margery', 'HM_Key_Alice', 'HM_Billops_Camille', 'BWSP_Black_Lois', 'HM_Brown_Jacqueline', 'UNCTWMS_Groover_Marian', 'ROHA_Drelich_Pearl', 'RTRB_Gee_Maggie_2', 'UNCTWMS_Garcia_Serena', 'HM_Wilson_Lucy', 'HM_Nelson_Jill', 'HM_Fry_Rita', 'HM_Hobson_Mellody', 'SCAL_Pincus_Jane', 'UNCTWMS_Benedict_Salli', 'SCVF_Alexander_Dolores', 'SCAP_McNulty_Molly', 'SCVF_Shelley_Martha', 'SOOH_Shepherd_Marie', 'HM_Guy_Jasmine', 'UNCSW_Stone_Olive_M_(Olive_Matthews)_8', 'HM_Ransby_Barbara', 'HM_Cox_Marcella', 'SCVF_Allison_Dorothy', 'UNCTWMS_Levy_Dianne', 'HM_Webb_Wilma', 'BWSP_Kay_Sarah', 'HM_Ciara_Barbara', 'SCAP_Kessler_Elizabeth', 'WOL_Williams_Penny', 'HM_Gillespie_Marcia', 'BWSP_Morse_Charlotte', 'UNCTWMS_Leeper_Connie', 'ROHA_Archibald_Alice', 'BWOH_Edwards_Lena', 'HM_Lillie_Charisse', 'HM_Jones_Jennifer', 'HM_Williams_Jamye', 'UNCTWMS_Reisman_Judith', 'SCAP_Hazeltine_Glenna', 'HM_Jefferson_Margo', 'HM_Shorter_Vera', 'HM_Bacon_Gloria', 'HM_Benson_Olive', 'HM_Omilami_Elisabeth', 'WOL_Floyd_Billie_Jean', 'HM_Carwell_Hattie', 'HM_Runner_Dorothy', 'HM_Bridgewater_Dee', 'ROHA_Taylor_Kathleen', 'SHSF_Donaldson_Sarah', 'HM_Nottage_Lynn', 'SCAP_King_Brandy', 'SOOH_Hall_Heinz_Hall_Marliese', 'HM_Adams_Carol', 'HM_Cross_Dolores', 'SCAL_Ahrens_Lois', 'SCVF_Diallo_Dazon_Dixon', 'SCAARJ_Choi_Cynthia', 'SCVF_Toure_Nkenge', 'BWOH_Parks_Rosa', 'UNCTWMS_Judy_Rebecca_Ann', 'UNCGAS_Knudsen_Betty_McAllister_Beth', 'HM_Hughley_Stephanie', 'HM_Abrams_Roz', 'HM_Lawson_Jennifer', 'UNCSW_Seeman_Elizabeth', 'UNCTWMS_Evans_Gaye', 'HM_Flowers_Mary', 'HM_Roxborough_Mildred', 'BWOH_Hedgeman_Arnold', 'HM_Berger-Sweeney_Joanne', 'RTRB_Tidmore_Roberta', 'UNCTWMS_Begalla_Martha', 'UNCTWMS_Elmore_Bessie', 'BWSP_Moss_Beverly', 'UNCTWMS_Wilson_Gen', 'HM_Johnson_Malvyn', 'HM_Shaw_Sarah-Ann', 'SHSF_Maccoby_Eleanor', 'HM_Randall_Alice', 'SCVF_Berek_Judy', 'SCAARJ_Zia_Helen', 'OWHF_Ross_Cindy', 'UNCTWMS_Lester_Lorayne', 'UNCTWMS_Pevia_Kim_Adrienne', 'BWOH_Scott_Esther', 'SOOH_Dunbar-Ortiz_Roxanne', 'WOL_Leftwich_Debbe', 'BWSP_Landman_Margot', 'SHSF_Mahoney_Sally', 'BWSP_Desai_Tejal', 'RTRB_Wikelund_Jospehine', 'HM_Dyson_Marcia', 'SCAP_Wang_Kit', 'UNCTWMS_Sobieski_Wanda_2', 'WOL_Hamilton_Rebecca', 'HM_Brown_Yvette', 'HM_Jones_Elaine', 'SHSF_Kraemer_Helena', 'HM_Love_Ruth', 'HM_Stevens_Rochelle', 'HM_Whigham_Carolyn', 'SHSF_Martin_Joanne', 'BWSP_Gardner_Martha', 'HM_Hammonds_Evelynn', 'HM_Massey_Shirley', 'HM_Tate_Alysia', 'HM_Trotter_Eunice', 'HM_Huntley_Lynn', 'UNCTWMS_Renz_Constance_Anne', 'HM_Madison_Paula', 'SHSF_Chu_Jean', 'ROHA_Mandel_Adrienne_2', 'SCVF_Morales_Rosario', 'BWOH_Kelly_Hattie', 'HM_Billingsley_Amy', 'ROHA_Treash_Eileen', 'RTRB_DeCory_Emily', 'UNCTWMS_Mashburn_Lillian_Tauxe', 'HM_Jackson_Valerie', 'UNCTWMS_Hatcher_Paris', 'SCAL_Pollet_Tiik', 'HM_Newkirk_Pamela', 'BWOH_Lancaster_Abna', 'SCVF_Biren_Joan', 'HM_Grimshaw_Jacquelyne', 'HM_Hines_Bea', 'HM_Dee_Ruby', 'UNCSW_Wright_Alice_Norwood_Spearman_2', 'SCVF_Beal_Frances', 'RTRB_Madsen_Lucille', 'UNCSW_Dabbs_Edith', 'HM_Billingsley_ReShonda', 'UNCTWMS_Turner_Katherine', 'HM_Flake_Elaine', 'UNCTWMS_Ross_Loretta', 'WOL_Peterson_Pam', 'HM_Farmer_Sharon', 'HM_Thompson_Francesca', 'RTRB_Pursley_Marilyn', 'UNCTWMS_Ray_Sylvia', 'HM_Mitchell_Mary', 'HM_Clarke_Caroline', 'UNCSW_Page_Myra', 'RTRB_Eng_Dorothy', 'HM_Wesley_Valerie', 'HM_O_Neal-McCray_Hellen', 'SCAP_LaBarbera_Jen', 'OOHYLC_Messenger_Dorothy', 'UNCTWMS_Robinson_Gail', 'UNCGAS_Allen_Jan', 'SCAP_Rothblum_Esther', 'HM_Lee_Barbara', 'HM_Wilson_Robin', 'SCVF_Kramer_Marian', 'HM_Clark_Augusta', 'HM_Estes_Sidmel', 'RTRB_McCain_Beth', 'HM_Cost_Monica', 'SHSA_Gianturco_Paola', 'HM_Taylor_Susan', 'UNCGAS_Sved_Margery', 'UNCTWMS_Brown_Laura_Clark', 'BWSP_Richardson_Joyce', 'BWSP_Sweet_Mary', 'HM_Malveaux_Suzanne', 'SCVF_Steinem_Gloria', 'UNCTWMS_Radcliff_Melissa', 'HM_Robinson_Cleo', 'UNCTWMS_Barrett_Lida_Kittrell', 'BWOH_Thompson_Era', 'UNCTWMS_Brown_Donna_Uma_Aisha_HaQQ_Amira_Inas', 'UNCGAS_Parker_Karen_2', 'SHSF_Gelpi_Barbara', 'SHSF_Strober_Myra', 'UNCTWMS_Grant_Patricia', 'HM_Fales-Hill_Susan', 'OSS_Vivar_Romero_Angela', 'HM_Wilcher_Shirley', 'HM_Braun_Carol', 'HM_Ross_Sonya', 'BWOH_Duster_Alfreda', 'BWOH_Moore_Audley', 'SHSF_Shapiro_Lucy', 'UNCTWMS_Lewis_Helen_Matthews', 'HM_Ebert_Chaz', 'HM_Hutcherson_Bernice', 'UNCTWMS_Pharr_Suzanne', 'UNCTWMS_JohnsonHostler_Monika', 'UNCTWMS_Zalph_Ruth_Colish', 'HM_Simmons_Debra', 'HM_Payne_Scherrie', 'UNCTWMS_Scott_Nan', 'HM_McQueen_Armelia', 'BWOH_Adams_Kathleen', 'HM_Williams_Elynor', 'SCVF_Miller_Geraldine', 'SHSF_Litt_Iris', 'HM_McElroy_Marion', 'HM_Young_Carolyn', 'RTRB_August_Helen', 'HM_Wattleton_Alyce', 'SCVF_Fried_Marlene_Gerber', 'HM_Guidry_Carolyn', 'WOL_McDaniel_Jeannie', 'UNCTWMS_Kurth_Suzanne_B_(Suzanne_Beth)', 'HM_Neisser_Winifred', 'UNCSW_McGill_Eula_3', 'HM_Windom_Alice', 'RTRB_Buls_Patricia', 'HM_Carrington_Arese', 'SHSF_Kennedy_Jeanne', 'UNCTWMS_DeSelm_Bee', 'HM_Baiocchi_Regina', 'SCAP_Abrams_Lisa', 'RTRB_Barquist_Rose', 'OWHF_Coats-Ashley_Nancy', 'UNCTWMS_Barrett_Margaret_Bowers', 'HM_Miller-Perry_Rosetta', 'HM_Langford_Anna', 'RTRB_Cook_Peggy', 'BWSP_Miller_Kristie', 'UNCTWMS_Henderson_Margaret', 'UNCTWMS_Basham_Janelle', 'OSS_Anderson_Karen', 'HM_Sanchez_Sonia', 'HM_Smith_Beverly', 'HM_Frazier_Frances', 'HM_Moore_Geraldine', 'SCVF_Saika_Peggy', 'HM_Ray_Fay', 'HM_Swarns_Rachel', 'HM_Hutchinson_Janice', 'HM_Sears_Leah', 'UNCSW_Ransdall_Hollace', 'HM_Johnson_Bev', 'HM_Simpson_Carole', 'HM_Jackson_Teri', 'BWOH_Smith_Julia', 'HM_Cantarella_Marcia', 'SCVF_Roma_Catherine', 'UNCTWMS_Rollins_Sheryl_Clark', 'SCAARJ_Masaki_Beckie', 'UNCGAS_Floyd_Wanda_2', 'HM_Harris-Perry_Melissa', 'RTRB_Torres_Mary', 'HM_Spann-Cooper_Melody', 'HM_Zollar_Jawole', 'UNCTWMS_McNabb_Bernadette', 'HM_Sizemore_Barbara', 'UNCSW_Simkins_Modjeska_Monteith_2', 'HM_Brock-Leftridge_Martha', 'HM_Catoe_Bette', 'SCAL_Berkman_Joyce', 'HM_Pratt_Sharon', 'UNCTWMS_Davis_Catherine', 'UNCGAS_FisherBorne_Marcie', 'HM_Whipper_Lucille', 'BWOH_Snowden_Muriel', 'HM_Biggins_J.', 'SCVF_Apuzzo_Virginia', 'HM_Gray_Edith', 'BWOH_Temple_Ruth', 'UNCSW_Bates_Daisy', 'BWSP_Hopkins-Stapleton_Doris', 'BWOH_Stokes_Olivia', 'HM_Tillman_Dorothy', 'SCAP_Yahm_Elinor', 'SCVF_Winslow_Barbara', 'UNCTWMS_Evans_Sara_M_(Sara_Margaret)', 'HM_Stewart_Stacey', 'HM_Chew_Vivian', 'UNCTWMS_Parsons_Darlene', 'SOOH_Braunlich_Phyllis', 'UNCTWMS_Byrd_Erin_Dale', 'HM_Rookard_Gloria', 'SHSF_Keohane_Nannerl_2', 'HM_Chenzira_Ayoka', 'HM_Hampshire-Cowan_Artis', 'RTRB_Coates_Betty', 'OSS_McConnell_Wendy', 'SOOH_Henderson_Mary_Horsechief', 'HM_Butts_June', 'SOOH_Cash_June', 'UNCTWMS_Rovetti_Corinne_McNabb_Richard_McNabb_Bernadette', 'HM_Alexander_Ethel', 'BWSP_Mahdesian_Linda', 'UNCTWMS_Hutchison_Carolyn', 'RTRB_Miramontes_Nancy', 'UNCTWMS_Sassman_Susan', 'HM_Toote_Gloria', 'HM_Pindell_Howardena', 'BWOH_Height_Dorothy', 'HM_Amaki_Amalia', 'UNCSW_Stevens_Thelma', 'HM_Slade_Karen', 'BWOH_Adair_Christia', 'UNCTWMS_Giardina_Carol', 'SCAP_Lewis_Sylvia', 'ROHA_Thompson_Pearl', 'HM_Sanford_Adelaide', 'SCAL_Shelton_Christine', 'BWSP_Morgan_Anna', 'HM_Topsy-Elvord_Doris', 'HM_Sci_LaVerne', 'HM_Elam_Deborah', 'HM_Britt_Donna', 'HM_Hall_Evangeline', 'SCVF_Ports_Suki', 'BWOH_Barnett_Etta', 'SCVF_Thom_Mary', 'UNCTWMS_Gruelle_Kit', 'WOL_Collins_Jan', 'RTRB_Samson_Betty', 'BWSP_Fairchild_Joyce', 'UNCSW_Ames_Jessie_Daniel', 'HM_Grevious_Audrey', 'HM_Wright-Pryor_Barbara', 'HM_Martin_Sylvia', 'HM_Allen_Billie', 'SCVF_Allison_Dorothy_Vazquez_Carmen', 'HM_Bundles_A_Lelia', 'HM_Smith_Bev', 'HM_Hunter_Karen', 'HM_Lewis_Elma', 'ROHA_Spetgang_Tilly_2', 'HM_Michel_Harriet', 'HM_James-Brown_Christine', 'HM_Montes_Peggy', 'HM_Dellums_Leola', 'HM_Wilson_Mary', 'HM_Daniel_Elnora', 'HM_Pennick_Aurie', 'HM_Watson_Diane', 'HM_Pool-Eckert_Marquita', 'SCVF_Hollibaugh_Amber', 'HM_Stewart_Imagene', 'HM_Haizlip_Shirlee', 'HM_Apilado_Ruth', 'UNCTWMS_Mays_Mary_Katherine', 'HM_Stewart_Monica', 'UNCTWMS_Stokes_Jeanette', 'SCAARJ_Luke_Mary', 'UNCTWMS_Morrow_Sarah_Taylor', 'ROHA_Kramer_Barbara', 'HM_John_Bonnie', 'HM_Rolark-Barnes_Denise', 'BWSP_Rodriguez_Hannelore', 'UNCGAS_Barney_Elaine_3', 'HM_Palmer_Jorja', 'HM_Grant_Jacquelyn', 'BWSP_Palmer_Alison', 'HM_Lundy_Carmen', 'HM_Davis_Michaela', 'HM_Lowery_Evelyn', 'HM_Shipp_E.', 'HM_Ferguson_Renee', 'BWSP_Ross_Hilary', 'SCVF_Gould_Sara', 'OWHF_Rhea_Jeanine', 'SHSA_Tracy_Else', 'BWSP_Chapman_Clarice', 'UNCTWMS_Marshall_Senseney', 'SHSF_Miner_Anne', 'SHSA_Gartrell_Nanette'}\n"
     ]
    }
   ],
   "source": [
    "myfile = open(\"data/event_extents.txt\", encoding=\"latin1\")\n",
    "txt = myfile.readlines()\n",
    "myfile.close()\n",
    "\n",
    "files=[]\n",
    "\n",
    "names=set()\n",
    "for i in txt:\n",
    "    num= i.find(\"<Files\")\n",
    "    if num !=-1:\n",
    "        files.append(i.strip())\n",
    "\n",
    "for i in files:\n",
    "    i=i.split();\n",
    "    i=i[0]\n",
    "    i=i[i.find(\"\\\\\\\\\",8)+2:-1]\n",
    "    names.add(i.strip())\n",
    "print(names)\n",
    "        "
   ]
  },
  {
   "cell_type": "code",
   "execution_count": 16,
   "metadata": {},
   "outputs": [],
   "source": [
    "df_total_corpus = pandas.DataFrame([[TOTAL_INTER, len(names), int(len(names)/TOTAL_INTER*100)]],columns=[\"Total Corpus Interviews\", \"Number of Interviews Containing Speech Events\", \"Percentage Of Interviews Containing Speech Events\"], index=[\"\"])"
   ]
  },
  {
   "cell_type": "code",
   "execution_count": 17,
   "metadata": {},
   "outputs": [
    {
     "data": {
      "text/html": [
       "<div>\n",
       "<style scoped>\n",
       "    .dataframe tbody tr th:only-of-type {\n",
       "        vertical-align: middle;\n",
       "    }\n",
       "\n",
       "    .dataframe tbody tr th {\n",
       "        vertical-align: top;\n",
       "    }\n",
       "\n",
       "    .dataframe thead th {\n",
       "        text-align: right;\n",
       "    }\n",
       "</style>\n",
       "<table border=\"1\" class=\"dataframe\">\n",
       "  <thead>\n",
       "    <tr style=\"text-align: right;\">\n",
       "      <th></th>\n",
       "      <th>Total Corpus Interviews</th>\n",
       "      <th>Number of Interviews Containing Speech Events</th>\n",
       "      <th>Percentage Of Interviews Containing Speech Events</th>\n",
       "    </tr>\n",
       "  </thead>\n",
       "  <tbody>\n",
       "    <tr>\n",
       "      <th></th>\n",
       "      <td>2645</td>\n",
       "      <td>453</td>\n",
       "      <td>17</td>\n",
       "    </tr>\n",
       "  </tbody>\n",
       "</table>\n",
       "</div>"
      ],
      "text/plain": [
       "  Total Corpus Interviews  Number of Interviews Containing Speech Events  \\\n",
       "                     2645                                            453   \n",
       "\n",
       "  Percentage Of Interviews Containing Speech Events  \n",
       "                                                 17  "
      ]
     },
     "metadata": {},
     "output_type": "display_data"
    }
   ],
   "source": [
    "display(df_total_corpus)"
   ]
  },
  {
   "cell_type": "code",
   "execution_count": 18,
   "metadata": {},
   "outputs": [],
   "source": [
    "races=['Black or African American', 'White', 'Asian', 'Hispanic/Latinx',  'Indigenous American or Alaska Native', 'Two or More Races', 'Other Race']"
   ]
  },
  {
   "cell_type": "code",
   "execution_count": 19,
   "metadata": {},
   "outputs": [
    {
     "name": "stdout",
     "output_type": "stream",
     "text": [
      "defaultdict(<function <lambda> at 0x7fa00e191dc0>, {'Black or African American': 1200, 0: 139, 'White': 1230, 'Asian': 44, 'Hispanic/Latinx': 29, 'Other Race': 4, 'Two or More Races': 37, 'Indigenous American or Alaska Native': 101})\n"
     ]
    }
   ],
   "source": [
    "racemap=defaultdict(lambda:0)\n",
    "for i in text_to_ids:\n",
    "    for j in text_to_ids[i][\"id\"]:\n",
    "        racemap[database[j][\"identified_race\"]]+=1\n",
    "print(racemap)"
   ]
  },
  {
   "cell_type": "code",
   "execution_count": 20,
   "metadata": {},
   "outputs": [
    {
     "name": "stdout",
     "output_type": "stream",
     "text": [
      "defaultdict(<function <lambda> at 0x7fa00e1d41f0>, {'Black or African American': 241, 'White': 176, 0: 7, 'Asian': 14, 'Hispanic/Latinx': 7, 'Indigenous American or Alaska Native': 5, 'Two or More Races': 6, 'Other Race': 1})\n"
     ]
    }
   ],
   "source": [
    "racemapevents=defaultdict(lambda:0)\n",
    "for i in names:\n",
    "    for j in text_to_ids[i][\"id\"]:\n",
    "        racemapevents[database[j][\"identified_race\"]]+=1\n",
    "print(racemapevents)"
   ]
  },
  {
   "cell_type": "code",
   "execution_count": 21,
   "metadata": {},
   "outputs": [],
   "source": [
    "df_total_corpus = pandas.DataFrame([[racemap[races[i]], racemapevents[races[i]], int(100*racemapevents[races[i]]/racemap[races[i]])] for i in range(len(races))], index=races, columns=[\"Number of Interviews\", \"Number of Interviews Containing Speech Events\", \"Percentage of Interviews containing Speech Events\"])"
   ]
  },
  {
   "cell_type": "code",
   "execution_count": 22,
   "metadata": {},
   "outputs": [
    {
     "data": {
      "text/html": [
       "<div>\n",
       "<style scoped>\n",
       "    .dataframe tbody tr th:only-of-type {\n",
       "        vertical-align: middle;\n",
       "    }\n",
       "\n",
       "    .dataframe tbody tr th {\n",
       "        vertical-align: top;\n",
       "    }\n",
       "\n",
       "    .dataframe thead th {\n",
       "        text-align: right;\n",
       "    }\n",
       "</style>\n",
       "<table border=\"1\" class=\"dataframe\">\n",
       "  <thead>\n",
       "    <tr style=\"text-align: right;\">\n",
       "      <th></th>\n",
       "      <th>Number of Interviews</th>\n",
       "      <th>Number of Interviews Containing Speech Events</th>\n",
       "      <th>Percentage of Interviews containing Speech Events</th>\n",
       "    </tr>\n",
       "  </thead>\n",
       "  <tbody>\n",
       "    <tr>\n",
       "      <th>Black or African American</th>\n",
       "      <td>1200</td>\n",
       "      <td>241</td>\n",
       "      <td>20</td>\n",
       "    </tr>\n",
       "    <tr>\n",
       "      <th>White</th>\n",
       "      <td>1230</td>\n",
       "      <td>176</td>\n",
       "      <td>14</td>\n",
       "    </tr>\n",
       "    <tr>\n",
       "      <th>Asian</th>\n",
       "      <td>44</td>\n",
       "      <td>14</td>\n",
       "      <td>31</td>\n",
       "    </tr>\n",
       "    <tr>\n",
       "      <th>Hispanic/Latinx</th>\n",
       "      <td>29</td>\n",
       "      <td>7</td>\n",
       "      <td>24</td>\n",
       "    </tr>\n",
       "    <tr>\n",
       "      <th>Indigenous American or Alaska Native</th>\n",
       "      <td>101</td>\n",
       "      <td>5</td>\n",
       "      <td>4</td>\n",
       "    </tr>\n",
       "    <tr>\n",
       "      <th>Two or More Races</th>\n",
       "      <td>37</td>\n",
       "      <td>6</td>\n",
       "      <td>16</td>\n",
       "    </tr>\n",
       "    <tr>\n",
       "      <th>Other Race</th>\n",
       "      <td>4</td>\n",
       "      <td>1</td>\n",
       "      <td>25</td>\n",
       "    </tr>\n",
       "  </tbody>\n",
       "</table>\n",
       "</div>"
      ],
      "text/plain": [
       "                                      Number of Interviews  \\\n",
       "Black or African American                             1200   \n",
       "White                                                 1230   \n",
       "Asian                                                   44   \n",
       "Hispanic/Latinx                                         29   \n",
       "Indigenous American or Alaska Native                   101   \n",
       "Two or More Races                                       37   \n",
       "Other Race                                               4   \n",
       "\n",
       "                                      Number of Interviews Containing Speech Events  \\\n",
       "Black or African American                                                       241   \n",
       "White                                                                           176   \n",
       "Asian                                                                            14   \n",
       "Hispanic/Latinx                                                                   7   \n",
       "Indigenous American or Alaska Native                                              5   \n",
       "Two or More Races                                                                 6   \n",
       "Other Race                                                                        1   \n",
       "\n",
       "                                      Percentage of Interviews containing Speech Events  \n",
       "Black or African American                                                            20  \n",
       "White                                                                                14  \n",
       "Asian                                                                                31  \n",
       "Hispanic/Latinx                                                                      24  \n",
       "Indigenous American or Alaska Native                                                  4  \n",
       "Two or More Races                                                                    16  \n",
       "Other Race                                                                           25  "
      ]
     },
     "metadata": {},
     "output_type": "display_data"
    }
   ],
   "source": [
    "display(df_total_corpus)"
   ]
  },
  {
   "cell_type": "code",
   "execution_count": 23,
   "metadata": {},
   "outputs": [
    {
     "data": {
      "text/plain": [
       "[None,\n",
       " None,\n",
       " None,\n",
       " None,\n",
       " None,\n",
       " None,\n",
       " None,\n",
       " None,\n",
       " None,\n",
       " None,\n",
       " None,\n",
       " None,\n",
       " None,\n",
       " None]"
      ]
     },
     "execution_count": 23,
     "metadata": {},
     "output_type": "execute_result"
    },
    {
     "data": {
      "image/png": "[encoded data removed]",
      "text/plain": [
       "<Figure size 432x288 with 1 Axes>"
      ]
     },
     "metadata": {
      "needs_background": "light"
     },
     "output_type": "display_data"
    }
   ],
   "source": [
    "N = 7\n",
    "\n",
    "ind = np.arange(N) \n",
    "\n",
    "# some example data\n",
    "    \n",
    "    \n",
    "people = np.array([racemap['Black or African American'], racemap['White'], racemap['Asian'], racemap['Hispanic/Latinx'], racemap['Indigenous American or Alaska Native'], racemap['Two or More Races'], racemap['Other Race']])\n",
    "\n",
    "\n",
    "\n",
    "# and plot it\n",
    "fig, ax = pyplot.subplots()\n",
    "ax.set_xticks(ind)\n",
    "total=ax.bar(ind, people, .35,)\n",
    "ax.set_xticklabels([\"Black\", \"White\", \"Asian\", \"Latinx\", \"Indigenous\", \"Mixed Race\", \"Other\"])\n",
    "ax.set_title(\"Number of Interviews by Race \")\n",
    "ax.set_ylabel('Number of Interviews')\n",
    "ax.tick_params(axis='both', which='major', labelsize=8)\n",
    "ax.tick_params(axis='both', which='minor', labelsize=4)\n",
    "dx = .25\n",
    "dy=0\n",
    "offset = matplotlib.transforms.ScaledTranslation(dx, dy, fig.dpi_scale_trans)\n",
    "for label in ax.xaxis.get_majorticklabels():\n",
    "    label.set_transform(label.get_transform() + offset)\n",
    "pyplot.setp(ax.get_xticklabels(), horizontalalignment='right')"
   ]
  },
  {
   "cell_type": "code",
   "execution_count": 24,
   "metadata": {},
   "outputs": [
    {
     "data": {
      "image/png": "[encoded data removed]",
      "text/plain": [
       "<Figure size 432x288 with 1 Axes>"
      ]
     },
     "metadata": {},
     "output_type": "display_data"
    }
   ],
   "source": [
    "labels = [\"Black\", \"White\", \"Asian\", \"Latinx\", \"Indigenous\", \"Mixed Race\", \"Other\"]\n",
    "sizes = [racemap['Black or African American'], racemap['White'], racemap['Asian'], racemap['Hispanic/Latinx'], racemap['Indigenous American or Alaska Native'], racemap['Two or More Races'], racemap['Other Race']]\n",
    "\n",
    "fig1, ax1 = pyplot.subplots()\n",
    "ax1.pie(sizes, labels=labels, startangle=90, labeldistance=None)\n",
    "ax1.axis('equal')  # Equal aspect ratio ensures that pie is drawn as a circle.\n",
    "ax1.set_title(\"Entire Corpus by Race\")\n",
    "pyplot.legend()\n",
    "pyplot.show()"
   ]
  },
  {
   "cell_type": "code",
   "execution_count": 25,
   "metadata": {},
   "outputs": [
    {
     "name": "stdout",
     "output_type": "stream",
     "text": [
      "defaultdict(<function <lambda> at 0x7fa00e2ce310>, {'Black or African American': 241, 'White': 176, 0: 7, 'Asian': 14, 'Hispanic/Latinx': 7, 'Indigenous American or Alaska Native': 5, 'Two or More Races': 6, 'Other Race': 1})\n"
     ]
    }
   ],
   "source": [
    "racemapevents=defaultdict(lambda:0)\n",
    "for i in names:\n",
    "    for j in text_to_ids[i][\"id\"]:\n",
    "        racemapevents[database[j][\"identified_race\"]]+=1\n",
    "print(racemapevents)"
   ]
  },
  {
   "cell_type": "code",
   "execution_count": 26,
   "metadata": {},
   "outputs": [],
   "source": [
    "df_total_corpus = pandas.DataFrame([racemapevents['Black or African American'], racemapevents['White'], racemapevents['Asian'], racemapevents['Hispanic/Latinx'], racemapevents['Indigenous American or Alaska Native'], racemapevents['Two or More Races'], racemapevents['Other Race']],index=[\"Number of Interviews Containing Speech Events with Black Women\", \"Number of Interviews Containing Speech Events with White Women\", \"Number of Interviews Containing Speech Events with Asian Women\", \"Number of Interviews Containing Speech Events with Latinx Women\", \"Number of Interviews Containing Speech Events with Indigenous Women\", \"Number of Interviews Containing Speech Events with Mixed Race Women\", \"Number of Interviews Containing Speech Events with Women of Other Races\"], columns=[\"\"])"
   ]
  },
  {
   "cell_type": "code",
   "execution_count": 27,
   "metadata": {},
   "outputs": [
    {
     "data": {
      "text/html": [
       "<div>\n",
       "<style scoped>\n",
       "    .dataframe tbody tr th:only-of-type {\n",
       "        vertical-align: middle;\n",
       "    }\n",
       "\n",
       "    .dataframe tbody tr th {\n",
       "        vertical-align: top;\n",
       "    }\n",
       "\n",
       "    .dataframe thead th {\n",
       "        text-align: right;\n",
       "    }\n",
       "</style>\n",
       "<table border=\"1\" class=\"dataframe\">\n",
       "  <thead>\n",
       "    <tr style=\"text-align: right;\">\n",
       "      <th></th>\n",
       "      <th></th>\n",
       "    </tr>\n",
       "  </thead>\n",
       "  <tbody>\n",
       "    <tr>\n",
       "      <th>Number of Interviews Containing Speech Events with Black Women</th>\n",
       "      <td>241</td>\n",
       "    </tr>\n",
       "    <tr>\n",
       "      <th>Number of Interviews Containing Speech Events with White Women</th>\n",
       "      <td>176</td>\n",
       "    </tr>\n",
       "    <tr>\n",
       "      <th>Number of Interviews Containing Speech Events with Asian Women</th>\n",
       "      <td>14</td>\n",
       "    </tr>\n",
       "    <tr>\n",
       "      <th>Number of Interviews Containing Speech Events with Latinx Women</th>\n",
       "      <td>7</td>\n",
       "    </tr>\n",
       "    <tr>\n",
       "      <th>Number of Interviews Containing Speech Events with Indigenous Women</th>\n",
       "      <td>5</td>\n",
       "    </tr>\n",
       "    <tr>\n",
       "      <th>Number of Interviews Containing Speech Events with Mixed Race Women</th>\n",
       "      <td>6</td>\n",
       "    </tr>\n",
       "    <tr>\n",
       "      <th>Number of Interviews Containing Speech Events with Women of Other Races</th>\n",
       "      <td>1</td>\n",
       "    </tr>\n",
       "  </tbody>\n",
       "</table>\n",
       "</div>"
      ],
      "text/plain": [
       "                                                       \n",
       "Number of Interviews Containing Speech Events w...  241\n",
       "Number of Interviews Containing Speech Events w...  176\n",
       "Number of Interviews Containing Speech Events w...   14\n",
       "Number of Interviews Containing Speech Events w...    7\n",
       "Number of Interviews Containing Speech Events w...    5\n",
       "Number of Interviews Containing Speech Events w...    6\n",
       "Number of Interviews Containing Speech Events w...    1"
      ]
     },
     "metadata": {},
     "output_type": "display_data"
    }
   ],
   "source": [
    "display(df_total_corpus)"
   ]
  },
  {
   "cell_type": "code",
   "execution_count": 28,
   "metadata": {},
   "outputs": [
    {
     "data": {
      "text/plain": [
       "[None,\n",
       " None,\n",
       " None,\n",
       " None,\n",
       " None,\n",
       " None,\n",
       " None,\n",
       " None,\n",
       " None,\n",
       " None,\n",
       " None,\n",
       " None,\n",
       " None,\n",
       " None]"
      ]
     },
     "execution_count": 28,
     "metadata": {},
     "output_type": "execute_result"
    },
    {
     "data": {
      "image/png": "[encoded data removed]",
      "text/plain": [
       "<Figure size 432x288 with 1 Axes>"
      ]
     },
     "metadata": {
      "needs_background": "light"
     },
     "output_type": "display_data"
    }
   ],
   "source": [
    "N = 7\n",
    "\n",
    "ind = np.arange(N) \n",
    "\n",
    "# some example data\n",
    "    \n",
    "    \n",
    "people = np.array([racemapevents['Black or African American'], racemapevents['White'], racemapevents['Asian'], racemapevents['Hispanic/Latinx'], racemapevents['Indigenous American or Alaska Native'], racemapevents['Two or More Races'], racemapevents['Other Race']])\n",
    "\n",
    "\n",
    "\n",
    "# and plot it\n",
    "fig, ax = pyplot.subplots()\n",
    "ax.set_xticks(ind)\n",
    "total=ax.bar(ind, people, .35,)\n",
    "ax.set_xticklabels([\"Black\", \"White\", \"Asian\", \"Latinx\", \"Indigenous\", \"Mixed Race\", \"Other\"])\n",
    "ax.set_title(\"Number of Interviews Containing Speech Events by Race\")\n",
    "ax.set_ylabel('Number of Interviews')\n",
    "ax.tick_params(axis='both', which='major', labelsize=8)\n",
    "ax.tick_params(axis='both', which='minor', labelsize=4)\n",
    "dx = .25\n",
    "dy=0\n",
    "offset = matplotlib.transforms.ScaledTranslation(dx, dy, fig.dpi_scale_trans)\n",
    "for label in ax.xaxis.get_majorticklabels():\n",
    "    label.set_transform(label.get_transform() + offset)\n",
    "pyplot.setp(ax.get_xticklabels(), horizontalalignment='right')"
   ]
  },
  {
   "cell_type": "code",
   "execution_count": 29,
   "metadata": {},
   "outputs": [
    {
     "data": {
      "image/png": "[encoded data removed]",
      "text/plain": [
       "<Figure size 432x288 with 1 Axes>"
      ]
     },
     "metadata": {},
     "output_type": "display_data"
    }
   ],
   "source": [
    "labels = [\"Black\", \"White\", \"Asian\", \"Latinx\", \"Indigenous\", \"Mixed Race\", \"Other\"]\n",
    "sizes = [racemapevents['Black or African American'], racemapevents['White'], racemapevents['Asian'], racemapevents['Hispanic/Latinx'], racemapevents['Indigenous American or Alaska Native'], racemapevents['Two or More Races'], racemapevents['Other Race']]\n",
    "\n",
    "fig1, ax1 = pyplot.subplots()\n",
    "ax1.pie(sizes, labels=labels, startangle=90, labeldistance=None)\n",
    "ax1.axis('equal')  # Equal aspect ratio ensures that pie is drawn as a circle.\n",
    "ax1.set_title(\"Interviews Containing Speech Events by Race\")\n",
    "pyplot.legend()\n",
    "pyplot.show()"
   ]
  },
  {
   "cell_type": "code",
   "execution_count": 30,
   "metadata": {},
   "outputs": [
    {
     "data": {
      "text/plain": [
       "[None,\n",
       " None,\n",
       " None,\n",
       " None,\n",
       " None,\n",
       " None,\n",
       " None,\n",
       " None,\n",
       " None,\n",
       " None,\n",
       " None,\n",
       " None,\n",
       " None,\n",
       " None]"
      ]
     },
     "execution_count": 30,
     "metadata": {},
     "output_type": "execute_result"
    },
    {
     "data": {
      "image/png": "[encoded data removed]",
      "text/plain": [
       "<Figure size 432x288 with 1 Axes>"
      ]
     },
     "metadata": {
      "needs_background": "light"
     },
     "output_type": "display_data"
    }
   ],
   "source": [
    "N = 7\n",
    "\n",
    "ind = np.arange(N) \n",
    "values=[]\n",
    "\n",
    "# some example data\n",
    "\n",
    "    \n",
    "    \n",
    "values = np.array([int(100*racemapevents['Black or African American']/racemap['Black or African American']), int(100*racemapevents['White']/racemap['White']), int(100*racemapevents['Asian']/racemap['Asian']), int(100*racemapevents['Hispanic/Latinx']/racemap['Hispanic/Latinx']), int(100*racemapevents['Indigenous American or Alaska Native']/racemap['Indigenous American or Alaska Native']), int(100*racemapevents['Two or More Races']/racemap['Two or More Races']), int(100*racemapevents['Other Race']/racemap['Other Race'])])\n",
    "\n",
    "\n",
    "x = range(len(values))\n",
    "\n",
    "\n",
    "# and plot it\n",
    "fig, ax = pyplot.subplots()\n",
    "ax.bar(ind, values, .35, color=\"b\")\n",
    "ax.set_xticks(ind)\n",
    "ax.set_xticklabels([\"Black or African American (\"+str(racemapevents[\"Black or African American\"])+\" of \" + str(racemap[\"Black or African American\"])+\")\", \"White (\"+str(racemapevents[\"White\"])+\" of \" + str(racemap[\"White\"])+\")\",\"Asian (\"+str(racemapevents[\"Asian\"])+\" of \" + str(racemap[\"Asian\"])+\")\", \"Hispanic/Latinx (\"+str(racemapevents[\"Hispanic/Latinx\"])+\" of \" + str(racemap[\"Hispanic/Latinx\"])+\")\", \"Indigenous American or Alaska Native (\"+str(racemapevents[\"Indigenous American or Alaska Native\"])+\" of \" + str(racemap[\"Indigenous American or Alaska Native\"])+\")\", \"Two or More Races (\"+str(racemapevents[\"Two or More Races\"])+\" of \" + str(racemap[\"Two or More Races\"])+\")\", \"Other Races (\"+ str(racemapevents[\"Other Race\"])+\" of \" + str(racemap[\"Other Race\"])+\")\"])\n",
    "ax.set_title('Percent of Interviews Containing Rape Cluster Terms, by Race')\n",
    "ax.set_ylabel('Percent of Interviews with Rape Cluster Terms')\n",
    "pyplot.setp(ax.get_xticklabels(), rotation=30, horizontalalignment='right')\n"
   ]
  },
  {
   "cell_type": "code",
   "execution_count": 31,
   "metadata": {},
   "outputs": [
    {
     "name": "stdout",
     "output_type": "stream",
     "text": [
      "defaultdict(<function <lambda> at 0x7fa00e6b1310>, {'High school graduate': 185, \"Bachelor's degree\": 734, 'Graduate or professional degree': 1362, \"Associate's degree\": 45, 'Some college': 142, '9th to 12th grade but no diploma': 120, 'Less than 9th grade': 44, 0: 142, 'RBNF 2': 9, 'RBNF 1': 4})\n"
     ]
    }
   ],
   "source": [
    "educationmap=defaultdict(lambda:0)\n",
    "for i in text_to_ids:\n",
    "    for j in text_to_ids[i][\"id\"]:\n",
    "        educationmap[database[j][\"education\"]]+=1\n",
    "print(educationmap)"
   ]
  },
  {
   "cell_type": "code",
   "execution_count": 32,
   "metadata": {},
   "outputs": [],
   "source": [
    "education_cohorts_map=dict()\n",
    "education_cohorts_map[\"Bachelor's degree\"]= \"Up to College Degree\"\n",
    "education_cohorts_map['Graduate or professional degree']= \"Graduate or Professional Degree\"\n",
    "education_cohorts_map['High school graduate']=\"Up to 12th Grade\"\n",
    "education_cohorts_map['9th to 12th grade but no diploma']= \"Up to 12th Grade\"\n",
    "education_cohorts_map['Some college']= \"Up to College Degree\"\n",
    "education_cohorts_map['Less than 9th grade']= \"Up to 12th Grade\"\n",
    "education_cohorts_map[\"Associate's degree\"]= \"Up to College Degree\""
   ]
  },
  {
   "cell_type": "code",
   "execution_count": 33,
   "metadata": {},
   "outputs": [
    {
     "name": "stdout",
     "output_type": "stream",
     "text": [
      "defaultdict(<function <lambda> at 0x7fa00e6b14c0>, {'Up to 12th Grade': 349, 'Up to College Degree': 921, 'Graduate or Professional Degree': 1362})\n"
     ]
    }
   ],
   "source": [
    "educationmapcohorts=defaultdict(lambda:0)\n",
    "for i in educationmap:\n",
    "    if i in education_cohorts_map:\n",
    "        educationmapcohorts[education_cohorts_map[i]]+=educationmap[i]\n",
    "print(educationmapcohorts)"
   ]
  },
  {
   "cell_type": "code",
   "execution_count": 34,
   "metadata": {},
   "outputs": [
    {
     "name": "stdout",
     "output_type": "stream",
     "text": [
      "defaultdict(<function <lambda> at 0x7fa00e6b1280>, {'9th to 12th grade but no diploma': 19, \"Bachelor's degree\": 117, 0: 7, 'Graduate or professional degree': 262, 'Some college': 22, \"Associate's degree\": 10, 'High school graduate': 15, 'Less than 9th grade': 4, 'RBNF 1': 1})\n"
     ]
    }
   ],
   "source": [
    "educationmapevents=defaultdict(lambda:0)\n",
    "for i in names:\n",
    "    for j in text_to_ids[i][\"id\"]:\n",
    "        educationmapevents[database[j][\"education\"]]+=1\n",
    "print(educationmapevents)"
   ]
  },
  {
   "cell_type": "code",
   "execution_count": 35,
   "metadata": {},
   "outputs": [
    {
     "name": "stdout",
     "output_type": "stream",
     "text": [
      "defaultdict(<function <lambda> at 0x7fa00e6b1670>, {'Up to 12th Grade': 38, 'Up to College Degree': 149, 'Graduate or Professional Degree': 262})\n"
     ]
    }
   ],
   "source": [
    "educationmapcohortsevents=defaultdict(lambda:0)\n",
    "for i in educationmapevents:\n",
    "    if i in education_cohorts_map:\n",
    "        educationmapcohortsevents[education_cohorts_map[i]]+=educationmapevents[i]\n",
    "print(educationmapcohortsevents)"
   ]
  },
  {
   "cell_type": "code",
   "execution_count": 36,
   "metadata": {},
   "outputs": [],
   "source": [
    "df_total_corpus = pandas.DataFrame([[educationmapcohorts[\"Up to 12th Grade\"], educationmapcohortsevents[\"Up to 12th Grade\"]],[educationmapcohorts[\"Up to College Degree\"], educationmapcohortsevents[\"Up to College Degree\"]],[educationmapcohorts[\"Graduate or Professional Degree\"], educationmapcohortsevents[\"Graduate or Professional Degree\"]]],index=[\"Up to 12th Grade\", \"Up to College Degree\", \"Graduate or Professional Degree\"], columns=[\"Number of Interviews in Corpus\", \"Number of Interviews Containing Speech Events\"])"
   ]
  },
  {
   "cell_type": "code",
   "execution_count": 37,
   "metadata": {},
   "outputs": [
    {
     "data": {
      "text/html": [
       "<div>\n",
       "<style scoped>\n",
       "    .dataframe tbody tr th:only-of-type {\n",
       "        vertical-align: middle;\n",
       "    }\n",
       "\n",
       "    .dataframe tbody tr th {\n",
       "        vertical-align: top;\n",
       "    }\n",
       "\n",
       "    .dataframe thead th {\n",
       "        text-align: right;\n",
       "    }\n",
       "</style>\n",
       "<table border=\"1\" class=\"dataframe\">\n",
       "  <thead>\n",
       "    <tr style=\"text-align: right;\">\n",
       "      <th></th>\n",
       "      <th>Number of Interviews in Corpus</th>\n",
       "      <th>Number of Interviews Containing Speech Events</th>\n",
       "    </tr>\n",
       "  </thead>\n",
       "  <tbody>\n",
       "    <tr>\n",
       "      <th>Up to 12th Grade</th>\n",
       "      <td>349</td>\n",
       "      <td>38</td>\n",
       "    </tr>\n",
       "    <tr>\n",
       "      <th>Up to College Degree</th>\n",
       "      <td>921</td>\n",
       "      <td>149</td>\n",
       "    </tr>\n",
       "    <tr>\n",
       "      <th>Graduate or Professional Degree</th>\n",
       "      <td>1362</td>\n",
       "      <td>262</td>\n",
       "    </tr>\n",
       "  </tbody>\n",
       "</table>\n",
       "</div>"
      ],
      "text/plain": [
       "                                 Number of Interviews in Corpus  \\\n",
       "Up to 12th Grade                                            349   \n",
       "Up to College Degree                                        921   \n",
       "Graduate or Professional Degree                            1362   \n",
       "\n",
       "                                 Number of Interviews Containing Speech Events  \n",
       "Up to 12th Grade                                                            38  \n",
       "Up to College Degree                                                       149  \n",
       "Graduate or Professional Degree                                            262  "
      ]
     },
     "metadata": {},
     "output_type": "display_data"
    }
   ],
   "source": [
    "display(df_total_corpus)"
   ]
  },
  {
   "cell_type": "code",
   "execution_count": 38,
   "metadata": {},
   "outputs": [
    {
     "data": {
      "text/plain": [
       "[None, None, None, None, None, None]"
      ]
     },
     "execution_count": 38,
     "metadata": {},
     "output_type": "execute_result"
    },
    {
     "data": {
      "image/png": "[encoded data removed]",
      "text/plain": [
       "<Figure size 432x288 with 1 Axes>"
      ]
     },
     "metadata": {
      "needs_background": "light"
     },
     "output_type": "display_data"
    }
   ],
   "source": [
    "N = 3\n",
    "\n",
    "ind = np.arange(N) \n",
    "\n",
    "# some example data\n",
    "    \n",
    "    \n",
    "people = np.array([educationmapcohorts['Up to 12th Grade'], educationmapcohorts[\"Up to College Degree\"], educationmapcohorts[\"Graduate or Professional Degree\"]])\n",
    "\n",
    "\n",
    "\n",
    "# and plot it\n",
    "fig, ax = pyplot.subplots()\n",
    "ax.set_xticks(ind)\n",
    "total=ax.bar(ind, people, .35,)\n",
    "ax.set_xticklabels([\"Up to 12th Grade\", \"Up to College Degree\", \"Graduate or Professional Degree\"])\n",
    "ax.set_title(\"Number of Interviews by Education\")\n",
    "ax.set_ylabel('Number of Interviews')\n",
    "ax.tick_params(axis='both', which='major', labelsize=7)\n",
    "ax.tick_params(axis='both', which='minor', labelsize=10)\n",
    "dx = .4\n",
    "dy=0\n",
    "offset = matplotlib.transforms.ScaledTranslation(dx, dy, fig.dpi_scale_trans)\n",
    "for label in ax.xaxis.get_majorticklabels():\n",
    "    label.set_transform(label.get_transform() + offset)\n",
    "pyplot.setp(ax.get_xticklabels(), horizontalalignment='right')"
   ]
  },
  {
   "cell_type": "code",
   "execution_count": 39,
   "metadata": {},
   "outputs": [
    {
     "data": {
      "text/plain": [
       "[None, None, None, None, None, None]"
      ]
     },
     "execution_count": 39,
     "metadata": {},
     "output_type": "execute_result"
    },
    {
     "data": {
      "image/png": "[encoded data removed]",
      "text/plain": [
       "<Figure size 432x288 with 1 Axes>"
      ]
     },
     "metadata": {
      "needs_background": "light"
     },
     "output_type": "display_data"
    }
   ],
   "source": [
    "N = 3\n",
    "\n",
    "ind = np.arange(N) \n",
    "\n",
    "# some example data\n",
    "    \n",
    "    \n",
    "people = np.array([educationmapcohortsevents['Up to 12th Grade'], educationmapcohortsevents[\"Up to College Degree\"], educationmapcohortsevents[\"Graduate or Professional Degree\"]])\n",
    "\n",
    "\n",
    "\n",
    "# and plot it\n",
    "fig, ax = pyplot.subplots()\n",
    "ax.set_xticks(ind)\n",
    "total=ax.bar(ind, people, .35,)\n",
    "ax.set_xticklabels([\"Up to 12th Grade\", \"Up to College Degree\", \"Graduate or Professional Degree\"])\n",
    "ax.set_title(\"Number of Interviews Containing Speech Events by Education\")\n",
    "ax.set_ylabel('Number of Interviews')\n",
    "ax.tick_params(axis='both', which='major', labelsize=7)\n",
    "ax.tick_params(axis='both', which='minor', labelsize=10)\n",
    "dx = .4\n",
    "dy=0\n",
    "offset = matplotlib.transforms.ScaledTranslation(dx, dy, fig.dpi_scale_trans)\n",
    "for label in ax.xaxis.get_majorticklabels():\n",
    "    label.set_transform(label.get_transform() + offset)\n",
    "pyplot.setp(ax.get_xticklabels(), horizontalalignment='right')"
   ]
  },
  {
   "cell_type": "code",
   "execution_count": 40,
   "metadata": {},
   "outputs": [
    {
     "data": {
      "image/png": "[encoded data removed]",
      "text/plain": [
       "<Figure size 432x288 with 1 Axes>"
      ]
     },
     "metadata": {},
     "output_type": "display_data"
    }
   ],
   "source": [
    "labels = [\"Up to 12th Grade\", \"Up to College Degree\", \"Graduate or Professional Degree\"]\n",
    "sizes = [educationmapcohorts['Up to 12th Grade'], educationmapcohorts[\"Up to College Degree\"], educationmapcohorts[\"Graduate or Professional Degree\"]]\n",
    "\n",
    "fig1, ax1 = pyplot.subplots()\n",
    "ax1.pie(sizes, labels=labels, startangle=90, labeldistance=None)\n",
    "ax1.axis('equal')  # Equal aspect ratio ensures that pie is drawn as a circle.\n",
    "pyplot.legend()\n",
    "ax1.set_title(\"Entire Corpus by Education\")\n",
    "pyplot.show()"
   ]
  },
  {
   "cell_type": "code",
   "execution_count": 41,
   "metadata": {},
   "outputs": [
    {
     "data": {
      "image/png": "[encoded data removed]",
      "text/plain": [
       "<Figure size 432x288 with 1 Axes>"
      ]
     },
     "metadata": {},
     "output_type": "display_data"
    }
   ],
   "source": [
    "labels = [\"Up to 12th Grade\", \"Up to College Degree\", \"Graduate or Professional Degree\"]\n",
    "sizes = [educationmapcohortsevents['Up to 12th Grade'], educationmapcohortsevents[\"Up to College Degree\"], educationmapcohortsevents[\"Graduate or Professional Degree\"]]\n",
    "\n",
    "fig1, ax1 = pyplot.subplots()\n",
    "ax1.pie(sizes, labels=labels, startangle=90, labeldistance=None)\n",
    "ax1.axis('equal')  # Equal aspect ratio ensures that pie is drawn as a circle.\n",
    "pyplot.legend()\n",
    "ax1.set_title(\"Interviews Containing Speech Events by Education\")\n",
    "pyplot.show()"
   ]
  },
  {
   "cell_type": "code",
   "execution_count": 42,
   "metadata": {},
   "outputs": [
    {
     "data": {
      "text/plain": [
       "[None, None, None, None, None, None]"
      ]
     },
     "execution_count": 42,
     "metadata": {},
     "output_type": "execute_result"
    },
    {
     "data": {
      "image/png": "[encoded data removed]",
      "text/plain": [
       "<Figure size 432x288 with 1 Axes>"
      ]
     },
     "metadata": {
      "needs_background": "light"
     },
     "output_type": "display_data"
    }
   ],
   "source": [
    "N = 3\n",
    "\n",
    "ind = np.arange(N) \n",
    "values=[]\n",
    "\n",
    "# some example data\n",
    "\n",
    "    \n",
    "    \n",
    "values = np.array([int(100*educationmapcohortsevents['Up to 12th Grade']/educationmapcohorts['Up to 12th Grade']), int(100*educationmapcohortsevents['Up to College Degree']/educationmapcohorts['Up to College Degree']), int(100*educationmapcohortsevents['Graduate or Professional Degree']/educationmapcohorts['Graduate or Professional Degree'])])\n",
    "\n",
    "\n",
    "x = range(len(values))\n",
    "\n",
    "\n",
    "# and plot it\n",
    "fig, ax = pyplot.subplots()\n",
    "ax.bar(ind, values, .35, color=\"b\")\n",
    "ax.set_xticks(ind)\n",
    "ax.set_xticklabels([\"Up To 12th Grade (\"+str(educationmapcohortsevents[\"Up to 12th Grade\"])+\" of \" + str(educationmapcohorts[\"Up to 12th Grade\"])+\")\", \"Up to College Degree (\"+str(educationmapcohortsevents[\"Up to College Degree\"])+\" of \" + str(educationmapcohorts[\"Up to College Degree\"])+\")\",\"Graduate or Professional Degree (\"+str(educationmapcohortsevents[\"Graduate or Professional Degree\"])+\" of \" + str(educationmapcohorts[\"Graduate or Professional Degree\"])+\")\"])\n",
    "ax.set_title('Percent of Interviews Containing Rape Cluster Terms, by Education')\n",
    "ax.set_ylabel('Percent of Interviews with Rape Cluster Terms')\n",
    "pyplot.setp(ax.get_xticklabels(), rotation=30, horizontalalignment='right')"
   ]
  },
  {
   "cell_type": "code",
   "execution_count": null,
   "metadata": {},
   "outputs": [],
   "source": []
  },
  {
   "cell_type": "code",
   "execution_count": null,
   "metadata": {},
   "outputs": [],
   "source": []
  },
  {
   "cell_type": "code",
   "execution_count": null,
   "metadata": {},
   "outputs": [],
   "source": []
  },
  {
   "cell_type": "code",
   "execution_count": 43,
   "metadata": {},
   "outputs": [
    {
     "name": "stdout",
     "output_type": "stream",
     "text": [
      "defaultdict(<function <lambda> at 0x7fa00eacf160>, {1870: 86, 1900: 781, 1930: 1453, -20: 142, 1960: 292, 1990: 7})\n"
     ]
    },
    {
     "data": {
      "text/plain": [
       "142"
      ]
     },
     "execution_count": 43,
     "metadata": {},
     "output_type": "execute_result"
    }
   ],
   "source": [
    "birthcohort=defaultdict(lambda:0)\n",
    "for i in text_to_ids:\n",
    "    for j in text_to_ids[i][\"id\"]:\n",
    "        if not str(database[j][\"real_interviewee_birth_year\"]).isnumeric():\n",
    "            continue\n",
    "        birthcohort[(int(database[j][\"real_interviewee_birth_year\"])-1870)//30*30+1870]+=1\n",
    "print(birthcohort)\n",
    "birthcohort.pop(-20)"
   ]
  },
  {
   "cell_type": "code",
   "execution_count": 44,
   "metadata": {},
   "outputs": [
    {
     "name": "stdout",
     "output_type": "stream",
     "text": [
      "defaultdict(<function <lambda> at 0x7fa00eacf790>, {1930: 289, -20: 7, 1960: 55, 1900: 88, 1870: 16})\n"
     ]
    },
    {
     "data": {
      "text/plain": [
       "7"
      ]
     },
     "execution_count": 44,
     "metadata": {},
     "output_type": "execute_result"
    }
   ],
   "source": [
    "birthcohortevents=defaultdict(lambda:0)\n",
    "for i in names:\n",
    "    for j in text_to_ids[i][\"id\"]:\n",
    "        if not str(database[j][\"real_interviewee_birth_year\"]).isnumeric():\n",
    "            continue\n",
    "        birthcohortevents[(int(database[j][\"real_interviewee_birth_year\"])-1870)//30*30+1870]+=1\n",
    "print(birthcohortevents)\n",
    "birthcohortevents.pop(-20)"
   ]
  },
  {
   "cell_type": "code",
   "execution_count": 45,
   "metadata": {},
   "outputs": [],
   "source": [
    "df_total_corpus = pandas.DataFrame([[birthcohort[1870], birthcohortevents[1870]],[birthcohort[1900], birthcohortevents[1900]],[birthcohort[1930], birthcohortevents[1930]],[birthcohort[1960]+birthcohort[1990], birthcohortevents[1960]+birthcohortevents[1990]]],index=[\"1870-1899\", \"1900-1929\", \"1930-1959\", \"1960-1999\"], columns=[\"Number of Interviews in Birth Cohort\", \"Number of Interviews in Birth Cohort Containing Speech Events\"])"
   ]
  },
  {
   "cell_type": "code",
   "execution_count": 46,
   "metadata": {},
   "outputs": [
    {
     "data": {
      "text/html": [
       "<div>\n",
       "<style scoped>\n",
       "    .dataframe tbody tr th:only-of-type {\n",
       "        vertical-align: middle;\n",
       "    }\n",
       "\n",
       "    .dataframe tbody tr th {\n",
       "        vertical-align: top;\n",
       "    }\n",
       "\n",
       "    .dataframe thead th {\n",
       "        text-align: right;\n",
       "    }\n",
       "</style>\n",
       "<table border=\"1\" class=\"dataframe\">\n",
       "  <thead>\n",
       "    <tr style=\"text-align: right;\">\n",
       "      <th></th>\n",
       "      <th>Number of Interviews in Birth Cohort</th>\n",
       "      <th>Number of Interviews in Birth Cohort Containing Speech Events</th>\n",
       "    </tr>\n",
       "  </thead>\n",
       "  <tbody>\n",
       "    <tr>\n",
       "      <th>1870-1899</th>\n",
       "      <td>86</td>\n",
       "      <td>16</td>\n",
       "    </tr>\n",
       "    <tr>\n",
       "      <th>1900-1929</th>\n",
       "      <td>781</td>\n",
       "      <td>88</td>\n",
       "    </tr>\n",
       "    <tr>\n",
       "      <th>1930-1959</th>\n",
       "      <td>1453</td>\n",
       "      <td>289</td>\n",
       "    </tr>\n",
       "    <tr>\n",
       "      <th>1960-1999</th>\n",
       "      <td>299</td>\n",
       "      <td>55</td>\n",
       "    </tr>\n",
       "  </tbody>\n",
       "</table>\n",
       "</div>"
      ],
      "text/plain": [
       "           Number of Interviews in Birth Cohort  \\\n",
       "1870-1899                                    86   \n",
       "1900-1929                                   781   \n",
       "1930-1959                                  1453   \n",
       "1960-1999                                   299   \n",
       "\n",
       "           Number of Interviews in Birth Cohort Containing Speech Events  \n",
       "1870-1899                                                 16              \n",
       "1900-1929                                                 88              \n",
       "1930-1959                                                289              \n",
       "1960-1999                                                 55              "
      ]
     },
     "metadata": {},
     "output_type": "display_data"
    }
   ],
   "source": [
    "display(df_total_corpus)"
   ]
  },
  {
   "cell_type": "code",
   "execution_count": 47,
   "metadata": {},
   "outputs": [
    {
     "data": {
      "text/plain": [
       "[None, None, None, None, None, None, None, None]"
      ]
     },
     "execution_count": 47,
     "metadata": {},
     "output_type": "execute_result"
    },
    {
     "data": {
      "image/png": "[encoded data removed]",
      "text/plain": [
       "<Figure size 432x288 with 1 Axes>"
      ]
     },
     "metadata": {
      "needs_background": "light"
     },
     "output_type": "display_data"
    }
   ],
   "source": [
    "N = 4\n",
    "\n",
    "ind = np.arange(N) \n",
    "\n",
    "# some example data\n",
    "    \n",
    "    \n",
    "people = np.array([birthcohort[i] for i in range(1870, 1990, 30)])\n",
    "\n",
    "\n",
    "\n",
    "# and plot it\n",
    "fig, ax = pyplot.subplots()\n",
    "ax.set_xticks(ind)\n",
    "total=ax.bar(ind, people, .35,)\n",
    "ax.set_xticklabels([\"1870-1899\", \"1900-1929\", \"1930-1959\", \"1960-1999\"])\n",
    "ax.set_title(\"Number of Interviews by Birth Cohort\")\n",
    "ax.set_ylabel('Number of Interviews')\n",
    "ax.set_xlabel('Birth Cohort')\n",
    "ax.tick_params(axis='both', which='major', labelsize=9)\n",
    "ax.tick_params(axis='both', which='minor', labelsize=10)\n",
    "dx = .3\n",
    "dy=0\n",
    "offset = matplotlib.transforms.ScaledTranslation(dx, dy, fig.dpi_scale_trans)\n",
    "for label in ax.xaxis.get_majorticklabels():\n",
    "    label.set_transform(label.get_transform() + offset)\n",
    "pyplot.setp(ax.get_xticklabels(), horizontalalignment='right')"
   ]
  },
  {
   "cell_type": "code",
   "execution_count": 48,
   "metadata": {},
   "outputs": [
    {
     "data": {
      "text/plain": [
       "[None, None, None, None, None, None, None, None]"
      ]
     },
     "execution_count": 48,
     "metadata": {},
     "output_type": "execute_result"
    },
    {
     "data": {
      "image/png": "[encoded data removed]",
      "text/plain": [
       "<Figure size 432x288 with 1 Axes>"
      ]
     },
     "metadata": {
      "needs_background": "light"
     },
     "output_type": "display_data"
    }
   ],
   "source": [
    "N = 4\n",
    "\n",
    "ind = np.arange(N) \n",
    "\n",
    "# some example data\n",
    "    \n",
    "    \n",
    "people = np.array([birthcohortevents[i] for i in range(1870, 1990, 30)])\n",
    "\n",
    "\n",
    "\n",
    "# and plot it\n",
    "fig, ax = pyplot.subplots()\n",
    "ax.set_xticks(ind)\n",
    "total=ax.bar(ind, people, .35,)\n",
    "ax.set_xticklabels([\"1870-1899\", \"1900-1929\", \"1930-1959\", \"1960-1999\"])\n",
    "ax.set_title(\"Number of Interviews Containing Speech Events by Birth Cohort\")\n",
    "ax.set_ylabel('Number of Interviews')\n",
    "ax.set_xlabel('Birth Cohort')\n",
    "ax.tick_params(axis='both', which='major', labelsize=9)\n",
    "ax.tick_params(axis='both', which='minor', labelsize=10)\n",
    "dx = .3\n",
    "dy=0\n",
    "offset = matplotlib.transforms.ScaledTranslation(dx, dy, fig.dpi_scale_trans)\n",
    "for label in ax.xaxis.get_majorticklabels():\n",
    "    label.set_transform(label.get_transform() + offset)\n",
    "pyplot.setp(ax.get_xticklabels(), horizontalalignment='right')"
   ]
  },
  {
   "cell_type": "code",
   "execution_count": 49,
   "metadata": {},
   "outputs": [
    {
     "data": {
      "image/png": "[encoded data removed]",
      "text/plain": [
       "<Figure size 432x288 with 1 Axes>"
      ]
     },
     "metadata": {},
     "output_type": "display_data"
    }
   ],
   "source": [
    "labels = [\"1870-1899\", \"1900-1929\", \"1930-1959\", \"1960-1999\"]\n",
    "sizes =[birthcohort[i] for i in range(1870, 1990, 30)]\n",
    "\n",
    "fig1, ax1 = pyplot.subplots()\n",
    "ax1.pie(sizes, labels=labels, startangle=90, labeldistance=None)\n",
    "ax1.axis('equal')  # Equal aspect ratio ensures that pie is drawn as a circle.\n",
    "pyplot.legend()\n",
    "ax1.set_title(\"Number of Interviews by Birth Cohort\")\n",
    "pyplot.show()"
   ]
  },
  {
   "cell_type": "code",
   "execution_count": 50,
   "metadata": {},
   "outputs": [
    {
     "data": {
      "image/png": "[encoded data removed]",
      "text/plain": [
       "<Figure size 432x288 with 1 Axes>"
      ]
     },
     "metadata": {},
     "output_type": "display_data"
    }
   ],
   "source": [
    "labels = [\"1870-1899\", \"1900-1929\", \"1930-1959\", \"1960-1999\"]\n",
    "sizes =[birthcohortevents[i] for i in range(1870, 1990, 30)]\n",
    "\n",
    "fig1, ax1 = pyplot.subplots()\n",
    "ax1.pie(sizes, labels=labels, startangle=90, labeldistance=None)\n",
    "ax1.axis('equal')  # Equal aspect ratio ensures that pie is drawn as a circle.\n",
    "pyplot.legend()\n",
    "ax1.set_title(\"Number of Interviews Containing Speech Events by Birth Cohort\")\n",
    "pyplot.show()"
   ]
  },
  {
   "cell_type": "code",
   "execution_count": 51,
   "metadata": {},
   "outputs": [
    {
     "name": "stdout",
     "output_type": "stream",
     "text": [
      "{'HM_Amoore_Renee', 'SCAL_Berkman_Joyce', 'HM_Pratt_Sharon', 'HM_Ransby_Barbara', 'SCVF_Allison_Dorothy', 'SCAP_LaBarbera_Jen', 'BWSP_Mikuriya_Mary', 'OOHYLC_Messenger_Dorothy', 'HM_Webb_Wilma', 'UNCGAS_Allen_Jan', 'HM_Biggins_J.', 'SCAP_Jimenez_Ileana', 'SCVF_Apuzzo_Virginia', 'HM_Ciara_Barbara', 'RTRB_McCain_Beth', 'HM_Cost_Monica', 'UNCTWMS_Ray_Gloria', 'BWSP_Hopkins-Stapleton_Doris', 'SCAL_Pogrebin_LettyCottin', 'BWSP_Morse_Charlotte', 'WOL_Coleman_Carolyn', 'HM_Lewis_Tina', 'ROHA_Archibald_Alice', 'HM_Giovanni_Nikki', 'UNCGAS_Sved_Margery', 'HM_Lillie_Charisse', 'SCVF_Winslow_Barbara', 'HM_Stewart_Stacey', 'BWSP_Richardson_Joyce', 'SCVF_Steinem_Gloria', 'HM_Williams_Jamye', 'SCAARJ_Mingus_Mia', 'SCAP_Callahan_Kara', 'HM_Rogers_Desiree', 'UNCTWMS_Barrett_Lida_Kittrell', 'HM_Shorter_Vera', 'HM_Cooper_Maudine', 'BWOH_Harrison_Pleasant', 'WOL_Floyd_Billie_Jean', 'SHSF_Jacobs_Charlotte', 'HM_Bridgewater_Dee', 'UNCTWMS_Fuchs_Laurie', 'SHSF_Strober_Myra', 'RTRB_Coates_Betty', 'SHSF_Donaldson_Sarah', 'UNCTWMS_Rostan_June', 'HM_Wilcher_Shirley', 'HM_Adams_Carol', 'HM_Braun_Carol', 'HM_Ross_Sonya', 'RTRB_Miramontes_Nancy', 'SCAARJ_Choi_Cynthia', 'SCVF_Toure_Nkenge', 'BWOH_Moore_Audley', 'SHSF_Shapiro_Lucy', 'HM_Slade_Karen', 'UNCTWMS_Nickle_Carol', 'HM_Ebert_Chaz', 'HM_Roxborough_Mildred', 'UNCTWMS_Giardina_Carol', 'BWOH_Hedgeman_Arnold', 'RTRB_Tidmore_Roberta', 'HM_Edwards_Audrey', 'UNCTWMS_Begalla_Martha', 'SCAL_Shelton_Christine', 'RTRB_Keck_Marjorie', 'UNCTWMS_Scott_Nan', 'BWSP_Weed_Elizabeth', 'HM_Elam_Deborah', 'HM_Johnson_Malvyn', 'HM_Britt_Donna', 'HM_Peeples_Audrey', 'OWHF_Martin_Kay', 'SHSF_Maccoby_Eleanor', 'SCVF_Nussbaum_Karen', 'SCVF_Berek_Judy', 'HM_Williams_Elynor', 'SCVF_Thom_Mary', 'SCVF_Miller_Geraldine', 'SCAARJ_Chum_Sophya', 'RTRB_August_Helen', 'SCAARJ_Zia_Helen', 'OWHF_Ross_Cindy', 'WOL_Collins_Jan', 'RTRB_Samson_Betty', 'UNCTWMS_Lester_Lorayne', 'SCVF_Fried_Marlene_Gerber', 'BWSP_Fairchild_Joyce', 'UNCTWMS_Kurth_Suzanne_B_(Suzanne_Beth)', 'UNCSW_McGill_Eula_3', 'HM_Martin_Sylvia', 'HM_Tucker_Joyce', 'RTRB_Buls_Patricia', 'HM_Bundles_A_Lelia', 'SHSF_Mahoney_Sally', 'UNCTWMS_Bell_Brenda', 'BWSP_Desai_Tejal', 'RTRB_Jackson_Rosella', 'HM_Middlebrooks_Felicia', 'RTRB_Wikelund_Jospehine', 'HM_Shange_Ntozake', 'SHSF_Miner_Anne', 'UNCTWMS_Sobieski_Wanda_2', 'HM_Ewing_Sylvia', 'HM_Jones_Elaine', 'SCAP_Abrams_Lisa', 'SCVF_Nelson_Marjory', 'SHSF_Kraemer_Helena', 'SOOH_Shepherd_Marie', 'HM_Watson_Diane', 'OWHF_Coats-Ashley_Nancy', 'HM_Pool-Eckert_Marquita', 'SHSF_Martin_Joanne', 'BWSP_Gardner_Martha', 'HM_Miller-Perry_Rosetta', 'HM_Langford_Anna', 'HM_Hammonds_Evelynn', 'RTRB_Cook_Peggy', 'HM_Massey_Shirley', 'BWSP_Miller_Kristie', 'BWSP_Leonard_Margery', 'BWSP_Black_Lois', 'UNCTWMS_Mays_Mary_Katherine', 'SHSF_Chu_Jean', 'HM_Moore_Geraldine', 'ROHA_Treash_Eileen', 'UNCTWMS_Groover_Marian', 'UNCTWMS_Mashburn_Lillian_Tauxe', 'ROHA_Kramer_Barbara', 'SCAL_Pollet_Tiik', 'ROHA_Drelich_Pearl', 'RTRB_Gee_Maggie_2', 'BWSP_Rodriguez_Hannelore', 'HM_Wilson_Lucy', 'HM_Grant_Jacquelyn', 'BWSP_Palmer_Alison', 'RTRB_Madsen_Lucille', 'UNCTWMS_Ross_Loretta', 'UNCTWMS_Benedict_Salli', 'HM_Shipp_E.', 'UNCTWMS_Rollins_Sheryl_Clark', 'RTRB_Pursley_Marilyn', 'HM_Ferguson_Renee', 'OWHF_Rhea_Jeanine', 'SHSA_Tracy_Else', 'UNCTWMS_Marshall_Senseney', 'HM_Catoe_Bette', 'SHSA_Gartrell_Nanette'}\n"
     ]
    }
   ],
   "source": [
    "\n",
    "myfile = open(\"data/SH.txt\", encoding=\"latin1\")\n",
    "txt = myfile.readlines()\n",
    "myfile.close()\n",
    "\n",
    "files=[]\n",
    "\n",
    "names=set()\n",
    "for i in txt:\n",
    "    num= i.find(\"<Files\")\n",
    "    if num !=-1:\n",
    "        files.append(i.strip())\n",
    "\n",
    "for i in files:\n",
    "    i=i.split();\n",
    "    i=i[0]\n",
    "    i=i[i.find(\"\\\\\\\\\",8)+2:-1]\n",
    "    names.add(i.strip())\n",
    "print(names)\n",
    "        "
   ]
  },
  {
   "cell_type": "code",
   "execution_count": 52,
   "metadata": {},
   "outputs": [],
   "source": [
    "years=[]\n",
    "for i in range(1870, 2000, 10):\n",
    "    years.append(str(i))"
   ]
  },
  {
   "cell_type": "code",
   "execution_count": null,
   "metadata": {},
   "outputs": [],
   "source": []
  },
  {
   "cell_type": "code",
   "execution_count": 53,
   "metadata": {},
   "outputs": [
    {
     "name": "stdout",
     "output_type": "stream",
     "text": [
      "2635\n"
     ]
    }
   ],
   "source": [
    "year_to_number_of_interviews=defaultdict(lambda:0)\n",
    "year_to_number_of_interviews_SH=defaultdict(lambda:0)\n",
    "for i in text_to_ids:\n",
    "    year_to_number_of_interviews[text_to_ids[i][\"interview year\"]]+=1\n",
    "for i in names:\n",
    "    year_to_number_of_interviews_SH[text_to_ids[i][\"interview year\"]]+=1\n",
    "\n",
    "years=[]\n",
    "for i in range(1972, 2019, 1):\n",
    "    years.append(str(i))\n",
    "total=[]\n",
    "hits_formatted=[]\n",
    "for i in years:\n",
    "    total.append(year_to_number_of_interviews[i])\n",
    "    hits_formatted.append(year_to_number_of_interviews_SH[i])\n",
    "percentage_int_year=[]\n",
    "totalnum=sum(total)\n",
    "print(totalnum)\n",
    "for i in range(len(years)):\n",
    "    if total[i]==0:\n",
    "        percentage_int_year.append(0)\n",
    "    else:    \n",
    "        percentage_int_year.append(int(hits_formatted[i]/total[i]*100))\n",
    "\n"
   ]
  },
  {
   "cell_type": "code",
   "execution_count": 54,
   "metadata": {},
   "outputs": [],
   "source": [
    "total_by_int_year_for_table=[]\n",
    "hits_by_int_year_for_table=[]\n",
    "percentage_by_int_year_for_table=[]\n",
    "for i in range(int(years[0])//5*5, int(years[-1])//5*5+1, 5):\n",
    "    total=0\n",
    "    hits=0\n",
    "    for i in range(i, i+5, 1):\n",
    "        total+= year_to_number_of_interviews[str(i)]\n",
    "        hits+= year_to_number_of_interviews_SH[str(i)]\n",
    "    total_by_int_year_for_table.append(total)\n",
    "    hits_by_int_year_for_table.append(hits)\n",
    "    percentage_by_int_year_for_table.append(int(hits/total*100))"
   ]
  },
  {
   "cell_type": "code",
   "execution_count": 55,
   "metadata": {},
   "outputs": [],
   "source": [
    "df_percentage_in_int_year = pandas.DataFrame([total_by_int_year_for_table, hits_by_int_year_for_table, percentage_by_int_year_for_table], columns=['1970-1974', '1975-1979', '1980-1984', '1985-1989', '1990-1994', '1995-1999', '2000-2004', '2005-2009', '2010-2014', '2015-2019'], index=[\"Number of Interviews Conducted in Decade\", \"Number of Interviews Conducted in Decade Containing Sexual Harassment Speech Events\", \"Percentage of Interviews Conducted in Decade Containing Sexual Harassment Speech Events\"])"
   ]
  },
  {
   "cell_type": "code",
   "execution_count": 56,
   "metadata": {},
   "outputs": [
    {
     "data": {
      "text/html": [
       "<div>\n",
       "<style scoped>\n",
       "    .dataframe tbody tr th:only-of-type {\n",
       "        vertical-align: middle;\n",
       "    }\n",
       "\n",
       "    .dataframe tbody tr th {\n",
       "        vertical-align: top;\n",
       "    }\n",
       "\n",
       "    .dataframe thead th {\n",
       "        text-align: right;\n",
       "    }\n",
       "</style>\n",
       "<table border=\"1\" class=\"dataframe\">\n",
       "  <thead>\n",
       "    <tr style=\"text-align: right;\">\n",
       "      <th></th>\n",
       "      <th>1970-1974</th>\n",
       "      <th>1975-1979</th>\n",
       "      <th>1980-1984</th>\n",
       "      <th>1985-1989</th>\n",
       "      <th>1990-1994</th>\n",
       "      <th>1995-1999</th>\n",
       "      <th>2000-2004</th>\n",
       "      <th>2005-2009</th>\n",
       "      <th>2010-2014</th>\n",
       "      <th>2015-2019</th>\n",
       "    </tr>\n",
       "  </thead>\n",
       "  <tbody>\n",
       "    <tr>\n",
       "      <th>Number of Interviews Conducted in Decade</th>\n",
       "      <td>32</td>\n",
       "      <td>107</td>\n",
       "      <td>28</td>\n",
       "      <td>90</td>\n",
       "      <td>16</td>\n",
       "      <td>34</td>\n",
       "      <td>417</td>\n",
       "      <td>671</td>\n",
       "      <td>911</td>\n",
       "      <td>329</td>\n",
       "    </tr>\n",
       "    <tr>\n",
       "      <th>Number of Interviews Conducted in Decade Containing Sexual Harassment Speech Events</th>\n",
       "      <td>1</td>\n",
       "      <td>3</td>\n",
       "      <td>2</td>\n",
       "      <td>3</td>\n",
       "      <td>2</td>\n",
       "      <td>4</td>\n",
       "      <td>25</td>\n",
       "      <td>37</td>\n",
       "      <td>55</td>\n",
       "      <td>15</td>\n",
       "    </tr>\n",
       "    <tr>\n",
       "      <th>Percentage of Interviews Conducted in Decade Containing Sexual Harassment Speech Events</th>\n",
       "      <td>3</td>\n",
       "      <td>2</td>\n",
       "      <td>7</td>\n",
       "      <td>3</td>\n",
       "      <td>12</td>\n",
       "      <td>11</td>\n",
       "      <td>5</td>\n",
       "      <td>5</td>\n",
       "      <td>6</td>\n",
       "      <td>4</td>\n",
       "    </tr>\n",
       "  </tbody>\n",
       "</table>\n",
       "</div>"
      ],
      "text/plain": [
       "                                                    1970-1974  1975-1979  \\\n",
       "Number of Interviews Conducted in Decade                   32        107   \n",
       "Number of Interviews Conducted in Decade Contai...          1          3   \n",
       "Percentage of Interviews Conducted in Decade Co...          3          2   \n",
       "\n",
       "                                                    1980-1984  1985-1989  \\\n",
       "Number of Interviews Conducted in Decade                   28         90   \n",
       "Number of Interviews Conducted in Decade Contai...          2          3   \n",
       "Percentage of Interviews Conducted in Decade Co...          7          3   \n",
       "\n",
       "                                                    1990-1994  1995-1999  \\\n",
       "Number of Interviews Conducted in Decade                   16         34   \n",
       "Number of Interviews Conducted in Decade Contai...          2          4   \n",
       "Percentage of Interviews Conducted in Decade Co...         12         11   \n",
       "\n",
       "                                                    2000-2004  2005-2009  \\\n",
       "Number of Interviews Conducted in Decade                  417        671   \n",
       "Number of Interviews Conducted in Decade Contai...         25         37   \n",
       "Percentage of Interviews Conducted in Decade Co...          5          5   \n",
       "\n",
       "                                                    2010-2014  2015-2019  \n",
       "Number of Interviews Conducted in Decade                  911        329  \n",
       "Number of Interviews Conducted in Decade Contai...         55         15  \n",
       "Percentage of Interviews Conducted in Decade Co...          6          4  "
      ]
     },
     "metadata": {},
     "output_type": "display_data"
    }
   ],
   "source": [
    "display(df_percentage_in_int_year)"
   ]
  },
  {
   "cell_type": "code",
   "execution_count": 57,
   "metadata": {
    "scrolled": true
   },
   "outputs": [
    {
     "data": {
      "image/png": "[encoded data removed]",
      "text/plain": [
       "<Figure size 432x288 with 1 Axes>"
      ]
     },
     "metadata": {
      "needs_background": "light"
     },
     "output_type": "display_data"
    }
   ],
   "source": [
    "INCREMENTS=5\n",
    "Year = range(len(percentage_int_year))\n",
    "percentages = percentage_int_year\n",
    "pyplot.plot(Year, percentages)\n",
    "pyplot.plot(Year, [int(100*sum(hits_formatted)/totalnum) for i in range(len(percentage_int_year)) ], linestyle=\"dashed\")\n",
    "pyplot.title('Percentage of Interviews in Interview Year \\n Containing Sexual Harassment Speech Events in \\n'+str(INCREMENTS)+ \" Year Windows Centered Around Each Year\")\n",
    "pyplot.xlabel('Year')\n",
    "pyplot.ylabel('Percentage')\n",
    "pyplot.xticks(rotation = 45)\n",
    "positions = [len(percentage_int_year)*i//5 for i in range(6)]\n",
    "labels = (1971, 1980, 1990, 2000, 2010, 2020)\n",
    "pyplot.xticks(positions, labels)\n",
    "pyplot.show()"
   ]
  },
  {
   "cell_type": "code",
   "execution_count": 58,
   "metadata": {},
   "outputs": [],
   "source": [
    "years=[]\n",
    "for i in range(1870, 2000, 10):\n",
    "    years.append(str(i))"
   ]
  },
  {
   "cell_type": "code",
   "execution_count": 59,
   "metadata": {},
   "outputs": [
    {
     "name": "stdout",
     "output_type": "stream",
     "text": [
      "[0, 0, 0, 2, 6, 17, 13, 32, 7, 3, 0, 0, 0]\n",
      "0\n",
      "3\n",
      "6\n",
      "9\n",
      "12\n",
      "[5, 3, 5, 3, 0]\n"
     ]
    }
   ],
   "source": [
    "DECADE_INCREMENTS=3\n",
    "birthyear_to_number_of_interviews_white=defaultdict(lambda:0)\n",
    "birthyear_to_number_of_interviews_CSH_white=defaultdict(lambda:0)\n",
    "birthyear_to_number_of_interviews_black=defaultdict(lambda:0)\n",
    "birthyear_to_number_of_interviews_CSH_black=defaultdict(lambda:0)\n",
    "for i in text_to_ids:\n",
    "    for j in text_to_ids[i][\"id\"]:\n",
    "        if  database[j][\"identified_race\"]==\"Black or African American\":\n",
    "            birthyear_to_number_of_interviews_black[int(database[j][\"\\ufeffbirth_decade\"][:4])]+=1\n",
    "        elif database[j][\"identified_race\"]==\"White\":\n",
    "            birthyear_to_number_of_interviews_white[int(database[j][\"\\ufeffbirth_decade\"][:4])]+=1\n",
    "for i in names:\n",
    "    for j in text_to_ids[i][\"id\"]:\n",
    "        if database[j][\"identified_race\"]==\"White\":\n",
    "            birthyear_to_number_of_interviews_CSH_white[int(database[j][\"\\ufeffbirth_decade\"][:4])]+=1\n",
    "        elif database[j][\"identified_race\"]==\"Black or African American\":\n",
    "            birthyear_to_number_of_interviews_CSH_black[int(database[j][\"\\ufeffbirth_decade\"][:4])]+=1\n",
    "total_white=[]\n",
    "hits_formatted_white=[]\n",
    "total_black=[]\n",
    "hits_formatted_black=[]\n",
    "for i in years:\n",
    "    total_white.append(birthyear_to_number_of_interviews_white[int(i)])\n",
    "    hits_formatted_white.append(birthyear_to_number_of_interviews_CSH_white[int(i)])\n",
    "    total_black.append(birthyear_to_number_of_interviews_black[int(i)])\n",
    "    hits_formatted_black.append(birthyear_to_number_of_interviews_CSH_black[int(i)])\n",
    "print(hits_formatted_white)\n",
    "percentage_withNI_white=[]\n",
    "percentage_withNI_black=[]\n",
    "total_white_blocks=[]\n",
    "hits_formatted_white_blocks=[]\n",
    "total_black_blocks=[]\n",
    "hits_formatted_black_blocks=[]\n",
    "for i in range(0,len(years),DECADE_INCREMENTS):\n",
    "    white_total=0\n",
    "    white_hits=0\n",
    "    black_total=0\n",
    "    black_hits=0\n",
    "    print(i)\n",
    "    for j in range(i, min(i+DECADE_INCREMENTS, len(years))):\n",
    "        white_total+= total_white[j]\n",
    "        white_hits+= hits_formatted_white[j]\n",
    "        black_total+= total_black[j]\n",
    "        black_hits+= hits_formatted_black[j]\n",
    "    if white_total==0:\n",
    "        percentage_withNI_white.append(0)\n",
    "    else:    \n",
    "        percentage_withNI_white.append(int(white_hits/white_total*100))\n",
    "    if black_total==0:\n",
    "        percentage_withNI_black.append(0)\n",
    "    else:\n",
    "        percentage_withNI_black.append(int(black_hits/black_total*100))\n",
    "    total_white_blocks.append(white_total)\n",
    "    hits_formatted_white_blocks.append(white_hits)\n",
    "    total_black_blocks.append(black_total)\n",
    "    hits_formatted_black_blocks.append(black_hits)\n",
    "print(percentage_withNI_black)\n"
   ]
  },
  {
   "cell_type": "code",
   "execution_count": 60,
   "metadata": {},
   "outputs": [
    {
     "name": "stdout",
     "output_type": "stream",
     "text": [
      "[0 1 2 3]\n"
     ]
    },
    {
     "data": {
      "text/plain": [
       "<matplotlib.legend.Legend at 0x7fa00e604760>"
      ]
     },
     "execution_count": 60,
     "metadata": {},
     "output_type": "execute_result"
    },
    {
     "data": {
      "image/png": "[encoded data removed]",
      "text/plain": [
       "<Figure size 432x288 with 1 Axes>"
      ]
     },
     "metadata": {
      "needs_background": "light"
     },
     "output_type": "display_data"
    }
   ],
   "source": [
    "N = 4\n",
    "\n",
    "ind = np.arange(N) \n",
    "print(ind)\n",
    "\n",
    "# some example data\n",
    "    \n",
    "    \n",
    "black = np.array(percentage_withNI_black[:4])\n",
    "white=np.array(percentage_withNI_white[:4])\n",
    "\n",
    "\n",
    "x = range(N)\n",
    "\n",
    "\n",
    "# and plot it\n",
    "fig, ax = pyplot.subplots()\n",
    "hm=ax.bar(ind-.35/2, black, .35, label=\"Black\")\n",
    "total=ax.bar(ind+.35/2, white, .35, label=\"White\")\n",
    "ax.set_xticks(ind)\n",
    "ax.tick_params(axis='both', which='major', labelsize=8)\n",
    "ax.tick_params(axis='both', which='minor', labelsize=4)\n",
    "dx = .25\n",
    "dy=0\n",
    "offset = matplotlib.transforms.ScaledTranslation(dx, dy, fig.dpi_scale_trans)\n",
    "for label in ax.xaxis.get_majorticklabels():\n",
    "    label.set_transform(label.get_transform() + offset)\n",
    "ax.set_xticklabels(['1870-1899', '1900-1929', '1930-1959', '1960-1989'])\n",
    "ax.set_title(\"Percent of Black and White Women's Interviews \\n Containing Sexual Harassment Speech Events, by Birth Cohorts\")\n",
    "ax.set_ylabel('Percent of Interviews with Speech Events')\n",
    "ax.set_xlabel('Interviewee Birth Cohort')\n",
    "pyplot.setp(ax.get_xticklabels(), horizontalalignment='right')\n",
    "pyplot.legend()"
   ]
  },
  {
   "cell_type": "code",
   "execution_count": 61,
   "metadata": {},
   "outputs": [],
   "source": [
    "df_percentage_in_birth_cohort_by_race = pandas.DataFrame([total_black_blocks, hits_formatted_black_blocks, percentage_withNI_black, total_white_blocks, hits_formatted_white_blocks, percentage_withNI_white], columns=['1870-1899', '1900-1929', '1930-1959', '1960-1989', '1990-1999'], index=[\"Number of Interviews with Black Women\", \"Number of Interviews with Black Women Containing Sexual Harassment Speech Events\", \"Percentage of Black Women in Birth Cohort whose Interviews Containing Sexual Harassment Speech Events\", \"Number of Interviews with White Women\", \"Number of Interviews with White Women Containing Sexual Harassment Speech Events\", \"Percentage of White Women in Birth Cohort whose Interviews Containing Sexual Harassment Speech Events\"])"
   ]
  },
  {
   "cell_type": "code",
   "execution_count": 62,
   "metadata": {},
   "outputs": [
    {
     "data": {
      "text/html": [
       "<div>\n",
       "<style scoped>\n",
       "    .dataframe tbody tr th:only-of-type {\n",
       "        vertical-align: middle;\n",
       "    }\n",
       "\n",
       "    .dataframe tbody tr th {\n",
       "        vertical-align: top;\n",
       "    }\n",
       "\n",
       "    .dataframe thead th {\n",
       "        text-align: right;\n",
       "    }\n",
       "</style>\n",
       "<table border=\"1\" class=\"dataframe\">\n",
       "  <thead>\n",
       "    <tr style=\"text-align: right;\">\n",
       "      <th></th>\n",
       "      <th>1870-1899</th>\n",
       "      <th>1900-1929</th>\n",
       "      <th>1930-1959</th>\n",
       "      <th>1960-1989</th>\n",
       "      <th>1990-1999</th>\n",
       "    </tr>\n",
       "  </thead>\n",
       "  <tbody>\n",
       "    <tr>\n",
       "      <th>Number of Interviews with Black Women</th>\n",
       "      <td>40</td>\n",
       "      <td>259</td>\n",
       "      <td>773</td>\n",
       "      <td>126</td>\n",
       "      <td>2</td>\n",
       "    </tr>\n",
       "    <tr>\n",
       "      <th>Number of Interviews with Black Women Containing Sexual Harassment Speech Events</th>\n",
       "      <td>2</td>\n",
       "      <td>10</td>\n",
       "      <td>40</td>\n",
       "      <td>4</td>\n",
       "      <td>0</td>\n",
       "    </tr>\n",
       "    <tr>\n",
       "      <th>Percentage of Black Women in Birth Cohort whose Interviews Containing Sexual Harassment Speech Events</th>\n",
       "      <td>5</td>\n",
       "      <td>3</td>\n",
       "      <td>5</td>\n",
       "      <td>3</td>\n",
       "      <td>0</td>\n",
       "    </tr>\n",
       "    <tr>\n",
       "      <th>Number of Interviews with White Women</th>\n",
       "      <td>46</td>\n",
       "      <td>484</td>\n",
       "      <td>583</td>\n",
       "      <td>114</td>\n",
       "      <td>3</td>\n",
       "    </tr>\n",
       "    <tr>\n",
       "      <th>Number of Interviews with White Women Containing Sexual Harassment Speech Events</th>\n",
       "      <td>0</td>\n",
       "      <td>25</td>\n",
       "      <td>52</td>\n",
       "      <td>3</td>\n",
       "      <td>0</td>\n",
       "    </tr>\n",
       "    <tr>\n",
       "      <th>Percentage of White Women in Birth Cohort whose Interviews Containing Sexual Harassment Speech Events</th>\n",
       "      <td>0</td>\n",
       "      <td>5</td>\n",
       "      <td>8</td>\n",
       "      <td>2</td>\n",
       "      <td>0</td>\n",
       "    </tr>\n",
       "  </tbody>\n",
       "</table>\n",
       "</div>"
      ],
      "text/plain": [
       "                                                    1870-1899  1900-1929  \\\n",
       "Number of Interviews with Black Women                      40        259   \n",
       "Number of Interviews with Black Women Containin...          2         10   \n",
       "Percentage of Black Women in Birth Cohort whose...          5          3   \n",
       "Number of Interviews with White Women                      46        484   \n",
       "Number of Interviews with White Women Containin...          0         25   \n",
       "Percentage of White Women in Birth Cohort whose...          0          5   \n",
       "\n",
       "                                                    1930-1959  1960-1989  \\\n",
       "Number of Interviews with Black Women                     773        126   \n",
       "Number of Interviews with Black Women Containin...         40          4   \n",
       "Percentage of Black Women in Birth Cohort whose...          5          3   \n",
       "Number of Interviews with White Women                     583        114   \n",
       "Number of Interviews with White Women Containin...         52          3   \n",
       "Percentage of White Women in Birth Cohort whose...          8          2   \n",
       "\n",
       "                                                    1990-1999  \n",
       "Number of Interviews with Black Women                       2  \n",
       "Number of Interviews with Black Women Containin...          0  \n",
       "Percentage of Black Women in Birth Cohort whose...          0  \n",
       "Number of Interviews with White Women                       3  \n",
       "Number of Interviews with White Women Containin...          0  \n",
       "Percentage of White Women in Birth Cohort whose...          0  "
      ]
     },
     "metadata": {},
     "output_type": "display_data"
    }
   ],
   "source": [
    "display(df_percentage_in_birth_cohort_by_race)"
   ]
  },
  {
   "cell_type": "code",
   "execution_count": null,
   "metadata": {},
   "outputs": [],
   "source": []
  }
 ],
 "metadata": {
  "kernelspec": {
   "display_name": "Python 3",
   "language": "python",
   "name": "python3"
  },
  "language_info": {
   "codemirror_mode": {
    "name": "ipython",
    "version": 3
   },
   "file_extension": ".py",
   "mimetype": "text/x-python",
   "name": "python",
   "nbconvert_exporter": "python",
   "pygments_lexer": "ipython3",
   "version": "3.8.5"
  }
 },
 "nbformat": 4,
 "nbformat_minor": 4
}
