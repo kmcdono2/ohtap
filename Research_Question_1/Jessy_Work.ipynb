{
 "cells": [
  {
   "cell_type": "code",
   "execution_count": 1,
   "metadata": {},
   "outputs": [],
   "source": [
    "import csv\n",
    "import numpy as np\n",
    "from collections import defaultdict\n",
    "from matplotlib import pyplot\n",
    "import pandas"
   ]
  },
  {
   "cell_type": "code",
   "execution_count": 2,
   "metadata": {},
   "outputs": [],
   "source": [
    "BLANKS=[\"\",\"RBNF1\", \"RBNF2\", \"RBNF\", \"0\", \"RBNF 1\", \"RBNF 2\"]\n",
    "#TOTAL= 5048\n",
    "TOTAL=2734\n",
    "#TOTAL=1351\n",
    "#TOTAL=1201\n",
    "#TOTAL=1168"
   ]
  },
  {
   "cell_type": "code",
   "execution_count": 3,
   "metadata": {},
   "outputs": [],
   "source": [
    "def loadCsvData(fileName):\n",
    "\tmatrix = []\n",
    "\t# open a file\n",
    "\twith open(fileName) as f:\n",
    "\t\treader = csv.reader(f)\n",
    "        # loop over each row in the file\n",
    "\t\tfor row in reader:\n",
    "\n",
    "\t\t\t# cast each value to a float\n",
    "\t\t\tdoubleRow = []\n",
    "\t\t\tfor value in row:\n",
    "\t\t\t\tdoubleRow.append(value.strip())\n",
    "\n",
    "\t\t\t# store the row into our matrix\n",
    "\t\t\tmatrix.append(doubleRow)\n",
    "\treturn matrix"
   ]
  },
  {
   "cell_type": "code",
   "execution_count": 4,
   "metadata": {},
   "outputs": [],
   "source": [
    "data= loadCsvData(\"data/metadata.csv\")"
   ]
  },
  {
   "cell_type": "code",
   "execution_count": 5,
   "metadata": {},
   "outputs": [],
   "source": [
    "data=pandas.DataFrame(data[1:], columns=data[0])"
   ]
  },
  {
   "cell_type": "code",
   "execution_count": 6,
   "metadata": {},
   "outputs": [],
   "source": [
    "interviewtxt =loadCsvData(\"data/interview text file to ids.csv\")"
   ]
  },
  {
   "cell_type": "code",
   "execution_count": 7,
   "metadata": {},
   "outputs": [],
   "source": [
    "interviewtxt=pandas.DataFrame(interviewtxt[1:], columns=interviewtxt[0])"
   ]
  },
  {
   "cell_type": "code",
   "execution_count": 8,
   "metadata": {},
   "outputs": [],
   "source": [
    "text_to_ids=defaultdict(lambda: defaultdict(lambda:\"0\"))\n",
    "for i in range(len(interviewtxt)):\n",
    "    if interviewtxt[\"no_transcript\"][i]==\"TRUE\":\n",
    "        continue\n",
    "    name=interviewtxt.at[i, interviewtxt.columns[0]]\n",
    "    name=name[:name.rfind('.')]\n",
    "    name=name.replace('\\'','_')\n",
    "    text_to_ids[name][\"id\"]=interviewtxt[\"interviewee_ids\"][i].split(';')\n",
    "    date=interviewtxt[\"date_of_first_interview\"][i]\n",
    "    text_to_ids[name][\"interview year\"]= date[date.rfind(\"/\")+1:]"
   ]
  },
  {
   "cell_type": "code",
   "execution_count": 9,
   "metadata": {},
   "outputs": [],
   "source": [
    "ids_to_years=defaultdict(lambda: defaultdict(lambda:\"0\"))\n",
    "for i in range(len(interviewtxt)):\n",
    "    date=interviewtxt[\"date_of_first_interview\"][i]\n",
    "    year=date[date.rfind('/')+1:]\n",
    "    ids=interviewtxt[\"interviewee_ids\"][i].split(';')\n",
    "    no_transcript=interviewtxt[\"no_transcript\"][i]\n",
    "    for num in ids:\n",
    "        ids_to_years[num][\"year\"]= str(year)\n",
    "        if no_transcript==\"TRUE\" and ids_to_years[num][\"included\"]==\"0\":\n",
    "            ids_to_years[num][\"included\"]=False\n",
    "        else:\n",
    "            ids_to_years[num][\"included\"]=True"
   ]
  },
  {
   "cell_type": "code",
   "execution_count": 10,
   "metadata": {},
   "outputs": [],
   "source": [
    "database=defaultdict(lambda: defaultdict(lambda:0))\n",
    "for i in range(len(data)):\n",
    "    if ids_to_years[data.loc[i, \"interviewee_id\"]][\"included\"]==False:\n",
    "        continue\n",
    "    for atr in data.columns:\n",
    "        if atr== \"researcher_assumed_birth_decade\":\n",
    "            continue\n",
    "        if atr== \"researcher_assumed_race\":\n",
    "            continue\n",
    "        value= data[atr][i]\n",
    "        if value in BLANKS and atr==\"\\ufeffbirth_decade\":\n",
    "            value= data.loc[i, \"researcher_assumed_birth_decade\"]\n",
    "        if value in BLANKS and atr==\"identified_race\":\n",
    "            value= data.loc[i, \"researcher_assumed_race\"]\n",
    "        if value in BLANKS and atr == \"real_interviewee_birth_year\":\n",
    "            value= data.loc[i, \"approximate_interviewee_birth_year\"]\n",
    "        database[data.loc[i, \"interviewee_id\"]][atr]=value\n",
    "    database[data.loc[i, \"interviewee_id\"]][\"interview_year\"]=ids_to_years[data.loc[i, \"interviewee_id\"]][\"year\"]"
   ]
  },
  {
   "cell_type": "code",
   "execution_count": 11,
   "metadata": {},
   "outputs": [],
   "source": [
    "files= loadCsvData(\"Jessy Data/Files.csv\")"
   ]
  },
  {
   "cell_type": "code",
   "execution_count": 12,
   "metadata": {},
   "outputs": [],
   "source": [
    "files=pandas.DataFrame(files[1:], columns=files[0])"
   ]
  },
  {
   "cell_type": "code",
   "execution_count": 13,
   "metadata": {},
   "outputs": [
    {
     "name": "stdout",
     "output_type": "stream",
     "text": [
      "199\n"
     ]
    }
   ],
   "source": [
    "print(len(files))"
   ]
  },
  {
   "cell_type": "code",
   "execution_count": 14,
   "metadata": {},
   "outputs": [],
   "source": [
    "SH= loadCsvData(\"Jessy Data/Sexual Harassment.csv\")"
   ]
  },
  {
   "cell_type": "code",
   "execution_count": 15,
   "metadata": {},
   "outputs": [],
   "source": [
    "SH= pandas.DataFrame(SH[1:], columns=SH[0])"
   ]
  },
  {
   "cell_type": "code",
   "execution_count": 16,
   "metadata": {},
   "outputs": [],
   "source": [
    "school= loadCsvData(\"Jessy Data/School and Academia.csv\")"
   ]
  },
  {
   "cell_type": "code",
   "execution_count": 17,
   "metadata": {},
   "outputs": [],
   "source": [
    "school= pandas.DataFrame(school[1:], columns=school[0])"
   ]
  },
  {
   "cell_type": "code",
   "execution_count": 18,
   "metadata": {},
   "outputs": [],
   "source": [
    "work= loadCsvData(\"Jessy Data/Workplace.csv\")"
   ]
  },
  {
   "cell_type": "code",
   "execution_count": 19,
   "metadata": {},
   "outputs": [],
   "source": [
    "work= pandas.DataFrame(work[1:], columns=work[0])"
   ]
  },
  {
   "cell_type": "code",
   "execution_count": 20,
   "metadata": {},
   "outputs": [],
   "source": [
    "sexual_harassment_files= set()"
   ]
  },
  {
   "cell_type": "code",
   "execution_count": 21,
   "metadata": {},
   "outputs": [],
   "source": [
    "for i in range(len(SH)):\n",
    "    sexual_harassment_files.add(SH.loc[i, \"Name\"])\n",
    "for i in range(len(work)):\n",
    "    sexual_harassment_files.add(work.loc[i, \"Name\"])\n",
    "for i in range(len(school)):\n",
    "    sexual_harassment_files.add(school.loc[i, \"Name\"])"
   ]
  },
  {
   "cell_type": "code",
   "execution_count": null,
   "metadata": {},
   "outputs": [],
   "source": []
  },
  {
   "cell_type": "code",
   "execution_count": 22,
   "metadata": {},
   "outputs": [],
   "source": [
    "general= loadCsvData(\"Jessy Data/General, Personal.csv\")\n",
    "general= pandas.DataFrame(general[1:], columns=general[0])"
   ]
  },
  {
   "cell_type": "code",
   "execution_count": 23,
   "metadata": {},
   "outputs": [],
   "source": [
    "joke= loadCsvData(\"Jessy Data/joke.csv\")\n",
    "joke= pandas.DataFrame(joke[1:], columns=joke[0])"
   ]
  },
  {
   "cell_type": "code",
   "execution_count": 24,
   "metadata": {},
   "outputs": [],
   "source": [
    "nonsexgenhar= loadCsvData(\"Jessy Data/Nonsexual Gendered Harassment.csv\")\n",
    "nonsexgenhar= pandas.DataFrame(nonsexgenhar[1:], columns=nonsexgenhar[0])"
   ]
  },
  {
   "cell_type": "code",
   "execution_count": 25,
   "metadata": {},
   "outputs": [],
   "source": [
    "nonsexwork= loadCsvData(\"Jessy Data/Nonsexual Workplace Harassment.csv\")\n",
    "nonsexwork= pandas.DataFrame(nonsexwork[1:], columns=nonsexwork[0])"
   ]
  },
  {
   "cell_type": "code",
   "execution_count": 26,
   "metadata": {},
   "outputs": [],
   "source": [
    "police= loadCsvData(\"Jessy Data/Police or Law Enforcement Harassment.csv\")\n",
    "police= pandas.DataFrame(police[1:], columns=police[0])"
   ]
  },
  {
   "cell_type": "code",
   "execution_count": 27,
   "metadata": {},
   "outputs": [],
   "source": [
    "political= loadCsvData(\"Jessy Data/Political Harassment.csv\")\n",
    "political= pandas.DataFrame(political[1:], columns=political[0])"
   ]
  },
  {
   "cell_type": "code",
   "execution_count": 28,
   "metadata": {},
   "outputs": [],
   "source": [
    "racial= loadCsvData(\"Jessy Data/Racial Harassment.csv\")\n",
    "racial= pandas.DataFrame(racial[1:], columns=racial[0])"
   ]
  },
  {
   "cell_type": "code",
   "execution_count": 29,
   "metadata": {},
   "outputs": [],
   "source": [
    "general_harassment_files= set()\n",
    "for i in range(len(general)):\n",
    "    general_harassment_files.add(general.loc[i, \"Name\"])\n",
    "joke_harassment_files= set()\n",
    "for i in range(len(joke)):\n",
    "    joke_harassment_files.add(joke.loc[i, \"Name\"])\n",
    "nonsexgenhar_harassment_files= set()\n",
    "for i in range(len(nonsexgenhar)):\n",
    "    nonsexgenhar_harassment_files.add(nonsexgenhar.loc[i, \"Name\"])\n",
    "nonsexwork_harassment_files= set()\n",
    "for i in range(len(nonsexwork)):\n",
    "    nonsexwork_harassment_files.add(nonsexwork.loc[i, \"Name\"])\n",
    "police_harassment_files= set()\n",
    "for i in range(len(police)):\n",
    "    police_harassment_files.add(police.loc[i, \"Name\"])\n",
    "political_harassment_files= set()\n",
    "for i in range(len(political)):\n",
    "    political_harassment_files.add(political.loc[i, \"Name\"])\n",
    "racial_harassment_files= set()\n",
    "for i in range(len(racial)):\n",
    "    racial_harassment_files.add(racial.loc[i, \"Name\"])\n",
    "SH_harassment_files= set()\n",
    "for i in range(len(SH)):\n",
    "    SH_harassment_files.add(SH.loc[i, \"Name\"])\n",
    "sexschool_harassment_files= set()\n",
    "for i in range(len(school)):\n",
    "    sexschool_harassment_files.add(school.loc[i, \"Name\"])\n",
    "sexwork_harassment_files= set()\n",
    "for i in range(len(work)):\n",
    "    sexwork_harassment_files.add(work.loc[i, \"Name\"])\n"
   ]
  },
  {
   "cell_type": "code",
   "execution_count": 30,
   "metadata": {},
   "outputs": [],
   "source": [
    "data_grouped=[[\"Sexual Harassment\", sexual_harassment_files], [\"General, Personal\", general_harassment_files], [\"Joke\", joke_harassment_files], [\"Nonsexual Gendered Harassment\", nonsexgenhar_harassment_files], [\"Nonsexual Workplace Harassment\", nonsexwork_harassment_files], [\"Police or Law Enforcement Harassment\", police_harassment_files], [\"Political Harassment\", political_harassment_files], [\"Racial Harassment\", racial_harassment_files]]"
   ]
  },
  {
   "cell_type": "code",
   "execution_count": 31,
   "metadata": {},
   "outputs": [
    {
     "data": {
      "text/plain": [
       "[None,\n",
       " None,\n",
       " None,\n",
       " None,\n",
       " None,\n",
       " None,\n",
       " None,\n",
       " None,\n",
       " None,\n",
       " None,\n",
       " None,\n",
       " None,\n",
       " None,\n",
       " None,\n",
       " None,\n",
       " None]"
      ]
     },
     "execution_count": 31,
     "metadata": {},
     "output_type": "execute_result"
    },
    {
     "data": {
      "image/png": "[encoded data removed]",
      "text/plain": [
       "<Figure size 432x288 with 1 Axes>"
      ]
     },
     "metadata": {
      "needs_background": "light"
     },
     "output_type": "display_data"
    }
   ],
   "source": [
    "N = 8\n",
    "\n",
    "ind = np.arange(N) \n",
    "values=[]\n",
    "\n",
    "# some example data\n",
    "\n",
    "values=[int(len(x[1])*100/len(files)) for x in data_grouped]\n",
    "    \n",
    "    \n",
    "values = np.array(values)\n",
    "\n",
    "labels=[x[0] for x in data_grouped]\n",
    "x = range(len(values))\n",
    "\n",
    "\n",
    "# and plot it\n",
    "fig, ax = pyplot.subplots()\n",
    "ax.bar(ind, values, .35, color=\"b\")\n",
    "ax.set_xticks(ind)\n",
    "ax.set_xticklabels(labels)\n",
    "ax.set_title('Percent of Interviews In Category In Harass* Subcorpora')\n",
    "ax.set_ylabel('Percent of Interviews')\n",
    "pyplot.setp(ax.get_xticklabels(), rotation=30, horizontalalignment='right')"
   ]
  },
  {
   "cell_type": "code",
   "execution_count": 32,
   "metadata": {},
   "outputs": [],
   "source": [
    "data=[[\"Sexual Harassment\", SH_harassment_files],[\"Sexual Harassment School and Academica\", sexschool_harassment_files],[\"Sexual Harassment Workplace\", sexwork_harassment_files], [\"General, Personal\", general_harassment_files], [\"Joke\", joke_harassment_files], [\"Nonsexual Gendered Harassment\", nonsexgenhar_harassment_files], [\"Nonsexual Workplace Harassment\", nonsexwork_harassment_files], [\"Police or Law Enforcement Harassment\", police_harassment_files], [\"Political Harassment\", political_harassment_files], [\"Racial Harassment\", racial_harassment_files]]"
   ]
  },
  {
   "cell_type": "code",
   "execution_count": 33,
   "metadata": {},
   "outputs": [
    {
     "data": {
      "text/plain": [
       "[None,\n",
       " None,\n",
       " None,\n",
       " None,\n",
       " None,\n",
       " None,\n",
       " None,\n",
       " None,\n",
       " None,\n",
       " None,\n",
       " None,\n",
       " None,\n",
       " None,\n",
       " None,\n",
       " None,\n",
       " None,\n",
       " None,\n",
       " None,\n",
       " None,\n",
       " None]"
      ]
     },
     "execution_count": 33,
     "metadata": {},
     "output_type": "execute_result"
    },
    {
     "data": {
      "image/png": "[encoded data removed]",
      "text/plain": [
       "<Figure size 432x288 with 1 Axes>"
      ]
     },
     "metadata": {
      "needs_background": "light"
     },
     "output_type": "display_data"
    }
   ],
   "source": [
    "N = 10\n",
    "\n",
    "ind = np.arange(N) \n",
    "values=[]\n",
    "\n",
    "# some example data\n",
    "\n",
    "values=[int(len(x[1])*100/len(files)) for x in data]\n",
    "    \n",
    "    \n",
    "values = np.array(values)\n",
    "\n",
    "labels=[x[0] for x in data]\n",
    "x = range(len(values))\n",
    "\n",
    "\n",
    "# and plot it\n",
    "fig, ax = pyplot.subplots()\n",
    "ax.bar(ind, values, .35, color=\"b\")\n",
    "ax.set_xticks(ind)\n",
    "ax.set_xticklabels(labels)\n",
    "ax.set_title('Percent of Interviews In Category In Harass* Subcorpora')\n",
    "ax.set_ylabel('Percent of Interviews')\n",
    "pyplot.setp(ax.get_xticklabels(), rotation=30, horizontalalignment='right')"
   ]
  },
  {
   "cell_type": "code",
   "execution_count": 34,
   "metadata": {},
   "outputs": [],
   "source": [
    "race=[\"Asian\", \"Black or African American\", \"Hispanic/Latinx\", \"Indigenous American or Alaska Native\", \"White\", \"Two or More Races\"]\n",
    "total=defaultdict(lambda:0)\n",
    "for i in range(len(files)):\n",
    "    for idnum in text_to_ids[files.loc[i, \"Name\"]][\"id\"]:\n",
    "        total[database[idnum][\"identified_race\"]]+=1\n",
    "\n",
    "for cat in data:\n",
    "    values=defaultdict(lambda:0)\n",
    "    for i in cat[1]:\n",
    "        for idnum in text_to_ids[i][\"id\"]:\n",
    "            values[database[idnum][\"identified_race\"]]+=1\n",
    "    cat.append(values)\n",
    "        "
   ]
  },
  {
   "cell_type": "code",
   "execution_count": 35,
   "metadata": {},
   "outputs": [
    {
     "data": {
      "text/plain": [
       "[None,\n",
       " None,\n",
       " None,\n",
       " None,\n",
       " None,\n",
       " None,\n",
       " None,\n",
       " None,\n",
       " None,\n",
       " None,\n",
       " None,\n",
       " None,\n",
       " None,\n",
       " None,\n",
       " None,\n",
       " None,\n",
       " None,\n",
       " None,\n",
       " None,\n",
       " None]"
      ]
     },
     "execution_count": 35,
     "metadata": {},
     "output_type": "execute_result"
    },
    {
     "data": {
      "image/png": "[encoded data removed]",
      "text/plain": [
       "<Figure size 432x288 with 1 Axes>"
      ]
     },
     "metadata": {
      "needs_background": "light"
     },
     "output_type": "display_data"
    }
   ],
   "source": [
    "N = 10\n",
    "\n",
    "ind = np.arange(N) \n",
    "values=[]\n",
    "\n",
    "# some example data\n",
    "\n",
    "Asian=[i[2][\"Asian\"] for i in data]\n",
    "Black=[i[2][\"Black or African American\"] for i in data]\n",
    "Hispanic=[i[2][\"Hispanic/Latinx\"] for i in data]\n",
    "Indigenous=[i[2][\"Indigenous American or Alaska Native\"] for i in data]\n",
    "White=[i[2][\"White\"] for i in data]\n",
    "Two=[i[2][\"Two or More Races\"] for i in data]\n",
    "    \n",
    "Asian = np.array(Asian)\n",
    "Black = np.array(Black)\n",
    "Hispanic = np.array(Hispanic)\n",
    "Indigenous = np.array(Indigenous)\n",
    "White = np.array(White)\n",
    "Two = np.array(Two)\n",
    "race_list=[Asian, Black, Hispanic, Indigenous, White, Two]\n",
    "\n",
    "#formatted=[[racelist[i] for j in range(10)] for i in range(6)]\n",
    "\n",
    "labels=[x[0] for x in data]\n",
    "x = range(len(values))\n",
    "\n",
    "\n",
    "# and plot it\n",
    "fig, ax = pyplot.subplots()\n",
    "ax.bar(ind+.1, Asian, .1, color=\"b\")\n",
    "ax.bar(ind+.2, Black, .1, color=\"y\")\n",
    "ax.bar(ind+.3, Hispanic, .1, color=\"r\")\n",
    "ax.bar(ind+.4, Indigenous, .1, color=\"orange\")\n",
    "ax.bar(ind+.5, White, .1, color=\"g\")\n",
    "ax.bar(ind+.6, Two, .1, color=\"c\")\n",
    "ax.set_xticks(ind)\n",
    "ax.set_xticklabels([x[0] for x in data])\n",
    "ax.set_title('Number of Interviews In Category In Harass* Subcorpora by Race')\n",
    "ax.set_ylabel('Number of Interviews')\n",
    "pyplot.setp(ax.get_xticklabels(), rotation=30, horizontalalignment='right')"
   ]
  },
  {
   "cell_type": "code",
   "execution_count": 36,
   "metadata": {},
   "outputs": [
    {
     "data": {
      "text/plain": [
       "[None,\n",
       " None,\n",
       " None,\n",
       " None,\n",
       " None,\n",
       " None,\n",
       " None,\n",
       " None,\n",
       " None,\n",
       " None,\n",
       " None,\n",
       " None,\n",
       " None,\n",
       " None,\n",
       " None,\n",
       " None,\n",
       " None,\n",
       " None,\n",
       " None,\n",
       " None]"
      ]
     },
     "execution_count": 36,
     "metadata": {},
     "output_type": "execute_result"
    },
    {
     "data": {
      "image/png": "[encoded data removed]",
      "text/plain": [
       "<Figure size 432x288 with 1 Axes>"
      ]
     },
     "metadata": {
      "needs_background": "light"
     },
     "output_type": "display_data"
    }
   ],
   "source": [
    "N = 10\n",
    "\n",
    "ind = np.arange(N) \n",
    "values=[]\n",
    "\n",
    "# some example data\n",
    "\n",
    "Asian=[int(i[2][\"Asian\"]*100/total[\"Asian\"]) for i in data]\n",
    "Black=[int(i[2][\"Black or African American\"]*100/total[\"Black or African American\"]) for i in data]\n",
    "Hispanic=[int(i[2][\"Hispanic/Latinx\"]*100/total[\"Hispanic/Latinx\"]) for i in data]\n",
    "Indigenous=[int(i[2][\"Indigenous American or Alaska Native\"]*100/total[\"Indigenous American or Alaska Native\"]) for i in data]\n",
    "White=[int(i[2][\"White\"]*100/total[\"White\"]) for i in data]\n",
    "Two=[int(i[2][\"Two or More Races\"]*100/total[\"Two or More Races\"])for i in data]\n",
    "    \n",
    "Asian = np.array(Asian)\n",
    "Black = np.array(Black)\n",
    "Hispanic = np.array(Hispanic)\n",
    "Indigenous = np.array(Indigenous)\n",
    "White = np.array(White)\n",
    "Two = np.array(Two)\n",
    "race_list=[Asian, Black, Hispanic, Indigenous, White, Two]\n",
    "\n",
    "#formatted=[[racelist[i] for j in range(10)] for i in range(6)]\n",
    "\n",
    "labels=[x[0] for x in data]\n",
    "x = range(len(values))\n",
    "\n",
    "\n",
    "# and plot it\n",
    "fig, ax = pyplot.subplots()\n",
    "ax.bar(ind+.1, Asian, .1, color=\"b\", label=\"Asian\")\n",
    "ax.bar(ind+.2, Black, .1, color=\"y\", label= \"Black or African American\")\n",
    "ax.bar(ind+.3, Hispanic, .1, color=\"r\", label= \"Hispanic/Latinx\")\n",
    "ax.bar(ind+.4, Indigenous, .1, color=\"orange\", label= \"Indigenous American or Alaska Native\")\n",
    "ax.bar(ind+.5, White, .1, color=\"g\", label= \"White\")\n",
    "ax.bar(ind+.6, Two, .1, color=\"c\", label= \"Two or More Races\")\n",
    "ax.set_xticks(ind)\n",
    "ax.set_xticklabels([x[0] for x in data])\n",
    "ax.set_title('Percent of Interviews In Category In Harass* Subcorpora by Race')\n",
    "ax.set_ylabel('Percent of Interviews')\n",
    "pyplot.legend()\n",
    "pyplot.setp(ax.get_xticklabels(), rotation=30, horizontalalignment='right')"
   ]
  },
  {
   "cell_type": "code",
   "execution_count": 37,
   "metadata": {},
   "outputs": [
    {
     "name": "stdout",
     "output_type": "stream",
     "text": [
      "[[50, 10, 50, 100, 28, 50], [33, 4, 0, 0, 31, 50], [16, 22, 0, 0, 36, 0], [16, 10, 0, 0, 8, 0], [0, 7, 0, 0, 7, 0], [0, 1, 0, 0, 3, 0], [0, 5, 50, 0, 1, 0], [33, 14, 0, 0, 3, 0], [0, 16, 0, 0, 15, 0], [33, 35, 0, 0, 5, 50]]\n"
     ]
    }
   ],
   "source": [
    "formatted=[]\n",
    "for cat in data:\n",
    "    race_seperated_list=[]\n",
    "    for x in race:\n",
    "        race_seperated_list.append(int(100*cat[2][x]/total[x]))\n",
    "        #race_seperated_list.append(0)\n",
    "    formatted.append(race_seperated_list)\n",
    "print(formatted)"
   ]
  },
  {
   "cell_type": "code",
   "execution_count": 38,
   "metadata": {},
   "outputs": [
    {
     "data": {
      "text/plain": [
       "[None, None, None, None, None, None, None, None, None, None, None, None]"
      ]
     },
     "execution_count": 38,
     "metadata": {},
     "output_type": "execute_result"
    },
    {
     "data": {
      "image/png": "[encoded data removed]",
      "text/plain": [
       "<Figure size 432x288 with 1 Axes>"
      ]
     },
     "metadata": {
      "needs_background": "light"
     },
     "output_type": "display_data"
    }
   ],
   "source": [
    "N = 6\n",
    "\n",
    "ind = np.arange(N) \n",
    "values=[]\n",
    "\n",
    "for i in formatted:\n",
    "    i=np.array(i)\n",
    "\n",
    "\n",
    "labels=race\n",
    "x = range(len(values))\n",
    "\n",
    "# and plot it\n",
    "fig, ax = pyplot.subplots()\n",
    "ax.bar(ind, formatted[0], .1, color=\"b\", label=data[0][0])\n",
    "ax.bar(ind+.1, formatted[1], .1, color=\"y\", label=data[1][0])\n",
    "ax.bar(ind+.2, formatted[2], .1, color=\"g\", label=data[2][0])\n",
    "ax.bar(ind+.3, formatted[3], .1, color=\"orange\", label=data[3][0])\n",
    "ax.bar(ind+.4, formatted[4], .1, color=\"c\", label=data[4][0])\n",
    "ax.bar(ind+.5, formatted[5], .1, color=\"r\", label=data[5][0])\n",
    "ax.bar(ind+.6, formatted[6], .1, color=\"purple\", label=data[6][0])\n",
    "ax.bar(ind+.7, formatted[7], .1, color=\"m\", label=data[7][0])\n",
    "ax.bar(ind+.8, formatted[8], .1, color=\"black\", label=data[8][0])\n",
    "ax.bar(ind+.9, formatted[9], .1, color=\"pink\", label=data[9][0])\n",
    "ax.set_xticks(ind)\n",
    "ax.set_xticklabels(labels)\n",
    "ax.set_title('Percent of Interviews In Category In Harass* Subcorpora by Race')\n",
    "ax.set_ylabel('Percent of Interviews')\n",
    "pyplot.legend()\n",
    "pyplot.setp(ax.get_xticklabels(), rotation=30, horizontalalignment='right')"
   ]
  },
  {
   "cell_type": "code",
   "execution_count": 39,
   "metadata": {},
   "outputs": [
    {
     "name": "stdout",
     "output_type": "stream",
     "text": [
      "defaultdict(<function <lambda> at 0x7f9cbffad790>, {'1900': 5, '1890': 3, '1910': 11, '1930': 30, '1940': 69, '1920': 20, '1960': 16, '1980': 4, '1950': 34, '1970': 6, '': 1})\n",
      "[['Sexual Harassment', {'HM_Grant_Jacquelyn', 'HM_Ransby_Barbara', 'UNCTWMS_Begalla_Martha', 'SCAARJ_Choi_Cynthia', 'SCVF_Toure_Nkenge', 'HM_Lewis_Tina', 'UNCTWMS_Rostan_June', 'HM_Johnson_Malvyn', 'UNCTWMS_Evans_Sara_M_(Sara_Margaret)', 'UNCTWMS_Nickle_Carol', 'OWHF_Rhea_Jeanine', 'SCAP_LaBarbera_Jen', 'OWHF_Ross_Cindy', 'UNCTWMS_Sobieski_Wanda_2', 'UNCTWMS_Bell_Brenda', 'HM_Ferguson_Renee', 'HM_Pool-Eckert_Marquita', 'UNCTWMS_Scott_Nan', 'SCAARJ_Chum_Sophya', 'UNCTWMS_Mays_Mary_Katherine', 'UNCTWMS_Giardina_Carol', 'BWSP_Gardner_Martha', 'SCAARJ_Zia_Helen', 'RTRB_August_Helen', 'UNCGAS_Allen_Jan', 'RTRB_DeCory_Emily', 'SCVF_Steinem_Gloria', 'SCAP_Jimenez_Ileana', 'SCVF_Berek_Judy', 'UNCTWMS_Ray_Gloria', 'HM_Ross_Sonya', 'SHSF_Miner_Anne', 'UNCTWMS_Fuchs_Laurie', 'SCAL_Pollet_Tiik', 'SHSF_Strober_Myra', 'SCAL_Pogrebin_LettyCottin', 'HM_Williams_Elynor', 'HM_Williams_Jamye', 'SCAL_Shelton_Christine', 'HM_Miller-Perry_Rosetta'}, defaultdict(<function <lambda> at 0x7f9cbf96f700>, {'Black or African American': 11, 'White': 23, 'Asian': 3, 'Two or More Races': 1, 'Indigenous American or Alaska Native': 1, 'Hispanic/Latinx': 1}), defaultdict(<function <lambda> at 0x7f9cbf96f3a0>, {'1940': 18, '1950': 7, '1960': 3, '1920': 1, '1930': 6, '1980': 2, '1910': 2, '1970': 1})], ['Sexual Harassment School and Academica', {'BWSP_Richardson_Joyce', 'UNCTWMS_Lester_Lorayne', 'BWSP_Black_Lois', 'OWHF_Martin_Kay', 'UNCTWMS_Barrett_Lida_Kittrell', 'RTRB_Gee_Maggie_1', 'SHSA_Tracy_Else', 'HM_Pratt_Sharon', 'BWSP_Morse_Charlotte', 'BWSP_Weed_Elizabeth', 'BWSP_Fairchild_Joyce', 'SHSF_Chu_Jean', 'UNCTWMS_Sobieski_Wanda_2', 'BWSP_Palmer_Alison', 'HM_Bundles_A_Lelia', 'BWSP_Hopkins-Stapleton_Doris', 'BWSP_Gardner_Martha', 'UNCTWMS_Kurth_Suzanne_B_(Suzanne_Beth)', 'BWSP_Mahdesian_Linda', 'SCAP_Callahan_Kara', 'HM_Shange_Ntozake', 'BWSP_Miller_Kristie', 'HM_Martin_Sylvia', 'SHSF_Mahoney_Sally', 'SHSF_Kraemer_Helena', 'SHSF_Miner_Anne', 'UNCTWMS_Barrett_Margaret_Bowers', 'SHSF_Martin_Joanne', 'SHSF_Maccoby_Eleanor', 'ROHA_Kramer_Barbara', 'BWSP_Mikuriya_Mary', 'SHSF_Strober_Myra', 'SHSF_Jacobs_Charlotte'}, defaultdict(<function <lambda> at 0x7f9cbf9873a0>, {'Black or African American': 5, 'White': 25, 'Asian': 2, 'Two or More Races': 1, 'Hispanic/Latinx': 0, 'Indigenous American or Alaska Native': 0}), defaultdict(<function <lambda> at 0x7f9cbf8b55e0>, {'1940': 13, '1930': 9, '1920': 4, '1950': 1, '1900': 1, '1960': 4, '1910': 1})], ['Sexual Harassment Workplace', {'HM_Wilcher_Shirley', 'UNCTWMS_Lester_Lorayne', 'HM_Moore_Geraldine', 'HM_Adams_Carol', 'OWHF_Martin_Kay', 'RTRB_Cook_Peggy', 'UNCTWMS_Marshall_Senseney', 'UNCTWMS_Barrett_Lida_Kittrell', 'RTRB_Gee_Maggie_1', 'HM_Ciara_Barbara', 'UNCTWMS_Waldvogel_Merikay', 'RTRB_Samson_Betty', 'BWSP_Morse_Charlotte', 'RTRB_Tidmore_Roberta', 'HM_Langford_Anna', 'WOL_Coleman_Carolyn', 'HM_Elam_Deborah', 'WOL_Collins_Jan', 'HM_Stewart_Stacey', 'ROHA_Drelich_Pearl', 'RTRB_Wikelund_Jospehine', 'HM_Pool-Eckert_Marquita', 'HM_Edwards_Audrey', 'BWSP_Palmer_Alison', 'SCVF_Nussbaum_Karen', 'UNCTWMS_Scott_Nan', 'SCVF_Miller_Geraldine', 'HM_Rogers_Desiree', 'UNCTWMS_Byrd_Erin_Dale', 'UNCTWMS_Rollins_Sheryl_Clark', 'UNCTWMS_Giardina_Carol', 'HM_Watson_Diane', 'HM_Cooper_Maudine', 'SCVF_Berek_Judy', 'HM_Slade_Karen', 'HM_Middlebrooks_Felicia', 'UNCTWMS_Mashburn_Lillian_Tauxe', 'HM_Ebert_Chaz', 'SHSF_Kraemer_Helena', 'ROHA_Archibald_Alice', 'BWSP_Moss_Beverly', 'OOHYLC_Messenger_Dorothy', 'RTRB_Pursley_Marilyn', 'SOOH_Shepherd_Marie', 'HM_Cost_Monica', 'HM_Lillie_Charisse', 'SHSF_Maccoby_Eleanor', 'SHSF_Martin_Joanne', 'SHSF_Strober_Myra', 'HM_Britt_Donna', 'HM_Biggins_J.', 'HM_Williams_Elynor', 'UNCGAS_Allen_Jan', 'SHSF_Jacobs_Charlotte'}, defaultdict(<function <lambda> at 0x7f9cbf987280>, {'Black or African American': 24, 'White': 29, 'Asian': 1, 'Hispanic/Latinx': 0, 'Indigenous American or Alaska Native': 0, 'Two or More Races': 0}), defaultdict(<function <lambda> at 0x7f9cbfdfdee0>, {'1950': 10, '1930': 5, '1920': 11, '1940': 19, '1910': 4, '1960': 2, '1970': 2, '1900': 1})], ['General, Personal', {'ROHA_Morrison_Barbara', 'RTRB_Buls_Patricia', 'SHSF_Chu_Jean', 'HM_Edmonds_Tracey', 'BWSP_Palmer_Alison', 'HM_Ward_Val', 'SCAARJ_Chum_Sophya', 'HM_Gibbs_Jewelle', 'BWSP_Gardner_Martha', 'BWOH_Craft_Juanita', 'HM_Madison_Paula', 'BWOH_Harrison_Pleasant', 'HM_Hemphill_Gloria', 'SOOH_Hicks_Okla', 'HM_Foster_Muriel', 'SCVF_Lerner_Gerda', 'SCAL_Pollet_Tiik', 'HM_Hope_Bertha', 'SCAL_Shelton_Christine'}, defaultdict(<function <lambda> at 0x7f9cbf9871f0>, {'Black or African American': 11, 'White': 7, 'Asian': 1, 'Hispanic/Latinx': 0, 'Indigenous American or Alaska Native': 0, 'Two or More Races': 0}), defaultdict(<function <lambda> at 0x7f9cbfdfdaf0>, {'1940': 2, '1920': 2, '1930': 8, '1960': 2, '1980': 1, '1900': 1, '1950': 2, '1910': 1})], ['Joke', {'HM_Ferguson_Roger', 'HM_Jones_Brenda', 'HM_Jones_Michele', 'SOOH_Wynne_Gail', 'SCAL_Dodyk_Delight', 'HM_Outerbridge_Leslie', 'HM_Hunter_Karen', 'HM_Angelou_Maya', 'ROHA_Drelich_Pearl', 'SCVF_Fried_Marlene_Gerber', 'BWOH_Grant_Frances', 'HM_Dorsey_Hattie', 'OWHF_Longacre_Jacqulyn', 'WOL_McNiel_Skye'}, defaultdict(<function <lambda> at 0x7f9cbf987310>, {'Black or African American': 8, 'White': 6, 'Asian': 0, 'Hispanic/Latinx': 0, 'Indigenous American or Alaska Native': 0, 'Two or More Races': 0}), defaultdict(<function <lambda> at 0x7f9cbfdfdca0>, {'1950': 3, '1960': 2, '1930': 4, '1920': 2, '1940': 1, '1890': 1, '1970': 1})], ['Nonsexual Gendered Harassment', {'SCVF_Allison_Dorothy', 'BWSP_Gardner_Martha', 'HM_Catoe_Bette', 'HM_Roberts_Allene', 'SCAP_Abrams_Lisa'}, defaultdict(<function <lambda> at 0x7f9cbf987160>, {'White': 3, 'Black or African American': 2, 'Asian': 0, 'Hispanic/Latinx': 0, 'Indigenous American or Alaska Native': 0, 'Two or More Races': 0}), defaultdict(<function <lambda> at 0x7f9cbffc9700>, {'1940': 2, '1960': 2, '1920': 1})], ['Nonsexual Workplace Harassment', {'HM_Griesinger_Nancy', 'UNCTWMS_Rollins_Sheryl_Clark', 'SCVF_Thompson-Chavez_Linda', 'SCVF_Lerner_Gerda', 'HM_Hughes_Cathy', 'HM_Haden_Laurie', 'HM_Roberts_Allene', 'HM_Jackson_Shirley'}, defaultdict(<function <lambda> at 0x7f9cbf9870d0>, {'Black or African American': 6, 'Hispanic/Latinx': 1, 'White': 1, 'Asian': 0, 'Indigenous American or Alaska Native': 0, 'Two or More Races': 0}), defaultdict(<function <lambda> at 0x7f9cbffc98b0>, {'1960': 1, '1940': 5, '1920': 1, '1970': 1})], ['Police or Law Enforcement Harassment', {'BWOH_Parks_Rosa', 'HM_Shaw_Sarah-Ann', 'BWOH_Height_Dorothy', 'HM_Baskerville_Lezli', 'WOL_McIntyre_Judy_Eason', 'HM_Billops_Camille', 'HM_Flowers_Mary', 'UNCSW_McGill_Eula_3', 'SCAARJ_Chum_Sophya', 'SHSA_Gartrell_Nanette', 'HM_Lawson_Jennifer', 'HM_Huntley_Lynn', 'HM_Payne_Scherrie', 'HM_Estes_Sidmel', 'SCAARJ_Mingus_Mia', 'HM_Davis_Carrie', 'HM_Roxborough_Mildred', 'SCAL_Pollet_Tiik', 'HM_Sales_Ruby', 'HM_Webb_Wilma', 'SCVF_Kramer_Marian'}, defaultdict(<function <lambda> at 0x7f9cbf987d30>, {'Black or African American': 16, 'White': 3, 'Asian': 2, 'Hispanic/Latinx': 0, 'Indigenous American or Alaska Native': 0, 'Two or More Races': 0}), defaultdict(<function <lambda> at 0x7f9cbffc91f0>, {'1910': 3, '': 1, '1950': 4, '1940': 9, '1930': 1, '1980': 2, '1920': 1})], ['Political Harassment', {'HM_Ladner_Joyce', 'SCVF_Gilbert_Ronnie', 'HM_Stewart_Imagene', 'SCVF_Allison_Dorothy', 'HM_Gray_Joan', 'BWOH_Height_Dorothy', 'WOL_Gray_Twyla_Mason', 'UNCTWMS_Hill_Linda_Upton', 'HM_Baskerville_Lezli', 'HM_Cafritz_Peggy', 'HM_Hughley_Stephanie', 'HM_Barry_Cora', 'HM_Hicks_Phyllis', 'BWSP_Dannenberg_Carol', 'HM_Outerbridge_Leslie', 'SCVF_Stout_Linda', 'BWOH_Jackson_Ellen', 'UNCSW_McGill_Eula_3', 'BWSP_Morgan_Anna', 'HM_Wilson_Cleo', 'UNCSW_Seeman_Elizabeth', 'HM_Dodd_Alma', 'HM_Lawson_Jennifer', 'BWSP_Gardner_Martha', 'SCVF_Steinem_Gloria', 'HM_Robinson_Amelia', 'UNCGAS_FisherBorne_Marcie', 'HM_Roxborough_Mildred', 'SCAL_Pollet_Tiik', 'SCVF_Kramer_Marian'}, defaultdict(<function <lambda> at 0x7f9cbf987dc0>, {'Black or African American': 18, 'White': 12, 'Asian': 0, 'Hispanic/Latinx': 0, 'Indigenous American or Alaska Native': 0, 'Two or More Races': 0}), defaultdict(<function <lambda> at 0x7f9cbffc90d0>, {'1940': 13, '1920': 2, '1910': 3, '1950': 5, '1930': 3, '1890': 1, '1900': 1, '1960': 1, '1970': 1})], ['Racial Harassment', {'BWOH_Parks_Rosa', 'HM_Ladner_Joyce', 'HM_Wilcher_Shirley', 'HM_Davis_Michaela', 'HM_Jackson_Teri', 'HM_Gray_Joan', 'HM_Randall_Marlene', 'HM_Shaw_Sarah-Ann', 'HM_Adams_Carol', 'BWOH_Height_Dorothy', 'BWOH_Mitchell_Lucy', 'HM_Baskerville_Lezli', 'HM_Cafritz_Peggy', 'HM_Hughley_Stephanie', 'HM_Roberts_Allene', 'HM_Shipp_E.', 'HM_Hicks_Phyllis', 'HM_Jackson_Valerie', 'SCVF_Kramer_Marian', 'HM_Malveaux_Antoinette', 'HM_Randall_Alice', 'HM_Sturdivant_Marcia', 'HM_Billops_Camille', 'HM_Fry_Rita', 'SCVF_Stout_Linda', 'HM_Flowers_Mary', 'UNCSW_McGill_Eula_3', 'HM_Boone_Jean', 'HM_Webb_Wilma', 'SCAARJ_Chum_Sophya', 'HM_Huntley_Lynn', 'HM_Cooper_Maudine', 'ROHA_Hunter_Nan', 'HM_Randall_Vernellia', 'BWSP_Mahdesian_Linda', 'HM_Robinson_Amelia', 'HM_Okpodu_Camellia', 'HM_Griesinger_Nancy', 'BWSP_Kay_Sarah', 'SCAARJ_Mingus_Mia', 'HM_Roxborough_Mildred', 'HM_Sales_Ruby', 'HM_Pindell_Howardena', 'HM_Davis_Carrie', 'HM_Wilson_Lucy'}, defaultdict(<function <lambda> at 0x7f9cbf987e50>, {'Black or African American': 38, 'White': 4, 'Asian': 2, 'Two or More Races': 1, 'Hispanic/Latinx': 0, 'Indigenous American or Alaska Native': 0}), defaultdict(<function <lambda> at 0x7f9cbffc9160>, {'1910': 4, '1940': 19, '1950': 9, '1960': 4, '1930': 3, '': 1, '1890': 1, '1980': 3, '1920': 1})]]\n"
     ]
    }
   ],
   "source": [
    "total=defaultdict(lambda:0)\n",
    "for i in range(len(files)):\n",
    "    for idnum in text_to_ids[files.loc[i, \"Name\"]][\"id\"]:\n",
    "        total[database[idnum][\"\\ufeffbirth_decade\"]]+=1\n",
    "\n",
    "for cat in data:\n",
    "    values=defaultdict(lambda:0)\n",
    "    for i in cat[1]:\n",
    "        for idnum in text_to_ids[i][\"id\"]:\n",
    "            values[database[idnum][\"\\ufeffbirth_decade\"]]+=1\n",
    "    cat.append(values)\n",
    "print(total)\n",
    "print(data)"
   ]
  },
  {
   "cell_type": "code",
   "execution_count": 40,
   "metadata": {},
   "outputs": [
    {
     "name": "stdout",
     "output_type": "stream",
     "text": [
      "[[0, 0, 18, 5, 20, 26, 20, 18, 16, 50], [0, 20, 9, 20, 30, 18, 2, 25, 0, 0], [0, 20, 36, 55, 16, 27, 29, 12, 33, 0], [0, 20, 9, 10, 26, 2, 5, 12, 0, 25], [33, 0, 0, 10, 13, 1, 8, 12, 16, 0], [0, 0, 0, 5, 0, 2, 0, 12, 0, 0], [0, 0, 0, 5, 0, 7, 0, 6, 16, 0], [0, 0, 27, 5, 3, 13, 11, 0, 0, 50], [33, 20, 27, 10, 10, 18, 14, 6, 16, 0], [33, 0, 36, 5, 10, 27, 26, 25, 0, 75]]\n",
      "10\n"
     ]
    }
   ],
   "source": [
    "formatted=[]\n",
    "for cat in data:\n",
    "    birth_seperated_list=[]\n",
    "    for x in range(1890, 1990, 10):\n",
    "        birth_seperated_list.append(int(100*cat[3][str(x)]/total[str(x)]))\n",
    "        #birth_seperated_list.append(0)\n",
    "    formatted.append(birth_seperated_list)\n",
    "print(formatted)\n",
    "print(len(formatted))"
   ]
  },
  {
   "cell_type": "code",
   "execution_count": 41,
   "metadata": {},
   "outputs": [
    {
     "data": {
      "text/plain": [
       "[None,\n",
       " None,\n",
       " None,\n",
       " None,\n",
       " None,\n",
       " None,\n",
       " None,\n",
       " None,\n",
       " None,\n",
       " None,\n",
       " None,\n",
       " None,\n",
       " None,\n",
       " None,\n",
       " None,\n",
       " None,\n",
       " None,\n",
       " None,\n",
       " None,\n",
       " None]"
      ]
     },
     "execution_count": 41,
     "metadata": {},
     "output_type": "execute_result"
    },
    {
     "data": {
      "image/png": "[encoded data removed]",
      "text/plain": [
       "<Figure size 432x288 with 1 Axes>"
      ]
     },
     "metadata": {
      "needs_background": "light"
     },
     "output_type": "display_data"
    }
   ],
   "source": [
    "N = 10\n",
    "\n",
    "ind = np.arange(N) \n",
    "values=[]\n",
    "\n",
    "for i in formatted:\n",
    "    i=np.array(i)\n",
    "\n",
    "\n",
    "x = range(len(values))\n",
    "\n",
    "# and plot it\n",
    "fig, ax = pyplot.subplots()\n",
    "ax.bar(ind, formatted[0], .1, color=\"b\", label=data[0][0])\n",
    "ax.bar(ind+.1, formatted[1], .1, color=\"y\", label=data[1][0])\n",
    "ax.bar(ind+.2, formatted[2], .1, color=\"g\", label=data[2][0])\n",
    "ax.bar(ind+.3, formatted[3], .1, color=\"orange\", label=data[3][0])\n",
    "ax.bar(ind+.4, formatted[4], .1, color=\"c\", label=data[4][0])\n",
    "ax.bar(ind+.5, formatted[5], .1, color=\"r\", label=data[5][0])\n",
    "ax.bar(ind+.6, formatted[6], .1, color=\"purple\", label=data[6][0])\n",
    "ax.bar(ind+.7, formatted[7], .1, color=\"m\", label=data[7][0])\n",
    "ax.bar(ind+.8, formatted[8], .1, color=\"black\", label=data[8][0])\n",
    "ax.bar(ind+.9, formatted[9], .1, color=\"pink\", label=data[9][0])\n",
    "ax.set_xticks(ind)\n",
    "ax.set_xticklabels(str(x) for x in range(1890, 1990, 10))\n",
    "ax.set_title('Percent of Interviews In Category In Harass* Subcorpora by Birth Decade')\n",
    "ax.set_ylabel('Percent of Interviews')\n",
    "pyplot.legend()\n",
    "pyplot.setp(ax.get_xticklabels(), rotation=30, horizontalalignment='right')"
   ]
  },
  {
   "cell_type": "code",
   "execution_count": 42,
   "metadata": {},
   "outputs": [
    {
     "name": "stdout",
     "output_type": "stream",
     "text": [
      "[[0, 0, 18, 5, 20, 26, 20, 18, 16, 50], [0, 20, 9, 20, 30, 18, 2, 25, 0, 0], [0, 20, 36, 55, 16, 27, 29, 12, 33, 0], [0, 20, 9, 10, 26, 2, 5, 12, 0, 25], [33, 0, 0, 10, 13, 1, 8, 12, 16, 0], [0, 0, 0, 5, 0, 2, 0, 12, 0, 0], [0, 0, 0, 5, 0, 7, 0, 6, 16, 0], [0, 0, 27, 5, 3, 13, 11, 0, 0, 50], [33, 20, 27, 10, 10, 18, 14, 6, 16, 0], [33, 0, 36, 5, 10, 27, 26, 25, 0, 75]]\n",
      "10\n"
     ]
    }
   ],
   "source": [
    "formatted=[]\n",
    "for cat in data:\n",
    "    birth_seperated_list=[]\n",
    "    for x in range(1890, 1990, 10):\n",
    "        birth_seperated_list.append(int(100*cat[3][str(x)]/total[str(x)]))\n",
    "        #birth_seperated_list.append(0)\n",
    "    formatted.append(birth_seperated_list)\n",
    "print(formatted)\n",
    "print(len(formatted))"
   ]
  },
  {
   "cell_type": "code",
   "execution_count": 43,
   "metadata": {},
   "outputs": [],
   "source": [
    "data_grouped=[[\"Sexual Harassment\", sexual_harassment_files], [\"Police or Law Enforcement Harassment\", police_harassment_files], [\"Racial Harassment\", racial_harassment_files]]"
   ]
  },
  {
   "cell_type": "code",
   "execution_count": 44,
   "metadata": {},
   "outputs": [],
   "source": [
    "race=[\"Asian\", \"Black or African American\", \"Hispanic/Latinx\", \"Indigenous American or Alaska Native\", \"White\", \"Two or More Races\"]\n",
    "total=defaultdict(lambda:0)\n",
    "for i in range(len(files)):\n",
    "    for idnum in text_to_ids[files.loc[i, \"Name\"]][\"id\"]:\n",
    "        total[database[idnum][\"identified_race\"]]+=1\n",
    "\n",
    "for cat in data_grouped:\n",
    "    values=defaultdict(lambda:0)\n",
    "    for i in cat[1]:\n",
    "        for idnum in text_to_ids[i][\"id\"]:\n",
    "            values[database[idnum][\"identified_race\"]]+=1\n",
    "    cat.append(values)"
   ]
  },
  {
   "cell_type": "code",
   "execution_count": 45,
   "metadata": {},
   "outputs": [
    {
     "data": {
      "text/plain": [
       "[None, None, None, None, None, None]"
      ]
     },
     "execution_count": 45,
     "metadata": {},
     "output_type": "execute_result"
    },
    {
     "data": {
      "image/png": "[encoded data removed]",
      "text/plain": [
       "<Figure size 432x288 with 1 Axes>"
      ]
     },
     "metadata": {
      "needs_background": "light"
     },
     "output_type": "display_data"
    }
   ],
   "source": [
    "data=data_grouped\n",
    "N = 3\n",
    "\n",
    "ind = np.arange(N) \n",
    "values=[]\n",
    "\n",
    "# some example data\n",
    "\n",
    "#Asian=[int(i[2][\"Asian\"]*100/total[\"Asian\"]) for i in data]\n",
    "Black=[int(i[2][\"Black or African American\"]*100/total[\"Black or African American\"]) for i in data]\n",
    "#Hispanic=[int(i[2][\"Hispanic/Latinx\"]*100/total[\"Hispanic/Latinx\"]) for i in data]\n",
    "#Indigenous=[int(i[2][\"Indigenous American or Alaska Native\"]*100/total[\"Indigenous American or Alaska Native\"]) for i in data]\n",
    "White=[int(i[2][\"White\"]*100/total[\"White\"]) for i in data]\n",
    "#Two=[int(i[2][\"Two or More Races\"]*100/total[\"Two or More Races\"])for i in data]\n",
    "race_list=[Black, White]  \n",
    "#Asian = np.array(Asian)\n",
    "Black = np.array(Black)\n",
    "#Hispanic = np.array(Hispanic)\n",
    "#Indigenous = np.array(Indigenous)\n",
    "White = np.array(White)\n",
    "#Two = np.array(Two)\n",
    "#race_list=[Asian, Black, Hispanic, Indigenous, White, Two]\n",
    "\n",
    "\n",
    "#formatted=[[racelist[i] for j in range(10)] for i in range(6)]\n",
    "\n",
    "labels=[x[0] for x in data]\n",
    "x = range(len(values))\n",
    "\n",
    "\n",
    "# and plot it\n",
    "fig, ax = pyplot.subplots()\n",
    "#ax.bar(ind+1/12, Asian, 1/6, color=\"b\", label=\"Asian\")\n",
    "#ax.bar(ind+3/12, Black, 1/6, color=\"black\", label= \"Black or African American\")\n",
    "#ax.bar(ind+5/12, Hispanic, 1/6, color=\"r\", label= \"Hispanic/Latinx\")\n",
    "#ax.bar(ind+7/12, Indigenous, 1/6, color=\"orange\", label= \"Indigenous American or Alaska Native\")\n",
    "#ax.bar(ind+9/12, White, 1/6, color=\"yellow\", label= \"White\")\n",
    "#ax.bar(ind+11/12, Two, 1/6, color=\"c\", label= \"Two or More Races\")\n",
    "ax.bar(ind+1/4, Black, .35, color=\"black\", label= \"Black or African American\")\n",
    "ax.bar(ind+3/4, White, .35, color=\"blue\", label= \"White\")\n",
    "ax.set_xticks(ind)\n",
    "ax.set_xticklabels([x[0] for x in data])\n",
    "ax.set_title('Percent of Interviews In Harass* Subcorpora by Type of Usage and Race of Interviewee')\n",
    "ax.set_ylabel('Percent of Interviews')\n",
    "pyplot.legend()\n",
    "pyplot.setp(ax.get_xticklabels(), rotation=30, horizontalalignment='right')"
   ]
  },
  {
   "cell_type": "code",
   "execution_count": 46,
   "metadata": {},
   "outputs": [
    {
     "data": {
      "text/html": [
       "<div>\n",
       "<style scoped>\n",
       "    .dataframe tbody tr th:only-of-type {\n",
       "        vertical-align: middle;\n",
       "    }\n",
       "\n",
       "    .dataframe tbody tr th {\n",
       "        vertical-align: top;\n",
       "    }\n",
       "\n",
       "    .dataframe thead th {\n",
       "        text-align: right;\n",
       "    }\n",
       "</style>\n",
       "<table border=\"1\" class=\"dataframe\">\n",
       "  <thead>\n",
       "    <tr style=\"text-align: right;\">\n",
       "      <th></th>\n",
       "      <th>Sexual Harassment</th>\n",
       "      <th>Police or Law Enforcement Harassment</th>\n",
       "      <th>Racial Harassment</th>\n",
       "    </tr>\n",
       "  </thead>\n",
       "  <tbody>\n",
       "    <tr>\n",
       "      <th>Percentage of Black Women's Interviews Containing</th>\n",
       "      <td>35</td>\n",
       "      <td>14</td>\n",
       "      <td>35</td>\n",
       "    </tr>\n",
       "    <tr>\n",
       "      <th>Percentage of Black Women's Interviews Containing</th>\n",
       "      <td>73</td>\n",
       "      <td>3</td>\n",
       "      <td>5</td>\n",
       "    </tr>\n",
       "  </tbody>\n",
       "</table>\n",
       "</div>"
      ],
      "text/plain": [
       "                                                   Sexual Harassment  \\\n",
       "Percentage of Black Women's Interviews Containing                 35   \n",
       "Percentage of Black Women's Interviews Containing                 73   \n",
       "\n",
       "                                                   Police or Law Enforcement Harassment  \\\n",
       "Percentage of Black Women's Interviews Containing                                    14   \n",
       "Percentage of Black Women's Interviews Containing                                     3   \n",
       "\n",
       "                                                   Racial Harassment  \n",
       "Percentage of Black Women's Interviews Containing                 35  \n",
       "Percentage of Black Women's Interviews Containing                  5  "
      ]
     },
     "metadata": {},
     "output_type": "display_data"
    }
   ],
   "source": [
    "race_data=pandas.DataFrame(race_list, columns=[x[0] for x in data], index=[\"Percentage of Black Women's Interviews Containing\", \"Percentage of Black Women's Interviews Containing\"])\n",
    "display(race_data)"
   ]
  },
  {
   "cell_type": "code",
   "execution_count": 47,
   "metadata": {},
   "outputs": [],
   "source": [
    "data_grouped=[[\"Sexual Harassment\", sexual_harassment_files], [\"Police or Law Enforcement Harassment\", police_harassment_files], [\"Racial Harassment\", racial_harassment_files]]"
   ]
  },
  {
   "cell_type": "code",
   "execution_count": 48,
   "metadata": {},
   "outputs": [],
   "source": [
    "race=[\"Asian\", \"Black or African American\", \"Hispanic/Latinx\", \"Indigenous American or Alaska Native\", \"White\", \"Two or More Races\"]\n",
    "total=defaultdict(lambda:0)\n",
    "for i in range(len(files)):\n",
    "    for idnum in text_to_ids[files.loc[i, \"Name\"]][\"id\"]:\n",
    "        total[database[idnum][\"identified_race\"]]+=1\n",
    "\n",
    "for cat in data_grouped:\n",
    "    values=defaultdict(lambda:0)\n",
    "    for i in cat[1]:\n",
    "        for idnum in text_to_ids[i][\"id\"]:\n",
    "            values[database[idnum][\"identified_race\"]]+=1\n",
    "    cat.append(values)"
   ]
  },
  {
   "cell_type": "code",
   "execution_count": 49,
   "metadata": {},
   "outputs": [
    {
     "data": {
      "text/plain": [
       "[None, None, None, None, None, None]"
      ]
     },
     "execution_count": 49,
     "metadata": {},
     "output_type": "execute_result"
    },
    {
     "data": {
      "image/png": "[encoded data removed]",
      "text/plain": [
       "<Figure size 432x288 with 1 Axes>"
      ]
     },
     "metadata": {
      "needs_background": "light"
     },
     "output_type": "display_data"
    }
   ],
   "source": [
    "data=data_grouped\n",
    "N = 3\n",
    "\n",
    "ind = np.arange(N) \n",
    "values=[]\n",
    "\n",
    "# some example data\n",
    "\n",
    "#Asian=[int(i[2][\"Asian\"]) for i in data]\n",
    "Black=[int(i[2][\"Black or African American\"]) for i in data]\n",
    "#Hispanic=[int(i[2][\"Hispanic/Latinx\"]) for i in data]\n",
    "#Indigenous=[int(i[2][\"Indigenous American or Alaska Native\"]) for i in data]\n",
    "White=[int(i[2][\"White\"]) for i in data]\n",
    "#Two=[int(i[2][\"Two or More Races\"])for i in data]\n",
    "race_list_numbers=[Black, White]\n",
    "    \n",
    "#Asian = np.array(Asian)\n",
    "Black = np.array(Black)\n",
    "#Hispanic = np.array(Hispanic)\n",
    "#Indigenous = np.array(Indigenous)\n",
    "White = np.array(White)\n",
    "#Two = np.array(Two)\n",
    "#race_list=[Asian, Black, Hispanic, Indigenous, White, Two]\n",
    "\n",
    "#formatted=[[racelist[i] for j in range(10)] for i in range(6)]\n",
    "\n",
    "labels=[x[0] for x in data]\n",
    "x = range(len(values))\n",
    "\n",
    "\n",
    "# and plot it\n",
    "fig, ax = pyplot.subplots()\n",
    "#ax.bar(ind+1/12, Asian, 1/6, color=\"b\", label=\"Asian\")\n",
    "ax.bar(ind+3/12, Black, 1/6, color=\"black\", label= \"Black or African American\")\n",
    "#ax.bar(ind+5/12, Hispanic, 1/6, color=\"r\", label= \"Hispanic/Latinx\")\n",
    "#ax.bar(ind+7/12, Indigenous, 1/6, color=\"orange\", label= \"Indigenous American or Alaska Native\")\n",
    "ax.bar(ind+9/12, White, 1/6, color=\"yellow\", label= \"White\")\n",
    "#ax.bar(ind+11/12, Two, 1/6, color=\"c\", label= \"Two or More Races\")\n",
    "ax.set_xticks(ind)\n",
    "ax.set_xticklabels([x[0] for x in data])\n",
    "ax.set_title('Total Number of Interviews In Category In Harass* Subcorpora by Race')\n",
    "ax.set_ylabel('Number of Interviews')\n",
    "pyplot.legend()\n",
    "pyplot.setp(ax.get_xticklabels(), rotation=30, horizontalalignment='right')"
   ]
  },
  {
   "cell_type": "code",
   "execution_count": 50,
   "metadata": {},
   "outputs": [],
   "source": [
    "race_list[0]+=race_list_numbers[0]\n",
    "race_list[0].append(total[\"Black or African American\"])\n",
    "race_list[1]+=race_list_numbers[1]\n",
    "race_list[1].append(total[\"White\"])\n"
   ]
  },
  {
   "cell_type": "code",
   "execution_count": 51,
   "metadata": {},
   "outputs": [
    {
     "data": {
      "text/html": [
       "<div>\n",
       "<style scoped>\n",
       "    .dataframe tbody tr th:only-of-type {\n",
       "        vertical-align: middle;\n",
       "    }\n",
       "\n",
       "    .dataframe tbody tr th {\n",
       "        vertical-align: top;\n",
       "    }\n",
       "\n",
       "    .dataframe thead th {\n",
       "        text-align: right;\n",
       "    }\n",
       "</style>\n",
       "<table border=\"1\" class=\"dataframe\">\n",
       "  <thead>\n",
       "    <tr style=\"text-align: right;\">\n",
       "      <th></th>\n",
       "      <th>Percentage of Interviews Containing Sexual Harassment</th>\n",
       "      <th>Percentage of Interviews Containing Police Harassment</th>\n",
       "      <th>Percentage of Interviews Containing Racial Harassment</th>\n",
       "      <th>Total Number of Interviews Containing Sexual Harassment</th>\n",
       "      <th>Total Number of Interviews Containing Police or Law Enforcement Harassment</th>\n",
       "      <th>Total Number of Interviews Containing Racial Harassment</th>\n",
       "      <th>Total Number of Interviws in Subcorpora</th>\n",
       "    </tr>\n",
       "  </thead>\n",
       "  <tbody>\n",
       "    <tr>\n",
       "      <th>Black</th>\n",
       "      <td>35</td>\n",
       "      <td>14</td>\n",
       "      <td>35</td>\n",
       "      <td>38</td>\n",
       "      <td>16</td>\n",
       "      <td>38</td>\n",
       "      <td>108</td>\n",
       "    </tr>\n",
       "    <tr>\n",
       "      <th>White</th>\n",
       "      <td>73</td>\n",
       "      <td>3</td>\n",
       "      <td>5</td>\n",
       "      <td>59</td>\n",
       "      <td>3</td>\n",
       "      <td>4</td>\n",
       "      <td>80</td>\n",
       "    </tr>\n",
       "  </tbody>\n",
       "</table>\n",
       "</div>"
      ],
      "text/plain": [
       "       Percentage of Interviews Containing Sexual Harassment  \\\n",
       "Black                                                 35       \n",
       "White                                                 73       \n",
       "\n",
       "       Percentage of Interviews Containing Police Harassment  \\\n",
       "Black                                                 14       \n",
       "White                                                  3       \n",
       "\n",
       "       Percentage of Interviews Containing Racial Harassment  \\\n",
       "Black                                                 35       \n",
       "White                                                  5       \n",
       "\n",
       "       Total Number of Interviews Containing Sexual Harassment  \\\n",
       "Black                                                 38         \n",
       "White                                                 59         \n",
       "\n",
       "       Total Number of Interviews Containing Police or Law Enforcement Harassment  \\\n",
       "Black                                                 16                            \n",
       "White                                                  3                            \n",
       "\n",
       "       Total Number of Interviews Containing Racial Harassment  \\\n",
       "Black                                                 38         \n",
       "White                                                  4         \n",
       "\n",
       "       Total Number of Interviws in Subcorpora  \n",
       "Black                                      108  \n",
       "White                                       80  "
      ]
     },
     "metadata": {},
     "output_type": "display_data"
    }
   ],
   "source": [
    "race_data=pandas.DataFrame(race_list, columns=[\"Percentage of Interviews Containing Sexual Harassment\", \"Percentage of Interviews Containing Police Harassment\", \"Percentage of Interviews Containing Racial Harassment\", \"Total Number of Interviews Containing Sexual Harassment\", \"Total Number of Interviews Containing Police or Law Enforcement Harassment\", \"Total Number of Interviews Containing Racial Harassment\", \"Total Number of Interviws in Subcorpora\"], index=[\"Black\", \"White\",])\n",
    "display(race_data)"
   ]
  },
  {
   "cell_type": "code",
   "execution_count": 52,
   "metadata": {},
   "outputs": [],
   "source": [
    "total=defaultdict(lambda:0)\n",
    "for i in range(len(files)):\n",
    "    for idnum in text_to_ids[files.loc[i, \"Name\"]][\"id\"]:\n",
    "        total[database[idnum][\"\\ufeffbirth_decade\"]]+=1\n",
    "\n",
    "for cat in data:\n",
    "    values=defaultdict(lambda:0)\n",
    "    for i in cat[1]:\n",
    "        for idnum in text_to_ids[i][\"id\"]:\n",
    "            values[database[idnum][\"\\ufeffbirth_decade\"]]+=1\n",
    "    cat.append(values)"
   ]
  },
  {
   "cell_type": "code",
   "execution_count": 53,
   "metadata": {},
   "outputs": [],
   "source": [
    "formatted=[]\n",
    "for cat in data_grouped:\n",
    "    birth_seperated_list=[]\n",
    "    for x in range(1890, 1990, 10):\n",
    "        birth_seperated_list.append(int(100*cat[2][str(x)]/total[str(x)]))\n",
    "        #birth_seperated_list.append(0)\n",
    "    formatted.append(birth_seperated_list)"
   ]
  },
  {
   "cell_type": "code",
   "execution_count": 54,
   "metadata": {},
   "outputs": [
    {
     "data": {
      "text/plain": [
       "[None, None, None, None, None, None]"
      ]
     },
     "execution_count": 54,
     "metadata": {},
     "output_type": "execute_result"
    },
    {
     "data": {
      "image/png": "[encoded data removed]",
      "text/plain": [
       "<Figure size 432x288 with 1 Axes>"
      ]
     },
     "metadata": {
      "needs_background": "light"
     },
     "output_type": "display_data"
    }
   ],
   "source": [
    "data=data_grouped\n",
    "N = 3\n",
    "\n",
    "ind = np.arange(N) \n",
    "values=[]\n",
    "\n",
    "# some example data\n",
    "\n",
    "data_list= [[int(i[3][str(j)]*100/total[str(j)]) for i in data]for j in range(1890, 1990, 10)]\n",
    "    \n",
    "\n",
    "data_list=[np.array(i) for i in data_list]\n",
    "\n",
    "\n",
    "#formatted=[[racelist[i] for j in range(10)] for i in range(6)]\n",
    "\n",
    "labels=[x[0] for x in data]\n",
    "x = range(len(values))\n",
    "K=10\n",
    "\n",
    "# and plot it\n",
    "fig, ax = pyplot.subplots()\n",
    "ax.bar(ind+1/(2*K), data_list[0], 1/K, color=\"b\", label=\"1890\")\n",
    "ax.bar(ind+3/(2*K), data_list[1], 1/K, color=\"black\", label= \"1900\")\n",
    "ax.bar(ind+5/(2*K), data_list[2], 1/K, color=\"r\", label= \"1910\")\n",
    "ax.bar(ind+7/(2*K), data_list[3], 1/K, color=\"orange\", label= \"1920\")\n",
    "ax.bar(ind+9/(2*K), data_list[4], 1/K, color=\"yellow\", label= \"1930\")\n",
    "ax.bar(ind+11/(2*K), data_list[5], 1/K, color=\"c\", label= \"1940\")\n",
    "ax.bar(ind+13/(2*K), data_list[6], 1/K, color=\"purple\", label=\"1950\")\n",
    "ax.bar(ind+15/(2*K), data_list[7], 1/K, color=\"m\", label= \"1960\")\n",
    "ax.bar(ind+17/(2*K), data_list[8], 1/K, color=\"g\", label= \"1970\")\n",
    "ax.bar(ind+19/(2*K), data_list[9], 1/K, color=\"pink\", label= \"1980\")\n",
    "ax.set_xticks(ind)\n",
    "ax.set_xticklabels(labels)\n",
    "ax.set_title('Percent of Interviews In Category In Harass* Subcorpora by birth decade')\n",
    "ax.set_ylabel('Percent of Interviews')\n",
    "pyplot.legend()\n",
    "pyplot.setp(ax.get_xticklabels(), rotation=30, horizontalalignment='right')"
   ]
  },
  {
   "cell_type": "code",
   "execution_count": 55,
   "metadata": {},
   "outputs": [
    {
     "data": {
      "text/html": [
       "<div>\n",
       "<style scoped>\n",
       "    .dataframe tbody tr th:only-of-type {\n",
       "        vertical-align: middle;\n",
       "    }\n",
       "\n",
       "    .dataframe tbody tr th {\n",
       "        vertical-align: top;\n",
       "    }\n",
       "\n",
       "    .dataframe thead th {\n",
       "        text-align: right;\n",
       "    }\n",
       "</style>\n",
       "<table border=\"1\" class=\"dataframe\">\n",
       "  <thead>\n",
       "    <tr style=\"text-align: right;\">\n",
       "      <th></th>\n",
       "      <th>Sexual Harassment</th>\n",
       "      <th>Police or Law Enforcement Harassment</th>\n",
       "      <th>Racial Harassment</th>\n",
       "    </tr>\n",
       "  </thead>\n",
       "  <tbody>\n",
       "    <tr>\n",
       "      <th>1890</th>\n",
       "      <td>0</td>\n",
       "      <td>0</td>\n",
       "      <td>33</td>\n",
       "    </tr>\n",
       "    <tr>\n",
       "      <th>1900</th>\n",
       "      <td>40</td>\n",
       "      <td>0</td>\n",
       "      <td>0</td>\n",
       "    </tr>\n",
       "    <tr>\n",
       "      <th>1910</th>\n",
       "      <td>54</td>\n",
       "      <td>27</td>\n",
       "      <td>36</td>\n",
       "    </tr>\n",
       "    <tr>\n",
       "      <th>1920</th>\n",
       "      <td>70</td>\n",
       "      <td>5</td>\n",
       "      <td>5</td>\n",
       "    </tr>\n",
       "    <tr>\n",
       "      <th>1930</th>\n",
       "      <td>53</td>\n",
       "      <td>3</td>\n",
       "      <td>10</td>\n",
       "    </tr>\n",
       "    <tr>\n",
       "      <th>1940</th>\n",
       "      <td>53</td>\n",
       "      <td>13</td>\n",
       "      <td>27</td>\n",
       "    </tr>\n",
       "    <tr>\n",
       "      <th>1950</th>\n",
       "      <td>52</td>\n",
       "      <td>11</td>\n",
       "      <td>26</td>\n",
       "    </tr>\n",
       "    <tr>\n",
       "      <th>1960</th>\n",
       "      <td>50</td>\n",
       "      <td>0</td>\n",
       "      <td>25</td>\n",
       "    </tr>\n",
       "    <tr>\n",
       "      <th>1970</th>\n",
       "      <td>50</td>\n",
       "      <td>0</td>\n",
       "      <td>0</td>\n",
       "    </tr>\n",
       "    <tr>\n",
       "      <th>1980</th>\n",
       "      <td>50</td>\n",
       "      <td>50</td>\n",
       "      <td>75</td>\n",
       "    </tr>\n",
       "  </tbody>\n",
       "</table>\n",
       "</div>"
      ],
      "text/plain": [
       "      Sexual Harassment  Police or Law Enforcement Harassment  \\\n",
       "1890                  0                                     0   \n",
       "1900                 40                                     0   \n",
       "1910                 54                                    27   \n",
       "1920                 70                                     5   \n",
       "1930                 53                                     3   \n",
       "1940                 53                                    13   \n",
       "1950                 52                                    11   \n",
       "1960                 50                                     0   \n",
       "1970                 50                                     0   \n",
       "1980                 50                                    50   \n",
       "\n",
       "      Racial Harassment  \n",
       "1890                 33  \n",
       "1900                  0  \n",
       "1910                 36  \n",
       "1920                  5  \n",
       "1930                 10  \n",
       "1940                 27  \n",
       "1950                 26  \n",
       "1960                 25  \n",
       "1970                  0  \n",
       "1980                 75  "
      ]
     },
     "metadata": {},
     "output_type": "display_data"
    }
   ],
   "source": [
    "birth_data=pandas.DataFrame(data_list, columns=[x[0] for x in data], index=range(1890, 1990, 10))\n",
    "display(birth_data)"
   ]
  },
  {
   "cell_type": "code",
   "execution_count": 72,
   "metadata": {},
   "outputs": [
    {
     "name": "stdout",
     "output_type": "stream",
     "text": [
      "defaultdict(<function <lambda> at 0x7f9cbff89040>, {'1900': 5, '1890': 3, '1910': 11, '1930': 30, '1940': 69, '1920': 20, '1960': 16, '1980': 4, '1950': 34, '1970': 6, '': 1, 1890: 0, 1900: 0})\n"
     ]
    }
   ],
   "source": [
    "print(total)"
   ]
  },
  {
   "cell_type": "code",
   "execution_count": 73,
   "metadata": {},
   "outputs": [
    {
     "name": "stdout",
     "output_type": "stream",
     "text": [
      "[[0, 2, 6, 14, 16, 37, 18, 8, 3, 2], [0, 0, 3, 1, 1, 9, 4, 0, 0, 2], [1, 0, 4, 1, 3, 19, 9, 4, 0, 3]]\n"
     ]
    }
   ],
   "source": [
    "formatted=[]\n",
    "for cat in data:\n",
    "\n",
    "    birth_decade_seperated_list=[]\n",
    "    for x in range(1890, 1990, 10):\n",
    "        birth_decade_seperated_list.append(cat[3][str(x)])\n",
    "    formatted.append(birth_decade_seperated_list)\n",
    "print(formatted)"
   ]
  },
  {
   "cell_type": "code",
   "execution_count": 74,
   "metadata": {},
   "outputs": [
    {
     "name": "stdout",
     "output_type": "stream",
     "text": [
      "[[25, 64, 53, 52, 50], [0, 12, 10, 8, 20], [12, 16, 22, 26, 30]]\n"
     ]
    }
   ],
   "source": [
    "temp=[]\n",
    "for a in formatted:\n",
    "    temp.append([a[i]+a[i+1] for i in range(0,len(a),2)])\n",
    "formatted=temp\n",
    "temp=[]\n",
    "for a in range(len(formatted)):\n",
    "    temp.append([])\n",
    "    for i in range(len(formatted[a])):\n",
    "        temp[a].append(int(formatted[a][i]*100/(total[str(1890+i*20)]+ total[str(1900+i*20)])))\n",
    "formatted=temp\n",
    "print(formatted)"
   ]
  },
  {
   "cell_type": "code",
   "execution_count": 93,
   "metadata": {},
   "outputs": [
    {
     "data": {
      "text/plain": [
       "[None, None, None, None, None, None, None, None, None, None]"
      ]
     },
     "execution_count": 93,
     "metadata": {},
     "output_type": "execute_result"
    },
    {
     "data": {
      "image/png": "[encoded data removed]",
      "text/plain": [
       "<Figure size 432x288 with 1 Axes>"
      ]
     },
     "metadata": {
      "needs_background": "light"
     },
     "output_type": "display_data"
    }
   ],
   "source": [
    "N = 5\n",
    "\n",
    "ind = np.arange(N) \n",
    "values=[]\n",
    "\n",
    "# some example data\n",
    "\n",
    "data_list= formatted\n",
    "    \n",
    "\n",
    "data_list=[np.array(i) for i in data_list]\n",
    "\n",
    "\n",
    "#formatted=[[racelist[i] for j in range(10)] for i in range(6)]\n",
    "\n",
    "labels=[str(i)+\"-\"+str(i+19) for i in range(1890, 1990, 20)]\n",
    "x = range(len(values))\n",
    "K=3\n",
    "\n",
    "# and plot it\n",
    "fig, ax = pyplot.subplots()\n",
    "ax.bar(ind+1/(2*K), data_list[0], 1/K-.1, color=\"b\", label=\"Sexual Harassment\")\n",
    "ax.bar(ind+3/(2*K), data_list[1], 1/K-.1, color=\"black\", label= \"Police\")\n",
    "ax.bar(ind+5/(2*K), data_list[2], 1/K-.1, color=\"r\", label= \"Racial\")\n",
    "\n",
    "ax.set_xticks(ind)\n",
    "ax.set_xticklabels(labels)\n",
    "ax.set_title('Percent of Interviews In Harass* Subcorpora by Type of Usage and Birth Cohort')\n",
    "ax.set_ylabel('Percent of Interviews')\n",
    "pyplot.legend()\n",
    "pyplot.setp(ax.get_xticklabels(), rotation=30, horizontalalignment='right')"
   ]
  },
  {
   "cell_type": "code",
   "execution_count": 94,
   "metadata": {},
   "outputs": [
    {
     "name": "stdout",
     "output_type": "stream",
     "text": [
      "[[2, 20, 53, 26, 5], [0, 4, 10, 4, 2], [1, 5, 22, 13, 3]]\n"
     ]
    }
   ],
   "source": [
    "numbers=[]\n",
    "for cat in data:\n",
    "    birth_decade_seperated_list=[]\n",
    "    for x in range(1890, 1990, 20):\n",
    "        birth_decade_seperated_list.append(cat[3][str(x)]+cat[3][str(x+10)])\n",
    "    numbers.append(birth_decade_seperated_list)\n",
    "print(numbers)"
   ]
  },
  {
   "cell_type": "code",
   "execution_count": 97,
   "metadata": {},
   "outputs": [],
   "source": [
    "numbers.append([total[str(x)]+total[str(x+10)] for x in range(1890, 1990, 20) ])"
   ]
  },
  {
   "cell_type": "code",
   "execution_count": 102,
   "metadata": {},
   "outputs": [],
   "source": [
    "rows=[\"Percentage Containing Sexual Harassment\", \"Percentage Containing Police Harassment\", \"Percentage Containing Racial Harassment\", \"Number Containing Sexual Harassment\", \"Number Containing Police Harassment\", \"Number Containing Racial Harassment\",\"Total\"]"
   ]
  },
  {
   "cell_type": "code",
   "execution_count": 103,
   "metadata": {},
   "outputs": [
    {
     "data": {
      "text/html": [
       "<div>\n",
       "<style scoped>\n",
       "    .dataframe tbody tr th:only-of-type {\n",
       "        vertical-align: middle;\n",
       "    }\n",
       "\n",
       "    .dataframe tbody tr th {\n",
       "        vertical-align: top;\n",
       "    }\n",
       "\n",
       "    .dataframe thead th {\n",
       "        text-align: right;\n",
       "    }\n",
       "</style>\n",
       "<table border=\"1\" class=\"dataframe\">\n",
       "  <thead>\n",
       "    <tr style=\"text-align: right;\">\n",
       "      <th></th>\n",
       "      <th>1890-1909</th>\n",
       "      <th>1910-1929</th>\n",
       "      <th>1930-1949</th>\n",
       "      <th>1950-1969</th>\n",
       "      <th>1970-1989</th>\n",
       "    </tr>\n",
       "  </thead>\n",
       "  <tbody>\n",
       "    <tr>\n",
       "      <th>Percentage Containing Sexual Harassment</th>\n",
       "      <td>25</td>\n",
       "      <td>64</td>\n",
       "      <td>53</td>\n",
       "      <td>52</td>\n",
       "      <td>50</td>\n",
       "    </tr>\n",
       "    <tr>\n",
       "      <th>Percentage Containing Police Harassment</th>\n",
       "      <td>0</td>\n",
       "      <td>12</td>\n",
       "      <td>10</td>\n",
       "      <td>8</td>\n",
       "      <td>20</td>\n",
       "    </tr>\n",
       "    <tr>\n",
       "      <th>Percentage Containing Racial Harassment</th>\n",
       "      <td>12</td>\n",
       "      <td>16</td>\n",
       "      <td>22</td>\n",
       "      <td>26</td>\n",
       "      <td>30</td>\n",
       "    </tr>\n",
       "    <tr>\n",
       "      <th>Number Containing Sexual Harassment</th>\n",
       "      <td>2</td>\n",
       "      <td>20</td>\n",
       "      <td>53</td>\n",
       "      <td>26</td>\n",
       "      <td>5</td>\n",
       "    </tr>\n",
       "    <tr>\n",
       "      <th>Number Containing Police Harassment</th>\n",
       "      <td>0</td>\n",
       "      <td>4</td>\n",
       "      <td>10</td>\n",
       "      <td>4</td>\n",
       "      <td>2</td>\n",
       "    </tr>\n",
       "    <tr>\n",
       "      <th>Number Containing Racial Harassment</th>\n",
       "      <td>1</td>\n",
       "      <td>5</td>\n",
       "      <td>22</td>\n",
       "      <td>13</td>\n",
       "      <td>3</td>\n",
       "    </tr>\n",
       "    <tr>\n",
       "      <th>Total</th>\n",
       "      <td>8</td>\n",
       "      <td>31</td>\n",
       "      <td>99</td>\n",
       "      <td>50</td>\n",
       "      <td>10</td>\n",
       "    </tr>\n",
       "  </tbody>\n",
       "</table>\n",
       "</div>"
      ],
      "text/plain": [
       "                                         1890-1909  1910-1929  1930-1949  \\\n",
       "Percentage Containing Sexual Harassment         25         64         53   \n",
       "Percentage Containing Police Harassment          0         12         10   \n",
       "Percentage Containing Racial Harassment         12         16         22   \n",
       "Number Containing Sexual Harassment              2         20         53   \n",
       "Number Containing Police Harassment              0          4         10   \n",
       "Number Containing Racial Harassment              1          5         22   \n",
       "Total                                            8         31         99   \n",
       "\n",
       "                                         1950-1969  1970-1989  \n",
       "Percentage Containing Sexual Harassment         52         50  \n",
       "Percentage Containing Police Harassment          8         20  \n",
       "Percentage Containing Racial Harassment         26         30  \n",
       "Number Containing Sexual Harassment             26          5  \n",
       "Number Containing Police Harassment              4          2  \n",
       "Number Containing Racial Harassment             13          3  \n",
       "Total                                           50         10  "
      ]
     },
     "metadata": {},
     "output_type": "display_data"
    }
   ],
   "source": [
    "birth_data=pandas.DataFrame(formatted+numbers, columns= [str(i)+\"-\"+str(i+19) for i in range(1890, 1990, 20)],index=rows )\n",
    "display(birth_data)"
   ]
  },
  {
   "cell_type": "code",
   "execution_count": null,
   "metadata": {},
   "outputs": [],
   "source": []
  },
  {
   "cell_type": "code",
   "execution_count": null,
   "metadata": {},
   "outputs": [],
   "source": []
  },
  {
   "cell_type": "code",
   "execution_count": null,
   "metadata": {},
   "outputs": [],
   "source": []
  },
  {
   "cell_type": "code",
   "execution_count": 104,
   "metadata": {},
   "outputs": [],
   "source": [
    "for cat in data_grouped:\n",
    "    values=defaultdict(lambda:0)\n",
    "    for i in cat[1]:\n",
    "        for idnum in text_to_ids[i][\"id\"]:\n",
    "            values[database[idnum][\"\\ufeffbirth_decade\"]]+=1\n",
    "    cat.append(values)"
   ]
  },
  {
   "cell_type": "code",
   "execution_count": 105,
   "metadata": {},
   "outputs": [
    {
     "name": "stdout",
     "output_type": "stream",
     "text": [
      "[['Sexual Harassment', {'HM_Ransby_Barbara', 'HM_Lewis_Tina', 'RTRB_Gee_Maggie_1', 'HM_Ciara_Barbara', 'HM_Johnson_Malvyn', 'SHSA_Tracy_Else', 'UNCTWMS_Evans_Sara_M_(Sara_Margaret)', 'HM_Pratt_Sharon', 'RTRB_Samson_Betty', 'SCAP_LaBarbera_Jen', 'OWHF_Ross_Cindy', 'WOL_Collins_Jan', 'BWSP_Fairchild_Joyce', 'HM_Stewart_Stacey', 'UNCTWMS_Bell_Brenda', 'HM_Ferguson_Renee', 'SCVF_Nussbaum_Karen', 'UNCTWMS_Rollins_Sheryl_Clark', 'BWSP_Gardner_Martha', 'BWSP_Mahdesian_Linda', 'SCAP_Callahan_Kara', 'SCVF_Berek_Judy', 'HM_Ebert_Chaz', 'HM_Ross_Sonya', 'SOOH_Shepherd_Marie', 'OOHYLC_Messenger_Dorothy', 'HM_Cost_Monica', 'SHSF_Strober_Myra', 'SCAL_Pogrebin_LettyCottin', 'BWSP_Mikuriya_Mary', 'SCAL_Shelton_Christine', 'HM_Miller-Perry_Rosetta', 'BWSP_Richardson_Joyce', 'HM_Grant_Jacquelyn', 'HM_Moore_Geraldine', 'BWSP_Black_Lois', 'OWHF_Martin_Kay', 'UNCTWMS_Barrett_Lida_Kittrell', 'UNCTWMS_Waldvogel_Merikay', 'OWHF_Rhea_Jeanine', 'BWSP_Morse_Charlotte', 'RTRB_Tidmore_Roberta', 'HM_Langford_Anna', 'RTRB_Wikelund_Jospehine', 'BWSP_Hopkins-Stapleton_Doris', 'HM_Watson_Diane', 'SCAARJ_Zia_Helen', 'HM_Cooper_Maudine', 'SCVF_Steinem_Gloria', 'HM_Middlebrooks_Felicia', 'HM_Shange_Ntozake', 'UNCTWMS_Mashburn_Lillian_Tauxe', 'SHSF_Kraemer_Helena', 'RTRB_Pursley_Marilyn', 'SCAL_Pollet_Tiik', 'ROHA_Kramer_Barbara', 'HM_Biggins_J.', 'HM_Williams_Elynor', 'UNCTWMS_Fuchs_Laurie', 'SCAARJ_Choi_Cynthia', 'UNCTWMS_Rostan_June', 'RTRB_Cook_Peggy', 'UNCTWMS_Marshall_Senseney', 'UNCTWMS_Nickle_Carol', 'BWSP_Weed_Elizabeth', 'WOL_Coleman_Carolyn', 'SHSF_Chu_Jean', 'UNCTWMS_Sobieski_Wanda_2', 'UNCTWMS_Mays_Mary_Katherine', 'HM_Rogers_Desiree', 'SCVF_Miller_Geraldine', 'UNCTWMS_Byrd_Erin_Dale', 'UNCTWMS_Giardina_Carol', 'RTRB_DeCory_Emily', 'UNCTWMS_Kurth_Suzanne_B_(Suzanne_Beth)', 'UNCTWMS_Ray_Gloria', 'BWSP_Miller_Kristie', 'SHSF_Miner_Anne', 'SHSF_Martin_Joanne', 'HM_Britt_Donna', 'HM_Williams_Jamye', 'SHSF_Jacobs_Charlotte', 'HM_Wilcher_Shirley', 'UNCTWMS_Begalla_Martha', 'UNCTWMS_Lester_Lorayne', 'HM_Adams_Carol', 'HM_Elam_Deborah', 'ROHA_Drelich_Pearl', 'HM_Pool-Eckert_Marquita', 'BWSP_Palmer_Alison', 'HM_Edwards_Audrey', 'UNCTWMS_Scott_Nan', 'HM_Bundles_A_Lelia', 'SCAARJ_Chum_Sophya', 'RTRB_August_Helen', 'SCAP_Jimenez_Ileana', 'HM_Slade_Karen', 'HM_Martin_Sylvia', 'SHSF_Mahoney_Sally', 'UNCTWMS_Barrett_Margaret_Bowers', 'ROHA_Archibald_Alice', 'BWSP_Moss_Beverly', 'HM_Lillie_Charisse', 'SHSF_Maccoby_Eleanor', 'UNCGAS_Allen_Jan', 'SCVF_Toure_Nkenge'}, defaultdict(<function <lambda> at 0x7f9cc01558b0>, {'Black or African American': 38, 'Asian': 5, 'White': 59, 'Two or More Races': 2, 'Indigenous American or Alaska Native': 1, 'Hispanic/Latinx': 1, '1890': 0, '1900': 0, '1910': 0, '1920': 0, '1930': 0, '1940': 0, '1950': 0, '1960': 0, '1970': 0, '1980': 0}), defaultdict(<function <lambda> at 0x7f9cbff89670>, {'1950': 18, '1940': 37, '1920': 14, '1930': 16, '1980': 2, '1960': 8, '1910': 6, '1970': 3, '1900': 2, '1890': 0}), defaultdict(<function <lambda> at 0x7f9cbffeb040>, {'1950': 18, '1940': 37, '1920': 14, '1930': 16, '1980': 2, '1960': 8, '1910': 6, '1970': 3, '1900': 2})], ['Police or Law Enforcement Harassment', {'BWOH_Parks_Rosa', 'HM_Shaw_Sarah-Ann', 'BWOH_Height_Dorothy', 'HM_Baskerville_Lezli', 'WOL_McIntyre_Judy_Eason', 'HM_Billops_Camille', 'HM_Flowers_Mary', 'UNCSW_McGill_Eula_3', 'SCAARJ_Chum_Sophya', 'SHSA_Gartrell_Nanette', 'HM_Lawson_Jennifer', 'HM_Huntley_Lynn', 'HM_Payne_Scherrie', 'HM_Estes_Sidmel', 'SCAARJ_Mingus_Mia', 'HM_Davis_Carrie', 'HM_Roxborough_Mildred', 'SCAL_Pollet_Tiik', 'HM_Sales_Ruby', 'HM_Webb_Wilma', 'SCVF_Kramer_Marian'}, defaultdict(<function <lambda> at 0x7f9cbffadc10>, {'Black or African American': 16, 'White': 3, 'Asian': 2, '1890': 0, '1900': 0, '1910': 0, '1920': 0, '1930': 0, '1940': 0, '1950': 0, '1960': 0, '1970': 0, '1980': 0}), defaultdict(<function <lambda> at 0x7f9cbff89ee0>, {'1910': 3, '': 1, '1950': 4, '1940': 9, '1930': 1, '1980': 2, '1920': 1, '1890': 0, '1900': 0, '1960': 0, '1970': 0}), defaultdict(<function <lambda> at 0x7f9cc2094790>, {'1910': 3, '': 1, '1950': 4, '1940': 9, '1930': 1, '1980': 2, '1920': 1})], ['Racial Harassment', {'BWOH_Parks_Rosa', 'HM_Ladner_Joyce', 'HM_Wilcher_Shirley', 'HM_Davis_Michaela', 'HM_Jackson_Teri', 'HM_Gray_Joan', 'HM_Randall_Marlene', 'HM_Shaw_Sarah-Ann', 'HM_Adams_Carol', 'BWOH_Height_Dorothy', 'BWOH_Mitchell_Lucy', 'HM_Baskerville_Lezli', 'HM_Cafritz_Peggy', 'HM_Hughley_Stephanie', 'HM_Roberts_Allene', 'HM_Shipp_E.', 'HM_Hicks_Phyllis', 'HM_Jackson_Valerie', 'SCVF_Kramer_Marian', 'HM_Malveaux_Antoinette', 'HM_Randall_Alice', 'HM_Sturdivant_Marcia', 'HM_Billops_Camille', 'HM_Fry_Rita', 'SCVF_Stout_Linda', 'HM_Flowers_Mary', 'UNCSW_McGill_Eula_3', 'HM_Boone_Jean', 'HM_Webb_Wilma', 'SCAARJ_Chum_Sophya', 'HM_Huntley_Lynn', 'HM_Cooper_Maudine', 'ROHA_Hunter_Nan', 'HM_Randall_Vernellia', 'BWSP_Mahdesian_Linda', 'HM_Robinson_Amelia', 'HM_Okpodu_Camellia', 'HM_Griesinger_Nancy', 'BWSP_Kay_Sarah', 'SCAARJ_Mingus_Mia', 'HM_Roxborough_Mildred', 'HM_Sales_Ruby', 'HM_Pindell_Howardena', 'HM_Davis_Carrie', 'HM_Wilson_Lucy'}, defaultdict(<function <lambda> at 0x7f9cbf771ca0>, {'Black or African American': 38, 'White': 4, 'Asian': 2, 'Two or More Races': 1, '1890': 0, '1900': 0, '1910': 0, '1920': 0, '1930': 0, '1940': 0, '1950': 0, '1960': 0, '1970': 0, '1980': 0}), defaultdict(<function <lambda> at 0x7f9cbff894c0>, {'1910': 4, '1940': 19, '1950': 9, '1960': 4, '1930': 3, '': 1, '1890': 1, '1980': 3, '1920': 1, '1900': 0, '1970': 0}), defaultdict(<function <lambda> at 0x7f9cc0155c10>, {'1910': 4, '1940': 19, '1950': 9, '1960': 4, '1930': 3, '': 1, '1890': 1, '1980': 3, '1920': 1})]]\n"
     ]
    }
   ],
   "source": [
    "print(data_grouped)"
   ]
  },
  {
   "cell_type": "code",
   "execution_count": 106,
   "metadata": {},
   "outputs": [
    {
     "ename": "ValueError",
     "evalue": "shape mismatch: objects cannot be broadcast to a single shape",
     "output_type": "error",
     "traceback": [
      "\u001b[0;31m---------------------------------------------------------------------------\u001b[0m",
      "\u001b[0;31mValueError\u001b[0m                                Traceback (most recent call last)",
      "\u001b[0;32m<ipython-input-106-5a41dd925264>\u001b[0m in \u001b[0;36m<module>\u001b[0;34m\u001b[0m\n\u001b[1;32m     21\u001b[0m \u001b[0;31m# and plot it\u001b[0m\u001b[0;34m\u001b[0m\u001b[0;34m\u001b[0m\u001b[0;34m\u001b[0m\u001b[0m\n\u001b[1;32m     22\u001b[0m \u001b[0mfig\u001b[0m\u001b[0;34m,\u001b[0m \u001b[0max\u001b[0m \u001b[0;34m=\u001b[0m \u001b[0mpyplot\u001b[0m\u001b[0;34m.\u001b[0m\u001b[0msubplots\u001b[0m\u001b[0;34m(\u001b[0m\u001b[0;34m)\u001b[0m\u001b[0;34m\u001b[0m\u001b[0;34m\u001b[0m\u001b[0m\n\u001b[0;32m---> 23\u001b[0;31m \u001b[0max\u001b[0m\u001b[0;34m.\u001b[0m\u001b[0mbar\u001b[0m\u001b[0;34m(\u001b[0m\u001b[0mind\u001b[0m\u001b[0;34m+\u001b[0m\u001b[0;36m1\u001b[0m\u001b[0;34m/\u001b[0m\u001b[0;34m(\u001b[0m\u001b[0;36m2\u001b[0m\u001b[0;34m*\u001b[0m\u001b[0mK\u001b[0m\u001b[0;34m)\u001b[0m\u001b[0;34m,\u001b[0m \u001b[0mdata_list\u001b[0m\u001b[0;34m[\u001b[0m\u001b[0;36m0\u001b[0m\u001b[0;34m]\u001b[0m\u001b[0;34m,\u001b[0m \u001b[0;36m1\u001b[0m\u001b[0;34m/\u001b[0m\u001b[0mK\u001b[0m\u001b[0;34m,\u001b[0m \u001b[0mcolor\u001b[0m\u001b[0;34m=\u001b[0m\u001b[0;34m\"b\"\u001b[0m\u001b[0;34m,\u001b[0m \u001b[0mlabel\u001b[0m\u001b[0;34m=\u001b[0m\u001b[0;34m\"1890\"\u001b[0m\u001b[0;34m)\u001b[0m\u001b[0;34m\u001b[0m\u001b[0;34m\u001b[0m\u001b[0m\n\u001b[0m\u001b[1;32m     24\u001b[0m \u001b[0max\u001b[0m\u001b[0;34m.\u001b[0m\u001b[0mbar\u001b[0m\u001b[0;34m(\u001b[0m\u001b[0mind\u001b[0m\u001b[0;34m+\u001b[0m\u001b[0;36m3\u001b[0m\u001b[0;34m/\u001b[0m\u001b[0;34m(\u001b[0m\u001b[0;36m2\u001b[0m\u001b[0;34m*\u001b[0m\u001b[0mK\u001b[0m\u001b[0;34m)\u001b[0m\u001b[0;34m,\u001b[0m \u001b[0mdata_list\u001b[0m\u001b[0;34m[\u001b[0m\u001b[0;36m1\u001b[0m\u001b[0;34m]\u001b[0m\u001b[0;34m,\u001b[0m \u001b[0;36m1\u001b[0m\u001b[0;34m/\u001b[0m\u001b[0mK\u001b[0m\u001b[0;34m,\u001b[0m \u001b[0mcolor\u001b[0m\u001b[0;34m=\u001b[0m\u001b[0;34m\"black\"\u001b[0m\u001b[0;34m,\u001b[0m \u001b[0mlabel\u001b[0m\u001b[0;34m=\u001b[0m \u001b[0;34m\"1900\"\u001b[0m\u001b[0;34m)\u001b[0m\u001b[0;34m\u001b[0m\u001b[0;34m\u001b[0m\u001b[0m\n\u001b[1;32m     25\u001b[0m \u001b[0max\u001b[0m\u001b[0;34m.\u001b[0m\u001b[0mbar\u001b[0m\u001b[0;34m(\u001b[0m\u001b[0mind\u001b[0m\u001b[0;34m+\u001b[0m\u001b[0;36m5\u001b[0m\u001b[0;34m/\u001b[0m\u001b[0;34m(\u001b[0m\u001b[0;36m2\u001b[0m\u001b[0;34m*\u001b[0m\u001b[0mK\u001b[0m\u001b[0;34m)\u001b[0m\u001b[0;34m,\u001b[0m \u001b[0mdata_list\u001b[0m\u001b[0;34m[\u001b[0m\u001b[0;36m2\u001b[0m\u001b[0;34m]\u001b[0m\u001b[0;34m,\u001b[0m \u001b[0;36m1\u001b[0m\u001b[0;34m/\u001b[0m\u001b[0mK\u001b[0m\u001b[0;34m,\u001b[0m \u001b[0mcolor\u001b[0m\u001b[0;34m=\u001b[0m\u001b[0;34m\"r\"\u001b[0m\u001b[0;34m,\u001b[0m \u001b[0mlabel\u001b[0m\u001b[0;34m=\u001b[0m \u001b[0;34m\"1910\"\u001b[0m\u001b[0;34m)\u001b[0m\u001b[0;34m\u001b[0m\u001b[0;34m\u001b[0m\u001b[0m\n",
      "\u001b[0;32m/opt/anaconda3/lib/python3.8/site-packages/matplotlib/__init__.py\u001b[0m in \u001b[0;36minner\u001b[0;34m(ax, data, *args, **kwargs)\u001b[0m\n\u001b[1;32m   1436\u001b[0m     \u001b[0;32mdef\u001b[0m \u001b[0minner\u001b[0m\u001b[0;34m(\u001b[0m\u001b[0max\u001b[0m\u001b[0;34m,\u001b[0m \u001b[0;34m*\u001b[0m\u001b[0margs\u001b[0m\u001b[0;34m,\u001b[0m \u001b[0mdata\u001b[0m\u001b[0;34m=\u001b[0m\u001b[0;32mNone\u001b[0m\u001b[0;34m,\u001b[0m \u001b[0;34m**\u001b[0m\u001b[0mkwargs\u001b[0m\u001b[0;34m)\u001b[0m\u001b[0;34m:\u001b[0m\u001b[0;34m\u001b[0m\u001b[0;34m\u001b[0m\u001b[0m\n\u001b[1;32m   1437\u001b[0m         \u001b[0;32mif\u001b[0m \u001b[0mdata\u001b[0m \u001b[0;32mis\u001b[0m \u001b[0;32mNone\u001b[0m\u001b[0;34m:\u001b[0m\u001b[0;34m\u001b[0m\u001b[0;34m\u001b[0m\u001b[0m\n\u001b[0;32m-> 1438\u001b[0;31m             \u001b[0;32mreturn\u001b[0m \u001b[0mfunc\u001b[0m\u001b[0;34m(\u001b[0m\u001b[0max\u001b[0m\u001b[0;34m,\u001b[0m \u001b[0;34m*\u001b[0m\u001b[0mmap\u001b[0m\u001b[0;34m(\u001b[0m\u001b[0msanitize_sequence\u001b[0m\u001b[0;34m,\u001b[0m \u001b[0margs\u001b[0m\u001b[0;34m)\u001b[0m\u001b[0;34m,\u001b[0m \u001b[0;34m**\u001b[0m\u001b[0mkwargs\u001b[0m\u001b[0;34m)\u001b[0m\u001b[0;34m\u001b[0m\u001b[0;34m\u001b[0m\u001b[0m\n\u001b[0m\u001b[1;32m   1439\u001b[0m \u001b[0;34m\u001b[0m\u001b[0m\n\u001b[1;32m   1440\u001b[0m         \u001b[0mbound\u001b[0m \u001b[0;34m=\u001b[0m \u001b[0mnew_sig\u001b[0m\u001b[0;34m.\u001b[0m\u001b[0mbind\u001b[0m\u001b[0;34m(\u001b[0m\u001b[0max\u001b[0m\u001b[0;34m,\u001b[0m \u001b[0;34m*\u001b[0m\u001b[0margs\u001b[0m\u001b[0;34m,\u001b[0m \u001b[0;34m**\u001b[0m\u001b[0mkwargs\u001b[0m\u001b[0;34m)\u001b[0m\u001b[0;34m\u001b[0m\u001b[0;34m\u001b[0m\u001b[0m\n",
      "\u001b[0;32m/opt/anaconda3/lib/python3.8/site-packages/matplotlib/axes/_axes.py\u001b[0m in \u001b[0;36mbar\u001b[0;34m(self, x, height, width, bottom, align, **kwargs)\u001b[0m\n\u001b[1;32m   2428\u001b[0m                 \u001b[0myerr\u001b[0m \u001b[0;34m=\u001b[0m \u001b[0mself\u001b[0m\u001b[0;34m.\u001b[0m\u001b[0m_convert_dx\u001b[0m\u001b[0;34m(\u001b[0m\u001b[0myerr\u001b[0m\u001b[0;34m,\u001b[0m \u001b[0my0\u001b[0m\u001b[0;34m,\u001b[0m \u001b[0my\u001b[0m\u001b[0;34m,\u001b[0m \u001b[0mself\u001b[0m\u001b[0;34m.\u001b[0m\u001b[0mconvert_yunits\u001b[0m\u001b[0;34m)\u001b[0m\u001b[0;34m\u001b[0m\u001b[0;34m\u001b[0m\u001b[0m\n\u001b[1;32m   2429\u001b[0m \u001b[0;34m\u001b[0m\u001b[0m\n\u001b[0;32m-> 2430\u001b[0;31m         x, height, width, y, linewidth = np.broadcast_arrays(\n\u001b[0m\u001b[1;32m   2431\u001b[0m             \u001b[0;31m# Make args iterable too.\u001b[0m\u001b[0;34m\u001b[0m\u001b[0;34m\u001b[0m\u001b[0;34m\u001b[0m\u001b[0m\n\u001b[1;32m   2432\u001b[0m             np.atleast_1d(x), height, width, y, linewidth)\n",
      "\u001b[0;32m<__array_function__ internals>\u001b[0m in \u001b[0;36mbroadcast_arrays\u001b[0;34m(*args, **kwargs)\u001b[0m\n",
      "\u001b[0;32m/opt/anaconda3/lib/python3.8/site-packages/numpy/lib/stride_tricks.py\u001b[0m in \u001b[0;36mbroadcast_arrays\u001b[0;34m(subok, *args)\u001b[0m\n\u001b[1;32m    256\u001b[0m     \u001b[0margs\u001b[0m \u001b[0;34m=\u001b[0m \u001b[0;34m[\u001b[0m\u001b[0mnp\u001b[0m\u001b[0;34m.\u001b[0m\u001b[0marray\u001b[0m\u001b[0;34m(\u001b[0m\u001b[0m_m\u001b[0m\u001b[0;34m,\u001b[0m \u001b[0mcopy\u001b[0m\u001b[0;34m=\u001b[0m\u001b[0;32mFalse\u001b[0m\u001b[0;34m,\u001b[0m \u001b[0msubok\u001b[0m\u001b[0;34m=\u001b[0m\u001b[0msubok\u001b[0m\u001b[0;34m)\u001b[0m \u001b[0;32mfor\u001b[0m \u001b[0m_m\u001b[0m \u001b[0;32min\u001b[0m \u001b[0margs\u001b[0m\u001b[0;34m]\u001b[0m\u001b[0;34m\u001b[0m\u001b[0;34m\u001b[0m\u001b[0m\n\u001b[1;32m    257\u001b[0m \u001b[0;34m\u001b[0m\u001b[0m\n\u001b[0;32m--> 258\u001b[0;31m     \u001b[0mshape\u001b[0m \u001b[0;34m=\u001b[0m \u001b[0m_broadcast_shape\u001b[0m\u001b[0;34m(\u001b[0m\u001b[0;34m*\u001b[0m\u001b[0margs\u001b[0m\u001b[0;34m)\u001b[0m\u001b[0;34m\u001b[0m\u001b[0;34m\u001b[0m\u001b[0m\n\u001b[0m\u001b[1;32m    259\u001b[0m \u001b[0;34m\u001b[0m\u001b[0m\n\u001b[1;32m    260\u001b[0m     \u001b[0;32mif\u001b[0m \u001b[0mall\u001b[0m\u001b[0;34m(\u001b[0m\u001b[0marray\u001b[0m\u001b[0;34m.\u001b[0m\u001b[0mshape\u001b[0m \u001b[0;34m==\u001b[0m \u001b[0mshape\u001b[0m \u001b[0;32mfor\u001b[0m \u001b[0marray\u001b[0m \u001b[0;32min\u001b[0m \u001b[0margs\u001b[0m\u001b[0;34m)\u001b[0m\u001b[0;34m:\u001b[0m\u001b[0;34m\u001b[0m\u001b[0;34m\u001b[0m\u001b[0m\n",
      "\u001b[0;32m/opt/anaconda3/lib/python3.8/site-packages/numpy/lib/stride_tricks.py\u001b[0m in \u001b[0;36m_broadcast_shape\u001b[0;34m(*args)\u001b[0m\n\u001b[1;32m    187\u001b[0m     \u001b[0;31m# use the old-iterator because np.nditer does not handle size 0 arrays\u001b[0m\u001b[0;34m\u001b[0m\u001b[0;34m\u001b[0m\u001b[0;34m\u001b[0m\u001b[0m\n\u001b[1;32m    188\u001b[0m     \u001b[0;31m# consistently\u001b[0m\u001b[0;34m\u001b[0m\u001b[0;34m\u001b[0m\u001b[0;34m\u001b[0m\u001b[0m\n\u001b[0;32m--> 189\u001b[0;31m     \u001b[0mb\u001b[0m \u001b[0;34m=\u001b[0m \u001b[0mnp\u001b[0m\u001b[0;34m.\u001b[0m\u001b[0mbroadcast\u001b[0m\u001b[0;34m(\u001b[0m\u001b[0;34m*\u001b[0m\u001b[0margs\u001b[0m\u001b[0;34m[\u001b[0m\u001b[0;34m:\u001b[0m\u001b[0;36m32\u001b[0m\u001b[0;34m]\u001b[0m\u001b[0;34m)\u001b[0m\u001b[0;34m\u001b[0m\u001b[0;34m\u001b[0m\u001b[0m\n\u001b[0m\u001b[1;32m    190\u001b[0m     \u001b[0;31m# unfortunately, it cannot handle 32 or more arguments directly\u001b[0m\u001b[0;34m\u001b[0m\u001b[0;34m\u001b[0m\u001b[0;34m\u001b[0m\u001b[0m\n\u001b[1;32m    191\u001b[0m     \u001b[0;32mfor\u001b[0m \u001b[0mpos\u001b[0m \u001b[0;32min\u001b[0m \u001b[0mrange\u001b[0m\u001b[0;34m(\u001b[0m\u001b[0;36m32\u001b[0m\u001b[0;34m,\u001b[0m \u001b[0mlen\u001b[0m\u001b[0;34m(\u001b[0m\u001b[0margs\u001b[0m\u001b[0;34m)\u001b[0m\u001b[0;34m,\u001b[0m \u001b[0;36m31\u001b[0m\u001b[0;34m)\u001b[0m\u001b[0;34m:\u001b[0m\u001b[0;34m\u001b[0m\u001b[0;34m\u001b[0m\u001b[0m\n",
      "\u001b[0;31mValueError\u001b[0m: shape mismatch: objects cannot be broadcast to a single shape"
     ]
    },
    {
     "data": {
      "image/png": "[encoded data removed]",
      "text/plain": [
       "<Figure size 432x288 with 1 Axes>"
      ]
     },
     "metadata": {
      "needs_background": "light"
     },
     "output_type": "display_data"
    }
   ],
   "source": [
    "data=data_grouped\n",
    "N = 4\n",
    "\n",
    "ind = np.arange(N) \n",
    "values=[]\n",
    "\n",
    "# some example data\n",
    "\n",
    "data_list= [[int(i[2][str(j)]) for i in data] for j in range(1890, 1990, 10)]\n",
    "    \n",
    "\n",
    "data_list=[np.array(i) for i in data_list]\n",
    "\n",
    "\n",
    "#formatted=[[racelist[i] for j in range(10)] for i in range(6)]\n",
    "\n",
    "labels=[x[0] for x in data]\n",
    "x = range(len(values))\n",
    "K=10\n",
    "\n",
    "# and plot it\n",
    "fig, ax = pyplot.subplots()\n",
    "ax.bar(ind+1/(2*K), data_list[0], 1/K, color=\"b\", label=\"1890\")\n",
    "ax.bar(ind+3/(2*K), data_list[1], 1/K, color=\"black\", label= \"1900\")\n",
    "ax.bar(ind+5/(2*K), data_list[2], 1/K, color=\"r\", label= \"1910\")\n",
    "ax.bar(ind+7/(2*K), data_list[3], 1/K, color=\"orange\", label= \"1920\")\n",
    "ax.bar(ind+9/(2*K), data_list[4], 1/K, color=\"yellow\", label= \"1930\")\n",
    "ax.bar(ind+11/(2*K), data_list[5], 1/K, color=\"c\", label= \"1940\")\n",
    "ax.bar(ind+13/(2*K), data_list[6], 1/K, color=\"purple\", label=\"1950\")\n",
    "ax.bar(ind+15/(2*K), data_list[7], 1/K, color=\"m\", label= \"1960\")\n",
    "ax.bar(ind+17/(2*K), data_list[8], 1/K, color=\"g\", label= \"1970\")\n",
    "ax.bar(ind+19/(2*K), data_list[9], 1/K, color=\"pink\", label= \"1980\")\n",
    "ax.set_xticks(ind)\n",
    "ax.set_xticklabels(labels)\n",
    "ax.set_title('Number of Interviews In Category In Harass* Subcorpora by birth decade')\n",
    "ax.set_ylabel('Number of Interviews')\n",
    "pyplot.legend()\n",
    "pyplot.setp(ax.get_xticklabels(), rotation=30, horizontalalignment='right')"
   ]
  },
  {
   "cell_type": "code",
   "execution_count": 107,
   "metadata": {},
   "outputs": [
    {
     "data": {
      "text/html": [
       "<div>\n",
       "<style scoped>\n",
       "    .dataframe tbody tr th:only-of-type {\n",
       "        vertical-align: middle;\n",
       "    }\n",
       "\n",
       "    .dataframe tbody tr th {\n",
       "        vertical-align: top;\n",
       "    }\n",
       "\n",
       "    .dataframe thead th {\n",
       "        text-align: right;\n",
       "    }\n",
       "</style>\n",
       "<table border=\"1\" class=\"dataframe\">\n",
       "  <thead>\n",
       "    <tr style=\"text-align: right;\">\n",
       "      <th></th>\n",
       "      <th>Sexual Harassment</th>\n",
       "      <th>Police or Law Enforcement Harassment</th>\n",
       "      <th>Racial Harassment</th>\n",
       "    </tr>\n",
       "  </thead>\n",
       "  <tbody>\n",
       "    <tr>\n",
       "      <th>1890</th>\n",
       "      <td>0</td>\n",
       "      <td>0</td>\n",
       "      <td>0</td>\n",
       "    </tr>\n",
       "    <tr>\n",
       "      <th>1900</th>\n",
       "      <td>0</td>\n",
       "      <td>0</td>\n",
       "      <td>0</td>\n",
       "    </tr>\n",
       "    <tr>\n",
       "      <th>1910</th>\n",
       "      <td>0</td>\n",
       "      <td>0</td>\n",
       "      <td>0</td>\n",
       "    </tr>\n",
       "    <tr>\n",
       "      <th>1920</th>\n",
       "      <td>0</td>\n",
       "      <td>0</td>\n",
       "      <td>0</td>\n",
       "    </tr>\n",
       "    <tr>\n",
       "      <th>1930</th>\n",
       "      <td>0</td>\n",
       "      <td>0</td>\n",
       "      <td>0</td>\n",
       "    </tr>\n",
       "    <tr>\n",
       "      <th>1940</th>\n",
       "      <td>0</td>\n",
       "      <td>0</td>\n",
       "      <td>0</td>\n",
       "    </tr>\n",
       "    <tr>\n",
       "      <th>1950</th>\n",
       "      <td>0</td>\n",
       "      <td>0</td>\n",
       "      <td>0</td>\n",
       "    </tr>\n",
       "    <tr>\n",
       "      <th>1960</th>\n",
       "      <td>0</td>\n",
       "      <td>0</td>\n",
       "      <td>0</td>\n",
       "    </tr>\n",
       "    <tr>\n",
       "      <th>1970</th>\n",
       "      <td>0</td>\n",
       "      <td>0</td>\n",
       "      <td>0</td>\n",
       "    </tr>\n",
       "    <tr>\n",
       "      <th>1980</th>\n",
       "      <td>0</td>\n",
       "      <td>0</td>\n",
       "      <td>0</td>\n",
       "    </tr>\n",
       "  </tbody>\n",
       "</table>\n",
       "</div>"
      ],
      "text/plain": [
       "      Sexual Harassment  Police or Law Enforcement Harassment  \\\n",
       "1890                  0                                     0   \n",
       "1900                  0                                     0   \n",
       "1910                  0                                     0   \n",
       "1920                  0                                     0   \n",
       "1930                  0                                     0   \n",
       "1940                  0                                     0   \n",
       "1950                  0                                     0   \n",
       "1960                  0                                     0   \n",
       "1970                  0                                     0   \n",
       "1980                  0                                     0   \n",
       "\n",
       "      Racial Harassment  \n",
       "1890                  0  \n",
       "1900                  0  \n",
       "1910                  0  \n",
       "1920                  0  \n",
       "1930                  0  \n",
       "1940                  0  \n",
       "1950                  0  \n",
       "1960                  0  \n",
       "1970                  0  \n",
       "1980                  0  "
      ]
     },
     "metadata": {},
     "output_type": "display_data"
    }
   ],
   "source": [
    "birth_data=pandas.DataFrame(data_list, columns=[x[0] for x in data], index=range(1890, 1990, 10))\n",
    "display(birth_data)"
   ]
  },
  {
   "cell_type": "code",
   "execution_count": 108,
   "metadata": {},
   "outputs": [],
   "source": [
    "data=[ [\"School\", sexschool_harassment_files],[\"Workplace\", sexwork_harassment_files], [\"Other Location\", SH_harassment_files]]"
   ]
  },
  {
   "cell_type": "code",
   "execution_count": 109,
   "metadata": {},
   "outputs": [],
   "source": [
    "race=[\"Asian\", \"Black or African American\", \"Hispanic/Latinx\", \"Indigenous American or Alaska Native\", \"White\", \"Two or More Races\"]\n",
    "total=defaultdict(lambda:0)\n",
    "for i in range(len(files)):\n",
    "    for idnum in text_to_ids[files.loc[i, \"Name\"]][\"id\"]:\n",
    "        total[database[idnum][\"identified_race\"]]+=1\n",
    "\n",
    "for cat in data:\n",
    "    values=defaultdict(lambda:0)\n",
    "    for i in cat[1]:\n",
    "        for idnum in text_to_ids[i][\"id\"]:\n",
    "            values[database[idnum][\"identified_race\"]]+=1\n",
    "    cat.append(values)"
   ]
  },
  {
   "cell_type": "code",
   "execution_count": 124,
   "metadata": {},
   "outputs": [
    {
     "data": {
      "text/plain": [
       "[None, None, None, None, None, None]"
      ]
     },
     "execution_count": 124,
     "metadata": {},
     "output_type": "execute_result"
    },
    {
     "data": {
      "image/png": "[encoded data removed]",
      "text/plain": [
       "<Figure size 432x288 with 1 Axes>"
      ]
     },
     "metadata": {
      "needs_background": "light"
     },
     "output_type": "display_data"
    }
   ],
   "source": [
    "\n",
    "N = 3\n",
    "\n",
    "ind = np.arange(N) \n",
    "values=[]\n",
    "\n",
    "# some example data\n",
    "\n",
    "#Asian=[int(i[2][\"Asian\"]) for i in data]\n",
    "Black=[int(i[2][\"Black or African American\"]) for i in data]\n",
    "#Hispanic=[int(i[2][\"Hispanic/Latinx\"]) for i in data]\n",
    "#Indigenous=[int(i[2][\"Indigenous American or Alaska Native\"]) for i in data]\n",
    "White=[int(i[2][\"White\"]) for i in data]\n",
    "#Two=[int(i[2][\"Two or More Races\"])for i in data]\n",
    "race_list=[Black, White]\n",
    "#Asian = np.array(Asian)\n",
    "Black = np.array(Black)\n",
    "#Hispanic = np.array(Hispanic)\n",
    "#Indigenous = np.array(Indigenous)\n",
    "White = np.array(White)\n",
    "#Two = np.array(Two)\n",
    "\n",
    "\n",
    "#formatted=[[racelist[i] for j in range(10)] for i in range(6)]\n",
    "\n",
    "labels=[x[0] for x in data]\n",
    "x = range(len(values))\n",
    "\n",
    "\n",
    "# and plot it\n",
    "fig, ax = pyplot.subplots()\n",
    "#ax.bar(ind+1/12, Asian, 1/6, color=\"b\", label=\"Asian\")\n",
    "ax.bar(ind+3/12, Black, 1/3, color=\"black\", label= \"Black or African American\")\n",
    "#ax.bar(ind+5/12, Hispanic, 1/6, color=\"r\", label= \"Hispanic/Latinx\")\n",
    "#ax.bar(ind+7/12, Indigenous, 1/6, color=\"orange\", label= \"Indigenous American or Alaska Native\")\n",
    "ax.bar(ind+9/12, White, 1/3, color=\"yellow\", label= \"White\")\n",
    "#ax.bar(ind+11/12, Two, 1/6, color=\"c\", label= \"Two or More Races\")\n",
    "ax.set_xticks(ind)\n",
    "ax.set_xticklabels([x[0] for x in data])\n",
    "ax.set_title('Total Number of Interviews In Sexual Harassment Location Cluster by Race')\n",
    "ax.set_ylabel('Number of Interviews')\n",
    "pyplot.legend()\n",
    "pyplot.setp(ax.get_xticklabels(), rotation=30, horizontalalignment='right')"
   ]
  },
  {
   "cell_type": "code",
   "execution_count": 125,
   "metadata": {},
   "outputs": [
    {
     "ename": "ValueError",
     "evalue": "Shape of passed values is (2, 3), indices imply (6, 3)",
     "output_type": "error",
     "traceback": [
      "\u001b[0;31m---------------------------------------------------------------------------\u001b[0m",
      "\u001b[0;31mValueError\u001b[0m                                Traceback (most recent call last)",
      "\u001b[0;32m/opt/anaconda3/lib/python3.8/site-packages/pandas/core/internals/managers.py\u001b[0m in \u001b[0;36mcreate_block_manager_from_arrays\u001b[0;34m(arrays, names, axes)\u001b[0m\n\u001b[1;32m   1683\u001b[0m         \u001b[0mblocks\u001b[0m \u001b[0;34m=\u001b[0m \u001b[0mform_blocks\u001b[0m\u001b[0;34m(\u001b[0m\u001b[0marrays\u001b[0m\u001b[0;34m,\u001b[0m \u001b[0mnames\u001b[0m\u001b[0;34m,\u001b[0m \u001b[0maxes\u001b[0m\u001b[0;34m)\u001b[0m\u001b[0;34m\u001b[0m\u001b[0;34m\u001b[0m\u001b[0m\n\u001b[0;32m-> 1684\u001b[0;31m         \u001b[0mmgr\u001b[0m \u001b[0;34m=\u001b[0m \u001b[0mBlockManager\u001b[0m\u001b[0;34m(\u001b[0m\u001b[0mblocks\u001b[0m\u001b[0;34m,\u001b[0m \u001b[0maxes\u001b[0m\u001b[0;34m)\u001b[0m\u001b[0;34m\u001b[0m\u001b[0;34m\u001b[0m\u001b[0m\n\u001b[0m\u001b[1;32m   1685\u001b[0m         \u001b[0mmgr\u001b[0m\u001b[0;34m.\u001b[0m\u001b[0m_consolidate_inplace\u001b[0m\u001b[0;34m(\u001b[0m\u001b[0;34m)\u001b[0m\u001b[0;34m\u001b[0m\u001b[0;34m\u001b[0m\u001b[0m\n",
      "\u001b[0;32m/opt/anaconda3/lib/python3.8/site-packages/pandas/core/internals/managers.py\u001b[0m in \u001b[0;36m__init__\u001b[0;34m(self, blocks, axes, do_integrity_check)\u001b[0m\n\u001b[1;32m    148\u001b[0m         \u001b[0;32mif\u001b[0m \u001b[0mdo_integrity_check\u001b[0m\u001b[0;34m:\u001b[0m\u001b[0;34m\u001b[0m\u001b[0;34m\u001b[0m\u001b[0m\n\u001b[0;32m--> 149\u001b[0;31m             \u001b[0mself\u001b[0m\u001b[0;34m.\u001b[0m\u001b[0m_verify_integrity\u001b[0m\u001b[0;34m(\u001b[0m\u001b[0;34m)\u001b[0m\u001b[0;34m\u001b[0m\u001b[0;34m\u001b[0m\u001b[0m\n\u001b[0m\u001b[1;32m    150\u001b[0m \u001b[0;34m\u001b[0m\u001b[0m\n",
      "\u001b[0;32m/opt/anaconda3/lib/python3.8/site-packages/pandas/core/internals/managers.py\u001b[0m in \u001b[0;36m_verify_integrity\u001b[0;34m(self)\u001b[0m\n\u001b[1;32m    325\u001b[0m             \u001b[0;32mif\u001b[0m \u001b[0mblock\u001b[0m\u001b[0;34m.\u001b[0m\u001b[0mshape\u001b[0m\u001b[0;34m[\u001b[0m\u001b[0;36m1\u001b[0m\u001b[0;34m:\u001b[0m\u001b[0;34m]\u001b[0m \u001b[0;34m!=\u001b[0m \u001b[0mmgr_shape\u001b[0m\u001b[0;34m[\u001b[0m\u001b[0;36m1\u001b[0m\u001b[0;34m:\u001b[0m\u001b[0;34m]\u001b[0m\u001b[0;34m:\u001b[0m\u001b[0;34m\u001b[0m\u001b[0;34m\u001b[0m\u001b[0m\n\u001b[0;32m--> 326\u001b[0;31m                 \u001b[0;32mraise\u001b[0m \u001b[0mconstruction_error\u001b[0m\u001b[0;34m(\u001b[0m\u001b[0mtot_items\u001b[0m\u001b[0;34m,\u001b[0m \u001b[0mblock\u001b[0m\u001b[0;34m.\u001b[0m\u001b[0mshape\u001b[0m\u001b[0;34m[\u001b[0m\u001b[0;36m1\u001b[0m\u001b[0;34m:\u001b[0m\u001b[0;34m]\u001b[0m\u001b[0;34m,\u001b[0m \u001b[0mself\u001b[0m\u001b[0;34m.\u001b[0m\u001b[0maxes\u001b[0m\u001b[0;34m)\u001b[0m\u001b[0;34m\u001b[0m\u001b[0;34m\u001b[0m\u001b[0m\n\u001b[0m\u001b[1;32m    327\u001b[0m         \u001b[0;32mif\u001b[0m \u001b[0mlen\u001b[0m\u001b[0;34m(\u001b[0m\u001b[0mself\u001b[0m\u001b[0;34m.\u001b[0m\u001b[0mitems\u001b[0m\u001b[0;34m)\u001b[0m \u001b[0;34m!=\u001b[0m \u001b[0mtot_items\u001b[0m\u001b[0;34m:\u001b[0m\u001b[0;34m\u001b[0m\u001b[0;34m\u001b[0m\u001b[0m\n",
      "\u001b[0;31mValueError\u001b[0m: Shape of passed values is (2, 3), indices imply (6, 3)",
      "\nDuring handling of the above exception, another exception occurred:\n",
      "\u001b[0;31mValueError\u001b[0m                                Traceback (most recent call last)",
      "\u001b[0;32m<ipython-input-125-536e96d0b3a2>\u001b[0m in \u001b[0;36m<module>\u001b[0;34m\u001b[0m\n\u001b[0;32m----> 1\u001b[0;31m \u001b[0mrace_location_data\u001b[0m\u001b[0;34m=\u001b[0m\u001b[0mpandas\u001b[0m\u001b[0;34m.\u001b[0m\u001b[0mDataFrame\u001b[0m\u001b[0;34m(\u001b[0m\u001b[0mrace_list\u001b[0m\u001b[0;34m,\u001b[0m \u001b[0mcolumns\u001b[0m\u001b[0;34m=\u001b[0m\u001b[0;34m[\u001b[0m\u001b[0mx\u001b[0m\u001b[0;34m[\u001b[0m\u001b[0;36m0\u001b[0m\u001b[0;34m]\u001b[0m \u001b[0;32mfor\u001b[0m \u001b[0mx\u001b[0m \u001b[0;32min\u001b[0m \u001b[0mdata\u001b[0m\u001b[0;34m]\u001b[0m\u001b[0;34m,\u001b[0m \u001b[0mindex\u001b[0m\u001b[0;34m=\u001b[0m\u001b[0mrace\u001b[0m\u001b[0;34m)\u001b[0m\u001b[0;34m\u001b[0m\u001b[0;34m\u001b[0m\u001b[0m\n\u001b[0m\u001b[1;32m      2\u001b[0m \u001b[0mdisplay\u001b[0m\u001b[0;34m(\u001b[0m\u001b[0mrace_location_data\u001b[0m\u001b[0;34m)\u001b[0m\u001b[0;34m\u001b[0m\u001b[0;34m\u001b[0m\u001b[0m\n",
      "\u001b[0;32m/opt/anaconda3/lib/python3.8/site-packages/pandas/core/frame.py\u001b[0m in \u001b[0;36m__init__\u001b[0;34m(self, data, index, columns, dtype, copy)\u001b[0m\n\u001b[1;32m    519\u001b[0m                             \u001b[0mindex\u001b[0m \u001b[0;34m=\u001b[0m \u001b[0mibase\u001b[0m\u001b[0;34m.\u001b[0m\u001b[0mdefault_index\u001b[0m\u001b[0;34m(\u001b[0m\u001b[0mlen\u001b[0m\u001b[0;34m(\u001b[0m\u001b[0mdata\u001b[0m\u001b[0;34m)\u001b[0m\u001b[0;34m)\u001b[0m\u001b[0;34m\u001b[0m\u001b[0;34m\u001b[0m\u001b[0m\n\u001b[1;32m    520\u001b[0m \u001b[0;34m\u001b[0m\u001b[0m\n\u001b[0;32m--> 521\u001b[0;31m                     \u001b[0mmgr\u001b[0m \u001b[0;34m=\u001b[0m \u001b[0marrays_to_mgr\u001b[0m\u001b[0;34m(\u001b[0m\u001b[0marrays\u001b[0m\u001b[0;34m,\u001b[0m \u001b[0mcolumns\u001b[0m\u001b[0;34m,\u001b[0m \u001b[0mindex\u001b[0m\u001b[0;34m,\u001b[0m \u001b[0mcolumns\u001b[0m\u001b[0;34m,\u001b[0m \u001b[0mdtype\u001b[0m\u001b[0;34m=\u001b[0m\u001b[0mdtype\u001b[0m\u001b[0;34m)\u001b[0m\u001b[0;34m\u001b[0m\u001b[0;34m\u001b[0m\u001b[0m\n\u001b[0m\u001b[1;32m    522\u001b[0m                 \u001b[0;32melse\u001b[0m\u001b[0;34m:\u001b[0m\u001b[0;34m\u001b[0m\u001b[0;34m\u001b[0m\u001b[0m\n\u001b[1;32m    523\u001b[0m                     \u001b[0mmgr\u001b[0m \u001b[0;34m=\u001b[0m \u001b[0minit_ndarray\u001b[0m\u001b[0;34m(\u001b[0m\u001b[0mdata\u001b[0m\u001b[0;34m,\u001b[0m \u001b[0mindex\u001b[0m\u001b[0;34m,\u001b[0m \u001b[0mcolumns\u001b[0m\u001b[0;34m,\u001b[0m \u001b[0mdtype\u001b[0m\u001b[0;34m=\u001b[0m\u001b[0mdtype\u001b[0m\u001b[0;34m,\u001b[0m \u001b[0mcopy\u001b[0m\u001b[0;34m=\u001b[0m\u001b[0mcopy\u001b[0m\u001b[0;34m)\u001b[0m\u001b[0;34m\u001b[0m\u001b[0;34m\u001b[0m\u001b[0m\n",
      "\u001b[0;32m/opt/anaconda3/lib/python3.8/site-packages/pandas/core/internals/construction.py\u001b[0m in \u001b[0;36marrays_to_mgr\u001b[0;34m(arrays, arr_names, index, columns, dtype, verify_integrity)\u001b[0m\n\u001b[1;32m     91\u001b[0m     \u001b[0maxes\u001b[0m \u001b[0;34m=\u001b[0m \u001b[0;34m[\u001b[0m\u001b[0mcolumns\u001b[0m\u001b[0;34m,\u001b[0m \u001b[0mindex\u001b[0m\u001b[0;34m]\u001b[0m\u001b[0;34m\u001b[0m\u001b[0;34m\u001b[0m\u001b[0m\n\u001b[1;32m     92\u001b[0m \u001b[0;34m\u001b[0m\u001b[0m\n\u001b[0;32m---> 93\u001b[0;31m     \u001b[0;32mreturn\u001b[0m \u001b[0mcreate_block_manager_from_arrays\u001b[0m\u001b[0;34m(\u001b[0m\u001b[0marrays\u001b[0m\u001b[0;34m,\u001b[0m \u001b[0marr_names\u001b[0m\u001b[0;34m,\u001b[0m \u001b[0maxes\u001b[0m\u001b[0;34m)\u001b[0m\u001b[0;34m\u001b[0m\u001b[0;34m\u001b[0m\u001b[0m\n\u001b[0m\u001b[1;32m     94\u001b[0m \u001b[0;34m\u001b[0m\u001b[0m\n\u001b[1;32m     95\u001b[0m \u001b[0;34m\u001b[0m\u001b[0m\n",
      "\u001b[0;32m/opt/anaconda3/lib/python3.8/site-packages/pandas/core/internals/managers.py\u001b[0m in \u001b[0;36mcreate_block_manager_from_arrays\u001b[0;34m(arrays, names, axes)\u001b[0m\n\u001b[1;32m   1686\u001b[0m         \u001b[0;32mreturn\u001b[0m \u001b[0mmgr\u001b[0m\u001b[0;34m\u001b[0m\u001b[0;34m\u001b[0m\u001b[0m\n\u001b[1;32m   1687\u001b[0m     \u001b[0;32mexcept\u001b[0m \u001b[0mValueError\u001b[0m \u001b[0;32mas\u001b[0m \u001b[0me\u001b[0m\u001b[0;34m:\u001b[0m\u001b[0;34m\u001b[0m\u001b[0;34m\u001b[0m\u001b[0m\n\u001b[0;32m-> 1688\u001b[0;31m         \u001b[0;32mraise\u001b[0m \u001b[0mconstruction_error\u001b[0m\u001b[0;34m(\u001b[0m\u001b[0mlen\u001b[0m\u001b[0;34m(\u001b[0m\u001b[0marrays\u001b[0m\u001b[0;34m)\u001b[0m\u001b[0;34m,\u001b[0m \u001b[0marrays\u001b[0m\u001b[0;34m[\u001b[0m\u001b[0;36m0\u001b[0m\u001b[0;34m]\u001b[0m\u001b[0;34m.\u001b[0m\u001b[0mshape\u001b[0m\u001b[0;34m,\u001b[0m \u001b[0maxes\u001b[0m\u001b[0;34m,\u001b[0m \u001b[0me\u001b[0m\u001b[0;34m)\u001b[0m\u001b[0;34m\u001b[0m\u001b[0;34m\u001b[0m\u001b[0m\n\u001b[0m\u001b[1;32m   1689\u001b[0m \u001b[0;34m\u001b[0m\u001b[0m\n\u001b[1;32m   1690\u001b[0m \u001b[0;34m\u001b[0m\u001b[0m\n",
      "\u001b[0;31mValueError\u001b[0m: Shape of passed values is (2, 3), indices imply (6, 3)"
     ]
    }
   ],
   "source": [
    "race_location_data=pandas.DataFrame(race_list, columns=[x[0] for x in data], index=race)\n",
    "display(race_location_data)"
   ]
  },
  {
   "cell_type": "code",
   "execution_count": 126,
   "metadata": {},
   "outputs": [
    {
     "data": {
      "text/plain": [
       "[None, None, None, None, None, None]"
      ]
     },
     "execution_count": 126,
     "metadata": {},
     "output_type": "execute_result"
    },
    {
     "data": {
      "image/png": "[encoded data removed]",
      "text/plain": [
       "<Figure size 432x288 with 1 Axes>"
      ]
     },
     "metadata": {
      "needs_background": "light"
     },
     "output_type": "display_data"
    }
   ],
   "source": [
    "\n",
    "N = 3\n",
    "\n",
    "ind = np.arange(N) \n",
    "values=[]\n",
    "\n",
    "# some example data\n",
    "\n",
    "#Asian=[int(i[2][\"Asian\"]*100/total[\"Asian\"]) for i in data]\n",
    "Black=[int(i[2][\"Black or African American\"]*100/total[\"Black or African American\"]) for i in data]\n",
    "#Hispanic=[int(i[2][\"Hispanic/Latinx\"]*100/total[\"Hispanic/Latinx\"]) for i in data]\n",
    "#Indigenous=[int(i[2][\"Indigenous American or Alaska Native\"]*100/total[\"Indigenous American or Alaska Native\"]) for i in data]\n",
    "White=[int(i[2][\"White\"]*100/total[\"White\"]) for i in data]\n",
    "#Two=[int(i[2][\"Two or More Races\"]*100/total[\"Two or More Races\"])for i in data]\n",
    "race_list_percent=[Black, White]\n",
    "#Asian = np.array(Asian)\n",
    "Black = np.array(Black)\n",
    "#Hispanic = np.array(Hispanic)\n",
    "#Indigenous = np.array(Indigenous)\n",
    "White = np.array(White)\n",
    "#Two = np.array(Two)\n",
    "\n",
    "\n",
    "#formatted=[[racelist[i] for j in range(10)] for i in range(6)]\n",
    "\n",
    "labels=[x[0] for x in data]\n",
    "x = range(len(values))\n",
    "\n",
    "\n",
    "# and plot it\n",
    "fig, ax = pyplot.subplots()\n",
    "#ax.bar(ind+1/12, Asian, 1/6, color=\"b\", label=\"Asian\")\n",
    "ax.bar(ind+3/12, Black, 1/3, color=\"black\", label= \"Black or African American\")\n",
    "#ax.bar(ind+5/12, Hispanic, 1/6, color=\"r\", label= \"Hispanic/Latinx\")\n",
    "#ax.bar(ind+7/12, Indigenous, 1/6, color=\"orange\", label= \"Indigenous American or Alaska Native\")\n",
    "ax.bar(ind+9/12, White, 1/3, color=\"yellow\", label= \"White\")\n",
    "#ax.bar(ind+11/12, Two, 1/6, color=\"c\", label= \"Two or More Races\")\n",
    "ax.set_xticks(ind)\n",
    "ax.set_xticklabels([x[0] for x in data])\n",
    "ax.set_title(\"Percent of Interviews In Sexual Harassment Subcorpora by Location and Race\")\n",
    "ax.set_ylabel('Percentage of Interviews')\n",
    "pyplot.legend()\n",
    "pyplot.setp(ax.get_xticklabels(), rotation=30, horizontalalignment='right')"
   ]
  },
  {
   "cell_type": "code",
   "execution_count": 127,
   "metadata": {},
   "outputs": [],
   "source": [
    "race_list[0]+=race_list_percent[0]\n",
    "race_list[0].append(total[\"Black or African American\"])\n",
    "race_list[1]+=race_list_percent[1]\n",
    "race_list[1].append(total[\"White\"])"
   ]
  },
  {
   "cell_type": "code",
   "execution_count": 132,
   "metadata": {},
   "outputs": [
    {
     "data": {
      "text/html": [
       "<div>\n",
       "<style scoped>\n",
       "    .dataframe tbody tr th:only-of-type {\n",
       "        vertical-align: middle;\n",
       "    }\n",
       "\n",
       "    .dataframe tbody tr th {\n",
       "        vertical-align: top;\n",
       "    }\n",
       "\n",
       "    .dataframe thead th {\n",
       "        text-align: right;\n",
       "    }\n",
       "</style>\n",
       "<table border=\"1\" class=\"dataframe\">\n",
       "  <thead>\n",
       "    <tr style=\"text-align: right;\">\n",
       "      <th></th>\n",
       "      <th>Number of Interviews Containing Sexual Harassment at School</th>\n",
       "      <th>Number of Interviews Containing Sexual Harassment at Work</th>\n",
       "      <th>Number of Interviews Containing Sexual Harassment At Another Location</th>\n",
       "      <th>Percentage of Interviews Containing Sexual Harassment at School</th>\n",
       "      <th>Percentage of Interviews Containing Sexual Harassment at School</th>\n",
       "      <th>Percentage of Interviews Containing Sexual Harassment at Another Location</th>\n",
       "      <th>Total Number of Interviws in Subcorpora</th>\n",
       "    </tr>\n",
       "  </thead>\n",
       "  <tbody>\n",
       "    <tr>\n",
       "      <th>Black</th>\n",
       "      <td>5</td>\n",
       "      <td>24</td>\n",
       "      <td>11</td>\n",
       "      <td>4</td>\n",
       "      <td>22</td>\n",
       "      <td>10</td>\n",
       "      <td>108</td>\n",
       "    </tr>\n",
       "    <tr>\n",
       "      <th>White</th>\n",
       "      <td>25</td>\n",
       "      <td>29</td>\n",
       "      <td>23</td>\n",
       "      <td>31</td>\n",
       "      <td>36</td>\n",
       "      <td>28</td>\n",
       "      <td>80</td>\n",
       "    </tr>\n",
       "  </tbody>\n",
       "</table>\n",
       "</div>"
      ],
      "text/plain": [
       "       Number of Interviews Containing Sexual Harassment at School  \\\n",
       "Black                                                  5             \n",
       "White                                                 25             \n",
       "\n",
       "       Number of Interviews Containing Sexual Harassment at Work  \\\n",
       "Black                                                 24           \n",
       "White                                                 29           \n",
       "\n",
       "       Number of Interviews Containing Sexual Harassment At Another Location  \\\n",
       "Black                                                 11                       \n",
       "White                                                 23                       \n",
       "\n",
       "       Percentage of Interviews Containing Sexual Harassment at School  \\\n",
       "Black                                                  4                 \n",
       "White                                                 31                 \n",
       "\n",
       "       Percentage of Interviews Containing Sexual Harassment at School  \\\n",
       "Black                                                 22                 \n",
       "White                                                 36                 \n",
       "\n",
       "       Percentage of Interviews Containing Sexual Harassment at Another Location  \\\n",
       "Black                                                 10                           \n",
       "White                                                 28                           \n",
       "\n",
       "       Total Number of Interviws in Subcorpora  \n",
       "Black                                      108  \n",
       "White                                       80  "
      ]
     },
     "metadata": {},
     "output_type": "display_data"
    }
   ],
   "source": [
    "race_location_data=pandas.DataFrame(race_list, columns=[\"Number of Interviews Containing Sexual Harassment at School\", \"Number of Interviews Containing Sexual Harassment at Work\", \"Number of Interviews Containing Sexual Harassment At Another Location\", \"Percentage of Interviews Containing Sexual Harassment at School\", \"Percentage of Interviews Containing Sexual Harassment at School\", \"Percentage of Interviews Containing Sexual Harassment at Another Location\", \"Total Number of Interviws in Subcorpora\"], index=[\"Black\", \"White\",])\n",
    "display(race_location_data)"
   ]
  },
  {
   "cell_type": "code",
   "execution_count": 129,
   "metadata": {},
   "outputs": [
    {
     "ename": "SyntaxError",
     "evalue": "invalid syntax (<ipython-input-129-823e32a66845>, line 1)",
     "output_type": "error",
     "traceback": [
      "\u001b[0;36m  File \u001b[0;32m\"<ipython-input-129-823e32a66845>\"\u001b[0;36m, line \u001b[0;32m1\u001b[0m\n\u001b[0;31m    print(data)columns=[x[0] for x in data], index=[\"Black\", \"White\"]\u001b[0m\n\u001b[0m               ^\u001b[0m\n\u001b[0;31mSyntaxError\u001b[0m\u001b[0;31m:\u001b[0m invalid syntax\n"
     ]
    }
   ],
   "source": [
    "print(data)columns=[x[0] for x in data], index=[\"Black\", \"White\"]"
   ]
  },
  {
   "cell_type": "code",
   "execution_count": null,
   "metadata": {},
   "outputs": [],
   "source": []
  }
 ],
 "metadata": {
  "kernelspec": {
   "display_name": "Python 3",
   "language": "python",
   "name": "python3"
  },
  "language_info": {
   "codemirror_mode": {
    "name": "ipython",
    "version": 3
   },
   "file_extension": ".py",
   "mimetype": "text/x-python",
   "name": "python",
   "nbconvert_exporter": "python",
   "pygments_lexer": "ipython3",
   "version": "3.8.5"
  }
 },
 "nbformat": 4,
 "nbformat_minor": 4
}
