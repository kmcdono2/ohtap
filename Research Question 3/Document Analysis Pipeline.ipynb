{
 "cells": [
  {
   "cell_type": "code",
   "execution_count": 67,
   "metadata": {},
   "outputs": [],
   "source": [
    "import numpy as np\n",
    "import pandas as pd\n",
    "\n",
    "import gensim\n",
    "from gensim.models.doc2vec import Doc2Vec\n",
    "\n",
    "from sklearn.feature_extraction.text import TfidfVectorizer\n",
    "from sklearn.metrics.pairwise import cosine_similarity\n",
    "from sklearn.metrics.pairwise import linear_kernel\n",
    "from sklearn.cluster import KMeans\n",
    "from sklearn.decomposition import PCA\n",
    "\n",
    "from nltk import ngrams\n",
    "\n",
    "%matplotlib inline\n",
    "import matplotlib.pyplot as plt\n",
    "import seaborn as sns; sns.set()"
   ]
  },
  {
   "cell_type": "markdown",
   "metadata": {},
   "source": [
    "# Process input"
   ]
  },
  {
   "cell_type": "code",
   "execution_count": 7,
   "metadata": {},
   "outputs": [
    {
     "data": {
      "text/html": [
       "<div>\n",
       "<style scoped>\n",
       "    .dataframe tbody tr th:only-of-type {\n",
       "        vertical-align: middle;\n",
       "    }\n",
       "\n",
       "    .dataframe tbody tr th {\n",
       "        vertical-align: top;\n",
       "    }\n",
       "\n",
       "    .dataframe thead th {\n",
       "        text-align: right;\n",
       "    }\n",
       "</style>\n",
       "<table border=\"1\" class=\"dataframe\">\n",
       "  <thead>\n",
       "    <tr style=\"text-align: right;\">\n",
       "      <th></th>\n",
       "      <th>Unnamed: 0</th>\n",
       "      <th>Interview</th>\n",
       "      <th>Number of event extents</th>\n",
       "      <th>Total word count</th>\n",
       "      <th>Event extents</th>\n",
       "    </tr>\n",
       "  </thead>\n",
       "  <tbody>\n",
       "    <tr>\n",
       "      <th>0</th>\n",
       "      <td>0</td>\n",
       "      <td>BWOH_Adair_Christia</td>\n",
       "      <td>3</td>\n",
       "      <td>468</td>\n",
       "      <td>So I was the first volunteer secretary of the ...</td>\n",
       "    </tr>\n",
       "    <tr>\n",
       "      <th>1</th>\n",
       "      <td>1</td>\n",
       "      <td>BWOH_Adams_Kathleen</td>\n",
       "      <td>3</td>\n",
       "      <td>338</td>\n",
       "      <td>But as I said, the Atlanta riot had occurred t...</td>\n",
       "    </tr>\n",
       "    <tr>\n",
       "      <th>2</th>\n",
       "      <td>2</td>\n",
       "      <td>BWOH_Aiken_Harper_Rucker</td>\n",
       "      <td>2</td>\n",
       "      <td>415</td>\n",
       "      <td>We walked to school, to Atlanta University eve...</td>\n",
       "    </tr>\n",
       "    <tr>\n",
       "      <th>3</th>\n",
       "      <td>3</td>\n",
       "      <td>BWOH_Barnett_Etta</td>\n",
       "      <td>1</td>\n",
       "      <td>818</td>\n",
       "      <td>REH: So this would be a time of assessment rea...</td>\n",
       "    </tr>\n",
       "    <tr>\n",
       "      <th>4</th>\n",
       "      <td>4</td>\n",
       "      <td>BWOH_Duster_Alfreda</td>\n",
       "      <td>3</td>\n",
       "      <td>162</td>\n",
       "      <td>AD: And he married a very attractive woman who...</td>\n",
       "    </tr>\n",
       "  </tbody>\n",
       "</table>\n",
       "</div>"
      ],
      "text/plain": [
       "   Unnamed: 0                 Interview  Number of event extents  \\\n",
       "0           0       BWOH_Adair_Christia                        3   \n",
       "1           1       BWOH_Adams_Kathleen                        3   \n",
       "2           2  BWOH_Aiken_Harper_Rucker                        2   \n",
       "3           3         BWOH_Barnett_Etta                        1   \n",
       "4           4       BWOH_Duster_Alfreda                        3   \n",
       "\n",
       "   Total word count                                      Event extents  \n",
       "0               468  So I was the first volunteer secretary of the ...  \n",
       "1               338  But as I said, the Atlanta riot had occurred t...  \n",
       "2               415  We walked to school, to Atlanta University eve...  \n",
       "3               818  REH: So this would be a time of assessment rea...  \n",
       "4               162  AD: And he married a very attractive woman who...  "
      ]
     },
     "execution_count": 7,
     "metadata": {},
     "output_type": "execute_result"
    }
   ],
   "source": [
    "all_info = pd.read_csv(\"/Users/yibingdu/Downloads/Winter Quarter/OHTAP/event_extents.csv\")\n",
    "all_info.head()"
   ]
  },
  {
   "cell_type": "code",
   "execution_count": 11,
   "metadata": {},
   "outputs": [
    {
     "data": {
      "text/plain": [
       "0      So I was the first volunteer secretary of the ...\n",
       "1      But as I said, the Atlanta riot had occurred t...\n",
       "2      We walked to school, to Atlanta University eve...\n",
       "3      REH: So this would be a time of assessment rea...\n",
       "4      AD: And he married a very attractive woman who...\n",
       "                             ...                        \n",
       "486    DUNHAM: I definitely want to hear about your r...\n",
       "487                                             outrage.\n",
       "488    But just thinking, and again I hadn't thought ...\n",
       "489    Did you have student athletes or did you hear ...\n",
       "490    I knew someone who was raped by her father bec...\n",
       "Name: Event extents, Length: 491, dtype: object"
      ]
     },
     "execution_count": 11,
     "metadata": {},
     "output_type": "execute_result"
    }
   ],
   "source": [
    "content = all_info[\"Event extents\"]\n",
    "content"
   ]
  },
  {
   "cell_type": "markdown",
   "metadata": {},
   "source": [
    "# Bag-of-N-grams / tf-idf"
   ]
  },
  {
   "cell_type": "code",
   "execution_count": 36,
   "metadata": {},
   "outputs": [],
   "source": [
    "vectorizer = TfidfVectorizer(min_df=10, max_df=1000, stop_words=\"english\")\n",
    "tfidf_matrix = vectorizer.fit_transform(content)\n",
    "vocab = vectorizer.get_feature_names()"
   ]
  },
  {
   "cell_type": "code",
   "execution_count": 37,
   "metadata": {},
   "outputs": [
    {
     "name": "stdout",
     "output_type": "stream",
     "text": [
      "Original claim:\n",
      " So I was the first volunteer secretary of the branch here. Well, we had some pretty strong cases, cases like the DiMarco-Bob White case. Most of the cases were rape cases where white people used to become dissatisfied and disgruntled about a thing. The best way they could do, some white woman would holler that she'd been raped by a Negro or ventured to rape, or something like that, and of course that meant a burned or lynched Negro. And so this happened down at Conroe. But we were able to get a lawyer - this was one of NAACP's first projects - and a lawyer that won that case in our favor. And the day of the trial when he was declared innocent and turned loose, they shot him right in the jail house, I mean right in the courthouse down in Conroe, that's in Montgomery County. Well, those things were so exciting to me, I did not know that people could be treated like people in Houston were being treated. Not only in cases like that, but in jail, prisoners generally, why, they would beat up people and anything they wanted to do and kill people. And NAACP then became the sole interest of mine.\n",
      "\n",
      "Knowing the role that you have played in many controversial issues and in many circumstances that were very tension-producing, I know you know a great deal about some of the things that have happened that are not very pleasant. And I'm recalling that on past occasions I read a great deal about police brutality in Houston. Do you think the things that the news media have released at various times might have been valid? Did we really have police brutality and do you think it still exists, if it ever did? Oh yes, we've had some terrible incidents and some very brutal policemen. During the days I was with the NAACP, I almost could bet you money on that, if they arrested a Negro, they were going to take him out on the outskirts of town somewhere first and beat him up, and then bring him back and throw him in jail. And hardly anybody ever was put in jail that came out without being beaten. And they always said theyÃ¯Â»Â¿43 (cont) sometimes would have to tie their feet and hands and beat them down and all that to subdue them. But I never could understand how a man with his feet tied and his hands tied had to be knocked around They have stomped men in the jail that were accused of rape. They have taken men and women out on the outskirts of town and beat them.\n",
      "\n",
      "Will you tell us what occasioned this move and something about your early involvement in civic activities in the city of Houston?\n",
      "==== ==== ==== ====\n",
      "Most similar to:\n",
      " Speaker 2: Things have probably always been heating up in--in a--in a strange kind of way. We had a neighbor and his name was Lindsey Gaines [ph.] and he used to work. Oakhurst [Clarksdale, Mississippi] is a white neighborhood and I think he'd go over there and work and cut grass and do things like that. You know, how they'd hire black young people. And some white women claimed rape or something over there. So they were trying to arrest somebody. And they arrested him and they took him to the jail and you know, they beat him up, they beat him up. But I guess they couldn't make him confess because he hadn't done anything. So they let him out.\n",
      "\n",
      "We had a neighbor and his name was Lindsey Gaines [ph.] and he used to work. Oakhurst [Clarksdale, Mississippi] is a white neighborhood and I think he'd go over there and work and cut grass and do things like that. You know, how they'd hire black young people. And some white women claimed rape or something over there. So they were trying to arrest somebody. And they arrested him and they took him to the jail and you know, they beat him up, they beat him up. But I guess they couldn't make him confess because he hadn't done anything. So they let him out. And I rem- what I remember about that is that people, I guess friends and neighbors, when he got out of jail, that--his mother and her children, I don't remember how many children there were in his family.\n",
      "\n",
      "Speaker 1: All right. Now, when did--when did things start heating up around Clarksdale [Mississippi], I mean in terms of--?\n"
     ]
    }
   ],
   "source": [
    "def find_similar(statement):\n",
    "    i = all_info[all_info[\"Event extents\"] == statement].index.tolist()[0]\n",
    "    cosine_similarities = linear_kernel(tfidf_matrix[i:i+1], tfidf_matrix).flatten()\n",
    "    cosine_similarities = list(enumerate(cosine_similarities))\n",
    "    cosine_similarities.pop(i)\n",
    "    most_similar, similarity = max(cosine_similarities, key=lambda t:t[1])\n",
    "    print(\"Original claim:\\n\", statement)\n",
    "    print(\"==== ==== ==== ====\")\n",
    "    print(\"Most similar to:\\n\", content[most_similar])\n",
    "\n",
    "text = content[0] # choose \n",
    "find_similar(text)"
   ]
  },
  {
   "cell_type": "markdown",
   "metadata": {},
   "source": [
    "# k-means clustering (of tf-idf)"
   ]
  },
  {
   "cell_type": "code",
   "execution_count": 72,
   "metadata": {},
   "outputs": [
    {
     "data": {
      "image/png": "[encoded data removed]",
      "text/plain": [
       "<Figure size 432x288 with 1 Axes>"
      ]
     },
     "metadata": {},
     "output_type": "display_data"
    }
   ],
   "source": [
    "num_clusters = 10\n",
    "num_seeds = 10\n",
    "max_iterations = 300\n",
    "labels_color_map = {\n",
    "    0: '#20b2aa', 1: '#ff7373', 2: '#ffe4e1', 3: '#005073', 4: '#4d0404',\n",
    "    5: '#ccc0ba', 6: '#4700f9', 7: '#f6f900', 8: '#00f91d', 9: '#da8c49'\n",
    "}\n",
    "pca_num_components = 2\n",
    "\n",
    "clustering_model = KMeans(n_clusters=num_clusters, max_iter=max_iterations)\n",
    "\n",
    "labels = clustering_model.fit_predict(tfidf_matrix)\n",
    "X = tfidf_matrix.todense()\n",
    "reduced_data = PCA(n_components=pca_num_components).fit_transform(X)\n",
    "\n",
    "fig, ax = plt.subplots()\n",
    "for index, instance in enumerate(reduced_data):\n",
    "    pca_comp_1, pca_comp_2 = reduced_data[index]\n",
    "    color = labels_color_map[labels[index]]\n",
    "    ax.scatter(pca_comp_1, pca_comp_2, c=color)\n",
    "plt.show()"
   ]
  },
  {
   "cell_type": "markdown",
   "metadata": {},
   "source": [
    "# LDA"
   ]
  },
  {
   "cell_type": "code",
   "execution_count": null,
   "metadata": {},
   "outputs": [],
   "source": [
    "# implemented with R package stm (Structural Topic Modeling) instead"
   ]
  },
  {
   "cell_type": "markdown",
   "metadata": {},
   "source": [
    "# doc2vec"
   ]
  },
  {
   "cell_type": "code",
   "execution_count": 27,
   "metadata": {},
   "outputs": [],
   "source": [
    "TaggedDocument = gensim.models.doc2vec.TaggedDocument\n",
    "text = []\n",
    "for i, sent in enumerate(content):\n",
    "    if isinstance(sent, str):\n",
    "        word_list = sent.split()\n",
    "        document = TaggedDocument(word_list, tags=[i])\n",
    "        text.append(document)"
   ]
  },
  {
   "cell_type": "code",
   "execution_count": 28,
   "metadata": {},
   "outputs": [],
   "source": [
    "model = Doc2Vec(text, min_count=1, window=3, vector_size=300, sample=1e-3, negative=5, workers=4)\n",
    "model.train(text, total_examples=model.corpus_count, epochs=10)"
   ]
  },
  {
   "cell_type": "code",
   "execution_count": 35,
   "metadata": {},
   "outputs": [
    {
     "name": "stdout",
     "output_type": "stream",
     "text": [
      "Original: \n",
      "So I was the first volunteer secretary of the branch here. Well, we had some pretty strong cases, cases like the DiMarco-Bob White case. Most of the cases were rape cases where white people used to become dissatisfied and disgruntled about a thing. The best way they could do, some white woman would holler that she'd been raped by a Negro or ventured to rape, or something like that, and of course that meant a burned or lynched Negro. And so this happened down at Conroe. But we were able to get a lawyer - this was one of NAACP's first projects - and a lawyer that won that case in our favor. And the day of the trial when he was declared innocent and turned loose, they shot him right in the jail house, I mean right in the courthouse down in Conroe, that's in Montgomery County. Well, those things were so exciting to me, I did not know that people could be treated like people in Houston were being treated. Not only in cases like that, but in jail, prisoners generally, why, they would beat up people and anything they wanted to do and kill people. And NAACP then became the sole interest of mine.\n",
      "\n",
      "Knowing the role that you have played in many controversial issues and in many circumstances that were very tension-producing, I know you know a great deal about some of the things that have happened that are not very pleasant. And I'm recalling that on past occasions I read a great deal about police brutality in Houston. Do you think the things that the news media have released at various times might have been valid? Did we really have police brutality and do you think it still exists, if it ever did? Oh yes, we've had some terrible incidents and some very brutal policemen. During the days I was with the NAACP, I almost could bet you money on that, if they arrested a Negro, they were going to take him out on the outskirts of town somewhere first and beat him up, and then bring him back and throw him in jail. And hardly anybody ever was put in jail that came out without being beaten. And they always said theyÃ¯Â»Â¿43 (cont) sometimes would have to tie their feet and hands and beat them down and all that to subdue them. But I never could understand how a man with his feet tied and his hands tied had to be knocked around They have stomped men in the jail that were accused of rape. They have taken men and women out on the outskirts of town and beat them.\n",
      "\n",
      "Will you tell us what occasioned this move and something about your early involvement in civic activities in the city of Houston?\n",
      "==== ==== ==== ====\n",
      "So I was the first volunteer secretary of the branch here. Well, we had some pretty strong cases, cases like the DiMarco-Bob White case. Most of the cases were rape cases where white people used to become dissatisfied and disgruntled about a thing. The best way they could do, some white woman would holler that she'd been raped by a Negro or ventured to rape, or something like that, and of course that meant a burned or lynched Negro. And so this happened down at Conroe. But we were able to get a lawyer - this was one of NAACP's first projects - and a lawyer that won that case in our favor. And the day of the trial when he was declared innocent and turned loose, they shot him right in the jail house, I mean right in the courthouse down in Conroe, that's in Montgomery County. Well, those things were so exciting to me, I did not know that people could be treated like people in Houston were being treated. Not only in cases like that, but in jail, prisoners generally, why, they would beat up people and anything they wanted to do and kill people. And NAACP then became the sole interest of mine.\n",
      "\n",
      "Knowing the role that you have played in many controversial issues and in many circumstances that were very tension-producing, I know you know a great deal about some of the things that have happened that are not very pleasant. And I'm recalling that on past occasions I read a great deal about police brutality in Houston. Do you think the things that the news media have released at various times might have been valid? Did we really have police brutality and do you think it still exists, if it ever did? Oh yes, we've had some terrible incidents and some very brutal policemen. During the days I was with the NAACP, I almost could bet you money on that, if they arrested a Negro, they were going to take him out on the outskirts of town somewhere first and beat him up, and then bring him back and throw him in jail. And hardly anybody ever was put in jail that came out without being beaten. And they always said theyÃ¯Â»Â¿43 (cont) sometimes would have to tie their feet and hands and beat them down and all that to subdue them. But I never could understand how a man with his feet tied and his hands tied had to be knocked around They have stomped men in the jail that were accused of rape. They have taken men and women out on the outskirts of town and beat them.\n",
      "\n",
      "Will you tell us what occasioned this move and something about your early involvement in civic activities in the city of Houston?\n",
      "0.4566430151462555\n",
      "==== ==== ==== ====\n",
      "And I think I clearly see that when I wanted to send my children to the school IÃ¢Â€Â™d gone to, and my husband and I believed in public education, and I went down to the local school, I saw that it was not going to be possible for me to send our children to that school. So I would either have to do something about it, or find a private school for them to go to. I think the saddest day was when I felt I had to take my children out of public school, and that was because a seven-year-old little girl was raped at the lunch hour, and she came into the school office and said, Ã¢Â€ÂœA man was playing with my pussy.Ã¢Â€Â\n",
      "\n",
      "And you have to respect not only the traditions and customs, but you have to respect what has happened, for example, during the war Ã¢Â€Â” and I say the war meaning World War II, but it could be Vietnam, it could be, you know, what went on in Korea. In a war situation, just like Abu Ghraib and different things that have happened with American soldiers terrorizing and raping and doing things that soldiers feel they have a right to do when theyÃ¢Â€Â™re in another country. ItÃ¢Â€Â™s a man thinking that he has the right to rape a woman of another language. That happened in World War II. In the case of World War II, very often it was the Japanese soldiers going to China or the Philippines, and so you have people there who hate the Japanese, rightfully so, because of what they perceive to be such a dehumanizing situation. Those same people Ã¢Â€Â” if, for example, I spoke Japanese or spoke English with a Japanese accent, and I went into a group and tried to give them AIDS 101, they would be thinking to themselves, What is that Japanese woman Ã¢Â€Â” look what the Japanese did during World War II. What is she talking to us about sex for? The lesson would be lost. They would be reliving World War II. And itÃ¢Â€Â™s just like, IÃ¢Â€Â™m sure, some Iraqis will be reliving whatÃ¢Â€Â™s going on now. And even though we deny that things happen, we deny that we Ã¢Â€Â” we do do things during war, and itÃ¢Â€Â™s a man-woman thing, itÃ¢Â€Â™s a conqueror mentality.\n",
      "\n",
      "Suki, IÃ¢Â€Â™d like to know more about your political activism. How did you become socially conscious, and what was some of the early social activist work that you did?\n",
      "\n",
      "ROSS: Now you obviously have been a pioneer in the API or Asian American community on AIDS. What has been your reception by your own community, the community that you identify?\n",
      "0.4027215242385864\n",
      "==== ==== ==== ====\n",
      "We also had a lot of women that filed complaints due to wage disparity issues. The white females seemingly filed more than the African American females did in the area of wage discrimination. Most of the African American females, theirs would say discrimination. They saw it as race, but it turned out to be when you looked at their case closely, it was race and it was gender. And it was hostile work environment harassment, due to sexual harassment or due to gender based, non-sexual harassment.\n",
      "\n",
      "But when we were together, we found so many companies guilty of discrimination that the people that were the administrators of the Human Rights Commission, they asked us to review some of our findings. And one woman said that we needed to reverse one of our findings, and we wouldn't do it. So we left. We would never change any of our findings to suit--. JF: You were actually getting pressure from folks above you at the Commission to--. SR: Absolutely. JF: --to not find in favor of--. SR: Absolutely, at that time, yes. Her name's Helen Larson, I think she's still alive. And we refused to change any of our rulings. And we found a lot of--. It was sickening, the amount of sexual harassment that was going on to women who were employed. Women who worked as waitresses, women who worked in restaurants and nightclubs, women who worked in hotels as maids. Women who had jobs that were physicists, that were scientists. It just ran the gamut of sexual harassment in the workplace. When I was in private practice, one of the biggest things that I saw coming, just before I retired, was that there was an awful lot of women being harassed on the job with internet pornography. The internet pornography was exploding. It exploded from Jellico, Tennessee, to Knoxville, Tennessee to wherever you were, it didn't matter how small the town was, how large the town was. On a military base, in a trucking company, in a federal installation. Men were having great issues with feeling that they had the right to look at pornography during work hours in the workplace. And I think that many workplaces have got in their handbooks that that is now a reason that you could be disciplined or terminated. But it was just awful.\n",
      "\n",
      "They didn't use the term &#8220;sexually harassment&#8221; as much as they did, &#8220;He wanted me to sleep with him or I would be fired.&#8221; &#8220;He got in my face with his fist and said if I told it, I would be fired.&#8221; One of the landmark sexual harassment cases in the country, came out of Tennessee and it was Hicks. And Hicks was a case in which the employer had made his employee reach in his pants pocket and take money out of his pants pocket to get money to get paid or whatever. Or for whatever it was that he wanted her to do that for, but it was a case that set the standard that you could be found guilty of sexual harassment and damages could be rewarded for psychological damages. Because at one time, the psychological damages were not a part of the remedies for a sexual harassment discrimination lawsuit. So now, intentional infliction of emotional distress and negligent emotional infliction of emotional distress, and whatever traumas you experience due to the sexual harassments you experienced on the job, is actionable and recoverable.\n",
      "\n",
      "We just refused to, just had a generation of women that just said, &#8220;Hey, we've had it, we're not going to take it anymore, we're going to sue--&#8221; JF: Do you think this is related to the other movements in the sixties? SR: Absolutely. It all came about at the same time. While we were marching to have the right to vote, women in the Northeast were also marching against the Vietnam War, and after they stopped marching, or during the same time that they marched against the Vietnam War, they also started burning bras. And the National Organization of Women became a national movement, a national power, and now it's politically correct for some women to say, &#8220;I'm not a feminist,&#8221; &#8220;I don't believe in feminism,&#8221; but feminism is what changed for working women, particularly the white middle-class woman. It changed her life for the better, because she was no longer afraid to step out and speak out against what she felt was discrimination against her. All of this was a result of the civil rights movement in the sixties and the decade of change from the late fifties to the early seventies, that people were wanting a different America. It was an America that did not want to fight the Vietnamese war. It was an America that had women suing because they were sexually harassed on the job, women suing because they were passed over for promotion and less-qualified men got the job. Women suing because they were called the n-word on the job and terminated. Any number of categories: gender--. And one of the worst categories, I think, in my practice of civil rights, was where the employer was not overtly violating the law. He didn't do the overt things, like call you a bitch or use the n-word or just say, &#8220;I'm firing you because you didn't sleep with me.&#8221; But what they did, many employers engaged in invidious campaigns of hostile work environment harassment, where day in and day out when the complaining party came to work, there was always something done to harass them, to upset them, to force them into quitting their job. And these were some of the things that women really started suing about in the seventies and the eighties.\n",
      "\n",
      "What were women in the seventies doing to fight gender discrimination?\n",
      "\n",
      "So the language of sexual harassment in the right to stand up against it, that's sort of something new. How did women talk about these things when they would first come with their complaints? Did they use the language that we use now, of &#8220;I was sexually harassed,&#8221; or did they talk about it differently?\n",
      "\n",
      "This may be a tough question for you to answer, so I can rephrase it if it doesn't make sense. What would you attribute to women coming forward more? Because women have always been sexually harassed by men\n",
      "0.40064188838005066\n",
      "==== ==== ==== ====\n",
      "MODJESKA SIMKINS: I can't fully assess it. I could just say that I don't think the South would be the same without what they did, because they opened the eyes of a number of people. The thing that the political power structure had against the organizations of that kind was the fear that they would bring the black and white mass together. And the power structure has always feared the combining of the forces of black and white masses. I can remember the first meeting of the Southern Negro Youth Congress I went to in Knoxville where there were miners, people in brogan shoes, overalls, just like they wear jeans around here now. The average person didn't think of wearing them then unless they were going to the field or going to the mines. And those fellows came out there with brogans, and overalls, and sunhats, and all of them were working and planning together. Well, the first thing they did when they got a chance was to red smear and disrupt the movement. Now, I think if the Southern Negro Youth Congress, for instance, could have gone on, there would have been a very great change in the South because the younger people would have worked together better. But the power structure doesn't want that. They don't want poor whites and Negroes getting along together. There's always been the effort, either obvious or subtle, on the part of the reigning element to keep the forces of blacks and whites apart. But they built it on the sex angle. They always say, \"They'll rape your women. They want to marry your daughter.\" But they weren't thinking about that. They didn't care any more about a poor white than they did about a Negro. And they still don't. They just give them a little more deference because he's white like they are, but they don't give a damn about a poor white. They'll exploit him just like they will a Negro. I've seen it. I know what I'm talking about. So that was their affair. Why do they have to worry about Negro men and their women? If they hadn't power enough to hold their women, if somebody could take their women from 'em,, why, they ought to take 'em. You see? Just like I hear people say sometimes if a woman can't hold her husband why would she want to get mad with somebody else for taking him? She ought to be able to hold him, treat him right, give him good food, take care of him. You never find, for instance, as I heard an old preacher say once, you'll never find a dog leaving home and going to stay at somebody else's house if you're treating that dog all right at your house. He's not going anywhere else. Well, when you find the dog trotting over there every time you turn around, somebody's throwing him a bone over there. He never gets a bone over here, just gets some dry bread and maybe a kick in the fanny, you know? [laughter] So, they use that sex thing. And they have used it as a social equality angle. They wanted to keep those forces apart, and they wanted to see that Negroes wouldn't take your job. When the unions come in, they try to tell whites if you get a union, the Negroes will take your jobs. They'll be making much as you make, or they'll bring your salary down to theirs, and all that kind of stuff. It's to divide the forces.\n",
      "\n",
      "JACQUELYN HALL: How would you assess the role that interracial organizations like SCEF and the Southern Regional Council have played in the movement in the South?\n",
      "0.39938443899154663\n",
      "==== ==== ==== ====\n",
      "I think that's what Alex Haley got across in 'Roots' ['Roots: The Saga of an American Family']-- Speaker 1: Absolutely. Speaker 2: --listening to the elders. My mother would make my sister and I--my grandmother--sit at her feet, and I must have been four years old or somewhere like that-- Speaker 1: Right. Speaker 2: --and she would talk about Marcus Garvey, what a great man he was and-- Speaker 1: Right. Speaker 2: --they always wanted to go home. Because as you know, the owner of the plantations would just literally rape the women-- Speaker 1: Absolutely. Speaker 2: --and sell the babies off. And they wanted to get away from that, they wanted to go back to what they knew. And so my grandmother, very, very strong, independent minded and so on, was the product of that relationship and was born in Chicago, there's much more to tell about her.\n",
      "\n",
      "Eleven o'clock, the company said the driver came running in out of breath. When he went to take the milk cartons out, put 'em on the ground and bent over, some guy ran up to him, right to his back, I guess, gonna attempt to try to rape him and he started running, never stopped (laughter). This is a true story. I mean, I have more stories like that.\n",
      "\n",
      "But the Women's Caucus dealt a lot with abortion, contraceptives, and so on. And we wanted to be sure the old boys did not control women's bodies. All issues are women's issues, but we had to focus on a few because they wanted to deny the use of contraceptives, wanted to deny the use of abortions for women, and-- Speaker 1: But-- Speaker 2: --you know, this whole rape thing. Speaker 1: Is there like bipartisan participation in a women's caucus? Speaker 2: Yes. Speaker 1: Okay. Speaker 2: Yeah. Speaker 1: I just wondered what, you know, stance Republican women would take on these-- Speaker 2: Um-hm. Speaker 1: --issues. Speaker 2: Well, some of 'em would go along with us, women are women, the bearer of children. You don't want to bear a child as a rape. This is just an issue that came up on the floor, with Akin [Todd Akin], you don't want to bear the child that comes from a rape. And there were some saying that it's God's will and you should have that child. Well, you're going to impact that on a woman who was walking down the street and pulled and violently raped, and the semen from some stranger is going to be in that child, and why would you have to bear that child all the way, and have that child birthed through you? And so these were the kinds of fights that crossed party lines. And we would come out with a majority support for progressive legislation as it pertained to women's bodies.\n",
      "\n",
      "But that was a big fight [to pass the Don't Ask, Don't Tell Repeal Act of 2010]. And we had several members that were gay in [U.S.] Congress, didn't want to admit it. But one of 'em, Republican, represented one of our neighboring communities. And there was one guy that harassed his own staff, and would go to the quarters that our pages live in. And so he left early in my tenure. And there were a couple of other that were masquerading on the Republican side. And we had outspoken lesbians and, you know, members of that community on the floor, and they supported a more liberal view. And so that was a big fight all the way through, that was an accomplishment for the rights of all people to marry who you love, you know, that's--don't ask, don't tell took it away from the [U.S.] military.\n",
      "\n",
      "Speaker 2: --Marcus Garvey. Why Marcus Garvey?\n",
      "\n",
      "Speaker 1: --some people might wanna know, what's it like to teach in Hollywood [Los Angeles, California]? Is it glamorous?\n",
      "\n",
      "Speaker 1: Okay. Now you were also, you're a member of, or you were a member when you were a congressman, of the Women's Caucus [Congressional Caucus for Women's Issues] (simultaneous)--\n",
      "\n",
      "Speaker 1: Right. Speaker 2: Yeah, and it's small, we didn't meet often-- Speaker 1: Okay. Speaker 2: --and so on. But the Women's Caucus dealt a lot with abortion, contraceptives, and so on. And we wanted to be sure the old boys did not control women's bodies. All issues are women's issues, but we had to focus on a few because they wanted to deny the use of contraceptives, wanted to deny the use of abortions for women, and-- Speaker 1: But-- Speaker 2: --you know, this whole rape thing. Speaker 1: Is there like bipartisan participation in a women's caucus? Speaker 2: Yes. Speaker 1: Okay. Speaker 2: Yeah. Speaker 1: I just wondered what, you know, stance Republican women would take on these-- Speaker 2: Um-hm. Speaker 1: --issues. Speaker 2: Well, some of 'em would go along with us, women are women, the bearer of children. You don't want to bear a child as a rape. This is just an issue that came up on the floor, with Akin [Todd Akin], you don't want to bear the child that comes from a rape. And there were some saying that it's God's will and you should have that child. Well, you're going to impact that on a woman who was walking down the street and pulled and violently raped, and the semen from some stranger is going to be in that child, and why would you have to bear that child all the way, and have that child birthed through you? And so these were the kinds of fights that crossed party lines. And we would come out with a majority support for progressive legislation as it pertained to women's bodies.\n",
      "0.39678633213043213\n",
      "==== ==== ==== ====\n",
      "Speaker 2: Um-hm. Speaker 1: And (simultaneous)-- Speaker 2: (Simultaneous) I'm, I'm sure that that that happens. I think there are too many documented cases of that happening. Not to think otherwise. It's a very vicious system and the lack of quality representation and investigation means that a lot of people really are abused by the, the system. You know, after years of doing prison and jail litigation I've talked to a lot of people under sentence of death, people who are in--serving life sentences, people who are in and out, people who have been raped, people who have had mental breakdowns, people who are dying, people who have been stabbed, people who have been beaten, people who have been put in solitary confinement, it--it's a vicious, vicious system. And I don't know how we think that those who do get out are not marked for life in ways that often make them worse than when they went in. I know we've given up as a society on rehabilitation as a goal, but the lack of education, the lack of rehabilitative services, means that the recidivism rate, which is about two-thirds will continue unabated. And it's a tragedy all the way around for those who will be victimized by criminals in the future, and for people who might have, given a chance, been able to turn their lives around.\n",
      "\n",
      "Speaker 1: But there are many things that went on at the Georgia State Prison [Reidsville, Georgia]. I'll just give you an example of the, the cruelty of the, the place, the shocking cruelty. There was, the, they have classification systems in prisons. And the classification system by type of crime, violent, those kinds of characteristics. The Georgia State Prison had a policy of placing the young inmates, the first offenders, in with the homosexuals, because they said they didn't fight as hard as the older prisoners, and it was a way of pacifying the population. So I got, this is outrageous, I got a letter one time, an anonymous letter from someone who said there was a young inmate who had been viciously gang raped in the dormitory and that this inmate was writing to say couldn't we help to try to get this kid out. So I called for the--an opportunity to meet this young man, and he came out, and he was not as big as I am, he looked like he didn't shave yet, little young, in for car theft, first offender. He was obviously, mentally, completely out of it. I mean he couldn't, he was having hallucinations because every time I talked to him he was doing this, looking around, he was hearing voices. I talked to him for about an hour, trying to get him to say anything. The only thing that he said, I said, \"If I could get you out of here, where would you want to go?\" And he finally said, \"Home.\" So I wrote on a yellow pad a temporary restraining order application, I served it on the warden, and then I appealed to him as a human being. I said, \"Look, you know, we can go and try to torture the judge into having a hearing, and, and do all this and get the lawyers involved.\" I said, \"But surely you don't want a young man just to be viciously gang raped over and over again in your institution, under your own humanity. Won't you please move him?\" And so they moved him, but listen to what happened. They moved him from the open ward, where he had been victimized, to the hospital floor, and they locked him in a cell so that nobody could get to him. Now this is inhumane for somebody who's mentally deranged and, and needs help, but he's at least protected from people being able to get to him, so I thought. I learned about a week later when I came back to the prison, that at night the inmate orderlies had the keys to the cells, and that they had victimized this young man while he was up there in the hospital floor for his own protection. Now to me--we later got him sent to a mental hospital. And I hope that they were able to do something to restore him to sanity. But to me, that is a classic example of the kind of vicious inhumanity and disregard for people. And any system that would treat young people that way, or have a classification system like that, is an abomination. Story_ID: 611913 Speaker 1: So when we hear things about prisons and conditions in them, it may be to say, well, there are a lot of bad guys, there are a lot of bad guys, I've met a lot of them. But there's so much more than that that is at issue and at stake, and it's--not only the treatment of individuals, it's the kind of society we insist up on having and we've got to fight back and push back because look at, look at what this is doing to black people, the increasing numbers of women, the disproportionate impact on our young men. It's, it's a vicious, vicious system. So that's one example of the kind of suffering that I saw. Here's another minor example, because I had just, I've, unfortunately a mind full of these stories, which is a terrible thing to carry around in your head to remember them. But I went and talked to, because there was an outbreak of tuberculosis and so we had filed to try to force the prison [Georgia State Prison, Reidsville, Georgia] to test everybody to see did these inmates have tuberculosis. There was one very handsome, tall, young brother whose name was Eugene X [ph.], he was a Muslim, and he was found with tuberculosis. And he had been coughing and hacking, he looked so pitiful and frail when I first met him, and they did get him some treatment. A couple of weeks later, I was talking to another inmate and I said, \"Well, you know, at least they got Mr. Barber [ph.] some care for his tuberculosis, and everybody has been tested, and so I feel better about that.\" And he looked me in the eye, he said, \"What?\" He said, \"I was his cellmate for a year, they never tested me.\" So you see the indifference with which human beings lives and wellbeing. I don't think that we put these people in prison so they can develop tuberculosis or be gang raped. It's, it's, they may have done things that were wrong but there's vicious cruelty. Story_ID: 611914 Speaker 1: Now my life, I think, was saved by a death row prisoner. This is an interesting tidbit. This is a white man. His name was Troy [Leon] Gregg. He was one of the lead plaintiffs in a case called Gregg versus Georgia [Gregg v. Georgia, 1976], in which the death penalty was upheld with standards, and this must have been in 1976. Troy Gregg was on death row at the Georgia State Prison [Reidsville, Georgia]. He was in there, I think because of felony murder situation. Meaning that he, that he and somebody else had robbed, the other person killed whoever it was, but Gregg was held equally liable for the death as the one who pulled the trigger, and so he also got the death sentence. He was a poor, low income guy, lived in a trailer, and sort of fit the stereotype of the, the poor southern white. But he was willing to testify about the harassment and treatment of black inmates on death row, and also about the conditions of confinement under which he suffered. I'll skip to the chase. On the day before a hearing that we were going to have on conditions of confinement and death row, I had insisted to the judge that the death row prisoners be transferred from the prison to the courthouse in, in order to have the hearing, that it was inherently coercive to have this hearing at the prison, and that they, like everyone else, should be brought to the court. And the court had ruled with me, although the defendants sorely objected. So we had the hearing. And but, before the hearing, Troy Gregg told me he said, \"Listen, Lynn [HistoryMaker Lynn Jones Huntley],\" he said, \"I know that they're planning to take the death row prisoners to the courthouse--to Tattnall County [Georgia] courthouse.\" I said, \"Yes.\" He said, \"Well, I'm going to tell you something that could get me killed if it got out,\" he said, \"But you seem like a nice person, and I know you're just trying to help us.\" And I said, \"Really, what is it?\" He said, \"Don't take the death sentence prisoners to Tattnall County.\" He said, \"Something is going to jump off, and you could be really hurt.\" And so I took his advice, I went back to the court, said I changed my mind in view of their delays and blah, blah, I would have the hearing for the death sentence prisoners at the Georgia State Prison. Fast forward it's now four years later, I'm working in the justice department [U.S. Department of Justice] in Washington [D.C.] again in a trial section involving prison and jail litigation. I'm reading Corrections [Today] magazine one night, and there is an article: Troy Gregg and two other inmates had escaped from prison, from death row, and he was found murdered and drowned in a pond not too far from the prison. Now I don't know whether he was part of a conspiracy to escape at that time or not, but something tells me that when he told me that that's exactly what he was doing. That he knew, although he was under sentence of death, or life in prison, will never get out, that he saw something in me as a person and his humanity was touched, and he told me the word that perhaps had kept me from being in harm's way. So that shows you the complexity of doing this work. These are human beings and they have faces and voices and handwritings and names and not all of them are the, the vicious animals that we are portraying them to be. Many are people who have simply gone the wrong way, and it's a vicious system.\n",
      "\n",
      "Speaker 1: Do you find that prosecutors are really, I, I've often thought in, in Chicago [Illinois], in the Chicago area that prosecutors often were compelled by ambition or whatever to put somebody-- Speaker 2: Um-hm. Speaker 1: --away for a crime.\n",
      "\n",
      "Speaker 1: How long did you work for the NAACP Legal Defense Fund [NAACP Legal Defense and Educational Fund, Inc. (LDF)]?\n",
      "0.39665931463241577\n",
      "==== ==== ==== ====\n",
      "Speaker 2: Well, these two women worked for the water reclamation department, one of them for eighteen years and the other one, I think, sometime less than that, but for a long period of time. And they had constantly been met with all kind of harassment, sexual and so forth. They worked there for five years and when they filed a suit, they were dismissed. They had taken their case all the way to the Supreme Court, they have lost, excepting that they were told that they could work, but they would not be given any back pay. They were out of work for years. And when they went back to work, they were not given any back pay at all, but they're on salary. They still are not given any kind of consideration. They're still being harassed so that the women--the men are actually starting a movement for obtaining rights-women's rights, obtaining women's rights. Interesting that after I hung up after calling saying, you know that I would be supportive, not as a lawyer, because they already have a lawyer, but I would be working with them, I received a call from a women who said the same thing had happened to her at Provident Hospital [of Cook County, Chicago, Illinois], same kind of situation in Provident Hospital. I received a call from a man who said the same thing was happening in the Streets and Sanitation to the women involved. It apparently, there is a very serious anti-black women situation in Chicago because where these women work there are white women who have had actually no problems whatsoever. So here I go again, retired, I guess not.\n",
      "\n",
      "Speaker 1: What was the topic of discussion, tell us for our tape today on Cliff Kelley?\n",
      "0.39610809087753296\n",
      "==== ==== ==== ====\n",
      "We who had fought in World War II, fought with these expectations that the country was going to change its policy toward black folks. But when we got back home, we found that the country had no intention of changing its policy and went out of its way to let us know in many ways that that was not going to happen. There were certain cases where veterans were in serious trouble--young man, Isaac Woodard, down in [South] Carolina, you know, had his eyes gouged out while he was still in uniform on a bus [1946]. You know, two veterans in Monroe, Georgia, walking with their wives along a road in uniform, shot down by the Ku Klux Klan. A young man--Mapes (ph.), trying to vote in Georgia, you know, killed. And so the theater was always concerned about these things and as Ruby said, \"Every night somebody would suggest a party somewhere,\"--Rosalie Ingram, whose sons had killed a white man because the white man had molested her [1948], you know, and various other causes. Somebody being tried, somebody being lynched or somebody being put on the chain gang and we would meet to raise funds. Paul Robeson would be there and Orson Welles, and members of the theater. The theater took itself quite seriously.\n",
      "\n",
      "Speaker 1: Talk about some of the people who were around during that period in your lives. I know you were very close to Harry Belafonte.\n",
      "0.3958810567855835\n",
      "==== ==== ==== ====\n",
      "MORROW: Medicaid, being federally funded, had to comply with any federal rules. And my recollection is that the federal funding for the abortion issue was in cases of rape or threatened life of the mother. One of my concerns here in North Carolina was not only rape and risk of life of the mother, but incest. I felt that as long as it was legally right for the wealthy women to have abortions, that it should be legally right for poor women to have abortions. Poor women who could afford another mouth to feed even less than the rich, and so I persuaded the legislature to appropriate some state funds for abortions so that--. For example, thirteen, fourteen-year-old girls who got pregnant, and sometimes it was incest in the family, and they had no business first of all in getting pregnant, but they didn't have control over it because its usually the male in the family who has control there. And secondly, they should not be forced to have a baby at that young age. So I thought we needed to have some state funds to abort these youngsters. And so the legislature, even though many of them were very opposed to abortion, they still felt that, you know--. They felt, I think, the same as I did, that to force a teenager to have a pregnancy and carry it through and have a baby that she was not able to take care of was not an appropriate thing to have happen. So our legislature, as I recall, appropriated two-hundred-thousand dollars in state funds for abortions for poor women, which would cover, of course, incest, rape, and risk of life of the mother, just as the federal government did, but it might cover some other situations where the pregnancy existed and was not needed nor wanted. It's a shame that we can't prevent unwanted pregnancies altogether, but the sex drive apparently is such a strong one for procreation that it alters behavior, especially if alcohol or any other kinds of drugs are involved. So I think it's much more desirable to prevent unwanted pregnancies than it is to have to deal with them after pregnancy has occurred. DONNALLY: How did you go about convincing or proposing--? Was it just kind of a backroom consensus that the legislators didn't think that teenage girls should be having to carry [a pregnancy to term](0:48:29)? MORROW: No, it was--. I'm sure I discussed this with people in the appropriations committee and explained my views of what I was dealing with and what I was seeing because in the health department itself, I had dealt with girls who'd come in and they were pregnant. Maybe they had arranged through some private enterprise to have an abortion, and then they'd come back in wanting to get contraceptives and I'd explain they'll have to go and get their mother's or father's--. They have to have parental consent to even have contraceptives. So I think these were things that I discussed with the legislature, that so often we put so many barriers up because as the girls would tell me, &#8220;You know, my parents don't give a damn.&#8221; And that always disturbed me that the parents could not care enough about their children to make sure that they were preventing an unwanted pregnancy. And here the girls were trying to look after themselves and I'd have to get parental consent for them to have contraceptives. That just didn't make sense to me. So we discussed a number of legislative issues. I do know that as time went on, the two hundred thousand dollars, I know was reduced at least fifty thousand dollars because there were objections to abortions being made available through state funds. And I think ultimately the fifty thousand was omitted from the budget, but the legislators at that time were very willing to listen and they were open-minded on so many things rather than just having already pre-decided what they felt. [Brief interruption due to phone call.] DONNALLY: We were talking about attempts to provide contraception and contraception to teenagers. MORROW: [Unintelligible due to lack of microphone] DONNALLY: Oh, would you put your microphone back on? MORROW: The family planning programs in our local health departments, our county health departments do an excellent job of providing means for people who do not want a pregnancy to avoid those pregnancies. I think that in itself has lowered both maternal mortality and infant mortality by providing contraceptives to those people who are not able to or disabled or are not in a financial position to afford pregnancy.\n",
      "\n",
      "DONNALLY: So I'm going to talk about something that's a little controversial to see what you remember. What do you remember in terms of right after Governor Hunt got appointed, abortion became legal in the United States in [19]73, but then the sort of big debates in the 1970s was over Medicaid coverage of abortions for low-income women? Do you remember any debates or how the health department found that it could cover those abortions?\n",
      "0.39333462715148926\n",
      "==== ==== ==== ====\n",
      "Speaker 2: Well, I--I really loved that experience because we were able to--you could see the progress that we were able to make in terms of making improvements within city government. Moving those women into high-paying jobs, better positions, changing or starting programs that would enable them to get better jobs. Like I was saying with the [Chicago, Illinois] Fire Department--the fact that once we understood why the women couldn't pass the physical, then we had a program created with the University of Illinois [at Chicago] that actually trained those women in terms of developing their upper body strength and that was really fantastic to have the number of females. It was a large number that graduated because they came out of that program. The same thing when we worked with the [Chicago] police department. We wanted to make certain that more women would become lieutenants, maybe captains and working with the police department, we were able to be successful in having those women promoted. We were also able to look at what was happening in terms of sexual assault. We came up with programs there--what the first person--what the first policemen would do when he came to interview, or came to the aid of the rape victim. So we were able to put in some very good programs, and I feel--like I said it was a very rewarding experience and I'm happy that I was able to be a part of it.\n",
      "\n",
      "The same thing when we worked with the [Chicago] police department. We wanted to make certain that more women would become lieutenants, maybe captains and working with the police department, we were able to be successful in having those women promoted. We were also able to look at what was happening in terms of sexual assault. We came up with programs there--what the first person--what the first policemen would do when he came to interview, or came to the aid of the rape victim. So we were able to put in some very good programs, and I feel--like I said it was a very rewarding experience and I'm happy that I was able to be a part of it\n",
      "\n",
      "Speaker 1: How did you like that experience [at the Women's Commission] because this is another--I mean you know, your other working experience really was as a teacher, so this is a different--.\n",
      "0.39300915598869324\n"
     ]
    }
   ],
   "source": [
    "def find_doc2vec_similar_texts(test_text):\n",
    "    inferred_vector = model.infer_vector(doc_words=test_text.split(), alpha=0.025, steps=500)\n",
    "    sims = model.docvecs.most_similar([inferred_vector], topn=10)\n",
    "    print(\"Original: \")\n",
    "    print(test_text)\n",
    "    for count, sim in sims:\n",
    "        sentence = content[count]\n",
    "        output = \"\"\n",
    "        for word in sentence:\n",
    "            output = output + str(word)\n",
    "        print(\"==== ==== ==== ====\")\n",
    "        print(output)\n",
    "        print(sim)\n",
    "\n",
    "# example\n",
    "find_doc2vec_similar_texts(content[0])"
   ]
  },
  {
   "cell_type": "code",
   "execution_count": null,
   "metadata": {},
   "outputs": [],
   "source": []
  }
 ],
 "metadata": {
  "kernelspec": {
   "display_name": "Python 3",
   "language": "python",
   "name": "python3"
  },
  "language_info": {
   "codemirror_mode": {
    "name": "ipython",
    "version": 3
   },
   "file_extension": ".py",
   "mimetype": "text/x-python",
   "name": "python",
   "nbconvert_exporter": "python",
   "pygments_lexer": "ipython3",
   "version": "3.8.3"
  }
 },
 "nbformat": 4,
 "nbformat_minor": 4
}
